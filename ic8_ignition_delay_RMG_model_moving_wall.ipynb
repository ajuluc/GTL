{
 "cells": [
  {
   "cell_type": "markdown",
   "metadata": {},
   "source": [
    "# Trying to model ignition delay from RMG for Iso-octane\n",
    "\n"
   ]
  },
  {
   "cell_type": "code",
   "execution_count": 1,
   "metadata": {},
   "outputs": [],
   "source": [
    "import sys\n",
    "sys.path.append('/scratch/ajulu.c/anaconda3/envs/rmg_py3')"
   ]
  },
  {
   "cell_type": "code",
   "execution_count": 2,
   "metadata": {},
   "outputs": [
    {
     "name": "stdout",
     "output_type": "stream",
     "text": [
      "/scratch/ajulu.c/anaconda3/envs/rmg_py3/bin/python\n",
      "# packages in environment at /scratch/ajulu.c/anaconda3/envs/rmg_py3:\n",
      "#\n",
      "# Name                    Version                   Build  Channel\n"
     ]
    }
   ],
   "source": [
    "!which python\n",
    "!conda list rmg_py3"
   ]
  },
  {
   "cell_type": "code",
   "execution_count": 3,
   "metadata": {},
   "outputs": [
    {
     "name": "stdout",
     "output_type": "stream",
     "text": [
      "The cantera version runnning is 2.4.0\n"
     ]
    }
   ],
   "source": [
    "import cantera as ct\n",
    "import numpy as np\n",
    "%matplotlib inline\n",
    "\n",
    "from matplotlib import pyplot as plt\n",
    "\n",
    "print(\"The cantera version runnning is {}\". format(ct.__version__))"
   ]
  },
  {
   "cell_type": "code",
   "execution_count": 4,
   "metadata": {
    "scrolled": true
   },
   "outputs": [],
   "source": [
    "# cat /scratch/ajulu.c/Code/GTL/ic8/ic8_lowT/chemkin/chem_annotated.inp"
   ]
  },
  {
   "cell_type": "code",
   "execution_count": 7,
   "metadata": {
    "scrolled": false
   },
   "outputs": [
    {
     "name": "stdout",
     "output_type": "stream",
     "text": [
      "Wrote CTI mechanism file to '/home/ajulu.c/Code/GTL/ic8/chemkin/chem_annotated.cti'.\n",
      "Mechanism contains 375 species and 9181 reactions.\n",
      "Validating mechanism...\n",
      "\n",
      "**** WARNING ****\n",
      "For species HOCHO(60), discontinuity in h/RT detected at Tmid = 1000\n",
      "\tValue computed using low-temperature polynomial:  -40.3604\n",
      "\tValue computed using high-temperature polynomial: -38.1678\n",
      "PASSED.\n"
     ]
    }
   ],
   "source": [
    "from cantera import ck2cti\n",
    "ck2cti.main([\n",
    "    '--input=/home/ajulu.c/Code/GTL/ic8/chemkin/chem_annotated.inp',\n",
    "    '--tran=/home/ajulu.c/Code/GTL/ic8/chemkin/tran.dat',\n",
    "    '--output=/home/ajulu.c/Code/GTL/ic8/chemkin/chem_annotated.cti',\n",
    "    '--permissive'])"
   ]
  },
  {
   "cell_type": "code",
   "execution_count": 5,
   "metadata": {},
   "outputs": [
    {
     "name": "stdout",
     "output_type": "stream",
     "text": [
      "\n",
      "\n",
      "**** WARNING ****\n",
      "For species HOCHO(164), discontinuity in h/RT detected at Tmid = 1000\n",
      "\tValue computed using low-temperature polynomial:  -40.3604\n",
      "\tValue computed using high-temperature polynomial: -38.1678\n"
     ]
    }
   ],
   "source": [
    "gas = ct.Solution('/scratch/ajulu.c/Code/GTL/ic8/ic8_lowT/chemkin/chem_annotated.cti')"
   ]
  },
  {
   "cell_type": "code",
   "execution_count": 6,
   "metadata": {
    "scrolled": true
   },
   "outputs": [
    {
     "data": {
      "text/plain": [
       "['Ar',\n",
       " 'C(141)',\n",
       " 'C2(158)',\n",
       " 'C2H(4)',\n",
       " 'C2H2(132)',\n",
       " 'C2H3(129)',\n",
       " 'C2H3O(128)',\n",
       " 'C2H3O(157)',\n",
       " 'C2H3O(163)',\n",
       " 'C2H4(11)',\n",
       " 'C2H4O(144)',\n",
       " 'C2H4O(148)',\n",
       " 'C2H4O(150)',\n",
       " 'C2H5(140)',\n",
       " 'C2H5O(145)',\n",
       " 'C2H5O(149)',\n",
       " 'C2H5O(161)',\n",
       " 'C2H5O(193)',\n",
       " 'C2H6(12)',\n",
       " 'C2H6O(160)',\n",
       " 'C2H6O(192)',\n",
       " 'C2O(159)',\n",
       " 'C3H3(182)',\n",
       " 'C3H3O(189)',\n",
       " 'C3H4(279)',\n",
       " 'C3H4O(188)',\n",
       " 'C3H5(208)',\n",
       " 'C3H5(214)',\n",
       " 'C3H5(215)',\n",
       " 'C3H5O(184)',\n",
       " 'C3H5O(191)',\n",
       " 'C3H5O(501)',\n",
       " 'C3H6(13)',\n",
       " 'C3H6(852)',\n",
       " 'C3H6O(183)',\n",
       " 'C3H6O(190)',\n",
       " 'C3H7O(292)',\n",
       " 'C3H7O(293)',\n",
       " 'C3H8(205)',\n",
       " 'C4H2(223)',\n",
       " 'C4H3(221)',\n",
       " 'C4H4(226)',\n",
       " 'C4H5(219)',\n",
       " 'C4H5(220)',\n",
       " 'C4H5(222)',\n",
       " 'C4H5O(525)',\n",
       " 'C4H6O(404)',\n",
       " 'C4H6O(409)',\n",
       " 'C4H7O(393)',\n",
       " 'C4H7O(398)',\n",
       " 'C4H8O(395)',\n",
       " 'C4H8O(463)',\n",
       " 'C4H9O(391)',\n",
       " 'C5H11(774)',\n",
       " 'C5H5(225)',\n",
       " 'C5H6(224)',\n",
       " 'C6H5(216)',\n",
       " 'C6H6(217)',\n",
       " 'C6H6(218)',\n",
       " 'C7H14(793)',\n",
       " 'C7H14(808)',\n",
       " 'C7H14(826)',\n",
       " 'C7H15(789)',\n",
       " 'C7H15(790)',\n",
       " 'C8H16(819)',\n",
       " 'CC3H6(213)',\n",
       " 'CH(3)',\n",
       " 'CH2(130)',\n",
       " 'CH2(135)',\n",
       " 'CH2CO(131)',\n",
       " 'CH2O(9)',\n",
       " 'CH2O3(175)',\n",
       " 'CH2OH(136)',\n",
       " 'CH3(125)',\n",
       " 'CH3CO(127)',\n",
       " 'CH3O(137)',\n",
       " 'CH3O2(143)',\n",
       " 'CH3O2(170)',\n",
       " 'CH3O3(176)',\n",
       " 'CH3O3(177)',\n",
       " 'CH3OH(134)',\n",
       " 'CH3OO(139)',\n",
       " 'CH4(10)',\n",
       " 'CH4O2(142)',\n",
       " 'CH4O3(178)',\n",
       " 'CHCHO(153)',\n",
       " 'CO(6)',\n",
       " 'CO2(7)',\n",
       " 'H(17)',\n",
       " 'H2(14)',\n",
       " 'H2CC(147)',\n",
       " 'H2CC(181)',\n",
       " 'H2O(8)',\n",
       " 'H2O2(124)',\n",
       " 'HCCO(155)',\n",
       " 'HCCOH(156)',\n",
       " 'HCO(126)',\n",
       " 'HCOH(138)',\n",
       " 'HO2(123)',\n",
       " 'HOCHO(164)',\n",
       " 'HOCO(133)',\n",
       " 'He(122)',\n",
       " 'IC3H7(207)',\n",
       " 'IC4H7(392)',\n",
       " 'IC4H9(385)',\n",
       " 'N2',\n",
       " 'NC3H7(206)',\n",
       " 'Ne',\n",
       " 'O(5)',\n",
       " 'O2(2)',\n",
       " 'O2CHO(174)',\n",
       " 'OCHCO(166)',\n",
       " 'OCHO(171)',\n",
       " 'OH(16)',\n",
       " 'QOOH_1(26)',\n",
       " 'QOOH_2(27)',\n",
       " 'QOOH_3(28)',\n",
       " 'QOOH_4(29)',\n",
       " 'QOOH_5(30)',\n",
       " 'QOOH_6(31)',\n",
       " 'QOOH_7(32)',\n",
       " 'QOOH_8(33)',\n",
       " 'QOOH_9(34)',\n",
       " 'ROO_1(22)',\n",
       " 'ROO_2(23)',\n",
       " 'ROO_3(24)',\n",
       " 'ROO_4(25)',\n",
       " 'RO_1(118)',\n",
       " 'RO_2(119)',\n",
       " 'RO_3(120)',\n",
       " 'RO_4(121)',\n",
       " 'R_1(18)',\n",
       " 'R_2(19)',\n",
       " 'R_3(20)',\n",
       " 'R_4(21)',\n",
       " 'S(100)',\n",
       " 'S(101)',\n",
       " 'S(102)',\n",
       " 'S(1027)',\n",
       " 'S(10291)',\n",
       " 'S(103)',\n",
       " 'S(104)',\n",
       " 'S(105)',\n",
       " 'S(1053)',\n",
       " 'S(106)',\n",
       " 'S(10628)',\n",
       " 'S(107)',\n",
       " 'S(108)',\n",
       " 'S(109)',\n",
       " 'S(110)',\n",
       " 'S(1102)',\n",
       " 'S(11065)',\n",
       " 'S(111)',\n",
       " 'S(11161)',\n",
       " 'S(112)',\n",
       " 'S(113)',\n",
       " 'S(11373)',\n",
       " 'S(114)',\n",
       " 'S(11404)',\n",
       " 'S(115)',\n",
       " 'S(116)',\n",
       " 'S(1163)',\n",
       " 'S(11675)',\n",
       " 'S(11697)',\n",
       " 'S(117)',\n",
       " 'S(11759)',\n",
       " 'S(11760)',\n",
       " 'S(11851)',\n",
       " 'S(11886)',\n",
       " 'S(12049)',\n",
       " 'S(1215)',\n",
       " 'S(1216)',\n",
       " 'S(12188)',\n",
       " 'S(12204)',\n",
       " 'S(12238)',\n",
       " 'S(12255)',\n",
       " 'S(1235)',\n",
       " 'S(1244)',\n",
       " 'S(12774)',\n",
       " 'S(13034)',\n",
       " 'S(13065)',\n",
       " 'S(13076)',\n",
       " 'S(13078)',\n",
       " 'S(13133)',\n",
       " 'S(13144)',\n",
       " 'S(13162)',\n",
       " 'S(13169)',\n",
       " 'S(13171)',\n",
       " 'S(13378)',\n",
       " 'S(1341)',\n",
       " 'S(1346)',\n",
       " 'S(1349)',\n",
       " 'S(13823)',\n",
       " 'S(1453)',\n",
       " 'S(146)',\n",
       " 'S(14642)',\n",
       " 'S(1471)',\n",
       " 'S(14749)',\n",
       " 'S(1482)',\n",
       " 'S(1493)',\n",
       " 'S(1496)',\n",
       " 'S(1503)',\n",
       " 'S(151)',\n",
       " 'S(1512)',\n",
       " 'S(1519)',\n",
       " 'S(152)',\n",
       " 'S(15243)',\n",
       " 'S(1528)',\n",
       " 'S(154)',\n",
       " 'S(1558)',\n",
       " 'S(1559)',\n",
       " 'S(1560)',\n",
       " 'S(1591)',\n",
       " 'S(1602)',\n",
       " 'S(1608)',\n",
       " 'S(162)',\n",
       " 'S(165)',\n",
       " 'S(167)',\n",
       " 'S(168)',\n",
       " 'S(169)',\n",
       " 'S(172)',\n",
       " 'S(173)',\n",
       " 'S(17392)',\n",
       " 'S(179)',\n",
       " 'S(180)',\n",
       " 'S(1800)',\n",
       " 'S(1801)',\n",
       " 'S(1802)',\n",
       " 'S(1809)',\n",
       " 'S(1810)',\n",
       " 'S(185)',\n",
       " 'S(186)',\n",
       " 'S(187)',\n",
       " 'S(1897)',\n",
       " 'S(19184)',\n",
       " 'S(19186)',\n",
       " 'S(194)',\n",
       " 'S(195)',\n",
       " 'S(196)',\n",
       " 'S(1963)',\n",
       " 'S(197)',\n",
       " 'S(198)',\n",
       " 'S(199)',\n",
       " 'S(200)',\n",
       " 'S(201)',\n",
       " 'S(202)',\n",
       " 'S(203)',\n",
       " 'S(2031)',\n",
       " 'S(204)',\n",
       " 'S(20516)',\n",
       " 'S(2073)',\n",
       " 'S(209)',\n",
       " 'S(210)',\n",
       " 'S(211)',\n",
       " 'S(212)',\n",
       " 'S(2185)',\n",
       " 'S(22059)',\n",
       " 'S(22542)',\n",
       " 'S(227)',\n",
       " 'S(228)',\n",
       " 'S(22813)',\n",
       " 'S(23102)',\n",
       " 'S(23290)',\n",
       " 'S(23308)',\n",
       " 'S(23356)',\n",
       " 'S(2481)',\n",
       " 'S(2482)',\n",
       " 'S(2499)',\n",
       " 'S(2500)',\n",
       " 'S(2798)',\n",
       " 'S(28077)',\n",
       " 'S(28144)',\n",
       " 'S(28148)',\n",
       " 'S(2819)',\n",
       " 'S(2845)',\n",
       " 'S(2873)',\n",
       " 'S(2915)',\n",
       " 'S(2918)',\n",
       " 'S(29346)',\n",
       " 'S(29350)',\n",
       " 'S(2944)',\n",
       " 'S(2963)',\n",
       " 'S(2977)',\n",
       " 'S(2979)',\n",
       " 'S(2996)',\n",
       " 'S(3055)',\n",
       " 'S(3076)',\n",
       " 'S(3093)',\n",
       " 'S(3113)',\n",
       " 'S(3131)',\n",
       " 'S(3155)',\n",
       " 'S(31564)',\n",
       " 'S(3191)',\n",
       " 'S(3236)',\n",
       " 'S(3284)',\n",
       " 'S(3298)',\n",
       " 'S(3426)',\n",
       " 'S(3433)',\n",
       " 'S(35)',\n",
       " 'S(35180)',\n",
       " 'S(36)',\n",
       " 'S(37)',\n",
       " 'S(37751)',\n",
       " 'S(37973)',\n",
       " 'S(38)',\n",
       " 'S(38374)',\n",
       " 'S(386)',\n",
       " 'S(388)',\n",
       " 'S(389)',\n",
       " 'S(39)',\n",
       " 'S(39952)',\n",
       " 'S(40)',\n",
       " 'S(400)',\n",
       " 'S(401)',\n",
       " 'S(402)',\n",
       " 'S(403)',\n",
       " 'S(406)',\n",
       " 'S(40675)',\n",
       " 'S(41)',\n",
       " 'S(41280)',\n",
       " 'S(41335)',\n",
       " 'S(41917)',\n",
       " 'S(42)',\n",
       " 'S(42107)',\n",
       " 'S(42245)',\n",
       " 'S(43547)',\n",
       " 'S(43596)',\n",
       " 'S(44117)',\n",
       " 'S(44120)',\n",
       " 'S(44121)',\n",
       " 'S(44127)',\n",
       " 'S(44384)',\n",
       " 'S(44390)',\n",
       " 'S(44601)',\n",
       " 'S(44654)',\n",
       " 'S(44789)',\n",
       " 'S(45342)',\n",
       " 'S(455)',\n",
       " 'S(456)',\n",
       " 'S(458)',\n",
       " 'S(459)',\n",
       " 'S(47167)',\n",
       " 'S(47232)',\n",
       " 'S(47283)',\n",
       " 'S(47315)',\n",
       " 'S(47381)',\n",
       " 'S(47428)',\n",
       " 'S(480)',\n",
       " 'S(494)',\n",
       " 'S(495)',\n",
       " 'S(500)',\n",
       " 'S(50126)',\n",
       " 'S(50610)',\n",
       " 'S(50763)',\n",
       " 'S(50776)',\n",
       " 'S(50830)',\n",
       " 'S(51)',\n",
       " 'S(52)',\n",
       " 'S(53)',\n",
       " 'S(54)',\n",
       " 'S(54921)',\n",
       " 'S(55)',\n",
       " 'S(55281)',\n",
       " 'S(55301)',\n",
       " 'S(55579)',\n",
       " 'S(56)',\n",
       " 'S(57)',\n",
       " 'S(57392)',\n",
       " 'S(57393)',\n",
       " 'S(57823)',\n",
       " 'S(57825)',\n",
       " 'S(58)',\n",
       " 'S(58031)',\n",
       " 'S(58042)',\n",
       " 'S(58363)',\n",
       " 'S(59)',\n",
       " 'S(59555)',\n",
       " 'S(59993)',\n",
       " 'S(59994)',\n",
       " 'S(60)',\n",
       " 'S(60285)',\n",
       " 'S(60724)',\n",
       " 'S(60825)',\n",
       " 'S(60893)',\n",
       " 'S(60894)',\n",
       " 'S(60921)',\n",
       " 'S(60945)',\n",
       " 'S(61)',\n",
       " 'S(61013)',\n",
       " 'S(61026)',\n",
       " 'S(61034)',\n",
       " 'S(613)',\n",
       " 'S(61537)',\n",
       " 'S(61540)',\n",
       " 'S(61674)',\n",
       " 'S(61695)',\n",
       " 'S(61719)',\n",
       " 'S(61745)',\n",
       " 'S(61816)',\n",
       " 'S(61820)',\n",
       " 'S(62)',\n",
       " 'S(62026)',\n",
       " 'S(63)',\n",
       " 'S(63097)',\n",
       " 'S(63098)',\n",
       " 'S(63237)',\n",
       " 'S(64)',\n",
       " 'S(64714)',\n",
       " 'S(65)',\n",
       " 'S(66)',\n",
       " 'S(67)',\n",
       " 'S(68)',\n",
       " 'S(69)',\n",
       " 'S(70)',\n",
       " 'S(71)',\n",
       " 'S(72)',\n",
       " 'S(73)',\n",
       " 'S(74)',\n",
       " 'S(75)',\n",
       " 'S(76)',\n",
       " 'S(77)',\n",
       " 'S(775)',\n",
       " 'S(776)',\n",
       " 'S(777)',\n",
       " 'S(778)',\n",
       " 'S(78)',\n",
       " 'S(780)',\n",
       " 'S(782)',\n",
       " 'S(784)',\n",
       " 'S(79)',\n",
       " 'S(80)',\n",
       " 'S(81)',\n",
       " 'S(82)',\n",
       " 'S(83)',\n",
       " 'S(84)',\n",
       " 'S(8424)',\n",
       " 'S(8425)',\n",
       " 'S(8434)',\n",
       " 'S(8437)',\n",
       " 'S(8485)',\n",
       " 'S(8490)',\n",
       " 'S(8491)',\n",
       " 'S(8492)',\n",
       " 'S(85)',\n",
       " 'S(8550)',\n",
       " 'S(8558)',\n",
       " 'S(8559)',\n",
       " 'S(8572)',\n",
       " 'S(8586)',\n",
       " 'S(86)',\n",
       " 'S(8686)',\n",
       " 'S(87)',\n",
       " 'S(8700)',\n",
       " 'S(8744)',\n",
       " 'S(88)',\n",
       " 'S(886)',\n",
       " 'S(887)',\n",
       " 'S(89)',\n",
       " 'S(896)',\n",
       " 'S(897)',\n",
       " 'S(90)',\n",
       " 'S(9012)',\n",
       " 'S(9016)',\n",
       " 'S(906)',\n",
       " 'S(91)',\n",
       " 'S(9104)',\n",
       " 'S(92)',\n",
       " 'S(9262)',\n",
       " 'S(9266)',\n",
       " 'S(9294)',\n",
       " 'S(93)',\n",
       " 'S(94)',\n",
       " 'S(95)',\n",
       " 'S(96)',\n",
       " 'S(97)',\n",
       " 'S(98)',\n",
       " 'S(99)',\n",
       " 'TC4H9(384)',\n",
       " 'cyQO_1(43)',\n",
       " 'cyQO_2(44)',\n",
       " 'cyQO_3(45)',\n",
       " 'cyQO_4(46)',\n",
       " 'cyQO_5(47)',\n",
       " 'cyQO_6(48)',\n",
       " 'cyQO_7(49)',\n",
       " 'cyQO_8(50)',\n",
       " 'iC4H8(15)',\n",
       " 'iC8H18(1)']"
      ]
     },
     "execution_count": 6,
     "metadata": {},
     "output_type": "execute_result"
    }
   ],
   "source": [
    "sorted(gas.species_names)"
   ]
  },
  {
   "cell_type": "code",
   "execution_count": 7,
   "metadata": {},
   "outputs": [
    {
     "name": "stdout",
     "output_type": "stream",
     "text": [
      "iC8H18(1)\n"
     ]
    }
   ],
   "source": [
    "for species in gas.species():\n",
    "    if species.composition == {'C':8, 'H':18}:\n",
    "        print(species.name)"
   ]
  },
  {
   "cell_type": "code",
   "execution_count": 8,
   "metadata": {
    "scrolled": true
   },
   "outputs": [
    {
     "name": "stdout",
     "output_type": "stream",
     "text": [
      "\n",
      "  gas:\n",
      "\n",
      "       temperature             900  K\n",
      "          pressure         1.6e+06  Pa\n",
      "           density         6.44783  kg/m^3\n",
      "  mean mol. weight         30.1557  amu\n",
      "\n",
      "                          1 kg            1 kmol\n",
      "                       -----------      ------------\n",
      "          enthalpy       5.867e+05        1.769e+07     J\n",
      "   internal energy      3.3856e+05        1.021e+07     J\n",
      "           entropy          7224.9        2.179e+05     J/K\n",
      "    Gibbs function     -5.9157e+06       -1.784e+08     J\n",
      " heat capacity c_p          1280.5        3.861e+04     J/K\n",
      " heat capacity c_v          1004.8         3.03e+04     J/K\n",
      "\n",
      "                           X                 Y          Chem. Pot. / RT\n",
      "                     -------------     ------------     ------------\n",
      "                N2       0.787402         0.731465         -22.0668\n",
      "         iC8H18(1)       0.015748         0.059654         -96.2481\n",
      "             O2(2)        0.19685         0.208881          -25.138\n",
      "     [ +485 minor]              0                0\n",
      "\n"
     ]
    }
   ],
   "source": [
    "gas.TP = 900, 16e5\n",
    "gas.set_equivalence_ratio(phi=1.0, fuel='iC8H18(1)', oxidizer='O2(2):0.2, N2:0.8' )\n",
    "gas()"
   ]
  },
  {
   "cell_type": "code",
   "execution_count": 9,
   "metadata": {
    "scrolled": false
   },
   "outputs": [
    {
     "name": "stdout",
     "output_type": "stream",
     "text": [
      "\n",
      "  gas:\n",
      "\n",
      "       temperature             900  K\n",
      "          pressure     1.67954e+06  Pa\n",
      "           density         6.44783  kg/m^3\n",
      "  mean mol. weight         28.7276  amu\n",
      "\n",
      "                          1 kg            1 kmol\n",
      "                       -----------      ------------\n",
      "          enthalpy      6.2867e+05        1.806e+07     J\n",
      "   internal energy      3.6819e+05        1.058e+07     J\n",
      "           entropy          7220.2        2.074e+05     J/K\n",
      "    Gibbs function     -5.8695e+06       -1.686e+08     J\n",
      " heat capacity c_p          1191.5        3.423e+04     J/K\n",
      " heat capacity c_v          902.12        2.592e+04     J/K\n",
      "\n",
      "                           X                 Y          Chem. Pot. / RT\n",
      "                     -------------     ------------     ------------\n",
      "                N2       0.929134         0.906038         -21.8528\n",
      "         iC8H18(1)     0.00524934        0.0208732         -97.2982\n",
      "             O2(2)      0.0656168        0.0730886         -26.1881\n",
      "     [ +485 minor]              0                0\n",
      "\n"
     ]
    }
   ],
   "source": [
    "def set_gas_concentrations(gas, phi):\n",
    "    \"\"\"\n",
    "    Set the concentrations in the gas according to the description\n",
    "    in the paper by \n",
    "    \"\"\"\n",
    "    # Set it to desired stoichiometry with synthetic air (20% O2 : 80% N2)\n",
    "    gas.set_equivalence_ratio(phi=1.0, fuel='iC8H18(1)', oxidizer='O2(2):0.2, N2:0.8' )\n",
    "    # Then dilute the whole thing 1:2 with extra N2\n",
    "    X = gas.X / 3.0 \n",
    "    X[gas.species_index('N2')] += 2./3.\n",
    "    gas.X = X\n",
    "\n",
    "set_gas_concentrations(gas, 1.0)\n",
    "gas()"
   ]
  },
  {
   "cell_type": "code",
   "execution_count": 10,
   "metadata": {},
   "outputs": [
    {
     "name": "stdout",
     "output_type": "stream",
     "text": [
      "The number of reactions is 19250\n",
      "The number of species is 488\n"
     ]
    }
   ],
   "source": [
    "print(\"The number of reactions is {}\".format(len(gas.reactions())))\n",
    "print(\"The number of species is {}\".format(len(gas.species())))"
   ]
  },
  {
   "cell_type": "code",
   "execution_count": 11,
   "metadata": {},
   "outputs": [
    {
     "data": {
      "text/plain": [
       "(array([0.00e+00, 5.00e-05, 2.50e-04, 4.50e-04, 6.50e-04, 8.50e-04,\n",
       "        1.05e-03, 1.25e-03, 1.45e-03, 1.65e-03, 1.85e-03, 2.05e-03,\n",
       "        2.25e-03, 2.45e-03, 2.65e-03, 2.85e-03, 3.05e-03, 3.25e-03,\n",
       "        3.45e-03, 3.65e-03, 3.85e-03, 4.05e-03, 4.25e-03, 4.45e-03,\n",
       "        4.65e-03, 4.85e-03, 5.05e-03, 5.25e-03, 5.45e-03, 5.65e-03,\n",
       "        5.85e-03, 6.05e-03, 6.25e-03, 6.45e-03, 6.65e-03, 6.85e-03,\n",
       "        7.05e-03, 7.25e-03, 7.45e-03, 7.65e-03, 7.85e-03, 8.00e-03,\n",
       "        1.00e-02]),\n",
       " array([1.   , 1.004, 1.027, 1.046, 1.062, 1.072, 1.088, 1.101, 1.127,\n",
       "        1.157, 1.17 , 1.16 , 1.152, 1.153, 1.148, 1.143, 1.139, 1.136,\n",
       "        1.14 , 1.142, 1.142, 1.153, 1.161, 1.168, 1.165, 1.166, 1.168,\n",
       "        1.17 , 1.172, 1.175, 1.175, 1.178, 1.181, 1.184, 1.187, 1.189,\n",
       "        1.189, 1.188, 1.188, 1.19 , 1.192, 1.192, 1.192]))"
      ]
     },
     "execution_count": 11,
     "metadata": {},
     "output_type": "execute_result"
    }
   ],
   "source": [
    "# time in microseconds          relative pressure\n",
    "pressure_profile = \"\"\"0\t\t                       1.000\n",
    "50\t\t                       1.004\n",
    "250\t\t                       1.027\n",
    "450\t\t                       1.046\n",
    "650\t\t                       1.062\n",
    "850\t\t                       1.072\n",
    "1050\t                       1.088\n",
    "1250\t                       1.101\n",
    "1450\t                       1.127\n",
    "1650\t                       1.157\n",
    "1850\t                       1.170\n",
    "2050\t                       1.160\n",
    "2250\t                       1.152\n",
    "2450\t                       1.153\n",
    "2650\t                       1.148\n",
    "2850\t                       1.143\n",
    "3050\t                       1.139\n",
    "3250\t                       1.136\n",
    "3450\t                       1.140\n",
    "3650\t                       1.142\n",
    "3850\t                       1.142\n",
    "4050\t                       1.153\n",
    "4250\t                       1.161\n",
    "4450\t                       1.168\n",
    "4650\t                       1.165\n",
    "4850\t                       1.166\n",
    "5050\t                       1.168\n",
    "5250\t                       1.170\n",
    "5450\t                       1.172\n",
    "5650\t                       1.175\n",
    "5850\t                       1.175\n",
    "6050\t                       1.178\n",
    "6250\t                       1.181\n",
    "6450\t                       1.184\n",
    "6650\t                       1.187\n",
    "6850\t                       1.189\n",
    "7050\t                       1.189\n",
    "7250\t                       1.188\n",
    "7450\t                       1.188\n",
    "7650\t                       1.190\n",
    "7850\t                       1.192\n",
    "8000\t                       1.192\n",
    "10000\t                       1.192\n",
    "\"\"\"\n",
    "times = []\n",
    "pressures = []\n",
    "for l in pressure_profile.splitlines():\n",
    "    time, pressure = l.split()\n",
    "    times.append((float(time)/1e6))\n",
    "    pressures.append(float(pressure))\n",
    "times = np.array(times)\n",
    "pressures = np.array(pressures)\n",
    "times, pressures"
   ]
  },
  {
   "cell_type": "code",
   "execution_count": 12,
   "metadata": {},
   "outputs": [
    {
     "data": {
      "text/plain": [
       "array([1.        , 0.99698211, 0.98002747, 0.96651262, 0.95545917,\n",
       "       0.94869698, 0.93810315, 0.92969359, 0.91338302, 0.89535977,\n",
       "       0.88780047, 0.8936022 , 0.89830677, 0.89771558, 0.90068047,\n",
       "       0.90366796, 0.90607441, 0.90788894, 0.90547142, 0.9042682 ,\n",
       "       0.9042682 , 0.89771558, 0.89301811, 0.88895388, 0.89069048,\n",
       "       0.89011075, 0.88895388, 0.88780047, 0.88665049, 0.88493191,\n",
       "       0.88493191, 0.88322098, 0.88151763, 0.8798218 , 0.87813346,\n",
       "       0.87701202, 0.87701202, 0.87757233, 0.87757233, 0.87645254,\n",
       "       0.87533602, 0.87533602, 0.87533602])"
      ]
     },
     "execution_count": 12,
     "metadata": {},
     "output_type": "execute_result"
    }
   ],
   "source": [
    "\"\"\"\n",
    "Calculate an array of relative volumes, to correspond\n",
    "to the array of relative pressures given by `pressures`\n",
    "assuming isentropic compression/expansion.\n",
    "\"\"\"\n",
    "\n",
    "initial_pressure = 16e5\n",
    "gas.TP = 900, initial_pressure\n",
    "initial_entropy = gas.entropy_mass\n",
    "initial_density = gas.density\n",
    "initial_volume = 1.0\n",
    "volumes = np.ones_like(pressures)\n",
    "\n",
    "for i, p in enumerate(pressures):\n",
    "    gas.SP = initial_entropy, p*initial_pressure\n",
    "    volumes[i] = initial_volume*initial_density/gas.density\n",
    "volumes\n"
   ]
  },
  {
   "cell_type": "code",
   "execution_count": 13,
   "metadata": {
    "scrolled": false
   },
   "outputs": [
    {
     "data": {
      "text/plain": [
       "Text(0.5, 1.0, 'Plot of Volume against time in simulated shock tube (RCM)')"
      ]
     },
     "execution_count": 13,
     "metadata": {},
     "output_type": "execute_result"
    },
    {
     "data": {
      "image/png": "[encoded data removed]",
      "text/plain": [
       "<Figure size 432x288 with 1 Axes>"
      ]
     },
     "metadata": {
      "needs_background": "light"
     },
     "output_type": "display_data"
    }
   ],
   "source": [
    "plt.plot(times, volumes, '.-')\n",
    "plt.xlabel('times')\n",
    "plt.ylabel('volumes (m$^3$)')\n",
    "plt.title('Plot of Volume against time in simulated shock tube (RCM)')"
   ]
  },
  {
   "cell_type": "code",
   "execution_count": 14,
   "metadata": {},
   "outputs": [
    {
     "data": {
      "text/plain": [
       "<matplotlib.legend.Legend at 0x2b9797f59450>"
      ]
     },
     "execution_count": 14,
     "metadata": {},
     "output_type": "execute_result"
    },
    {
     "data": {
      "image/png": "[encoded data removed]",
      "text/plain": [
       "<Figure size 432x288 with 1 Axes>"
      ]
     },
     "metadata": {
      "needs_background": "light"
     },
     "output_type": "display_data"
    }
   ],
   "source": [
    "import scipy.interpolate\n",
    "spl = scipy.interpolate.UnivariateSpline(times, volumes, k=3,s=0.0001, ext='const')\n",
    "# if ext='const', extrapolation return the boundary value.\n",
    "\n",
    "plt.plot(times, volumes, '.', label=\"From experiment P profile,\\nassuming isentropic compression\")\n",
    "t = np.linspace(0,max(times)*1.1,1000)\n",
    "plt.plot(t, spl(t), label=\"Interpolated spline\")\n",
    "plt.xlabel('Time (s)')\n",
    "plt.ylabel('Volume (m$^3$)')\n",
    "plt.legend(loc='best')"
   ]
  },
  {
   "cell_type": "code",
   "execution_count": 15,
   "metadata": {},
   "outputs": [
    {
     "data": {
      "text/plain": [
       "array([0.87535545, 0.87535545, 0.87535545])"
      ]
     },
     "execution_count": 15,
     "metadata": {},
     "output_type": "execute_result"
    }
   ],
   "source": [
    "spl([0.01, 0.02, 0.03])"
   ]
  },
  {
   "cell_type": "code",
   "execution_count": 16,
   "metadata": {},
   "outputs": [
    {
     "name": "stdout",
     "output_type": "stream",
     "text": [
      "3\n",
      "1\n"
     ]
    }
   ],
   "source": [
    "velocity = spl.derivative(n=1)\n",
    "print(velocity.ext)\n",
    "velocity.ext=1 # zeros\n",
    "print(velocity.ext)"
   ]
  },
  {
   "cell_type": "code",
   "execution_count": 17,
   "metadata": {},
   "outputs": [
    {
     "data": {
      "text/plain": [
       "<matplotlib.collections.LineCollection at 0x2b9797fdcfd0>"
      ]
     },
     "execution_count": 17,
     "metadata": {},
     "output_type": "execute_result"
    },
    {
     "data": {
      "image/png": "[encoded data removed]",
      "text/plain": [
       "<Figure size 432x288 with 1 Axes>"
      ]
     },
     "metadata": {
      "needs_background": "light"
     },
     "output_type": "display_data"
    }
   ],
   "source": [
    "plt.plot(t, velocity(t))\n",
    "plt.xlabel('Time (s)')\n",
    "plt.ylabel('Wall velocity (m/s)')\n",
    "plt.hlines(0,0,max(t))"
   ]
  },
  {
   "cell_type": "code",
   "execution_count": 18,
   "metadata": {},
   "outputs": [
    {
     "data": {
      "text/plain": [
       "Text(0.5, 1.0, 'Extrapolated to 0.1 s')"
      ]
     },
     "execution_count": 18,
     "metadata": {},
     "output_type": "execute_result"
    },
    {
     "data": {
      "image/png": "[encoded data removed]",
      "text/plain": [
       "<Figure size 432x288 with 1 Axes>"
      ]
     },
     "metadata": {
      "needs_background": "light"
     },
     "output_type": "display_data"
    }
   ],
   "source": [
    "plt.plot(np.append(t,0.1), velocity(np.append(t,0.1)))\n",
    "plt.xlabel('Time (s)')\n",
    "plt.ylabel('Wall velocity (m/s)')\n",
    "plt.hlines(0,0,0.1)\n",
    "plt.title(\"Extrapolated to 0.1 s\")"
   ]
  },
  {
   "cell_type": "code",
   "execution_count": 19,
   "metadata": {},
   "outputs": [
    {
     "data": {
      "text/plain": [
       "array(0.)"
      ]
     },
     "execution_count": 19,
     "metadata": {},
     "output_type": "execute_result"
    }
   ],
   "source": [
    "velocity(0.1)"
   ]
  },
  {
   "cell_type": "code",
   "execution_count": 20,
   "metadata": {},
   "outputs": [],
   "source": [
    "def get_ignition_delay(gas, temperature, pressure_bar, mole_fractions, plot=False):\n",
    "    \"\"\"\n",
    "    A general function to find the igniton delay.\n",
    "    Using C2H + O --> CH* as the indication of ignition\n",
    "    \n",
    "    gas is a cantera Solution object\n",
    "    temperature in K\n",
    "    pressure_bar is in bar\n",
    "    mole_fractions is a dict\n",
    "    \"\"\"\n",
    "    gas.TPX = temperature, pressure_bar*1e5, mole_fractions\n",
    "\n",
    "    \n",
    "    reactor = ct.IdealGasReactor(gas)\n",
    "    environment = ct.Reservoir(ct.Solution('air.xml'))\n",
    "    \n",
    "    ct.Wall(reactor, environment, A=1.0, velocity=velocity)\n",
    "    reactor_network = ct.ReactorNet([reactor])\n",
    "    \n",
    "    time = 0.0\n",
    "    end_time = 100e-3\n",
    "    \n",
    "    times = []\n",
    "    concentrations = []\n",
    "    pressures = []\n",
    "    temperatures = []\n",
    "    volumes = []\n",
    "    \n",
    "    print_data = True\n",
    "    while time < end_time:\n",
    "        time = reactor_network.time\n",
    "        times.append(time)\n",
    "        temperatures.append(reactor.T)\n",
    "        pressures.append(reactor.thermo.P)\n",
    "        concentrations.append(reactor.thermo.concentrations)\n",
    "        volumes.append(reactor.volume)\n",
    "        # take a timestep\n",
    "        # the size of the step will be determined by the ODE solver\n",
    "        # depending on how quickly things are changing.\n",
    "        reactor_network.step()\n",
    "    \n",
    "    print(\"Reached end time {0:.2f} ms in {1} steps\".format(times[-1]*1e3, len(times)))\n",
    "    # convert the lists into arrays\n",
    "    concentrations = np.array(concentrations)\n",
    "    times = np.array(times)\n",
    "    pressures = np.array(pressures)\n",
    "    temperatures = np.array(temperatures)\n",
    "    volumes = np.array(volumes)\n",
    "\n",
    "    \n",
    "    if plot:\n",
    "        plt.plot(times*1e3, volumes)\n",
    "        plt.xlabel(\"Time (ms)\")\n",
    "        plt.ylabel(\"Volumes m$^3$\")\n",
    "        plt.tight_layout()\n",
    "        plt.show()\n",
    "        \n",
    "        \n",
    "    if plot:\n",
    "        plt.subplot(2,1,1)\n",
    "        plt.plot(times*1e3, pressures/1e5)\n",
    "        plt.ylabel(\"Pressure (bar)\", color='b')\n",
    "        ax2 = plt.gca().twinx()\n",
    "        ax2.set_ylabel('Temperature (K)', color='r')\n",
    "        ax2.plot(times*1e3, temperatures, 'r')\n",
    "    # Using C2H + O --> CH* as the indication of ignition\n",
    "    i_c2h = gas.species_index('C2H(4)')   \n",
    "    i_o = gas.species_index('O(5)')\n",
    "    excited_ch_generation = concentrations[:,i_o] * concentrations[:,i_c2h]\n",
    "    if plot:\n",
    "        plt.subplot(2,1,2)\n",
    "        plt.plot(times*1e3, excited_ch_generation, 'g')\n",
    "        plt.ylabel(\"CH* emission\")\n",
    "        plt.ylim(0,max(1e-13,1.1*max(excited_ch_generation)))\n",
    "        plt.xlabel(\"Time (ms)\")\n",
    "        plt.tight_layout()\n",
    "        plt.show()\n",
    "    step_with_highest_ch_gen = excited_ch_generation.argmax()\n",
    "    if step_with_highest_ch_gen > 1 and excited_ch_generation.max()>1e-20:\n",
    "        ignition_time_ms = 1e3 * times[step_with_highest_ch_gen]\n",
    "        print(\"At {0} K {1} bar, ignition delay time is {2} ms\".format(temperature, pressure_bar, ignition_time_ms))\n",
    "        return ignition_time_ms\n",
    "    else:\n",
    "        print(\"At {0} K {1} bar, no ignition detected\".format(temperature, pressure_bar))\n",
    "        return np.infty"
   ]
  },
  {
   "cell_type": "code",
   "execution_count": 21,
   "metadata": {},
   "outputs": [
    {
     "name": "stdout",
     "output_type": "stream",
     "text": [
      "\n",
      "  gas:\n",
      "\n",
      "       temperature          939.06  K\n",
      "          pressure      1.9072e+06  Pa\n",
      "           density         7.01726  kg/m^3\n",
      "  mean mol. weight         28.7276  amu\n",
      "\n",
      "                          1 kg            1 kmol\n",
      "                       -----------      ------------\n",
      "          enthalpy      6.7541e+05         1.94e+07     J\n",
      "   internal energy      4.0362e+05         1.16e+07     J\n",
      "           entropy          7234.3        2.078e+05     J/K\n",
      "    Gibbs function      -6.118e+06       -1.758e+08     J\n",
      " heat capacity c_p          1201.4        3.451e+04     J/K\n",
      " heat capacity c_v          912.01         2.62e+04     J/K\n",
      "\n",
      "                           X                 Y          Chem. Pot. / RT\n",
      "                     -------------     ------------     ------------\n",
      "                N2       0.929134         0.906038         -21.8305\n",
      "         iC8H18(1)     0.00524934        0.0208732         -97.0525\n",
      "             O2(2)      0.0656168        0.0730886         -26.1717\n",
      "     [ +485 minor]              0                0\n",
      "\n"
     ]
    }
   ],
   "source": [
    "def get_ignition_delay_air_n2(temperature, pressure_bar=16, phi=1.0, plot=False):\n",
    "    \"\"\"\n",
    "    For figure 14\n",
    "    \n",
    "    temperature in K\n",
    "    pressure in bar\n",
    "    phi is equivalence ratio\n",
    "    burns DME in air\n",
    "    \"\"\"\n",
    "    gas.TP = temperature, pressure_bar*1e5\n",
    "    set_gas_concentrations(gas,phi)\n",
    "    mole_fractions = gas.X\n",
    "    if plot:\n",
    "        gas()\n",
    "\n",
    "    time = get_ignition_delay(gas, temperature, pressure_bar, mole_fractions, plot=plot)\n",
    "    return time\n",
    "gas()"
   ]
  },
  {
   "cell_type": "code",
   "execution_count": 22,
   "metadata": {},
   "outputs": [
    {
     "name": "stdout",
     "output_type": "stream",
     "text": [
      "\n",
      "  gas:\n",
      "\n",
      "       temperature            1250  K\n",
      "          pressure     4.19886e+06  Pa\n",
      "           density         11.6061  kg/m^3\n",
      "  mean mol. weight         28.7276  amu\n",
      "\n",
      "                          1 kg            1 kmol\n",
      "                       -----------      ------------\n",
      "          enthalpy        1.06e+06        3.045e+07     J\n",
      "   internal energy      6.9821e+05        2.006e+07     J\n",
      "           entropy          7359.1        2.114e+05     J/K\n",
      "    Gibbs function     -8.1389e+06       -2.338e+08     J\n",
      " heat capacity c_p          1268.4        3.644e+04     J/K\n",
      " heat capacity c_v          978.99        2.812e+04     J/K\n",
      "\n",
      "                           X                 Y          Chem. Pot. / RT\n",
      "                     -------------     ------------     ------------\n",
      "                N2       0.929134         0.906038         -21.8099\n",
      "         iC8H18(1)     0.00524934        0.0208732         -97.8474\n",
      "             O2(2)      0.0656168        0.0730886         -26.1965\n",
      "     [ +485 minor]              0                0\n",
      "\n",
      "Reached end time 100.54 ms in 4844 steps\n"
     ]
    },
    {
     "data": {
      "image/png": "[encoded data removed]",
      "text/plain": [
       "<Figure size 432x288 with 1 Axes>"
      ]
     },
     "metadata": {
      "needs_background": "light"
     },
     "output_type": "display_data"
    },
    {
     "data": {
      "image/png": "[encoded data removed]",
      "text/plain": [
       "<Figure size 432x288 with 3 Axes>"
      ]
     },
     "metadata": {
      "needs_background": "light"
     },
     "output_type": "display_data"
    },
    {
     "name": "stdout",
     "output_type": "stream",
     "text": [
      "At 1250.0 K 40 bar, ignition delay time is 0.37026531146443525 ms\n"
     ]
    }
   ],
   "source": [
    "get_ignition_delay_air_n2(1000/.8, 40, 1, plot=True)\n",
    "plt.rcParams['figure.figsize'] = [10, 8]"
   ]
  },
  {
   "cell_type": "code",
   "execution_count": 24,
   "metadata": {
    "scrolled": true
   },
   "outputs": [
    {
     "name": "stdout",
     "output_type": "stream",
     "text": [
      "Reached end time 103.11 ms in 4125 steps\n",
      "At 1428.5714285714287 K 16 bar, ignition delay time is 0.17006545009963958 ms\n",
      "Reached end time 102.20 ms in 4741 steps\n",
      "At 1308.4112149532712 K 16 bar, ignition delay time is 0.4895135319865201 ms\n",
      "Reached end time 103.42 ms in 4661 steps\n",
      "At 1206.896551724138 K 16 bar, ignition delay time is 1.159581960080688 ms\n",
      "Reached end time 106.34 ms in 4680 steps\n",
      "At 1120.0 K 16 bar, ignition delay time is 2.5259327918868744 ms\n",
      "Reached end time 101.34 ms in 4894 steps\n",
      "At 1044.7761194029852 K 16 bar, ignition delay time is 6.180731202366194 ms\n",
      "Reached end time 102.86 ms in 5038 steps\n",
      "At 979.0209790209791 K 16 bar, ignition delay time is 15.57631577232878 ms\n",
      "Reached end time 100.10 ms in 5093 steps\n",
      "At 921.0526315789473 K 16 bar, ignition delay time is 37.139191000422166 ms\n",
      "Reached end time 100.96 ms in 4915 steps\n",
      "At 869.5652173913044 K 16 bar, ignition delay time is 73.77698212590576 ms\n",
      "Reached end time 100.05 ms in 878 steps\n",
      "At 823.5294117647057 K 16 bar, no ignition detected\n",
      "Reached end time 100.04 ms in 693 steps\n",
      "At 782.122905027933 K 16 bar, no ignition detected\n",
      "Reached end time 100.20 ms in 620 steps\n",
      "At 744.6808510638298 K 16 bar, no ignition detected\n",
      "Reached end time 100.40 ms in 546 steps\n",
      "At 710.6598984771574 K 16 bar, no ignition detected\n",
      "Reached end time 100.21 ms in 576 steps\n",
      "At 679.6116504854368 K 16 bar, no ignition detected\n",
      "Reached end time 100.04 ms in 540 steps\n",
      "At 651.1627906976744 K 16 bar, no ignition detected\n",
      "Reached end time 100.46 ms in 406 steps\n",
      "At 625.0 K 16 bar, no ignition detected\n",
      "Reached end time 100.88 ms in 3958 steps\n",
      "At 1428.5714285714287 K 40 bar, ignition delay time is 0.0866919612050391 ms\n",
      "Reached end time 101.86 ms in 4891 steps\n",
      "At 1308.4112149532712 K 40 bar, ignition delay time is 0.22704041485730408 ms\n",
      "Reached end time 101.80 ms in 4754 steps\n",
      "At 1206.896551724138 K 40 bar, ignition delay time is 0.5481073629034746 ms\n",
      "Reached end time 102.81 ms in 4455 steps\n",
      "At 1120.0 K 40 bar, ignition delay time is 1.3503011869667874 ms\n",
      "Reached end time 102.25 ms in 4610 steps\n",
      "At 1044.7761194029852 K 40 bar, ignition delay time is 3.118636507636713 ms\n",
      "Reached end time 101.76 ms in 4852 steps\n",
      "At 979.0209790209791 K 40 bar, ignition delay time is 6.986217080800508 ms\n",
      "Reached end time 101.27 ms in 5038 steps\n",
      "At 921.0526315789473 K 40 bar, ignition delay time is 13.109518749802417 ms\n",
      "Reached end time 100.62 ms in 4920 steps\n",
      "At 869.5652173913044 K 40 bar, ignition delay time is 23.477037051955794 ms\n",
      "Reached end time 100.27 ms in 4882 steps\n",
      "At 823.5294117647057 K 40 bar, ignition delay time is 42.39212468770619 ms\n",
      "Reached end time 100.23 ms in 4704 steps\n",
      "At 782.122905027933 K 40 bar, ignition delay time is 76.83169428033148 ms\n",
      "Reached end time 100.03 ms in 1395 steps\n",
      "At 744.6808510638298 K 40 bar, no ignition detected\n",
      "Reached end time 100.10 ms in 1508 steps\n",
      "At 710.6598984771574 K 40 bar, no ignition detected\n",
      "Reached end time 100.36 ms in 1717 steps\n",
      "At 679.6116504854368 K 40 bar, no ignition detected\n",
      "Reached end time 100.02 ms in 1881 steps\n",
      "At 651.1627906976744 K 40 bar, no ignition detected\n",
      "Reached end time 100.00 ms in 878 steps\n",
      "At 625.0 K 40 bar, no ignition detected\n"
     ]
    },
    {
     "data": {
      "text/plain": [
       "<function matplotlib.pyplot.show(*args, **kw)>"
      ]
     },
     "execution_count": 24,
     "metadata": {},
     "output_type": "execute_result"
    },
    {
     "data": {
      "image/png": "[encoded data removed]",
      "text/plain": [
       "<Figure size 720x576 with 1 Axes>"
      ]
     },
     "metadata": {
      "needs_background": "light"
     },
     "output_type": "display_data"
    }
   ],
   "source": [
    "RMG_temperatures = 1000/np.linspace(0.70,1.6,15)\n",
    "pressures_bar = [16, 40]\n",
    "phi = 1\n",
    "\n",
    "RMG_results = dict()\n",
    "times = []\n",
    "\n",
    "for P in pressures_bar:\n",
    "    ignition_delay_times = np.zeros_like(RMG_temperatures)\n",
    "    for i,T in enumerate(RMG_temperatures):\n",
    "        ignition_delay_times[i] = get_ignition_delay_air_n2(T,P, phi, plot=False)\n",
    "    \n",
    "    RMG_results[P] = ignition_delay_times\n",
    "    plt.semilogy(1000/RMG_temperatures, ignition_delay_times, 'o-', label='{0}'.format(P))\n",
    "plt.legend(loc='best')\n",
    "plt.title('Ignition delay with imposed pressure profile for moving wall reactor of Iso-Octane')\n",
    "plt.xlabel('1000 K / $T$')\n",
    "plt.ylabel('$\\\\tau_{ign} = t([CH^*]_{max})/ms$')\n",
    "plt.rcParams['figure.figsize'] = [10, 8]\n",
    "plt.show"
   ]
  },
  {
   "cell_type": "code",
   "execution_count": 33,
   "metadata": {},
   "outputs": [
    {
     "name": "stdout",
     "output_type": "stream",
     "text": [
      "9180 1.0922e-10 OCHO(67) + S(1244) <=> C4H7O(289) + CO2(7)\n"
     ]
    }
   ],
   "source": [
    "# kr = gas.reverse_rate_constants\n",
    "# for i, k in enumerate(kr):\n",
    "#     if k > 1e20:\n",
    "#         print(f'{i:4d} {k:.4e} {gas.reaction_equation(i)}')\n",
    "# print(f'{i:4d} {k:.4e} {gas.reaction_equation(i)}')"
   ]
  },
  {
   "cell_type": "code",
   "execution_count": 34,
   "metadata": {
    "scrolled": true
   },
   "outputs": [
    {
     "name": "stdout",
     "output_type": "stream",
     "text": [
      "9180  1.0922e-10  OCHO(67) + S(1244) <=> C4H7O(289) + CO2(7)\n"
     ]
    }
   ],
   "source": [
    "for i in range(gas.n_reactions):\n",
    "    if kr[i] > 1e20:\n",
    "        print('{:4d}  {:.3e}  {}'.format(i, kr[i], gas.reaction_equation(i)))\n",
    "print('{:4d}  {:.4e}  {}'.format(i, kr[i], gas.reaction_equation(i)))"
   ]
  },
  {
   "cell_type": "code",
   "execution_count": 26,
   "metadata": {},
   "outputs": [
    {
     "data": {
      "image/png": "[encoded data removed]",
      "text/plain": [
       "<Figure size 720x576 with 1 Axes>"
      ]
     },
     "metadata": {
      "needs_background": "light"
     },
     "output_type": "display_data"
    }
   ],
   "source": [
    "plt.semilogy(1000/RMG_temperatures,RMG_results[pressures_bar],label='{}bar'.format(pressures_bar))\n",
    "plt.legend(loc='best')\n",
    "plt.xlabel('1000 K / $T$')\n",
    "plt.ylabel('$\\\\tau_{ign} = t([CH^*]_{max})/ms$')\n",
    "plt.rcParams['figure.figsize'] = [10, 8]"
   ]
  },
  {
   "cell_type": "code",
   "execution_count": null,
   "metadata": {},
   "outputs": [],
   "source": [
    "import pickle\n",
    "with open('ic8-RMG_moving_wall.pkl','wb') as fp:\n",
    "    pickle.dump((RMG_temperatures, times), fp)"
   ]
  },
  {
   "cell_type": "code",
   "execution_count": 27,
   "metadata": {},
   "outputs": [],
   "source": [
    "import pickle\n",
    "with open('ic8-LLNL.pkl','rb') as fp:\n",
    "    (LLNL_temperatures, LLNL_results) = pickle.load(fp)"
   ]
  },
  {
   "cell_type": "code",
   "execution_count": 28,
   "metadata": {},
   "outputs": [],
   "source": [
    "# extracted values of predicted ignition delay for iso-octane in Fig.14 \n",
    "# using the docstrings\n",
    "predict_ic8 = \"\"\"0.657614                 0.0438935\n",
    "0.660053                 0.0508193\n",
    "0.668666                 0.0605986\n",
    "0.674810                 0.0712038\n",
    "0.682193                 0.0824521\n",
    "0.690803                 0.0997690\n",
    "0.695710                 0.117224\n",
    "0.705556                 0.141850\n",
    "0.712933                 0.169140\n",
    "0.722793                 0.193028\n",
    "0.730166                 0.233559\n",
    "0.740019                 0.274467\n",
    "0.748628                 0.332111\n",
    "0.759721                 0.384622\n",
    "0.765868                 0.445364\n",
    "0.775710                 0.546873\n",
    "0.786810                 0.615061\n",
    "0.799138                 0.712339\n",
    "0.806515                 0.849383\n",
    "0.818843                 0.983721\n",
    "0.829936                 1.13926\n",
    "0.843501                 1.31950\n",
    "0.852120                 1.52800\n",
    "0.864449                 1.76967\n",
    "0.878014                 2.04964\n",
    "0.889110                 2.33921\n",
    "0.900212                 2.59264\n",
    "0.910061                 3.09168\n",
    "0.927338                 3.52918\n",
    "0.935965                 3.96890\n",
    "0.942116                 4.52889\n",
    "0.958153                 5.24581\n",
    "0.969245                 6.07524\n",
    "0.985293                 6.73451\n",
    "0.993909                 7.91373\n",
    "1.00872                  8.90155\n",
    "1.02476                  9.86753\n",
    "1.03338                  11.4268\n",
    "1.04572                  12.8521\n",
    "1.06423                  14.6714\n",
    "1.07409                  16.9904\n",
    "1.08520                  18.5574\n",
    "1.10124                  21.1825\n",
    "1.11357                  23.4784\n",
    "1.12466                  27.5917\n",
    "1.13824                  30.1389\n",
    "1.14933                  35.4191\n",
    "1.16290                  39.8386\n",
    "1.17523                  46.1394\n",
    "1.18633                  51.8925\n",
    "1.19865                  61.8858\n",
    "1.20728                  68.5850\n",
    "1.21961                  80.6040\n",
    "1.23070                  94.7255\n",
    "\"\"\"\n",
    "\n",
    "ign_times = []\n",
    "temps = []\n",
    "\n",
    "for k in predict_ic8.splitlines():\n",
    "    temp, ign_time = k.split()\n",
    "    temps.append(float(temp))\n",
    "    ign_times.append(float(ign_time))\n",
    "    \n",
    "ign_times = np.array(ign_times)\n",
    "temps = np.array(temps)\n",
    "#print(temps, ign_times)"
   ]
  },
  {
   "cell_type": "code",
   "execution_count": 29,
   "metadata": {},
   "outputs": [
    {
     "data": {
      "text/plain": [
       "Text(0.5, 1.0, \"Dagaut's Figure 14, iso-octane\")"
      ]
     },
     "execution_count": 29,
     "metadata": {},
     "output_type": "execute_result"
    },
    {
     "data": {
      "image/png": "[encoded data removed]",
      "text/plain": [
       "<Figure size 720x576 with 1 Axes>"
      ]
     },
     "metadata": {
      "needs_background": "light"
     },
     "output_type": "display_data"
    }
   ],
   "source": [
    "experiment_ic8 = \"\"\" 0.742197            0.129438\n",
    "0.792731            0.238540\n",
    "0.858775            0.582623\n",
    "0.897119            1.02386\n",
    "0.916046            1.35725\n",
    "1.01424             4.07608\n",
    "1.05446             8.48794\n",
    "1.08368             10.3738\n",
    "1.11478             15.2007\n",
    "1.16585             24.9217\n",
    "1.17410             28.0282\n",
    "1.18433             30.0848\n",
    "\"\"\"\n",
    "\n",
    "exp_ign_times = []\n",
    "exp_temps = []\n",
    "\n",
    "\n",
    "\n",
    "for z in experiment_ic8.splitlines():\n",
    "    exp_temp, exp_ign_time = z.split()\n",
    "    exp_temps.append(float(exp_temp))\n",
    "    exp_ign_times.append(float(exp_ign_time))\n",
    "    \n",
    "exp_ign_times = np.array(exp_ign_times)\n",
    "exp_temps = np.array(exp_temps)\n",
    "\n",
    "plt.semilogy(temps,ign_times, 'r.:')\n",
    "plt.semilogy(exp_temps,exp_ign_times, 'g+')\n",
    "plt.title(\"Dagaut's Figure 14, iso-octane\")"
   ]
  },
  {
   "cell_type": "code",
   "execution_count": null,
   "metadata": {},
   "outputs": [],
   "source": [
    "# import pickle \n",
    "# with open('ic8-RMG_no_moving_wall.pkl','rb') as fp:\n",
    "#     (RMG_temperatures, RMG_results[pressures_bar]) = pickle.load(fp)\n",
    "    "
   ]
  },
  {
   "cell_type": "code",
   "execution_count": 30,
   "metadata": {},
   "outputs": [],
   "source": [
    "with open('ic8_DAG_moving_wall.pkl','rb') as fp:\n",
    "    (DAG_temperatures,DAG_results) = pickle.load(fp)"
   ]
  },
  {
   "cell_type": "code",
   "execution_count": 35,
   "metadata": {},
   "outputs": [
    {
     "data": {
      "text/plain": [
       "<function matplotlib.pyplot.show(*args, **kw)>"
      ]
     },
     "execution_count": 35,
     "metadata": {},
     "output_type": "execute_result"
    },
    {
     "data": {
      "image/png": "[encoded data removed]",
      "text/plain": [
       "<Figure size 720x576 with 1 Axes>"
      ]
     },
     "metadata": {
      "needs_background": "light"
     },
     "output_type": "display_data"
    }
   ],
   "source": [
    "plt.semilogy(1000/LLNL_temperatures,LLNL_results[pressures_bar],label='LLNL moving wall {} bar'.format(pressures_bar))\n",
    "#plt.semilogy(1000/RMG_temperatures,RMG_results[pressures_bar],label='RMG plots no moving wall {}bar'.format(pressures_bar))\n",
    "\n",
    "\n",
    "plt.semilogy(1000/DAG_temperatures, DAG_results[pressures_bar], label='Dagaut et al. model moving wall {} bar'.format(pressures_bar))\n",
    "\n",
    "plt.semilogy(1000/RMG_temperatures,RMG_results[pressures_bar],label='RMG moving wall plots {} bar'.format(pressures_bar))\n",
    "\n",
    "plt.semilogy(temps,ign_times, 'r.:', label='Dagaut et al. Prediction Fig.14'.format(pressures_bar))\n",
    "\n",
    "plt.semilogy(exp_temps,exp_ign_times, 'g+',label='Experimental values {} bar'.format(pressures_bar))\n",
    "plt.title('Ignition delay with imposed pressure profile for moving wall reactor of Iso-Octane')\n",
    "plt.legend(loc='best')\n",
    "plt.xlabel('1000 K / $T$')\n",
    "plt.ylabel('$\\\\tau_{ign} = t([CH^*]_{max})/ms$')\n",
    "plt.rcParams['figure.figsize'] = [10, 8]\n",
    "plt.show"
   ]
  },
  {
   "cell_type": "code",
   "execution_count": null,
   "metadata": {},
   "outputs": [],
   "source": []
  }
 ],
 "metadata": {
  "kernelspec": {
   "display_name": "Python 3",
   "language": "python",
   "name": "python3"
  },
  "language_info": {
   "codemirror_mode": {
    "name": "ipython",
    "version": 3
   },
   "file_extension": ".py",
   "mimetype": "text/x-python",
   "name": "python",
   "nbconvert_exporter": "python",
   "pygments_lexer": "ipython3",
   "version": "3.7.5"
  }
 },
 "nbformat": 4,
 "nbformat_minor": 2
}
