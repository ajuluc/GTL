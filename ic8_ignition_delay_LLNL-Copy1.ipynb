{
 "cells": [
  {
   "cell_type": "markdown",
   "metadata": {},
   "source": [
    "# Trying to model ignition delay from RMG for Iso-octane\n"
   ]
  },
  {
   "cell_type": "code",
   "execution_count": 1,
   "metadata": {
    "collapsed": true
   },
   "outputs": [],
   "source": [
    "import cantera as ct\n",
    "import numpy as np\n",
    "%matplotlib inline\n",
    "from matplotlib import pyplot as plt"
   ]
  },
  {
   "cell_type": "code",
   "execution_count": 2,
   "metadata": {},
   "outputs": [
    {
     "name": "stdout",
     "output_type": "stream",
     "text": [
      "Wrote CTI mechanism file to '/Users/ebubeajulu/Code/GTL/ic8/chemkin/chem_annotated.cti'.\n",
      "Mechanism contains 236 species and 3192 reactions.\n",
      "Validating mechanism...\n",
      "\n",
      "**** WARNING ****\n",
      "For species HOCHO(60), discontinuity in h/RT detected at Tmid = 1000\n",
      "\tValue computed using low-temperature polynomial:  -40.3604\n",
      "\tValue computed using high-temperature polynomial: -38.1678\n",
      "PASSED.\n"
     ]
    }
   ],
   "source": [
    "from cantera import ck2cti\n",
    "ck2cti.main([\n",
    "    '--input=/Users/ebubeajulu/Code/GTL/ic8/chemkin/chem_annotated.inp',\n",
    "    '--output=/Users/ebubeajulu/Code/GTL/ic8/chemkin/chem_annotated.cti',\n",
    "    '--permissive'\n",
    "        ])"
   ]
  },
  {
   "cell_type": "code",
   "execution_count": 3,
   "metadata": {},
   "outputs": [
    {
     "name": "stdout",
     "output_type": "stream",
     "text": [
      "\n",
      "\n",
      "**** WARNING ****\n",
      "For species HOCHO(60), discontinuity in h/RT detected at Tmid = 1000\n",
      "\tValue computed using low-temperature polynomial:  -40.3604\n",
      "\tValue computed using high-temperature polynomial: -38.1678\n"
     ]
    }
   ],
   "source": [
    "gas = ct.Solution('/Users/ebubeajulu/Code/GTL/ic8/chemkin/chem_annotated.cti')"
   ]
  },
  {
   "cell_type": "code",
   "execution_count": 4,
   "metadata": {},
   "outputs": [
    {
     "data": {
      "text/plain": [
       "['Ar',\n",
       " 'C(36)',\n",
       " 'C2(54)',\n",
       " 'C2H(4)',\n",
       " 'C2H2(27)',\n",
       " 'C2H3(24)',\n",
       " 'C2H3O2(48)',\n",
       " 'C2H3O2(69)',\n",
       " 'C2H3O3(61)',\n",
       " 'C2H4(11)',\n",
       " 'C2H4(700)',\n",
       " 'C2H4O(44)',\n",
       " 'C2H4O2(65)',\n",
       " 'C2H4O3(68)',\n",
       " 'C2H5(35)',\n",
       " 'C2H5O(41)',\n",
       " 'C2H5O(45)',\n",
       " 'C2H5O(57)',\n",
       " 'C2H5O2(42)',\n",
       " 'C2H5O2(47)',\n",
       " 'C2H5O2(64)',\n",
       " 'C2H5O3(58)',\n",
       " 'C2H6(39)',\n",
       " 'C2H6O(56)',\n",
       " 'C2H6O2(63)',\n",
       " 'C2O(55)',\n",
       " 'C3H6(12)',\n",
       " 'C3H6O(79)',\n",
       " 'C4H6O(305)',\n",
       " 'C4H8O(291)',\n",
       " 'C4H8O(292)',\n",
       " 'C5H10(401)',\n",
       " 'C5H11(670)',\n",
       " 'C7H13(836)',\n",
       " 'C7H13(882)',\n",
       " 'C7H14(721)',\n",
       " 'C7H14(722)',\n",
       " 'C7H14(736)',\n",
       " 'C7H15(683)',\n",
       " 'C7H15(684)',\n",
       " 'C8H16(749)',\n",
       " 'C8H17(685)',\n",
       " 'C8H17(686)',\n",
       " 'C8H17(687)',\n",
       " 'C8H17(688)',\n",
       " 'CH(3)',\n",
       " 'CH2(25)',\n",
       " 'CH2(S)(30)',\n",
       " 'CH2CHO(23)',\n",
       " 'CH2CO(26)',\n",
       " 'CH2O(9)',\n",
       " 'CH2OH(31)',\n",
       " 'CH2OOH(38)',\n",
       " 'CH3(20)',\n",
       " 'CH3CHO(40)',\n",
       " 'CH3CO(22)',\n",
       " 'CH3O(32)',\n",
       " 'CH3OH(29)',\n",
       " 'CH3OO(34)',\n",
       " 'CH3OOH(37)',\n",
       " 'CH4(10)',\n",
       " 'CHCHO(49)',\n",
       " 'CHCHOH(53)',\n",
       " 'CO(6)',\n",
       " 'CO2(7)',\n",
       " 'H(15)',\n",
       " 'H2(13)',\n",
       " 'H2CC(43)',\n",
       " 'H2O(8)',\n",
       " 'H2O2(19)',\n",
       " 'HCCO(51)',\n",
       " 'HCCOH(52)',\n",
       " 'HCO(21)',\n",
       " 'HCOH(33)',\n",
       " 'HO2(18)',\n",
       " 'HOCH2O(66)',\n",
       " 'HOCHO(60)',\n",
       " 'HOCO(28)',\n",
       " 'He(17)',\n",
       " 'IC3H7(103)',\n",
       " 'IC4H7(288)',\n",
       " 'IC4H9(281)',\n",
       " 'N2',\n",
       " 'Ne',\n",
       " 'O(5)',\n",
       " 'O2(2)',\n",
       " 'OCHCHO(50)',\n",
       " 'OCHCO(62)',\n",
       " 'OCHO(67)',\n",
       " 'OH(16)',\n",
       " 'S(10137)',\n",
       " 'S(10148)',\n",
       " 'S(10382)',\n",
       " 'S(10385)',\n",
       " 'S(10405)',\n",
       " 'S(10486)',\n",
       " 'S(1052)',\n",
       " 'S(107)',\n",
       " 'S(1129)',\n",
       " 'S(1133)',\n",
       " 'S(1151)',\n",
       " 'S(1154)',\n",
       " 'S(1155)',\n",
       " 'S(1179)',\n",
       " 'S(1233)',\n",
       " 'S(1292)',\n",
       " 'S(1305)',\n",
       " 'S(1407)',\n",
       " 'S(1474)',\n",
       " 'S(1505)',\n",
       " 'S(1520)',\n",
       " 'S(1547)',\n",
       " 'S(1575)',\n",
       " 'S(1597)',\n",
       " 'S(1798)',\n",
       " 'S(1821)',\n",
       " 'S(1825)',\n",
       " 'S(1898)',\n",
       " 'S(1903)',\n",
       " 'S(1911)',\n",
       " 'S(1916)',\n",
       " 'S(1959)',\n",
       " 'S(1962)',\n",
       " 'S(1963)',\n",
       " 'S(1972)',\n",
       " 'S(1973)',\n",
       " 'S(1991)',\n",
       " 'S(1994)',\n",
       " 'S(1995)',\n",
       " 'S(2036)',\n",
       " 'S(2056)',\n",
       " 'S(2059)',\n",
       " 'S(2089)',\n",
       " 'S(2091)',\n",
       " 'S(2098)',\n",
       " 'S(2106)',\n",
       " 'S(2108)',\n",
       " 'S(2115)',\n",
       " 'S(2122)',\n",
       " 'S(2128)',\n",
       " 'S(2137)',\n",
       " 'S(2170)',\n",
       " 'S(2184)',\n",
       " 'S(2222)',\n",
       " 'S(2226)',\n",
       " 'S(2232)',\n",
       " 'S(2260)',\n",
       " 'S(2287)',\n",
       " 'S(2291)',\n",
       " 'S(2327)',\n",
       " 'S(2345)',\n",
       " 'S(2401)',\n",
       " 'S(2417)',\n",
       " 'S(2426)',\n",
       " 'S(2432)',\n",
       " 'S(2499)',\n",
       " 'S(2571)',\n",
       " 'S(2625)',\n",
       " 'S(2633)',\n",
       " 'S(2660)',\n",
       " 'S(2672)',\n",
       " 'S(2689)',\n",
       " 'S(282)',\n",
       " 'S(284)',\n",
       " 'S(2841)',\n",
       " 'S(2850)',\n",
       " 'S(299)',\n",
       " 'S(3109)',\n",
       " 'S(3111)',\n",
       " 'S(3296)',\n",
       " 'S(3311)',\n",
       " 'S(3312)',\n",
       " 'S(351)',\n",
       " 'S(390)',\n",
       " 'S(391)',\n",
       " 'S(4092)',\n",
       " 'S(4105)',\n",
       " 'S(4192)',\n",
       " 'S(4251)',\n",
       " 'S(4463)',\n",
       " 'S(4468)',\n",
       " 'S(4507)',\n",
       " 'S(4510)',\n",
       " 'S(5409)',\n",
       " 'S(5424)',\n",
       " 'S(5451)',\n",
       " 'S(5479)',\n",
       " 'S(5488)',\n",
       " 'S(5525)',\n",
       " 'S(5553)',\n",
       " 'S(5573)',\n",
       " 'S(5601)',\n",
       " 'S(6236)',\n",
       " 'S(672)',\n",
       " 'S(674)',\n",
       " 'S(675)',\n",
       " 'S(6753)',\n",
       " 'S(6754)',\n",
       " 'S(6855)',\n",
       " 'S(6897)',\n",
       " 'S(6922)',\n",
       " 'S(6932)',\n",
       " 'S(6935)',\n",
       " 'S(6957)',\n",
       " 'S(6968)',\n",
       " 'S(6969)',\n",
       " 'S(7057)',\n",
       " 'S(7058)',\n",
       " 'S(7105)',\n",
       " 'S(7127)',\n",
       " 'S(7169)',\n",
       " 'S(7290)',\n",
       " 'S(733)',\n",
       " 'S(747)',\n",
       " 'S(754)',\n",
       " 'S(7597)',\n",
       " 'S(812)',\n",
       " 'S(8141)',\n",
       " 'S(815)',\n",
       " 'S(8159)',\n",
       " 'S(816)',\n",
       " 'S(9006)',\n",
       " 'S(903)',\n",
       " 'S(904)',\n",
       " 'S(905)',\n",
       " 'S(917)',\n",
       " 'S(920)',\n",
       " 'S(944)',\n",
       " 'S(945)',\n",
       " 'S(953)',\n",
       " 'S(957)',\n",
       " 'TC4H9(280)',\n",
       " 'cC2H3O(59)',\n",
       " 'cC2H4O(46)',\n",
       " 'iC4H8(14)',\n",
       " 'iC8H18(1)']"
      ]
     },
     "execution_count": 4,
     "metadata": {},
     "output_type": "execute_result"
    }
   ],
   "source": [
    "sorted(gas.species_names)"
   ]
  },
  {
   "cell_type": "code",
   "execution_count": 5,
   "metadata": {},
   "outputs": [
    {
     "name": "stdout",
     "output_type": "stream",
     "text": [
      "\n",
      "  gas:\n",
      "\n",
      "       temperature             900  K\n",
      "          pressure           1e+07  Pa\n",
      "           density         40.2989  kg/m^3\n",
      "  mean mol. weight         30.1557  amu\n",
      "\n",
      "                          1 kg            1 kmol\n",
      "                       -----------      ------------\n",
      "          enthalpy       5.867e+05        1.769e+07     J\n",
      "   internal energy      3.3856e+05        1.021e+07     J\n",
      "           entropy          6719.6        2.026e+05     J/K\n",
      "    Gibbs function     -5.4609e+06       -1.647e+08     J\n",
      " heat capacity c_p          1280.5        3.861e+04     J/K\n",
      " heat capacity c_v          1004.8         3.03e+04     J/K\n",
      "\n",
      "                           X                 Y          Chem. Pot. / RT\n",
      "                     -------------     ------------     ------------\n",
      "                N2       0.787402         0.731465         -20.2342\n",
      "         iC8H18(1)       0.015748         0.059654         -94.4155\n",
      "             O2(2)        0.19685         0.208881         -23.3054\n",
      "     [ +233 minor]              0                0\n",
      "\n"
     ]
    }
   ],
   "source": [
    "gas.TP = 900, 10e6\n",
    "gas.set_equivalence_ratio(phi=1.0, fuel='iC8H18(1)', oxidizer='O2(2):0.2, N2:0.8' )\n",
    "gas()"
   ]
  },
  {
   "cell_type": "code",
   "execution_count": 6,
   "metadata": {},
   "outputs": [
    {
     "name": "stdout",
     "output_type": "stream",
     "text": [
      "\n",
      "  gas:\n",
      "\n",
      "       temperature             900  K\n",
      "          pressure           1e+07  Pa\n",
      "           density         40.2989  kg/m^3\n",
      "  mean mol. weight         30.1557  amu\n",
      "\n",
      "                          1 kg            1 kmol\n",
      "                       -----------      ------------\n",
      "          enthalpy       5.867e+05        1.769e+07     J\n",
      "   internal energy      3.3856e+05        1.021e+07     J\n",
      "           entropy          6719.6        2.026e+05     J/K\n",
      "    Gibbs function     -5.4609e+06       -1.647e+08     J\n",
      " heat capacity c_p          1280.5        3.861e+04     J/K\n",
      " heat capacity c_v          1004.8         3.03e+04     J/K\n",
      "\n",
      "                           X                 Y          Chem. Pot. / RT\n",
      "                     -------------     ------------     ------------\n",
      "                N2       0.787402         0.731465         -20.2342\n",
      "         iC8H18(1)       0.015748         0.059654         -94.4155\n",
      "             O2(2)        0.19685         0.208881         -23.3054\n",
      "     [ +233 minor]              0                0\n",
      "\n"
     ]
    }
   ],
   "source": [
    "def set_gas_concentrations(gas, phi):\n",
    "    \"\"\"\n",
    "    Set the concentrations in the gas according to the description\n",
    "    in the paper by \n",
    "    \"\"\"\n",
    "    # Set it to desired stoichiometry with synthetic air (20% O2 : 80% N2)\n",
    "    gas.set_equivalence_ratio(phi=1.0, fuel='iC8H18(1)', oxidizer='O2(2):0.2, N2:0.8' )\n",
    "    # Then dilute the whole thing 1:2 with extra N2\n",
    "    gas.X = gas.X / 3.0 \n",
    "    gas.X[gas.species_index('N2')] += 2./3.\n",
    "\n",
    "set_gas_concentrations(gas, 1.0)\n",
    "gas()"
   ]
  },
  {
   "cell_type": "code",
   "execution_count": 7,
   "metadata": {
    "collapsed": true
   },
   "outputs": [],
   "source": [
    "def get_ignition_delay(gas, temperature, pressure_bar, mole_fractions, plot=False):\n",
    "    \"\"\"\n",
    "    A general function to find the igniton delay.\n",
    "    Using C2H + O --> CH* as the indication of ignition\n",
    "    \n",
    "    gas is a cantera Solution object\n",
    "    temperature in K\n",
    "    pressure_bar is in bar\n",
    "    mole_fractions is a dict\n",
    "    \"\"\"\n",
    "    gas.TPX = temperature, pressure_bar*1e5, mole_fractions\n",
    "\n",
    "    reactor = ct.IdealGasReactor(gas)\n",
    "    reactor_network = ct.ReactorNet([reactor])\n",
    "    \n",
    "    time = 0.0\n",
    "    end_time = 10e-3\n",
    "    \n",
    "    times = []\n",
    "    concentrations = []\n",
    "    pressures = []\n",
    "    temperatures = []\n",
    "    \n",
    "    print_data = True\n",
    "    while time < end_time:\n",
    "        time = reactor_network.time\n",
    "        times.append(time)\n",
    "        temperatures.append(reactor.T)\n",
    "        pressures.append(reactor.thermo.P)\n",
    "        concentrations.append(reactor.thermo.concentrations)\n",
    "        # take a timestep\n",
    "        # the size of the step will be determined by the ODE solver\n",
    "        # depending on how quickly things are changing.\n",
    "        reactor_network.step()\n",
    "    \n",
    "    print(\"Reached end time {0:.2f} ms in {1} steps\".format(times[-1]*1e3, len(times)))\n",
    "    # convert the lists into arrays\n",
    "    concentrations = np.array(concentrations)\n",
    "    times = np.array(times)\n",
    "    pressures = np.array(pressures)\n",
    "    temperatures = np.array(temperatures)\n",
    "\n",
    "    if plot:\n",
    "        plt.subplot(2,1,1)\n",
    "        plt.plot(times*1e3, pressures/1e5)\n",
    "        plt.ylabel(\"Pressure (bar)\", color='b')\n",
    "        ax2 = plt.gca().twinx()\n",
    "        ax2.set_ylabel('Temperature (K)', color='r')\n",
    "        ax2.plot(times*1e3, temperatures, 'r')\n",
    "    # Using C2H + O --> CH* as the indication of ignition\n",
    "    i_c2h = gas.species_index('C2H(4)')   \n",
    "    i_o = gas.species_index('O(5)')\n",
    "    excited_ch_generation = concentrations[:,i_o] * concentrations[:,i_c2h]\n",
    "    if plot:\n",
    "        plt.subplot(2,1,2)\n",
    "        plt.plot(times*1e3, excited_ch_generation, 'g')\n",
    "        plt.ylabel(\"CH* emission\")\n",
    "        plt.ylim(0,max(1e-13,1.1*max(excited_ch_generation)))\n",
    "        plt.xlabel(\"Time (ms)\")\n",
    "        plt.tight_layout()\n",
    "        plt.show()\n",
    "    step_with_highest_ch_gen = excited_ch_generation.argmax()\n",
    "    if step_with_highest_ch_gen > 1 and excited_ch_generation.max()>1e-20:\n",
    "        ignition_time_ms = 1e3 * times[step_with_highest_ch_gen]\n",
    "        print(\"At {0} K {1} bar, ignition delay time is {2} ms\".format(temperature, pressure_bar, ignition_time_ms))\n",
    "        return ignition_time_ms\n",
    "    else:\n",
    "        print(\"At {0} K {1} bar, no ignition detected\".format(temperature, pressure_bar))\n",
    "        return np.infty"
   ]
  },
  {
   "cell_type": "code",
   "execution_count": 8,
   "metadata": {
    "collapsed": true
   },
   "outputs": [],
   "source": [
    "def get_ignition_delay_air(temperature, pressure_bar=10, phi=1.0, plot=False):\n",
    "    \"\"\"\n",
    "    For figure 14\n",
    "    \n",
    "    temperature in K\n",
    "    pressure in bar\n",
    "    phi is equivalence ratio\n",
    "    burns DME in air\n",
    "    \"\"\"\n",
    "    set_gas_concentrations(gas,phi)\n",
    "    mole_fractions = gas.X\n",
    "\n",
    "    time = get_ignition_delay(gas, temperature, pressure_bar, mole_fractions, plot=plot)\n",
    "    return time"
   ]
  },
  {
   "cell_type": "code",
   "execution_count": 9,
   "metadata": {},
   "outputs": [
    {
     "name": "stdout",
     "output_type": "stream",
     "text": [
      "Reached end time 10.01 ms in 1751 steps\n"
     ]
    },
    {
     "data": {
      "image/png": "[encoded data removed]",
      "text/plain": [
       "<Figure size 432x288 with 3 Axes>"
      ]
     },
     "metadata": {},
     "output_type": "display_data"
    },
    {
     "name": "stdout",
     "output_type": "stream",
     "text": [
      "At 1000 K 16 bar, no ignition detected\n"
     ]
    }
   ],
   "source": [
    "get_ignition_delay_air(1000, 16, 1, plot=True)\n",
    "plt.rcParams['figure.figsize'] = [10, 8]\n"
   ]
  },
  {
   "cell_type": "markdown",
   "metadata": {},
   "source": [
    "# Figure 14 ignition delay times from LLNL for iso-octane in N2 as bath gas comparing to the Dagaut et al 2014 "
   ]
  },
  {
   "cell_type": "code",
   "execution_count": 10,
   "metadata": {},
   "outputs": [
    {
     "name": "stdout",
     "output_type": "stream",
     "text": [
      "Reached end time 10.16 ms in 5591 steps\n",
      "At 1333.33333333 K 16 bar, ignition delay time is 0.752962791978 ms\n",
      "Reached end time 10.02 ms in 5906 steps\n",
      "At 1276.59574468 K 16 bar, ignition delay time is 1.34223588654 ms\n",
      "Reached end time 10.04 ms in 5984 steps\n",
      "At 1224.48979592 K 16 bar, ignition delay time is 2.24779224887 ms\n",
      "Reached end time 10.05 ms in 6181 steps\n",
      "At 1176.47058824 K 16 bar, ignition delay time is 3.52015059891 ms\n",
      "Reached end time 10.06 ms in 6531 steps\n",
      "At 1132.0754717 K 16 bar, ignition delay time is 5.13208424649 ms\n",
      "Reached end time 10.00 ms in 6168 steps\n",
      "At 1090.90909091 K 16 bar, ignition delay time is 7.0092918194 ms\n",
      "Reached end time 10.01 ms in 6199 steps\n",
      "At 1052.63157895 K 16 bar, ignition delay time is 9.12168419872 ms\n",
      "Reached end time 10.00 ms in 1652 steps\n",
      "At 1016.94915254 K 16 bar, no ignition detected\n",
      "Reached end time 10.00 ms in 1566 steps\n",
      "At 983.606557377 K 16 bar, no ignition detected\n",
      "Reached end time 10.01 ms in 905 steps\n",
      "At 952.380952381 K 16 bar, no ignition detected\n",
      "Reached end time 10.02 ms in 523 steps\n",
      "At 923.076923077 K 16 bar, no ignition detected\n",
      "Reached end time 10.06 ms in 398 steps\n",
      "At 895.52238806 K 16 bar, no ignition detected\n",
      "Reached end time 10.11 ms in 333 steps\n",
      "At 869.565217391 K 16 bar, no ignition detected\n",
      "Reached end time 10.03 ms in 341 steps\n",
      "At 845.070422535 K 16 bar, no ignition detected\n",
      "Reached end time 10.02 ms in 261 steps\n",
      "At 821.917808219 K 16 bar, no ignition detected\n",
      "Reached end time 10.00 ms in 287 steps\n",
      "At 800.0 K 16 bar, no ignition detected\n",
      "Reached end time 10.01 ms in 326 steps\n",
      "At 779.220779221 K 16 bar, no ignition detected\n",
      "Reached end time 10.01 ms in 366 steps\n",
      "At 759.493670886 K 16 bar, no ignition detected\n",
      "Reached end time 10.00 ms in 361 steps\n",
      "At 740.740740741 K 16 bar, no ignition detected\n",
      "Reached end time 10.01 ms in 260 steps\n",
      "At 722.891566265 K 16 bar, no ignition detected\n",
      "Reached end time 10.00 ms in 144 steps\n",
      "At 705.882352941 K 16 bar, no ignition detected\n",
      "Reached end time 10.10 ms in 79 steps\n",
      "At 689.655172414 K 16 bar, no ignition detected\n",
      "Reached end time 10.08 ms in 68 steps\n",
      "At 674.157303371 K 16 bar, no ignition detected\n",
      "Reached end time 10.04 ms in 60 steps\n",
      "At 659.340659341 K 16 bar, no ignition detected\n",
      "Reached end time 10.46 ms in 37 steps\n",
      "At 645.161290323 K 16 bar, no ignition detected\n"
     ]
    }
   ],
   "source": [
    "RMG_temperatures = 1000/np.linspace(0.75,1.55,25)\n",
    "pressures_bar = 16\n",
    "phi = 1\n",
    "\n",
    "RMG_results = dict()\n",
    "times = []\n",
    "for T in RMG_temperatures:\n",
    "    t = get_ignition_delay_air(T,pressures_bar, phi, plot=False)\n",
    "    times.append(t)\n",
    "    RMG_results[pressures_bar]=times"
   ]
  },
  {
   "cell_type": "code",
   "execution_count": 11,
   "metadata": {},
   "outputs": [
    {
     "data": {
      "image/png": "[encoded data removed]",
      "text/plain": [
       "<Figure size 720x576 with 1 Axes>"
      ]
     },
     "metadata": {},
     "output_type": "display_data"
    }
   ],
   "source": [
    "plt.semilogy(1000/RMG_temperatures,times,label='{}bar'.format(pressures_bar))\n",
    "plt.legend(loc='best')\n",
    "plt.xlabel('1000 K / $T$')\n",
    "plt.ylabel('$\\\\tau_{ign} = t([CH^*]_{max})/ms$')\n",
    "plt.rcParams['figure.figsize'] = [10, 8]\n"
   ]
  },
  {
   "cell_type": "code",
   "execution_count": 12,
   "metadata": {},
   "outputs": [],
   "source": [
    "import pickle\n",
    "with open('ic8-LLNL.pkl') as fp:\n",
    "    (LLNL_temperatures, LLNL_results) = pickle.load(fp)"
   ]
  },
  {
   "cell_type": "code",
   "execution_count": 13,
   "metadata": {},
   "outputs": [
    {
     "data": {
      "text/plain": [
       "<function matplotlib.pyplot.show>"
      ]
     },
     "execution_count": 13,
     "metadata": {},
     "output_type": "execute_result"
    },
    {
     "data": {
      "image/png": "[encoded data removed]",
      "text/plain": [
       "<Figure size 720x576 with 1 Axes>"
      ]
     },
     "metadata": {},
     "output_type": "display_data"
    }
   ],
   "source": [
    "plt.semilogy(1000/LLNL_temperatures,LLNL_results[pressures_bar],label='LLNL {}bar'.format(pressures_bar))\n",
    "plt.legend(loc='best')\n",
    "plt.xlabel('1000 K / $T$')\n",
    "plt.ylabel('$\\\\tau_{ign} = t([CH^*]_{max})/ms$')\n",
    "\n",
    "\n",
    "plt.semilogy(1000/RMG_temperatures,times,label='RMG {}bar'.format(pressures_bar))\n",
    "plt.legend(loc='best')\n",
    "plt.xlabel('1000 K / $T$')\n",
    "plt.ylabel('$\\\\tau_{ign} = t([CH^*]_{max})/ms$')\n",
    "plt.rcParams['figure.figsize'] = [10, 8]\n",
    "\n",
    "plt.show"
   ]
  }
 ],
 "metadata": {
  "kernelspec": {
   "display_name": "Python 3",
   "language": "python",
   "name": "python3"
  },
  "language_info": {
   "codemirror_mode": {
    "name": "ipython",
    "version": 2
   },
   "file_extension": ".py",
   "mimetype": "text/x-python",
   "name": "python",
   "nbconvert_exporter": "python",
   "pygments_lexer": "ipython2",
   "version": "2.7.15"
  }
 },
 "nbformat": 4,
 "nbformat_minor": 2
}
