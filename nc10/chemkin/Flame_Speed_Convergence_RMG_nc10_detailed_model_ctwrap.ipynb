{
 "cells": [
  {
   "cell_type": "markdown",
   "metadata": {},
   "source": [
    "# Adiabatic Flame for  1D flow of n-decane model from RMG using ctwrap\n",
    "This model from RMG is the detailed model of n-decane and we calculate the flame speed for a 1D reactor using the (ctwrap.modules.adiabatic_flame) from cantera and ctwrap"
   ]
  },
  {
   "cell_type": "markdown",
   "metadata": {},
   "source": [
    "## 1. Function/Class Definitions"
   ]
  },
  {
   "cell_type": "code",
   "execution_count": 1,
   "metadata": {},
   "outputs": [
    {
     "name": "stdout",
     "output_type": "stream",
     "text": [
      "env: OMP_NUM_THREADS=1\n"
     ]
    }
   ],
   "source": [
    "%env OMP_NUM_THREADS=1"
   ]
  },
  {
   "cell_type": "code",
   "execution_count": 2,
   "metadata": {},
   "outputs": [],
   "source": [
    "import sys\n",
    "sys.path.append('/scratch/ajulu.c/anaconda3/envs/flame_env/')"
   ]
  },
  {
   "cell_type": "code",
   "execution_count": 3,
   "metadata": {},
   "outputs": [
    {
     "name": "stdout",
     "output_type": "stream",
     "text": [
      "/scratch/ajulu.c/anaconda3/envs/flame_env/bin/python\n",
      "# packages in environment at /scratch/ajulu.c/anaconda3/envs/flame_env:\n",
      "#\n",
      "# Name                    Version                   Build  Channel\n"
     ]
    }
   ],
   "source": [
    "!which python\n",
    "!conda list flame_env"
   ]
  },
  {
   "cell_type": "code",
   "execution_count": 4,
   "metadata": {},
   "outputs": [],
   "source": [
    "import cantera as ct\n",
    "import ctwrap as cw"
   ]
  },
  {
   "cell_type": "markdown",
   "metadata": {},
   "source": [
    "## 2. Simulations"
   ]
  },
  {
   "cell_type": "markdown",
   "metadata": {},
   "source": [
    "### 2.1 Create Simulation Object"
   ]
  },
  {
   "cell_type": "code",
   "execution_count": 5,
   "metadata": {},
   "outputs": [
    {
     "data": {
      "text/plain": [
       "<ctwrap.simulation.AdiabaticFlame at 0x2ba7ec50a588>"
      ]
     },
     "execution_count": 5,
     "metadata": {},
     "output_type": "execute_result"
    }
   ],
   "source": [
    "sim = cw.Simulation.from_module(cw.modules.adiabatic_flame)\n",
    "sim"
   ]
  },
  {
   "cell_type": "code",
   "execution_count": 6,
   "metadata": {},
   "outputs": [
    {
     "name": "stdout",
     "output_type": "stream",
     "text": [
      "    defaults: mixture-averaged flamespeed = 0.711265 m/s\n",
      "    defaults: multi-component flamespeed  = 0.727009 m/s\n",
      "CPU times: user 808 ms, sys: 43.6 ms, total: 851 ms\n",
      "Wall time: 846 ms\n"
     ]
    }
   ],
   "source": [
    "%%time \n",
    "sim.run()"
   ]
  },
  {
   "cell_type": "markdown",
   "metadata": {},
   "source": [
    "### 2.2 Create Simulation Handler"
   ]
  },
  {
   "cell_type": "code",
   "execution_count": 7,
   "metadata": {},
   "outputs": [
    {
     "name": "stdout",
     "output_type": "stream",
     "text": [
      "Simulations for entry `upstream.phi` with values: [0.5, 0.65, 0.75, 0.85, 0.95, 1.0, 1.25, 1.35, 1.45, 1.5, 1.55, 1.65, 1.75, 1.85, 1.95, 2.0]\n"
     ]
    },
    {
     "data": {
      "text/plain": [
       "<ctwrap.simulation.SimulationHandler at 0x2ba7ec59c4a8>"
      ]
     },
     "execution_count": 7,
     "metadata": {},
     "output_type": "execute_result"
    }
   ],
   "source": [
    "s = cw.SimulationHandler.from_yaml('adiabatic_flame_nc10.yaml', verbosity=1)\n",
    "s"
   ]
  },
  {
   "cell_type": "markdown",
   "metadata": {},
   "source": [
    "### 2.3 Using Cantera to check the gas solution and the number of reaction and species"
   ]
  },
  {
   "cell_type": "code",
   "execution_count": 9,
   "metadata": {},
   "outputs": [
    {
     "name": "stdout",
     "output_type": "stream",
     "text": [
      "\n",
      "\n",
      "**** WARNING ****\n",
      "For species HOCHO(370), discontinuity in h/RT detected at Tmid = 1000\n",
      "\tValue computed using low-temperature polynomial:  -40.3604\n",
      "\tValue computed using high-temperature polynomial: -38.1678\n"
     ]
    }
   ],
   "source": [
    "gas = ct.Solution('/scratch/ajulu.c/Code/GTL/nc10/chemkin/reduced_283.cti')"
   ]
  },
  {
   "cell_type": "code",
   "execution_count": 10,
   "metadata": {
    "scrolled": true
   },
   "outputs": [
    {
     "name": "stdout",
     "output_type": "stream",
     "text": [
      "\n",
      "  reduced_283:\n",
      "\n",
      "       temperature             300  K\n",
      "          pressure          101325  Pa\n",
      "           density         1.13796  kg/m^3\n",
      "  mean mol. weight         28.0135  amu\n",
      "\n",
      "                          1 kg            1 kmol\n",
      "                       -----------      ------------\n",
      "          enthalpy          2076.5        5.817e+04     J\n",
      "   internal energy          -86964       -2.436e+06     J\n",
      "           entropy            6843        1.917e+05     J/K\n",
      "    Gibbs function     -2.0508e+06       -5.745e+07     J\n",
      " heat capacity c_p          1038.3        2.909e+04     J/K\n",
      " heat capacity c_v          741.48        2.077e+04     J/K\n",
      "\n",
      "                           X                 Y          Chem. Pot. / RT\n",
      "                     -------------     ------------     ------------\n",
      "                N2              1                1         -23.0324\n",
      "     [ +282 minor]              0                0\n",
      "\n"
     ]
    }
   ],
   "source": [
    "gas()"
   ]
  },
  {
   "cell_type": "code",
   "execution_count": 11,
   "metadata": {},
   "outputs": [
    {
     "name": "stdout",
     "output_type": "stream",
     "text": [
      "The number of species is 283 and The number of reactions is 8753\n"
     ]
    }
   ],
   "source": [
    "num_species = gas.species()\n",
    "num_rxns = gas.reactions()\n",
    "\n",
    "if len(num_species) & len(num_rxns) > 0:\n",
    "    print (\"The number of species is {} and The number of reactions is {}\".format(len(num_species), len(num_rxns)))\n",
    "else: \n",
    "    print (\"empty\")"
   ]
  },
  {
   "cell_type": "markdown",
   "metadata": {},
   "source": [
    "### 2.4 Run Simulation Tasks in Parallel"
   ]
  },
  {
   "cell_type": "code",
   "execution_count": null,
   "metadata": {
    "scrolled": true
   },
   "outputs": [
    {
     "name": "stdout",
     "output_type": "stream",
     "text": [
      "\n",
      "\n",
      "**** WARNING ****\n",
      "For species HOCHO(370), discontinuity in h/RT detected at Tmid = 1000\n",
      "\tValue computed using low-temperature polynomial:  -40.3604\n",
      "\tValue computed using high-temperature polynomial: -38.1678\n",
      "\n",
      "\n",
      "**** WARNING ****\n",
      "For species HOCHO(370), discontinuity in h/RT detected at Tmid = 1000\n",
      "\tValue computed using low-temperature polynomial:  -40.3604\n",
      "\tValue computed using high-temperature polynomial: -38.1678\n",
      "\n",
      "\n",
      "**** WARNING ****\n",
      "For species HOCHO(370), discontinuity in h/RT detected at Tmid = 1000\n",
      "\tValue computed using low-temperature polynomial:  -40.3604\n",
      "\tValue computed using high-temperature polynomial: -38.1678\n",
      "\n",
      "\n",
      "**** WARNING ****\n",
      "For species HOCHO(370), discontinuity in h/RT detected at Tmid = 1000\n",
      "\tValue computed using low-temperature polynomial:  -40.3604\n",
      "\tValue computed using high-temperature polynomial: -38.1678\n",
      "\n",
      "\n",
      "**** WARNING ****\n",
      "For species HOCHO(370), discontinuity in h/RT detected at Tmid = 1000\n",
      "\tValue computed using low-temperature polynomial:  -40.3604\n",
      "\tValue computed using high-temperature polynomial: -38.1678\n",
      "\n",
      "\n",
      "**** WARNING ****\n",
      "For species HOCHO(370), discontinuity in h/RT detected at Tmid = 1000\n",
      "\tValue computed using low-temperature polynomial:  -40.3604\n",
      "\tValue computed using high-temperature polynomial: -38.1678\n",
      "\n",
      "\n",
      "**** WARNING ****\n",
      "For species HOCHO(370), discontinuity in h/RT detected at Tmid = 1000\n",
      "\tValue computed using low-temperature polynomial:  -40.3604\n",
      "\tValue computed using high-temperature polynomial: -38.1678\n",
      "\n",
      "\n",
      "**** WARNING ****\n",
      "For species HOCHO(370), discontinuity in h/RT detected at Tmid = 1000\n",
      "\tValue computed using low-temperature polynomial:  -40.3604\n",
      "\tValue computed using high-temperature polynomial: -38.1678\n"
     ]
    }
   ],
   "source": [
    "%%time\n",
    "s.run_parallel(sim, verbosity=0)"
   ]
  },
  {
   "cell_type": "markdown",
   "metadata": {},
   "source": [
    "## 3. Create Graphical Output"
   ]
  },
  {
   "cell_type": "code",
   "execution_count": null,
   "metadata": {},
   "outputs": [],
   "source": [
    "import matplotlib.pyplot as plt\n",
    "import matplotlib as mpl\n",
    "%matplotlib inline\n",
    "\n",
    "col = mpl.rcParams['axes.prop_cycle'].by_key()['color']\n",
    "n_col = len(col)"
   ]
  },
  {
   "cell_type": "markdown",
   "metadata": {},
   "source": [
    "### 3.1 Load Data\n",
    "Loading data from output file"
   ]
  },
  {
   "cell_type": "code",
   "execution_count": null,
   "metadata": {},
   "outputs": [],
   "source": [
    "data = cw.fileio.from_hdf(s.output_name)\n"
   ]
  },
  {
   "cell_type": "code",
   "execution_count": null,
   "metadata": {},
   "outputs": [],
   "source": [
    "mix = {k.split('<')[0]: data[k] for k in data if 'mix' in k}\n",
    "mlt = {k.split('<')[0]: data[k] for k in data if 'multi' in k}\n",
    "\n",
    "tasks = data.get('variation')['tasks']\n",
    "phi = data.get('variation')['values']"
   ]
  },
  {
   "cell_type": "code",
   "execution_count": null,
   "metadata": {},
   "outputs": [],
   "source": [
    "up = data.get('defaults')['upstream']"
   ]
  },
  {
   "cell_type": "markdown",
   "metadata": {},
   "source": [
    "### 3.2 Plot\n",
    "plot flame speeds"
   ]
  },
  {
   "cell_type": "code",
   "execution_count": null,
   "metadata": {},
   "outputs": [],
   "source": [
    "# create figure\n",
    "fig, ax = plt.subplots(1)\n",
    "\n",
    "# plot results\n",
    "\n",
    "u_mix = [ mix[t]['u (m/s)'][0] for t in tasks]\n",
    "u_mlt = [ mlt[t]['u (m/s)'][0] for t in tasks]\n",
    "\n",
    "ax.plot(phi, u_mix, marker='o',\n",
    "       linestyle='none', label='mixture-averaged')\n",
    "\n",
    "ax.plot(phi, u_mlt, marker='s',\n",
    "       markerfacecolor='none', linestyle='none', label='multi-component')\n",
    "\n",
    "\n",
    "# add title/axis labels\n",
    "\n",
    "ax.set_xlabel('Equivalence ratio (-)')\n",
    "ax.set_ylabel('Flame speed (m/s)')\n",
    "\n",
    "ax.set_title('Adiabatic premixed flame simulation for {} with {}'.format(up['fuel'],up['oxidizer']))\n",
    "\n",
    "\n",
    "# add legend\n",
    "\n",
    "leg = ax.legend(loc='lower right', title='Transport Model')\n",
    "\n",
    "_ = leg.draw_frame(False)"
   ]
  },
  {
   "cell_type": "code",
   "execution_count": null,
   "metadata": {},
   "outputs": [],
   "source": []
  }
 ],
 "metadata": {
  "kernelspec": {
   "display_name": "Python 3",
   "language": "python",
   "name": "python3"
  },
  "language_info": {
   "codemirror_mode": {
    "name": "ipython",
    "version": 3
   },
   "file_extension": ".py",
   "mimetype": "text/x-python",
   "name": "python",
   "nbconvert_exporter": "python",
   "pygments_lexer": "ipython3",
   "version": "3.7.3"
  }
 },
 "nbformat": 4,
 "nbformat_minor": 2
}
