{
 "cells": [
  {
   "cell_type": "markdown",
   "metadata": {},
   "source": [
    "## Notebook to generate collision rate violators for any RMG job while running"
   ]
  },
  {
   "cell_type": "code",
   "execution_count": 1,
   "metadata": {},
   "outputs": [],
   "source": [
    "import logging\n",
    "import numpy as np\n",
    "import os\n",
    "import sys"
   ]
  },
  {
   "cell_type": "code",
   "execution_count": 2,
   "metadata": {},
   "outputs": [
    {
     "name": "stderr",
     "output_type": "stream",
     "text": [
      "RDKit WARNING: [12:18:07] Enabling RDKit 2019.09.1 jupyter extensions\n"
     ]
    },
    {
     "name": "stdout",
     "output_type": "stream",
     "text": [
      "RMG-Py Version 3.0.0\n",
      "/Users/ebubeajulu/Code/RMG-Py/rmgpy/__init__.py\n"
     ]
    }
   ],
   "source": [
    "import os, sys\n",
    "rmg_path = os.getenv('RMGpy')\n",
    "if rmg_path not in sys.path:\n",
    "    sys.path.append(rmg_path)\n",
    "sys.path\n",
    "\n",
    "import rmgpy\n",
    "from rmgpy.chemkin import load_chemkin_file\n",
    "from rmgpy.rmgobject import RMGObject, expand_to_dict, recursive_make_object\n",
    "\n",
    "print(f\"RMG-Py Version {rmgpy.__version__}\")\n",
    "print(rmgpy.__file__)"
   ]
  },
  {
   "cell_type": "code",
   "execution_count": 3,
   "metadata": {},
   "outputs": [],
   "source": [
    "chemkin_file = '../no_lowT/chemkin/chem_annotated.inp'\n",
    "chemkin_folder = os.path.split(chemkin_file)[0]\n",
    "species_dictionary_file = os.path.join(chemkin_folder, 'species_dictionary.txt')\n",
    "transport_file = os.path.join(chemkin_folder, 'tran.dat')"
   ]
  },
  {
   "cell_type": "code",
   "execution_count": 4,
   "metadata": {},
   "outputs": [],
   "source": [
    "species, reactions = rmgpy.chemkin.load_chemkin_file(\n",
    "                    chemkin_file, species_dictionary_file,transport_path=transport_file,\n",
    "                    check_duplicates=False, use_chemkin_names=True,read_comments=True)\n",
    "\n"
   ]
  },
  {
   "cell_type": "code",
   "execution_count": 5,
   "metadata": {},
   "outputs": [
    {
     "data": {
      "text/plain": [
       "dict_keys(['N2', 'Ar', 'Ne', 'nC10H22(1)', 'O2(2)', 'CH(3)', 'C2H(4)', 'O(5)', 'CO(6)', 'CO2(7)', 'H2O(8)', 'CH2O(9)', 'CH4(10)', 'C2H4(11)', 'C3H6(12)', 'H2(13)', 'H(14)', 'OH(15)', 'He(16)', 'HO2(17)', 'H2O2(18)', 'HOCO(19)', 'HCO(20)', 'CH3(21)', 'CH2(22)', 'CH3OH(23)', 'CH2(S)(24)', 'CH2OH(25)', 'CH3O(26)', 'HCOH(27)', 'CH3OO(28)', 'CH2CO(29)', 'C2H5(30)', 'C2H3(31)', 'C(32)', 'C2H2(33)', 'CH3OOH(34)', 'CH2OOH(35)', 'C2H6(36)', 'CH3CHO(37)', 'C2H5O(38)', 'C2H5O2(39)', 'CH2CHO(40)', 'H2CC(41)', 'C2H4O(42)', 'C2H5O(43)', 'cC2H4O(44)', 'C2H5O2(45)', 'C2H3O2(46)', 'CHCHO(47)', 'OCHCHO(48)', 'HCCO(49)', 'HCCOH(50)', 'CHCHOH(51)', 'C2(52)', 'C2O(53)', 'C2H6O(54)', 'C2H5O(55)', 'C2H5O3(56)', 'CH3CO(57)', 'cC2H3O(58)', 'HOCHO(59)', 'C2H3O3(60)', 'OCHCO(61)', 'C2H6O2(62)', 'C2H5O2(63)', 'C2H4O2(64)', 'HOCH2O(65)', 'OCHO(66)', 'C2H4O3(67)', 'C2H3O2(68)', 'NC3H7(101)', 'C3H5(103)', 'S(104)', 'S(123)', 'C3H4(174)', 'PC4H9(190)', 'S(192)', 'C4H8(196)', 'S(227)', 'S(228)', 'C4H6O(271)', 'C5H11(426)', 'C5H11(427)', 'S(441)', 'S(443)', 'S(448)', 'S(449)', 'S(453)', 'S(454)', 'S(459)', 'C7H15(684)', 'C8H17(685)', 'S(686)', 'C6H13(687)', 'S(688)', 'S(689)', 'C9H19(690)', 'S(691)', 'S(692)', 'S(718)', 'C2H2O(723)', 'C6H12(749)', 'C6H13(758)', 'S(863)', 'S(889)', 'S(1096)', 'S(1112)', 'S(1113)', 'S(1114)', 'S(1129)', 'S(1150)', 'S(1154)', 'S(1172)', 'S(1175)', 'S(1181)', 'S(1200)', 'S(1206)', 'S(1207)', 'S(1224)', 'S(1227)', 'S(1243)', 'S(1298)', 'S(1300)', 'S(1302)', 'S(1303)', 'S(1352)', 'S(1385)', 'S(1405)', 'S(1407)', 'S(1417)', 'S(1440)', 'S(1441)', 'S(1463)', 'S(1516)', 'S(1547)', 'S(1554)', 'S(1555)', 'S(1572)', 'S(1577)', 'S(1607)', 'S(1608)', 'S(1612)', 'S(1737)', 'S(1764)', 'S(1783)', 'S(1860)', 'S(1920)', 'S(2104)', 'S(2130)', 'S(2151)', 'S(2205)', 'S(2252)', 'S(2255)', 'S(2333)', 'S(2347)', 'S(2369)', 'S(2447)', 'S(2449)', 'S(2450)', 'S(2566)', 'S(2619)', 'S(2620)', 'S(2669)', 'S(2670)', 'S(2705)', 'S(2739)', 'S(2760)', 'S(2785)', 'S(2786)', 'S(2812)', 'S(2882)', 'S(3063)', 'S(4959)', 'S(4976)', 'S(4983)', 'S(5715)', 'S(5764)', 'S(10165)'])"
      ]
     },
     "execution_count": 5,
     "metadata": {},
     "output_type": "execute_result"
    }
   ],
   "source": [
    "species_dict = {rmgpy.chemkin.get_species_identifier(s): s for s in species}\n",
    "species_dict.keys()"
   ]
  },
  {
   "cell_type": "code",
   "execution_count": null,
   "metadata": {},
   "outputs": [],
   "source": []
  },
  {
   "cell_type": "code",
   "execution_count": 6,
   "metadata": {},
   "outputs": [],
   "source": [
    "def check_collision_limit_violation(self, t_min, t_max, p_min, p_max):\n",
    "        \"\"\"\n",
    "        Warn if a core reaction violates the collision limit rate in either the forward or reverse direction\n",
    "        at the relevant extreme T/P conditions. Assuming a monotonic behaviour of the kinetics.\n",
    "        Returns a list with the reaction object and the direction in which the violation was detected.\n",
    "        \"\"\"\n",
    "        conditions = [[t_min, p_min]]\n",
    "        if t_min != t_max:\n",
    "            conditions.append([t_max, p_min])\n",
    "        if self.kinetics.is_pressure_dependent() and p_max != p_min:\n",
    "            conditions.append([t_min, p_max])\n",
    "            if t_min != t_max:\n",
    "                conditions.append([t_max, p_max])\n",
    "        logging.debug(\"Checking whether reaction {0} violates the collision rate limit...\".format(self))\n",
    "        violator_list = []\n",
    "        kf_list = []\n",
    "        kr_list = []\n",
    "        collision_limit_f = []\n",
    "        collision_limit_r = []\n",
    "        for condition in conditions:\n",
    "            if len(self.reactants) >= 2:\n",
    "                try:\n",
    "                    collision_limit_f.append(self.calculate_coll_limit(temp=condition[0], reverse=False))\n",
    "                except ValueError:\n",
    "                    continue\n",
    "                else:\n",
    "                    kf_list.append(self.get_rate_coefficient(condition[0], condition[1]))\n",
    "            if len(self.products) >= 2:\n",
    "                try:\n",
    "                    collision_limit_r.append(self.calculate_coll_limit(temp=condition[0], reverse=True))\n",
    "                except ValueError:\n",
    "                    continue\n",
    "                else:\n",
    "                    kr_list.append(self.generate_reverse_rate_coefficient().get_rate_coefficient(condition[0], condition[1]))\n",
    "        if len(self.reactants) >= 2:\n",
    "            for i, k in enumerate(kf_list):\n",
    "                if k > collision_limit_f[i]:\n",
    "                    ratio = k / collision_limit_f[i]\n",
    "                    condition = '{0} K, {1:.1f} bar'.format(conditions[i][0], conditions[i][1] / 1e5)\n",
    "                    violator_list.append([self, 'forward', ratio, condition])\n",
    "        if len(self.products) >= 2:\n",
    "            for i, k in enumerate(kr_list):\n",
    "                if k > collision_limit_r[i]:\n",
    "                    ratio = k / collision_limit_r[i]\n",
    "                    condition = '{0} K, {1:.1f} bar'.format(conditions[i][0], conditions[i][1] / 1e5)\n",
    "                    violator_list.append([self, 'reverse', ratio, condition])\n",
    "        return violator_list"
   ]
  },
  {
   "cell_type": "code",
   "execution_count": 7,
   "metadata": {},
   "outputs": [
    {
     "data": {
      "text/plain": [
       "numpy.linalg.linalg.LinAlgError"
      ]
     },
     "execution_count": 7,
     "metadata": {},
     "output_type": "execute_result"
    }
   ],
   "source": [
    "import numpy as np\n",
    "np.linalg.LinAlgError"
   ]
  },
  {
   "cell_type": "code",
   "execution_count": 21,
   "metadata": {},
   "outputs": [
    {
     "name": "stdout",
     "output_type": "stream",
     "text": [
      "H(14) + HO2(17) <=> H2O2(18)\n",
      "CH3(21) <=> H2(13) + CH(3)\n",
      "CH3(21) <=> H(14) + CH2(22)\n",
      "CH2(22) <=> H(14) + CH(3)\n",
      "CH2(22) <=> H2(13) + C(32)\n",
      "C2H2(33) <=> H(14) + C2H(4)\n",
      "C2O(53) <=> C(32) + CO(6)\n",
      "HO2(17) + C2H5O3(56) => O2(2) + CH2OH(25) + CH2OOH(35)\n",
      "CH2O(9) + C2H5O3(56) => HCO(20) + CH2OH(25) + CH2OOH(35)\n",
      "CH3CO(57) + C2H5(30) <=> C2H4(11) + CH3CHO(37)\n",
      "CH3CO(57) + S(1405) <=> CH3CHO(37) + S(1154)\n",
      "CH3CO(57) + C6H13(758) <=> CH3CHO(37) + C6H12(749)\n",
      "HO2(17) + C4H6O(271) => H2O2(18) + CH2CO(29) + C2H3(31)\n",
      "CH3OO(28) + C4H6O(271) => CH3OOH(34) + CH2CO(29) + C2H3(31)\n",
      "CH3O(26) + CH3CO(57) <=> CH2O(9) + CH3CHO(37)\n",
      "HOCO(19) + C2H5(30) <=> HOCHO(59) + C2H4(11)\n",
      "HOCO(19) + S(1405) <=> HOCHO(59) + S(1154)\n",
      "HOCO(19) + C6H13(758) <=> HOCHO(59) + C6H12(749)\n",
      "CH3CO(57) + CH3CO(57) <=> CH2CO(29) + CH3CHO(37)\n",
      "CH3CO(57) + C2H5O(55) <=> C2H4O(42) + CH3CHO(37)\n",
      "HOCO(19) + CH3O(26) <=> CH2O(9) + HOCHO(59)\n",
      "OCHCO(61) + C2H5(30) <=> OCHCHO(48) + C2H4(11)\n",
      "OCHCO(61) + S(1405) <=> OCHCHO(48) + S(1154)\n",
      "OCHCO(61) + C6H13(758) <=> OCHCHO(48) + C6H12(749)\n",
      "HCO(20) + CH3CO(57) <=> CH2O(9) + CH2CO(29)\n",
      "HOCO(19) + CH3CO(57) <=> HOCHO(59) + CH2CO(29)\n",
      "HOCO(19) + C2H5O(55) <=> HOCHO(59) + C2H4O(42)\n",
      "CH3O(26) + OCHCO(61) <=> CH2O(9) + OCHCHO(48)\n",
      "OCHCO(61) + CH3CO(57) <=> CH2CO(29) + OCHCHO(48)\n",
      "OCHCO(61) + C2H5O(55) <=> OCHCHO(48) + C2H4O(42)\n",
      "CH3CO(57) + C2H5O2(63) <=> CH3CHO(37) + C2H4O2(64)\n",
      "HOCO(19) + C2H5O2(63) <=> HOCHO(59) + C2H4O2(64)\n"
     ]
    }
   ],
   "source": [
    "violators = []\n",
    "for r in reactions:\n",
    "    try:\n",
    "        v = check_collision_limit_violation(r, 500,1000, 1e5, 30e5)\n",
    "    except np.linalg.LinAlgError:\n",
    "        print(f\"LinAlgError checking {r}\")\n",
    "    if v:\n",
    "        print(r)\n",
    "        violators.extend(v)"
   ]
  },
  {
   "cell_type": "code",
   "execution_count": 22,
   "metadata": {},
   "outputs": [],
   "source": [
    "from rmgpy.data.kinetics import TemplateReaction, LibraryReaction\n",
    "from rmgpy.rmg.pdep import PDepReaction"
   ]
  },
  {
   "cell_type": "code",
   "execution_count": 23,
   "metadata": {},
   "outputs": [],
   "source": [
    "violators.sort(key = lambda violator: -violator[2])"
   ]
  },
  {
   "cell_type": "code",
   "execution_count": 24,
   "metadata": {},
   "outputs": [
    {
     "data": {
      "text/plain": [
       "Text(0.5, 0, 'reaction index (of 2993 total)')"
      ]
     },
     "execution_count": 24,
     "metadata": {},
     "output_type": "execute_result"
    },
    {
     "data": {
      "image/png": "[encoded data removed]",
      "text/plain": [
       "<Figure size 432x288 with 1 Axes>"
      ]
     },
     "metadata": {
      "needs_background": "light"
     },
     "output_type": "display_data"
    }
   ],
   "source": [
    "ratios = [np.log10(violator[2]) for violator in violators]\n",
    "from matplotlib import pyplot as plt\n",
    "plt.bar(np.arange(len(ratios)), ratios)\n",
    "plt.ylabel(\"orders of magnitude above collision limit\")\n",
    "plt.xlabel(f\"reaction index (of {len(reactions)} total)\")"
   ]
  },
  {
   "cell_type": "code",
   "execution_count": 25,
   "metadata": {},
   "outputs": [
    {
     "data": {
      "text/plain": [
       "(64, 2993)"
      ]
     },
     "execution_count": 25,
     "metadata": {},
     "output_type": "execute_result"
    }
   ],
   "source": [
    "len(ratios), len(reactions)"
   ]
  },
  {
   "cell_type": "code",
   "execution_count": 26,
   "metadata": {},
   "outputs": [
    {
     "name": "stdout",
     "output_type": "stream",
     "text": [
      "CH2O(9) + C2H5O3(56) => HCO(20) + CH2OH(25) + CH2OOH(35)  2e+18\n",
      "CH3(21) <= H(14) + CH2(22)                        1e+08\n",
      "HO2(17) + C2H5O3(56) => O2(2) + CH2OH(25) + CH2OOH(35)  9e+07\n",
      "CH3(21) <= H2(13) + CH(3)                         6e+07\n",
      "CH3(21) <= H(14) + CH2(22)                        5e+06\n",
      "CH3(21) <= H2(13) + CH(3)                         2e+06\n",
      "CH3OO(28) + C4H6O(271) => CH3OOH(34) + CH2CO(29) + C2H3(31)  5e+03\n",
      "C2H2(33) <= H(14) + C2H(4)                        4e+03\n",
      "CH2(22) <= H(14) + CH(3)                          3e+02\n",
      "HO2(17) + C4H6O(271) => H2O2(18) + CH2CO(29) + C2H3(31)  3e+02\n",
      "C2H2(33) <= H(14) + C2H(4)                        1e+02\n",
      "CH2O(9) + C2H5O3(56) => HCO(20) + CH2OH(25) + CH2OOH(35)  1e+02\n",
      "CH3(21) <= H(14) + CH2(22)                        5e+01\n",
      "CH3(21) <= H2(13) + CH(3)                         4e+01\n",
      "CH2(22) <= H(14) + CH(3)                          1e+01\n",
      "C2O(53) <= C(32) + CO(6)                          8\n",
      "C2H2(33) <= H(14) + C2H(4)                        7\n",
      "CH2(22) <= H2(13) + C(32)                         3\n",
      "H(14) + HO2(17) => H2O2(18)                       3\n",
      "H(14) + HO2(17) => H2O2(18)                       2\n",
      "HOCO(19) + C2H5O2(63) => HOCHO(59) + C2H4O2(64)   2\n",
      "HOCO(19) + C2H5O2(63) => HOCHO(59) + C2H4O2(64)   2\n",
      "CH3CO(57) + C2H5O2(63) => CH3CHO(37) + C2H4O2(64)  2\n",
      "HOCO(19) + CH3CO(57) => HOCHO(59) + CH2CO(29)     2\n",
      "HOCO(19) + CH3O(26) => CH2O(9) + HOCHO(59)        2\n",
      "OCHCO(61) + CH3CO(57) => CH2CO(29) + OCHCHO(48)   2\n",
      "CH3O(26) + OCHCO(61) => CH2O(9) + OCHCHO(48)      2\n",
      "HOCO(19) + CH3CO(57) => HOCHO(59) + CH2CO(29)     2\n",
      "HOCO(19) + CH3O(26) => CH2O(9) + HOCHO(59)        2\n",
      "CH3CO(57) + C2H5O2(63) => CH3CHO(37) + C2H4O2(64)  2\n",
      "HOCO(19) + C2H5(30) => HOCHO(59) + C2H4(11)       2\n",
      "CH3CO(57) + CH3CO(57) => CH2CO(29) + CH3CHO(37)   2\n",
      "CH3O(26) + CH3CO(57) => CH2O(9) + CH3CHO(37)      2\n",
      "CH3(21) <= H(14) + CH2(22)                        2\n",
      "HOCO(19) + C2H5O(55) => HOCHO(59) + C2H4O(42)     2\n",
      "OCHCO(61) + CH3CO(57) => CH2CO(29) + OCHCHO(48)   2\n",
      "OCHCO(61) + C2H5(30) => OCHCHO(48) + C2H4(11)     2\n",
      "OCHCO(61) + C2H5O(55) => OCHCHO(48) + C2H4O(42)   2\n",
      "CH3O(26) + OCHCO(61) => CH2O(9) + OCHCHO(48)      2\n",
      "HCO(20) + CH3CO(57) => CH2O(9) + CH2CO(29)        2\n",
      "CH3CO(57) + C2H5(30) => C2H4(11) + CH3CHO(37)     2\n",
      "CH3CO(57) + CH3CO(57) => CH2CO(29) + CH3CHO(37)   2\n",
      "CH3O(26) + CH3CO(57) => CH2O(9) + CH3CHO(37)      2\n",
      "CH3CO(57) + C2H5O(55) => C2H4O(42) + CH3CHO(37)   2\n",
      "HOCO(19) + C2H5O(55) => HOCHO(59) + C2H4O(42)     2\n",
      "HOCO(19) + C2H5(30) => HOCHO(59) + C2H4(11)       2\n",
      "HCO(20) + CH3CO(57) => CH2O(9) + CH2CO(29)        2\n",
      "OCHCO(61) + C2H5O(55) => OCHCHO(48) + C2H4O(42)   2\n",
      "OCHCO(61) + C2H5(30) => OCHCHO(48) + C2H4(11)     2\n",
      "CH3CO(57) + C2H5O(55) => C2H4O(42) + CH3CHO(37)   1\n",
      "CH3CO(57) + C2H5(30) => C2H4(11) + CH3CHO(37)     1\n",
      "OCHCO(61) + C6H13(758) => OCHCHO(48) + C6H12(749)  1\n",
      "HOCO(19) + C6H13(758) => HOCHO(59) + C6H12(749)   1\n",
      "OCHCO(61) + S(1405) => OCHCHO(48) + S(1154)       1\n",
      "HOCO(19) + S(1405) => HOCHO(59) + S(1154)         1\n",
      "CH3(21) <= H2(13) + CH(3)                         1\n",
      "OCHCO(61) + C6H13(758) => OCHCHO(48) + C6H12(749)  1\n",
      "CH3CO(57) + C6H13(758) => CH3CHO(37) + C6H12(749)  1\n",
      "HOCO(19) + C6H13(758) => HOCHO(59) + C6H12(749)   1\n",
      "OCHCO(61) + S(1405) => OCHCHO(48) + S(1154)       1\n",
      "CH3CO(57) + S(1405) => CH3CHO(37) + S(1154)       1\n",
      "HOCO(19) + S(1405) => HOCHO(59) + S(1154)         1\n",
      "CH3CO(57) + C6H13(758) => CH3CHO(37) + C6H12(749)  1\n",
      "CH3CO(57) + S(1405) => CH3CHO(37) + S(1154)       1\n"
     ]
    }
   ],
   "source": [
    "for violator in violators[:100]:\n",
    "    rxn_string = str(violator[0])\n",
    "    direction = {'forward':'=>','reverse':'<='}[violator[1]]\n",
    "    ratio = violator[2]\n",
    "    print(f\"{rxn_string.replace('<=>',direction) :48s}  {ratio :.1g}\")"
   ]
  },
  {
   "cell_type": "code",
   "execution_count": 27,
   "metadata": {},
   "outputs": [],
   "source": [
    "from collections import Counter\n",
    "import re"
   ]
  },
  {
   "cell_type": "code",
   "execution_count": null,
   "metadata": {},
   "outputs": [],
   "source": []
  },
  {
   "cell_type": "code",
   "execution_count": 28,
   "metadata": {
    "scrolled": true
   },
   "outputs": [
    {
     "data": {
      "image/png": "[encoded data removed]",
      "text/plain": [
       "LibraryReaction(index=583, reactants=[Species(index=9, label=\"CH2O\", thermo=NASA(polynomials=[NASAPolynomial(coeffs=[4.79372,-0.00990833,3.7322e-05,-3.79285e-08,1.31773e-11,-14379.2,0.602798], Tmin=(200,'K'), Tmax=(1000,'K')), NASAPolynomial(coeffs=[3.16953,0.00619321,-2.25056e-06,3.65976e-10,-2.20149e-14,-14548.7,6.04208], Tmin=(1000,'K'), Tmax=(6000,'K'))], Tmin=(200,'K'), Tmax=(6000,'K'), comment=\"\"\"Thermo library: Klippenstein_Glarborg2016\"\"\"), molecule=[Molecule(smiles=\"C=O\")], transport_data=TransportData(shapeIndex=2, epsilon=(4140.61,'J/mol'), sigma=(3.59,'angstrom'), dipoleMoment=(0,'De'), polarizability=(0,'angstrom^3'), rotrelaxcollnum=2.0, comment=\"\"\"NOx2018\"\"\"), molecular_weight=(30.026,'amu')), Species(index=56, label=\"C2H5O3\", thermo=NASA(polynomials=[NASAPolynomial(coeffs=[0.556418,0.0412519,-3.10647e-05,1.2293e-08,-1.99691e-12,-22047.4,24.9983], Tmin=(298,'K'), Tmax=(800,'K')), NASAPolynomial(coeffs=[0.556418,0.0412519,-3.10647e-05,1.2293e-08,-1.99691e-12,-22047.4,24.9983], Tmin=(800,'K'), Tmax=(2500,'K'))], Tmin=(298,'K'), Tmax=(2500,'K'), comment=\"\"\"Thermo library: Klippenstein_Glarborg2016\"\"\"), molecule=[Molecule(smiles=\"[O]OCCO\")], transport_data=TransportData(shapeIndex=2, epsilon=(3284.22,'J/mol'), sigma=(4.037,'angstrom'), dipoleMoment=(1.3,'De'), polarizability=(0,'angstrom^3'), rotrelaxcollnum=1.0, comment=\"\"\"NOx2018\"\"\"), molecular_weight=(77.0593,'amu'))], products=[Species(index=20, label=\"HCO\", thermo=NASA(polynomials=[NASAPolynomial(coeffs=[4.23755,-0.00332075,1.4003e-05,-1.3424e-08,4.37416e-12,3872.41,3.30835], Tmin=(200,'K'), Tmax=(1000,'K')), NASAPolynomial(coeffs=[3.92002,0.00252279,-6.71004e-07,1.05616e-10,-7.43798e-15,3653.43,3.58077], Tmin=(1000,'K'), Tmax=(6000,'K'))], Tmin=(200,'K'), Tmax=(6000,'K'), comment=\"\"\"Thermo library: Klippenstein_Glarborg2016\"\"\"), molecule=[Molecule(smiles=\"[CH]=O\")], transport_data=TransportData(shapeIndex=2, epsilon=(4140.61,'J/mol'), sigma=(3.59,'angstrom'), dipoleMoment=(0,'De'), polarizability=(0,'angstrom^3'), rotrelaxcollnum=0.0, comment=\"\"\"NOx2018\"\"\"), molecular_weight=(29.018,'amu')), Species(index=25, label=\"CH2OH\", thermo=NASA(polynomials=[NASAPolynomial(coeffs=[4.47834,-0.0013507,2.78485e-05,-3.64869e-08,1.47907e-11,-3500.73,3.30913], Tmin=(200,'K'), Tmax=(1000,'K')), NASAPolynomial(coeffs=[5.09314,0.00594761,-2.06497e-06,3.23008e-10,-1.88126e-14,-4034.1,-1.84691], Tmin=(1000,'K'), Tmax=(6000,'K'))], Tmin=(200,'K'), Tmax=(6000,'K'), comment=\"\"\"Thermo library: Klippenstein_Glarborg2016\"\"\"), molecule=[Molecule(smiles=\"[CH2]O\")], transport_data=TransportData(shapeIndex=2, epsilon=(3467.13,'J/mol'), sigma=(3.69,'angstrom'), dipoleMoment=(1.7,'De'), polarizability=(0,'angstrom^3'), rotrelaxcollnum=2.0, comment=\"\"\"NOx2018\"\"\"), molecular_weight=(31.0339,'amu')), Species(index=35, label=\"CH2OOH\", thermo=NASA(polynomials=[NASAPolynomial(coeffs=[5.83127,-0.00351771,4.54551e-05,-5.66903e-08,2.21633e-11,6061.87,-0.579143], Tmin=(200,'K'), Tmax=(1000,'K')), NASAPolynomial(coeffs=[6.98746,0.00900484,-3.24367e-06,5.24325e-10,-3.13587e-14,5012.58,-10.2619], Tmin=(1000,'K'), Tmax=(2500,'K'))], Tmin=(200,'K'), Tmax=(2500,'K'), comment=\"\"\"Thermo library: Klippenstein_Glarborg2016\"\"\"), molecule=[Molecule(smiles=\"[CH2]OO\")], transport_data=TransportData(shapeIndex=2, epsilon=(3467.13,'J/mol'), sigma=(3.69,'angstrom'), dipoleMoment=(1.7,'De'), polarizability=(0,'angstrom^3'), rotrelaxcollnum=2.0, comment=\"\"\"NOx2018\"\"\"), molecular_weight=(47.0333,'amu'))], kinetics=Arrhenius(A=(41000,'cm^3/(mol*s)'), n=2.5, Ea=(10.206,'kcal/mol'), T0=(1,'K')), reversible=False, pairs=[(Species(index=56, label=\"C2H5O3\", thermo=NASA(polynomials=[NASAPolynomial(coeffs=[0.556418,0.0412519,-3.10647e-05,1.2293e-08,-1.99691e-12,-22047.4,24.9983], Tmin=(298,'K'), Tmax=(800,'K')), NASAPolynomial(coeffs=[0.556418,0.0412519,-3.10647e-05,1.2293e-08,-1.99691e-12,-22047.4,24.9983], Tmin=(800,'K'), Tmax=(2500,'K'))], Tmin=(298,'K'), Tmax=(2500,'K'), comment=\"\"\"Thermo library: Klippenstein_Glarborg2016\"\"\"), molecule=[Molecule(smiles=\"[O]OCCO\")], transport_data=TransportData(shapeIndex=2, epsilon=(3284.22,'J/mol'), sigma=(4.037,'angstrom'), dipoleMoment=(1.3,'De'), polarizability=(0,'angstrom^3'), rotrelaxcollnum=1.0, comment=\"\"\"NOx2018\"\"\"), molecular_weight=(77.0593,'amu')), Species(index=35, label=\"CH2OOH\", thermo=NASA(polynomials=[NASAPolynomial(coeffs=[5.83127,-0.00351771,4.54551e-05,-5.66903e-08,2.21633e-11,6061.87,-0.579143], Tmin=(200,'K'), Tmax=(1000,'K')), NASAPolynomial(coeffs=[6.98746,0.00900484,-3.24367e-06,5.24325e-10,-3.13587e-14,5012.58,-10.2619], Tmin=(1000,'K'), Tmax=(2500,'K'))], Tmin=(200,'K'), Tmax=(2500,'K'), comment=\"\"\"Thermo library: Klippenstein_Glarborg2016\"\"\"), molecule=[Molecule(smiles=\"[CH2]OO\")], transport_data=TransportData(shapeIndex=2, epsilon=(3467.13,'J/mol'), sigma=(3.69,'angstrom'), dipoleMoment=(1.7,'De'), polarizability=(0,'angstrom^3'), rotrelaxcollnum=2.0, comment=\"\"\"NOx2018\"\"\"), molecular_weight=(47.0333,'amu'))), (Species(index=9, label=\"CH2O\", thermo=NASA(polynomials=[NASAPolynomial(coeffs=[4.79372,-0.00990833,3.7322e-05,-3.79285e-08,1.31773e-11,-14379.2,0.602798], Tmin=(200,'K'), Tmax=(1000,'K')), NASAPolynomial(coeffs=[3.16953,0.00619321,-2.25056e-06,3.65976e-10,-2.20149e-14,-14548.7,6.04208], Tmin=(1000,'K'), Tmax=(6000,'K'))], Tmin=(200,'K'), Tmax=(6000,'K'), comment=\"\"\"Thermo library: Klippenstein_Glarborg2016\"\"\"), molecule=[Molecule(smiles=\"C=O\")], transport_data=TransportData(shapeIndex=2, epsilon=(4140.61,'J/mol'), sigma=(3.59,'angstrom'), dipoleMoment=(0,'De'), polarizability=(0,'angstrom^3'), rotrelaxcollnum=2.0, comment=\"\"\"NOx2018\"\"\"), molecular_weight=(30.026,'amu')), Species(index=20, label=\"HCO\", thermo=NASA(polynomials=[NASAPolynomial(coeffs=[4.23755,-0.00332075,1.4003e-05,-1.3424e-08,4.37416e-12,3872.41,3.30835], Tmin=(200,'K'), Tmax=(1000,'K')), NASAPolynomial(coeffs=[3.92002,0.00252279,-6.71004e-07,1.05616e-10,-7.43798e-15,3653.43,3.58077], Tmin=(1000,'K'), Tmax=(6000,'K'))], Tmin=(200,'K'), Tmax=(6000,'K'), comment=\"\"\"Thermo library: Klippenstein_Glarborg2016\"\"\"), molecule=[Molecule(smiles=\"[CH]=O\")], transport_data=TransportData(shapeIndex=2, epsilon=(4140.61,'J/mol'), sigma=(3.59,'angstrom'), dipoleMoment=(0,'De'), polarizability=(0,'angstrom^3'), rotrelaxcollnum=0.0, comment=\"\"\"NOx2018\"\"\"), molecular_weight=(29.018,'amu'))), (Species(index=9, label=\"CH2O\", thermo=NASA(polynomials=[NASAPolynomial(coeffs=[4.79372,-0.00990833,3.7322e-05,-3.79285e-08,1.31773e-11,-14379.2,0.602798], Tmin=(200,'K'), Tmax=(1000,'K')), NASAPolynomial(coeffs=[3.16953,0.00619321,-2.25056e-06,3.65976e-10,-2.20149e-14,-14548.7,6.04208], Tmin=(1000,'K'), Tmax=(6000,'K'))], Tmin=(200,'K'), Tmax=(6000,'K'), comment=\"\"\"Thermo library: Klippenstein_Glarborg2016\"\"\"), molecule=[Molecule(smiles=\"C=O\")], transport_data=TransportData(shapeIndex=2, epsilon=(4140.61,'J/mol'), sigma=(3.59,'angstrom'), dipoleMoment=(0,'De'), polarizability=(0,'angstrom^3'), rotrelaxcollnum=2.0, comment=\"\"\"NOx2018\"\"\"), molecular_weight=(30.026,'amu')), Species(index=25, label=\"CH2OH\", thermo=NASA(polynomials=[NASAPolynomial(coeffs=[4.47834,-0.0013507,2.78485e-05,-3.64869e-08,1.47907e-11,-3500.73,3.30913], Tmin=(200,'K'), Tmax=(1000,'K')), NASAPolynomial(coeffs=[5.09314,0.00594761,-2.06497e-06,3.23008e-10,-1.88126e-14,-4034.1,-1.84691], Tmin=(1000,'K'), Tmax=(6000,'K'))], Tmin=(200,'K'), Tmax=(6000,'K'), comment=\"\"\"Thermo library: Klippenstein_Glarborg2016\"\"\"), molecule=[Molecule(smiles=\"[CH2]O\")], transport_data=TransportData(shapeIndex=2, epsilon=(3467.13,'J/mol'), sigma=(3.69,'angstrom'), dipoleMoment=(1.7,'De'), polarizability=(0,'angstrom^3'), rotrelaxcollnum=2.0, comment=\"\"\"NOx2018\"\"\"), molecular_weight=(31.0339,'amu')))])"
      ]
     },
     "metadata": {},
     "output_type": "display_data"
    },
    {
     "name": "stdout",
     "output_type": "stream",
     "text": [
      "CH2O(9) + C2H5O3(56) => HCO(20) + CH2OH(25) + CH2OOH(35)\n",
      "Arrhenius(A=(41000,'cm^3/(mol*s)'), n=2.5, Ea=(10.206,'kcal/mol'), T0=(1,'K'))\n",
      "Kinetic library: Klippenstein_Glarborg2016\n",
      "Direction: reverse\n",
      "Violation factor: 1.8e+18\n",
      "Violation condition: 500 K, 1.0 bar\n",
      "\n",
      "\n"
     ]
    },
    {
     "data": {
      "image/png": "[encoded data removed]",
      "text/plain": [
       "LibraryReaction(index=78, reactants=[Species(index=21, label=\"CH3\", thermo=NASA(polynomials=[NASAPolynomial(coeffs=[3.65718,0.0021266,5.45839e-06,-6.6181e-09,2.46571e-12,16422.7,1.67354], Tmin=(200,'K'), Tmax=(1000,'K')), NASAPolynomial(coeffs=[2.97812,0.00579785,-1.97558e-06,3.07298e-10,-1.79174e-14,16509.5,4.72248], Tmin=(1000,'K'), Tmax=(6000,'K'))], Tmin=(200,'K'), Tmax=(6000,'K'), comment=\"\"\"Thermo library: Klippenstein_Glarborg2016\"\"\"), molecule=[Molecule(smiles=\"[CH3]\")], transport_data=TransportData(shapeIndex=2, epsilon=(1197.28,'J/mol'), sigma=(3.8,'angstrom'), dipoleMoment=(0,'De'), polarizability=(0,'angstrom^3'), rotrelaxcollnum=0.0, comment=\"\"\"NOx2018\"\"\"), molecular_weight=(15.0345,'amu'))], products=[Species(index=14, label=\"H\", thermo=NASA(polynomials=[NASAPolynomial(coeffs=[2.5,-2.38914e-13,3.12709e-16,-1.33367e-19,1.7499e-23,25472.7,-0.459566], Tmin=(100,'K'), Tmax=(4383.16,'K')), NASAPolynomial(coeffs=[2.50003,-3.04997e-08,1.01101e-11,-1.48797e-15,8.20356e-20,25472.7,-0.459785], Tmin=(4383.16,'K'), Tmax=(5000,'K'))], Tmin=(100,'K'), Tmax=(5000,'K'), comment=\"\"\"Thermo library: BurkeH2O2\"\"\"), molecule=[Molecule(smiles=\"[H]\")], transport_data=TransportData(shapeIndex=0, epsilon=(1205.6,'J/mol'), sigma=(2.05,'angstrom'), dipoleMoment=(0,'De'), polarizability=(0,'angstrom^3'), rotrelaxcollnum=0.0, comment=\"\"\"NOx2018\"\"\"), molecular_weight=(1.00794,'amu')), Species(index=22, label=\"CH2\", thermo=NASA(polynomials=[NASAPolynomial(coeffs=[3.8328,0.000224446,4.68033e-06,-6.04743e-09,2.59009e-12,45920.8,1.40666], Tmin=(200,'K'), Tmax=(1000,'K')), NASAPolynomial(coeffs=[3.16229,0.00281798,-7.56235e-07,5.05446e-11,5.65236e-15,46099.1,4.77656], Tmin=(1000,'K'), Tmax=(3000,'K'))], Tmin=(200,'K'), Tmax=(3000,'K'), comment=\"\"\"Thermo library: Klippenstein_Glarborg2016\"\"\"), molecule=[Molecule(smiles=\"[CH2]\")], transport_data=TransportData(shapeIndex=2, epsilon=(1197.28,'J/mol'), sigma=(3.8,'angstrom'), dipoleMoment=(0,'De'), polarizability=(0,'angstrom^3'), rotrelaxcollnum=0.0, comment=\"\"\"NOx2018\"\"\"), molecular_weight=(14.0266,'amu'))], kinetics=ThirdBody(arrheniusLow=Arrhenius(A=(2.2e+15,'cm^3/(mol*s)'), n=0, Ea=(82.659,'kcal/mol'), T0=(1,'K')), efficiencies={}), pairs=[(Species(index=21, label=\"CH3\", thermo=NASA(polynomials=[NASAPolynomial(coeffs=[3.65718,0.0021266,5.45839e-06,-6.6181e-09,2.46571e-12,16422.7,1.67354], Tmin=(200,'K'), Tmax=(1000,'K')), NASAPolynomial(coeffs=[2.97812,0.00579785,-1.97558e-06,3.07298e-10,-1.79174e-14,16509.5,4.72248], Tmin=(1000,'K'), Tmax=(6000,'K'))], Tmin=(200,'K'), Tmax=(6000,'K'), comment=\"\"\"Thermo library: Klippenstein_Glarborg2016\"\"\"), molecule=[Molecule(smiles=\"[CH3]\")], transport_data=TransportData(shapeIndex=2, epsilon=(1197.28,'J/mol'), sigma=(3.8,'angstrom'), dipoleMoment=(0,'De'), polarizability=(0,'angstrom^3'), rotrelaxcollnum=0.0, comment=\"\"\"NOx2018\"\"\"), molecular_weight=(15.0345,'amu')), Species(index=14, label=\"H\", thermo=NASA(polynomials=[NASAPolynomial(coeffs=[2.5,-2.38914e-13,3.12709e-16,-1.33367e-19,1.7499e-23,25472.7,-0.459566], Tmin=(100,'K'), Tmax=(4383.16,'K')), NASAPolynomial(coeffs=[2.50003,-3.04997e-08,1.01101e-11,-1.48797e-15,8.20356e-20,25472.7,-0.459785], Tmin=(4383.16,'K'), Tmax=(5000,'K'))], Tmin=(100,'K'), Tmax=(5000,'K'), comment=\"\"\"Thermo library: BurkeH2O2\"\"\"), molecule=[Molecule(smiles=\"[H]\")], transport_data=TransportData(shapeIndex=0, epsilon=(1205.6,'J/mol'), sigma=(2.05,'angstrom'), dipoleMoment=(0,'De'), polarizability=(0,'angstrom^3'), rotrelaxcollnum=0.0, comment=\"\"\"NOx2018\"\"\"), molecular_weight=(1.00794,'amu'))), (Species(index=21, label=\"CH3\", thermo=NASA(polynomials=[NASAPolynomial(coeffs=[3.65718,0.0021266,5.45839e-06,-6.6181e-09,2.46571e-12,16422.7,1.67354], Tmin=(200,'K'), Tmax=(1000,'K')), NASAPolynomial(coeffs=[2.97812,0.00579785,-1.97558e-06,3.07298e-10,-1.79174e-14,16509.5,4.72248], Tmin=(1000,'K'), Tmax=(6000,'K'))], Tmin=(200,'K'), Tmax=(6000,'K'), comment=\"\"\"Thermo library: Klippenstein_Glarborg2016\"\"\"), molecule=[Molecule(smiles=\"[CH3]\")], transport_data=TransportData(shapeIndex=2, epsilon=(1197.28,'J/mol'), sigma=(3.8,'angstrom'), dipoleMoment=(0,'De'), polarizability=(0,'angstrom^3'), rotrelaxcollnum=0.0, comment=\"\"\"NOx2018\"\"\"), molecular_weight=(15.0345,'amu')), Species(index=22, label=\"CH2\", thermo=NASA(polynomials=[NASAPolynomial(coeffs=[3.8328,0.000224446,4.68033e-06,-6.04743e-09,2.59009e-12,45920.8,1.40666], Tmin=(200,'K'), Tmax=(1000,'K')), NASAPolynomial(coeffs=[3.16229,0.00281798,-7.56235e-07,5.05446e-11,5.65236e-15,46099.1,4.77656], Tmin=(1000,'K'), Tmax=(3000,'K'))], Tmin=(200,'K'), Tmax=(3000,'K'), comment=\"\"\"Thermo library: Klippenstein_Glarborg2016\"\"\"), molecule=[Molecule(smiles=\"[CH2]\")], transport_data=TransportData(shapeIndex=2, epsilon=(1197.28,'J/mol'), sigma=(3.8,'angstrom'), dipoleMoment=(0,'De'), polarizability=(0,'angstrom^3'), rotrelaxcollnum=0.0, comment=\"\"\"NOx2018\"\"\"), molecular_weight=(14.0266,'amu')))])"
      ]
     },
     "metadata": {},
     "output_type": "display_data"
    },
    {
     "name": "stdout",
     "output_type": "stream",
     "text": [
      "CH3(21) <=> H(14) + CH2(22)\n",
      "ThirdBody(arrheniusLow=Arrhenius(A=(2.2e+15,'cm^3/(mol*s)'), n=0, Ea=(82.659,'kcal/mol'), T0=(1,'K')), efficiencies={})\n",
      "Kinetic library: Klippenstein_Glarborg2016\n",
      "Direction: reverse\n",
      "Violation factor: 1.5e+08\n",
      "Violation condition: 500 K, 30.0 bar\n",
      "\n",
      "\n"
     ]
    },
    {
     "data": {
      "image/png": "[encoded data removed]",
      "text/plain": [
       "LibraryReaction(index=582, reactants=[Species(index=17, label=\"HO2\", thermo=NASA(polynomials=[NASAPolynomial(coeffs=[4.02957,-0.00263999,1.52235e-05,-1.71679e-08,6.26771e-12,322.677,4.84424], Tmin=(100,'K'), Tmax=(923.9,'K')), NASAPolynomial(coeffs=[4.1513,0.00191152,-4.11308e-07,6.35038e-11,-4.86452e-15,83.4341,3.09359], Tmin=(923.9,'K'), Tmax=(5000,'K'))], Tmin=(100,'K'), Tmax=(5000,'K'), comment=\"\"\"Thermo library: BurkeH2O2\"\"\"), molecule=[Molecule(smiles=\"[O]O\")], transport_data=TransportData(shapeIndex=2, epsilon=(892.974,'J/mol'), sigma=(3.458,'angstrom'), dipoleMoment=(0,'De'), polarizability=(0,'angstrom^3'), rotrelaxcollnum=1.0, comment=\"\"\"NOx2018\"\"\"), molecular_weight=(33.0067,'amu')), Species(index=56, label=\"C2H5O3\", thermo=NASA(polynomials=[NASAPolynomial(coeffs=[0.556418,0.0412519,-3.10647e-05,1.2293e-08,-1.99691e-12,-22047.4,24.9983], Tmin=(298,'K'), Tmax=(800,'K')), NASAPolynomial(coeffs=[0.556418,0.0412519,-3.10647e-05,1.2293e-08,-1.99691e-12,-22047.4,24.9983], Tmin=(800,'K'), Tmax=(2500,'K'))], Tmin=(298,'K'), Tmax=(2500,'K'), comment=\"\"\"Thermo library: Klippenstein_Glarborg2016\"\"\"), molecule=[Molecule(smiles=\"[O]OCCO\")], transport_data=TransportData(shapeIndex=2, epsilon=(3284.22,'J/mol'), sigma=(4.037,'angstrom'), dipoleMoment=(1.3,'De'), polarizability=(0,'angstrom^3'), rotrelaxcollnum=1.0, comment=\"\"\"NOx2018\"\"\"), molecular_weight=(77.0593,'amu'))], products=[Species(index=2, label=\"O2\", thermo=NASA(polynomials=[NASAPolynomial(coeffs=[3.53764,-0.00122827,5.36759e-06,-4.93128e-09,1.45955e-12,-1037.99,4.6718], Tmin=(100,'K'), Tmax=(1087.71,'K')), NASAPolynomial(coeffs=[3.16427,0.00169454,-8.00335e-07,1.5903e-10,-1.14891e-14,-1048.45,6.08303], Tmin=(1087.71,'K'), Tmax=(5000,'K'))], Tmin=(100,'K'), Tmax=(5000,'K'), comment=\"\"\"Thermo library: BurkeH2O2\"\"\"), molecule=[Molecule(smiles=\"[O][O]\")], transport_data=TransportData(shapeIndex=1, epsilon=(887.154,'J/mol'), sigma=(3.467,'angstrom'), dipoleMoment=(0,'De'), polarizability=(0,'angstrom^3'), rotrelaxcollnum=0.0, comment=\"\"\"PrimaryTransportLibrary\"\"\"), molecular_weight=(31.9988,'amu')), Species(index=25, label=\"CH2OH\", thermo=NASA(polynomials=[NASAPolynomial(coeffs=[4.47834,-0.0013507,2.78485e-05,-3.64869e-08,1.47907e-11,-3500.73,3.30913], Tmin=(200,'K'), Tmax=(1000,'K')), NASAPolynomial(coeffs=[5.09314,0.00594761,-2.06497e-06,3.23008e-10,-1.88126e-14,-4034.1,-1.84691], Tmin=(1000,'K'), Tmax=(6000,'K'))], Tmin=(200,'K'), Tmax=(6000,'K'), comment=\"\"\"Thermo library: Klippenstein_Glarborg2016\"\"\"), molecule=[Molecule(smiles=\"[CH2]O\")], transport_data=TransportData(shapeIndex=2, epsilon=(3467.13,'J/mol'), sigma=(3.69,'angstrom'), dipoleMoment=(1.7,'De'), polarizability=(0,'angstrom^3'), rotrelaxcollnum=2.0, comment=\"\"\"NOx2018\"\"\"), molecular_weight=(31.0339,'amu')), Species(index=35, label=\"CH2OOH\", thermo=NASA(polynomials=[NASAPolynomial(coeffs=[5.83127,-0.00351771,4.54551e-05,-5.66903e-08,2.21633e-11,6061.87,-0.579143], Tmin=(200,'K'), Tmax=(1000,'K')), NASAPolynomial(coeffs=[6.98746,0.00900484,-3.24367e-06,5.24325e-10,-3.13587e-14,5012.58,-10.2619], Tmin=(1000,'K'), Tmax=(2500,'K'))], Tmin=(200,'K'), Tmax=(2500,'K'), comment=\"\"\"Thermo library: Klippenstein_Glarborg2016\"\"\"), molecule=[Molecule(smiles=\"[CH2]OO\")], transport_data=TransportData(shapeIndex=2, epsilon=(3467.13,'J/mol'), sigma=(3.69,'angstrom'), dipoleMoment=(1.7,'De'), polarizability=(0,'angstrom^3'), rotrelaxcollnum=2.0, comment=\"\"\"NOx2018\"\"\"), molecular_weight=(47.0333,'amu'))], kinetics=Arrhenius(A=(2.5e+11,'cm^3/(mol*s)'), n=0, Ea=(-1.49,'kcal/mol'), T0=(1,'K')), reversible=False, pairs=[(Species(index=56, label=\"C2H5O3\", thermo=NASA(polynomials=[NASAPolynomial(coeffs=[0.556418,0.0412519,-3.10647e-05,1.2293e-08,-1.99691e-12,-22047.4,24.9983], Tmin=(298,'K'), Tmax=(800,'K')), NASAPolynomial(coeffs=[0.556418,0.0412519,-3.10647e-05,1.2293e-08,-1.99691e-12,-22047.4,24.9983], Tmin=(800,'K'), Tmax=(2500,'K'))], Tmin=(298,'K'), Tmax=(2500,'K'), comment=\"\"\"Thermo library: Klippenstein_Glarborg2016\"\"\"), molecule=[Molecule(smiles=\"[O]OCCO\")], transport_data=TransportData(shapeIndex=2, epsilon=(3284.22,'J/mol'), sigma=(4.037,'angstrom'), dipoleMoment=(1.3,'De'), polarizability=(0,'angstrom^3'), rotrelaxcollnum=1.0, comment=\"\"\"NOx2018\"\"\"), molecular_weight=(77.0593,'amu')), Species(index=35, label=\"CH2OOH\", thermo=NASA(polynomials=[NASAPolynomial(coeffs=[5.83127,-0.00351771,4.54551e-05,-5.66903e-08,2.21633e-11,6061.87,-0.579143], Tmin=(200,'K'), Tmax=(1000,'K')), NASAPolynomial(coeffs=[6.98746,0.00900484,-3.24367e-06,5.24325e-10,-3.13587e-14,5012.58,-10.2619], Tmin=(1000,'K'), Tmax=(2500,'K'))], Tmin=(200,'K'), Tmax=(2500,'K'), comment=\"\"\"Thermo library: Klippenstein_Glarborg2016\"\"\"), molecule=[Molecule(smiles=\"[CH2]OO\")], transport_data=TransportData(shapeIndex=2, epsilon=(3467.13,'J/mol'), sigma=(3.69,'angstrom'), dipoleMoment=(1.7,'De'), polarizability=(0,'angstrom^3'), rotrelaxcollnum=2.0, comment=\"\"\"NOx2018\"\"\"), molecular_weight=(47.0333,'amu'))), (Species(index=17, label=\"HO2\", thermo=NASA(polynomials=[NASAPolynomial(coeffs=[4.02957,-0.00263999,1.52235e-05,-1.71679e-08,6.26771e-12,322.677,4.84424], Tmin=(100,'K'), Tmax=(923.9,'K')), NASAPolynomial(coeffs=[4.1513,0.00191152,-4.11308e-07,6.35038e-11,-4.86452e-15,83.4341,3.09359], Tmin=(923.9,'K'), Tmax=(5000,'K'))], Tmin=(100,'K'), Tmax=(5000,'K'), comment=\"\"\"Thermo library: BurkeH2O2\"\"\"), molecule=[Molecule(smiles=\"[O]O\")], transport_data=TransportData(shapeIndex=2, epsilon=(892.974,'J/mol'), sigma=(3.458,'angstrom'), dipoleMoment=(0,'De'), polarizability=(0,'angstrom^3'), rotrelaxcollnum=1.0, comment=\"\"\"NOx2018\"\"\"), molecular_weight=(33.0067,'amu')), Species(index=2, label=\"O2\", thermo=NASA(polynomials=[NASAPolynomial(coeffs=[3.53764,-0.00122827,5.36759e-06,-4.93128e-09,1.45955e-12,-1037.99,4.6718], Tmin=(100,'K'), Tmax=(1087.71,'K')), NASAPolynomial(coeffs=[3.16427,0.00169454,-8.00335e-07,1.5903e-10,-1.14891e-14,-1048.45,6.08303], Tmin=(1087.71,'K'), Tmax=(5000,'K'))], Tmin=(100,'K'), Tmax=(5000,'K'), comment=\"\"\"Thermo library: BurkeH2O2\"\"\"), molecule=[Molecule(smiles=\"[O][O]\")], transport_data=TransportData(shapeIndex=1, epsilon=(887.154,'J/mol'), sigma=(3.467,'angstrom'), dipoleMoment=(0,'De'), polarizability=(0,'angstrom^3'), rotrelaxcollnum=0.0, comment=\"\"\"PrimaryTransportLibrary\"\"\"), molecular_weight=(31.9988,'amu'))), (Species(index=17, label=\"HO2\", thermo=NASA(polynomials=[NASAPolynomial(coeffs=[4.02957,-0.00263999,1.52235e-05,-1.71679e-08,6.26771e-12,322.677,4.84424], Tmin=(100,'K'), Tmax=(923.9,'K')), NASAPolynomial(coeffs=[4.1513,0.00191152,-4.11308e-07,6.35038e-11,-4.86452e-15,83.4341,3.09359], Tmin=(923.9,'K'), Tmax=(5000,'K'))], Tmin=(100,'K'), Tmax=(5000,'K'), comment=\"\"\"Thermo library: BurkeH2O2\"\"\"), molecule=[Molecule(smiles=\"[O]O\")], transport_data=TransportData(shapeIndex=2, epsilon=(892.974,'J/mol'), sigma=(3.458,'angstrom'), dipoleMoment=(0,'De'), polarizability=(0,'angstrom^3'), rotrelaxcollnum=1.0, comment=\"\"\"NOx2018\"\"\"), molecular_weight=(33.0067,'amu')), Species(index=25, label=\"CH2OH\", thermo=NASA(polynomials=[NASAPolynomial(coeffs=[4.47834,-0.0013507,2.78485e-05,-3.64869e-08,1.47907e-11,-3500.73,3.30913], Tmin=(200,'K'), Tmax=(1000,'K')), NASAPolynomial(coeffs=[5.09314,0.00594761,-2.06497e-06,3.23008e-10,-1.88126e-14,-4034.1,-1.84691], Tmin=(1000,'K'), Tmax=(6000,'K'))], Tmin=(200,'K'), Tmax=(6000,'K'), comment=\"\"\"Thermo library: Klippenstein_Glarborg2016\"\"\"), molecule=[Molecule(smiles=\"[CH2]O\")], transport_data=TransportData(shapeIndex=2, epsilon=(3467.13,'J/mol'), sigma=(3.69,'angstrom'), dipoleMoment=(1.7,'De'), polarizability=(0,'angstrom^3'), rotrelaxcollnum=2.0, comment=\"\"\"NOx2018\"\"\"), molecular_weight=(31.0339,'amu')))])"
      ]
     },
     "metadata": {},
     "output_type": "display_data"
    },
    {
     "name": "stdout",
     "output_type": "stream",
     "text": [
      "HO2(17) + C2H5O3(56) => O2(2) + CH2OH(25) + CH2OOH(35)\n",
      "Arrhenius(A=(2.5e+11,'cm^3/(mol*s)'), n=0, Ea=(-1.49,'kcal/mol'), T0=(1,'K'))\n",
      "Kinetic library: Klippenstein_Glarborg2016\n",
      "Direction: reverse\n",
      "Violation factor: 9.3e+07\n",
      "Violation condition: 500 K, 1.0 bar\n",
      "\n",
      "\n"
     ]
    },
    {
     "data": {
      "image/png": "[encoded data removed]",
      "text/plain": [
       "LibraryReaction(index=77, reactants=[Species(index=21, label=\"CH3\", thermo=NASA(polynomials=[NASAPolynomial(coeffs=[3.65718,0.0021266,5.45839e-06,-6.6181e-09,2.46571e-12,16422.7,1.67354], Tmin=(200,'K'), Tmax=(1000,'K')), NASAPolynomial(coeffs=[2.97812,0.00579785,-1.97558e-06,3.07298e-10,-1.79174e-14,16509.5,4.72248], Tmin=(1000,'K'), Tmax=(6000,'K'))], Tmin=(200,'K'), Tmax=(6000,'K'), comment=\"\"\"Thermo library: Klippenstein_Glarborg2016\"\"\"), molecule=[Molecule(smiles=\"[CH3]\")], transport_data=TransportData(shapeIndex=2, epsilon=(1197.28,'J/mol'), sigma=(3.8,'angstrom'), dipoleMoment=(0,'De'), polarizability=(0,'angstrom^3'), rotrelaxcollnum=0.0, comment=\"\"\"NOx2018\"\"\"), molecular_weight=(15.0345,'amu'))], products=[Species(index=13, label=\"H2\", thermo=NASA(polynomials=[NASAPolynomial(coeffs=[3.42254,0.000286646,-4.14662e-07,4.27541e-10,-9.38103e-14,-1029.78,-3.86365], Tmin=(100,'K'), Tmax=(1962.86,'K')), NASAPolynomial(coeffs=[2.74214,0.000579597,1.97176e-07,-6.4104e-11,4.95964e-15,-552.011,0.414362], Tmin=(1962.86,'K'), Tmax=(5000,'K'))], Tmin=(100,'K'), Tmax=(5000,'K'), comment=\"\"\"Thermo library: BurkeH2O2\"\"\"), molecule=[Molecule(smiles=\"[H][H]\")], transport_data=TransportData(shapeIndex=1, epsilon=(496.374,'J/mol'), sigma=(2.833,'angstrom'), dipoleMoment=(0,'De'), polarizability=(0,'angstrom^3'), rotrelaxcollnum=0.0, comment=\"\"\"PrimaryTransportLibrary\"\"\"), molecular_weight=(2.01588,'amu')), Species(index=3, label=\"CH\", thermo=NASA(polynomials=[NASAPolynomial(coeffs=[3.47159,0.000404745,-1.89388e-06,3.3321e-09,-1.51271e-12,70701.8,2.14542], Tmin=(200,'K'), Tmax=(1000,'K')), NASAPolynomial(coeffs=[2.66195,0.00170245,-6.83824e-07,1.3098e-10,-9.71843e-15,70958.9,6.52673], Tmin=(1000,'K'), Tmax=(3000,'K'))], Tmin=(200,'K'), Tmax=(3000,'K'), comment=\"\"\"Thermo library: Klippenstein_Glarborg2016\"\"\"), molecule=[Molecule(smiles=\"[CH]\")], transport_data=TransportData(shapeIndex=1, epsilon=(665.158,'J/mol'), sigma=(2.75,'angstrom'), dipoleMoment=(0,'De'), polarizability=(0,'angstrom^3'), rotrelaxcollnum=0.0, comment=\"\"\"NOx2018\"\"\"), molecular_weight=(13.0186,'amu'))], kinetics=ThirdBody(arrheniusLow=Arrhenius(A=(3.1e+15,'cm^3/(mol*s)'), n=0, Ea=(80.871,'kcal/mol'), T0=(1,'K')), efficiencies={}), pairs=[(Species(index=21, label=\"CH3\", thermo=NASA(polynomials=[NASAPolynomial(coeffs=[3.65718,0.0021266,5.45839e-06,-6.6181e-09,2.46571e-12,16422.7,1.67354], Tmin=(200,'K'), Tmax=(1000,'K')), NASAPolynomial(coeffs=[2.97812,0.00579785,-1.97558e-06,3.07298e-10,-1.79174e-14,16509.5,4.72248], Tmin=(1000,'K'), Tmax=(6000,'K'))], Tmin=(200,'K'), Tmax=(6000,'K'), comment=\"\"\"Thermo library: Klippenstein_Glarborg2016\"\"\"), molecule=[Molecule(smiles=\"[CH3]\")], transport_data=TransportData(shapeIndex=2, epsilon=(1197.28,'J/mol'), sigma=(3.8,'angstrom'), dipoleMoment=(0,'De'), polarizability=(0,'angstrom^3'), rotrelaxcollnum=0.0, comment=\"\"\"NOx2018\"\"\"), molecular_weight=(15.0345,'amu')), Species(index=13, label=\"H2\", thermo=NASA(polynomials=[NASAPolynomial(coeffs=[3.42254,0.000286646,-4.14662e-07,4.27541e-10,-9.38103e-14,-1029.78,-3.86365], Tmin=(100,'K'), Tmax=(1962.86,'K')), NASAPolynomial(coeffs=[2.74214,0.000579597,1.97176e-07,-6.4104e-11,4.95964e-15,-552.011,0.414362], Tmin=(1962.86,'K'), Tmax=(5000,'K'))], Tmin=(100,'K'), Tmax=(5000,'K'), comment=\"\"\"Thermo library: BurkeH2O2\"\"\"), molecule=[Molecule(smiles=\"[H][H]\")], transport_data=TransportData(shapeIndex=1, epsilon=(496.374,'J/mol'), sigma=(2.833,'angstrom'), dipoleMoment=(0,'De'), polarizability=(0,'angstrom^3'), rotrelaxcollnum=0.0, comment=\"\"\"PrimaryTransportLibrary\"\"\"), molecular_weight=(2.01588,'amu'))), (Species(index=21, label=\"CH3\", thermo=NASA(polynomials=[NASAPolynomial(coeffs=[3.65718,0.0021266,5.45839e-06,-6.6181e-09,2.46571e-12,16422.7,1.67354], Tmin=(200,'K'), Tmax=(1000,'K')), NASAPolynomial(coeffs=[2.97812,0.00579785,-1.97558e-06,3.07298e-10,-1.79174e-14,16509.5,4.72248], Tmin=(1000,'K'), Tmax=(6000,'K'))], Tmin=(200,'K'), Tmax=(6000,'K'), comment=\"\"\"Thermo library: Klippenstein_Glarborg2016\"\"\"), molecule=[Molecule(smiles=\"[CH3]\")], transport_data=TransportData(shapeIndex=2, epsilon=(1197.28,'J/mol'), sigma=(3.8,'angstrom'), dipoleMoment=(0,'De'), polarizability=(0,'angstrom^3'), rotrelaxcollnum=0.0, comment=\"\"\"NOx2018\"\"\"), molecular_weight=(15.0345,'amu')), Species(index=3, label=\"CH\", thermo=NASA(polynomials=[NASAPolynomial(coeffs=[3.47159,0.000404745,-1.89388e-06,3.3321e-09,-1.51271e-12,70701.8,2.14542], Tmin=(200,'K'), Tmax=(1000,'K')), NASAPolynomial(coeffs=[2.66195,0.00170245,-6.83824e-07,1.3098e-10,-9.71843e-15,70958.9,6.52673], Tmin=(1000,'K'), Tmax=(3000,'K'))], Tmin=(200,'K'), Tmax=(3000,'K'), comment=\"\"\"Thermo library: Klippenstein_Glarborg2016\"\"\"), molecule=[Molecule(smiles=\"[CH]\")], transport_data=TransportData(shapeIndex=1, epsilon=(665.158,'J/mol'), sigma=(2.75,'angstrom'), dipoleMoment=(0,'De'), polarizability=(0,'angstrom^3'), rotrelaxcollnum=0.0, comment=\"\"\"NOx2018\"\"\"), molecular_weight=(13.0186,'amu')))])"
      ]
     },
     "metadata": {},
     "output_type": "display_data"
    },
    {
     "name": "stdout",
     "output_type": "stream",
     "text": [
      "CH3(21) <=> H2(13) + CH(3)\n",
      "ThirdBody(arrheniusLow=Arrhenius(A=(3.1e+15,'cm^3/(mol*s)'), n=0, Ea=(80.871,'kcal/mol'), T0=(1,'K')), efficiencies={})\n",
      "Kinetic library: Klippenstein_Glarborg2016\n",
      "Direction: reverse\n",
      "Violation factor: 5.7e+07\n",
      "Violation condition: 500 K, 30.0 bar\n",
      "\n",
      "\n"
     ]
    },
    {
     "data": {
      "image/png": "[encoded data removed]",
      "text/plain": [
       "LibraryReaction(index=78, reactants=[Species(index=21, label=\"CH3\", thermo=NASA(polynomials=[NASAPolynomial(coeffs=[3.65718,0.0021266,5.45839e-06,-6.6181e-09,2.46571e-12,16422.7,1.67354], Tmin=(200,'K'), Tmax=(1000,'K')), NASAPolynomial(coeffs=[2.97812,0.00579785,-1.97558e-06,3.07298e-10,-1.79174e-14,16509.5,4.72248], Tmin=(1000,'K'), Tmax=(6000,'K'))], Tmin=(200,'K'), Tmax=(6000,'K'), comment=\"\"\"Thermo library: Klippenstein_Glarborg2016\"\"\"), molecule=[Molecule(smiles=\"[CH3]\")], transport_data=TransportData(shapeIndex=2, epsilon=(1197.28,'J/mol'), sigma=(3.8,'angstrom'), dipoleMoment=(0,'De'), polarizability=(0,'angstrom^3'), rotrelaxcollnum=0.0, comment=\"\"\"NOx2018\"\"\"), molecular_weight=(15.0345,'amu'))], products=[Species(index=14, label=\"H\", thermo=NASA(polynomials=[NASAPolynomial(coeffs=[2.5,-2.38914e-13,3.12709e-16,-1.33367e-19,1.7499e-23,25472.7,-0.459566], Tmin=(100,'K'), Tmax=(4383.16,'K')), NASAPolynomial(coeffs=[2.50003,-3.04997e-08,1.01101e-11,-1.48797e-15,8.20356e-20,25472.7,-0.459785], Tmin=(4383.16,'K'), Tmax=(5000,'K'))], Tmin=(100,'K'), Tmax=(5000,'K'), comment=\"\"\"Thermo library: BurkeH2O2\"\"\"), molecule=[Molecule(smiles=\"[H]\")], transport_data=TransportData(shapeIndex=0, epsilon=(1205.6,'J/mol'), sigma=(2.05,'angstrom'), dipoleMoment=(0,'De'), polarizability=(0,'angstrom^3'), rotrelaxcollnum=0.0, comment=\"\"\"NOx2018\"\"\"), molecular_weight=(1.00794,'amu')), Species(index=22, label=\"CH2\", thermo=NASA(polynomials=[NASAPolynomial(coeffs=[3.8328,0.000224446,4.68033e-06,-6.04743e-09,2.59009e-12,45920.8,1.40666], Tmin=(200,'K'), Tmax=(1000,'K')), NASAPolynomial(coeffs=[3.16229,0.00281798,-7.56235e-07,5.05446e-11,5.65236e-15,46099.1,4.77656], Tmin=(1000,'K'), Tmax=(3000,'K'))], Tmin=(200,'K'), Tmax=(3000,'K'), comment=\"\"\"Thermo library: Klippenstein_Glarborg2016\"\"\"), molecule=[Molecule(smiles=\"[CH2]\")], transport_data=TransportData(shapeIndex=2, epsilon=(1197.28,'J/mol'), sigma=(3.8,'angstrom'), dipoleMoment=(0,'De'), polarizability=(0,'angstrom^3'), rotrelaxcollnum=0.0, comment=\"\"\"NOx2018\"\"\"), molecular_weight=(14.0266,'amu'))], kinetics=ThirdBody(arrheniusLow=Arrhenius(A=(2.2e+15,'cm^3/(mol*s)'), n=0, Ea=(82.659,'kcal/mol'), T0=(1,'K')), efficiencies={}), pairs=[(Species(index=21, label=\"CH3\", thermo=NASA(polynomials=[NASAPolynomial(coeffs=[3.65718,0.0021266,5.45839e-06,-6.6181e-09,2.46571e-12,16422.7,1.67354], Tmin=(200,'K'), Tmax=(1000,'K')), NASAPolynomial(coeffs=[2.97812,0.00579785,-1.97558e-06,3.07298e-10,-1.79174e-14,16509.5,4.72248], Tmin=(1000,'K'), Tmax=(6000,'K'))], Tmin=(200,'K'), Tmax=(6000,'K'), comment=\"\"\"Thermo library: Klippenstein_Glarborg2016\"\"\"), molecule=[Molecule(smiles=\"[CH3]\")], transport_data=TransportData(shapeIndex=2, epsilon=(1197.28,'J/mol'), sigma=(3.8,'angstrom'), dipoleMoment=(0,'De'), polarizability=(0,'angstrom^3'), rotrelaxcollnum=0.0, comment=\"\"\"NOx2018\"\"\"), molecular_weight=(15.0345,'amu')), Species(index=14, label=\"H\", thermo=NASA(polynomials=[NASAPolynomial(coeffs=[2.5,-2.38914e-13,3.12709e-16,-1.33367e-19,1.7499e-23,25472.7,-0.459566], Tmin=(100,'K'), Tmax=(4383.16,'K')), NASAPolynomial(coeffs=[2.50003,-3.04997e-08,1.01101e-11,-1.48797e-15,8.20356e-20,25472.7,-0.459785], Tmin=(4383.16,'K'), Tmax=(5000,'K'))], Tmin=(100,'K'), Tmax=(5000,'K'), comment=\"\"\"Thermo library: BurkeH2O2\"\"\"), molecule=[Molecule(smiles=\"[H]\")], transport_data=TransportData(shapeIndex=0, epsilon=(1205.6,'J/mol'), sigma=(2.05,'angstrom'), dipoleMoment=(0,'De'), polarizability=(0,'angstrom^3'), rotrelaxcollnum=0.0, comment=\"\"\"NOx2018\"\"\"), molecular_weight=(1.00794,'amu'))), (Species(index=21, label=\"CH3\", thermo=NASA(polynomials=[NASAPolynomial(coeffs=[3.65718,0.0021266,5.45839e-06,-6.6181e-09,2.46571e-12,16422.7,1.67354], Tmin=(200,'K'), Tmax=(1000,'K')), NASAPolynomial(coeffs=[2.97812,0.00579785,-1.97558e-06,3.07298e-10,-1.79174e-14,16509.5,4.72248], Tmin=(1000,'K'), Tmax=(6000,'K'))], Tmin=(200,'K'), Tmax=(6000,'K'), comment=\"\"\"Thermo library: Klippenstein_Glarborg2016\"\"\"), molecule=[Molecule(smiles=\"[CH3]\")], transport_data=TransportData(shapeIndex=2, epsilon=(1197.28,'J/mol'), sigma=(3.8,'angstrom'), dipoleMoment=(0,'De'), polarizability=(0,'angstrom^3'), rotrelaxcollnum=0.0, comment=\"\"\"NOx2018\"\"\"), molecular_weight=(15.0345,'amu')), Species(index=22, label=\"CH2\", thermo=NASA(polynomials=[NASAPolynomial(coeffs=[3.8328,0.000224446,4.68033e-06,-6.04743e-09,2.59009e-12,45920.8,1.40666], Tmin=(200,'K'), Tmax=(1000,'K')), NASAPolynomial(coeffs=[3.16229,0.00281798,-7.56235e-07,5.05446e-11,5.65236e-15,46099.1,4.77656], Tmin=(1000,'K'), Tmax=(3000,'K'))], Tmin=(200,'K'), Tmax=(3000,'K'), comment=\"\"\"Thermo library: Klippenstein_Glarborg2016\"\"\"), molecule=[Molecule(smiles=\"[CH2]\")], transport_data=TransportData(shapeIndex=2, epsilon=(1197.28,'J/mol'), sigma=(3.8,'angstrom'), dipoleMoment=(0,'De'), polarizability=(0,'angstrom^3'), rotrelaxcollnum=0.0, comment=\"\"\"NOx2018\"\"\"), molecular_weight=(14.0266,'amu')))])"
      ]
     },
     "metadata": {},
     "output_type": "display_data"
    },
    {
     "name": "stdout",
     "output_type": "stream",
     "text": [
      "CH3(21) <=> H(14) + CH2(22)\n",
      "ThirdBody(arrheniusLow=Arrhenius(A=(2.2e+15,'cm^3/(mol*s)'), n=0, Ea=(82.659,'kcal/mol'), T0=(1,'K')), efficiencies={})\n",
      "Kinetic library: Klippenstein_Glarborg2016\n",
      "Direction: reverse\n",
      "Violation factor: 4.9e+06\n",
      "Violation condition: 500 K, 1.0 bar\n",
      "\n",
      "\n"
     ]
    },
    {
     "data": {
      "image/png": "[encoded data removed]",
      "text/plain": [
       "LibraryReaction(index=77, reactants=[Species(index=21, label=\"CH3\", thermo=NASA(polynomials=[NASAPolynomial(coeffs=[3.65718,0.0021266,5.45839e-06,-6.6181e-09,2.46571e-12,16422.7,1.67354], Tmin=(200,'K'), Tmax=(1000,'K')), NASAPolynomial(coeffs=[2.97812,0.00579785,-1.97558e-06,3.07298e-10,-1.79174e-14,16509.5,4.72248], Tmin=(1000,'K'), Tmax=(6000,'K'))], Tmin=(200,'K'), Tmax=(6000,'K'), comment=\"\"\"Thermo library: Klippenstein_Glarborg2016\"\"\"), molecule=[Molecule(smiles=\"[CH3]\")], transport_data=TransportData(shapeIndex=2, epsilon=(1197.28,'J/mol'), sigma=(3.8,'angstrom'), dipoleMoment=(0,'De'), polarizability=(0,'angstrom^3'), rotrelaxcollnum=0.0, comment=\"\"\"NOx2018\"\"\"), molecular_weight=(15.0345,'amu'))], products=[Species(index=13, label=\"H2\", thermo=NASA(polynomials=[NASAPolynomial(coeffs=[3.42254,0.000286646,-4.14662e-07,4.27541e-10,-9.38103e-14,-1029.78,-3.86365], Tmin=(100,'K'), Tmax=(1962.86,'K')), NASAPolynomial(coeffs=[2.74214,0.000579597,1.97176e-07,-6.4104e-11,4.95964e-15,-552.011,0.414362], Tmin=(1962.86,'K'), Tmax=(5000,'K'))], Tmin=(100,'K'), Tmax=(5000,'K'), comment=\"\"\"Thermo library: BurkeH2O2\"\"\"), molecule=[Molecule(smiles=\"[H][H]\")], transport_data=TransportData(shapeIndex=1, epsilon=(496.374,'J/mol'), sigma=(2.833,'angstrom'), dipoleMoment=(0,'De'), polarizability=(0,'angstrom^3'), rotrelaxcollnum=0.0, comment=\"\"\"PrimaryTransportLibrary\"\"\"), molecular_weight=(2.01588,'amu')), Species(index=3, label=\"CH\", thermo=NASA(polynomials=[NASAPolynomial(coeffs=[3.47159,0.000404745,-1.89388e-06,3.3321e-09,-1.51271e-12,70701.8,2.14542], Tmin=(200,'K'), Tmax=(1000,'K')), NASAPolynomial(coeffs=[2.66195,0.00170245,-6.83824e-07,1.3098e-10,-9.71843e-15,70958.9,6.52673], Tmin=(1000,'K'), Tmax=(3000,'K'))], Tmin=(200,'K'), Tmax=(3000,'K'), comment=\"\"\"Thermo library: Klippenstein_Glarborg2016\"\"\"), molecule=[Molecule(smiles=\"[CH]\")], transport_data=TransportData(shapeIndex=1, epsilon=(665.158,'J/mol'), sigma=(2.75,'angstrom'), dipoleMoment=(0,'De'), polarizability=(0,'angstrom^3'), rotrelaxcollnum=0.0, comment=\"\"\"NOx2018\"\"\"), molecular_weight=(13.0186,'amu'))], kinetics=ThirdBody(arrheniusLow=Arrhenius(A=(3.1e+15,'cm^3/(mol*s)'), n=0, Ea=(80.871,'kcal/mol'), T0=(1,'K')), efficiencies={}), pairs=[(Species(index=21, label=\"CH3\", thermo=NASA(polynomials=[NASAPolynomial(coeffs=[3.65718,0.0021266,5.45839e-06,-6.6181e-09,2.46571e-12,16422.7,1.67354], Tmin=(200,'K'), Tmax=(1000,'K')), NASAPolynomial(coeffs=[2.97812,0.00579785,-1.97558e-06,3.07298e-10,-1.79174e-14,16509.5,4.72248], Tmin=(1000,'K'), Tmax=(6000,'K'))], Tmin=(200,'K'), Tmax=(6000,'K'), comment=\"\"\"Thermo library: Klippenstein_Glarborg2016\"\"\"), molecule=[Molecule(smiles=\"[CH3]\")], transport_data=TransportData(shapeIndex=2, epsilon=(1197.28,'J/mol'), sigma=(3.8,'angstrom'), dipoleMoment=(0,'De'), polarizability=(0,'angstrom^3'), rotrelaxcollnum=0.0, comment=\"\"\"NOx2018\"\"\"), molecular_weight=(15.0345,'amu')), Species(index=13, label=\"H2\", thermo=NASA(polynomials=[NASAPolynomial(coeffs=[3.42254,0.000286646,-4.14662e-07,4.27541e-10,-9.38103e-14,-1029.78,-3.86365], Tmin=(100,'K'), Tmax=(1962.86,'K')), NASAPolynomial(coeffs=[2.74214,0.000579597,1.97176e-07,-6.4104e-11,4.95964e-15,-552.011,0.414362], Tmin=(1962.86,'K'), Tmax=(5000,'K'))], Tmin=(100,'K'), Tmax=(5000,'K'), comment=\"\"\"Thermo library: BurkeH2O2\"\"\"), molecule=[Molecule(smiles=\"[H][H]\")], transport_data=TransportData(shapeIndex=1, epsilon=(496.374,'J/mol'), sigma=(2.833,'angstrom'), dipoleMoment=(0,'De'), polarizability=(0,'angstrom^3'), rotrelaxcollnum=0.0, comment=\"\"\"PrimaryTransportLibrary\"\"\"), molecular_weight=(2.01588,'amu'))), (Species(index=21, label=\"CH3\", thermo=NASA(polynomials=[NASAPolynomial(coeffs=[3.65718,0.0021266,5.45839e-06,-6.6181e-09,2.46571e-12,16422.7,1.67354], Tmin=(200,'K'), Tmax=(1000,'K')), NASAPolynomial(coeffs=[2.97812,0.00579785,-1.97558e-06,3.07298e-10,-1.79174e-14,16509.5,4.72248], Tmin=(1000,'K'), Tmax=(6000,'K'))], Tmin=(200,'K'), Tmax=(6000,'K'), comment=\"\"\"Thermo library: Klippenstein_Glarborg2016\"\"\"), molecule=[Molecule(smiles=\"[CH3]\")], transport_data=TransportData(shapeIndex=2, epsilon=(1197.28,'J/mol'), sigma=(3.8,'angstrom'), dipoleMoment=(0,'De'), polarizability=(0,'angstrom^3'), rotrelaxcollnum=0.0, comment=\"\"\"NOx2018\"\"\"), molecular_weight=(15.0345,'amu')), Species(index=3, label=\"CH\", thermo=NASA(polynomials=[NASAPolynomial(coeffs=[3.47159,0.000404745,-1.89388e-06,3.3321e-09,-1.51271e-12,70701.8,2.14542], Tmin=(200,'K'), Tmax=(1000,'K')), NASAPolynomial(coeffs=[2.66195,0.00170245,-6.83824e-07,1.3098e-10,-9.71843e-15,70958.9,6.52673], Tmin=(1000,'K'), Tmax=(3000,'K'))], Tmin=(200,'K'), Tmax=(3000,'K'), comment=\"\"\"Thermo library: Klippenstein_Glarborg2016\"\"\"), molecule=[Molecule(smiles=\"[CH]\")], transport_data=TransportData(shapeIndex=1, epsilon=(665.158,'J/mol'), sigma=(2.75,'angstrom'), dipoleMoment=(0,'De'), polarizability=(0,'angstrom^3'), rotrelaxcollnum=0.0, comment=\"\"\"NOx2018\"\"\"), molecular_weight=(13.0186,'amu')))])"
      ]
     },
     "metadata": {},
     "output_type": "display_data"
    },
    {
     "name": "stdout",
     "output_type": "stream",
     "text": [
      "CH3(21) <=> H2(13) + CH(3)\n",
      "ThirdBody(arrheniusLow=Arrhenius(A=(3.1e+15,'cm^3/(mol*s)'), n=0, Ea=(80.871,'kcal/mol'), T0=(1,'K')), efficiencies={})\n",
      "Kinetic library: Klippenstein_Glarborg2016\n",
      "Direction: reverse\n",
      "Violation factor: 1.9e+06\n",
      "Violation condition: 500 K, 1.0 bar\n",
      "\n",
      "\n"
     ]
    },
    {
     "data": {
      "image/png": "[encoded data removed]",
      "text/plain": [
       "LibraryReaction(index=1690, reactants=[Species(index=28, label=\"CH3OO\", thermo=NASA(polynomials=[NASAPolynomial(coeffs=[2.93065,0.00868504,8.80315e-06,-1.39561e-08,5.0294e-12,227.483,12.8755], Tmin=(298,'K'), Tmax=(1000,'K')), NASAPolynomial(coeffs=[2.88425,0.0140068,-6.88364e-06,1.6379e-09,-1.53129e-13,-20.0433,11.8153], Tmin=(1000,'K'), Tmax=(3000,'K'))], Tmin=(298,'K'), Tmax=(3000,'K'), comment=\"\"\"Thermo library: Klippenstein_Glarborg2016\"\"\"), molecule=[Molecule(smiles=\"CO[O]\")], transport_data=TransportData(shapeIndex=2, epsilon=(3467.13,'J/mol'), sigma=(3.69,'angstrom'), dipoleMoment=(1.7,'De'), polarizability=(0,'angstrom^3'), rotrelaxcollnum=2.0, comment=\"\"\"NOx2018\"\"\"), molecular_weight=(47.0333,'amu')), Species(index=271, label=\"C4H6O\", thermo=NASA(polynomials=[NASAPolynomial(coeffs=[0.245579,0.0426432,-2.91127e-05,1.03478e-08,-1.53551e-12,-17030.5,26.4431], Tmin=(200,'K'), Tmax=(1386,'K')), NASAPolynomial(coeffs=[12.5572,0.0149673,-5.20015e-06,8.15864e-10,-4.76824e-14,-21462.3,-40.1434], Tmin=(1386,'K'), Tmax=(5000,'K'))], Tmin=(200,'K'), Tmax=(5000,'K'), comment=\"\"\"Thermo library: CurranPentane\"\"\"), molecule=[Molecule(smiles=\"C=CC(C)=O\")], transport_data=TransportData(shapeIndex=2, epsilon=(3355.73,'J/mol'), sigma=(5.472,'angstrom'), dipoleMoment=(0,'De'), polarizability=(0,'angstrom^3'), rotrelaxcollnum=0.0, comment=\"\"\"Epsilon & sigma estimated with Tc=524.16 K, Pc=46.47 bar (from Joback method)\"\"\"), molecular_weight=(70.0898,'amu'))], products=[Species(index=34, label=\"CH3OOH\", thermo=NASA(polynomials=[NASAPolynomial(coeffs=[2.85837,0.0159701,-2.52104e-06,-5.736e-09,2.80535e-12,-16883,12.897], Tmin=(298,'K'), Tmax=(1000,'K')), NASAPolynomial(coeffs=[4.45931,0.0141051,-6.53177e-06,1.47663e-09,-1.32512e-13,-17430.1,4.03867], Tmin=(1000,'K'), Tmax=(3000,'K'))], Tmin=(298,'K'), Tmax=(3000,'K'), comment=\"\"\"Thermo library: Klippenstein_Glarborg2016\"\"\"), molecule=[Molecule(smiles=\"COO\")], transport_data=TransportData(shapeIndex=2, epsilon=(4005.91,'J/mol'), sigma=(3.626,'angstrom'), dipoleMoment=(0,'De'), polarizability=(0,'angstrom^3'), rotrelaxcollnum=1.0, comment=\"\"\"NOx2018\"\"\"), molecular_weight=(48.0413,'amu')), Species(index=29, label=\"CH2CO\", thermo=NASA(polynomials=[NASAPolynomial(coeffs=[2.13241,0.0181319,-1.74093e-05,9.35336e-09,-2.01725e-12,-7148.09,13.3808], Tmin=(200,'K'), Tmax=(1000,'K')), NASAPolynomial(coeffs=[5.75871,0.00635124,-2.25955e-06,3.62322e-10,-2.15856e-14,-8085.33,-4.9649], Tmin=(1000,'K'), Tmax=(6000,'K'))], Tmin=(200,'K'), Tmax=(6000,'K'), comment=\"\"\"Thermo library: Klippenstein_Glarborg2016\"\"\"), molecule=[Molecule(smiles=\"C=C=O\")], transport_data=TransportData(shapeIndex=2, epsilon=(3625.11,'J/mol'), sigma=(3.97,'angstrom'), dipoleMoment=(0,'De'), polarizability=(0,'angstrom^3'), rotrelaxcollnum=2.0, comment=\"\"\"NOx2018\"\"\"), molecular_weight=(42.0367,'amu')), Species(index=31, label=\"C2H3\", thermo=NASA(polynomials=[NASAPolynomial(coeffs=[3.36378,0.000265766,2.79621e-05,-3.72987e-08,1.5159e-11,34475,7.9151], Tmin=(200,'K'), Tmax=(1000,'K')), NASAPolynomial(coeffs=[4.15027,0.00754021,-2.62998e-06,4.15974e-10,-2.45408e-14,33856.6,1.72812], Tmin=(1000,'K'), Tmax=(6000,'K'))], Tmin=(200,'K'), Tmax=(6000,'K'), comment=\"\"\"Thermo library: Klippenstein_Glarborg2016\"\"\"), molecule=[Molecule(smiles=\"[CH]=C\")], transport_data=TransportData(shapeIndex=2, epsilon=(1737.72,'J/mol'), sigma=(4.1,'angstrom'), dipoleMoment=(0,'De'), polarizability=(0,'angstrom^3'), rotrelaxcollnum=1.0, comment=\"\"\"NOx2018\"\"\"), molecular_weight=(27.0452,'amu'))], kinetics=Arrhenius(A=(3.01e+12,'cm^3/(mol*s)'), n=0, Ea=(17.58,'kcal/mol'), T0=(1,'K')), reversible=False, pairs=[(Species(index=271, label=\"C4H6O\", thermo=NASA(polynomials=[NASAPolynomial(coeffs=[0.245579,0.0426432,-2.91127e-05,1.03478e-08,-1.53551e-12,-17030.5,26.4431], Tmin=(200,'K'), Tmax=(1386,'K')), NASAPolynomial(coeffs=[12.5572,0.0149673,-5.20015e-06,8.15864e-10,-4.76824e-14,-21462.3,-40.1434], Tmin=(1386,'K'), Tmax=(5000,'K'))], Tmin=(200,'K'), Tmax=(5000,'K'), comment=\"\"\"Thermo library: CurranPentane\"\"\"), molecule=[Molecule(smiles=\"C=CC(C)=O\")], transport_data=TransportData(shapeIndex=2, epsilon=(3355.73,'J/mol'), sigma=(5.472,'angstrom'), dipoleMoment=(0,'De'), polarizability=(0,'angstrom^3'), rotrelaxcollnum=0.0, comment=\"\"\"Epsilon & sigma estimated with Tc=524.16 K, Pc=46.47 bar (from Joback method)\"\"\"), molecular_weight=(70.0898,'amu')), Species(index=29, label=\"CH2CO\", thermo=NASA(polynomials=[NASAPolynomial(coeffs=[2.13241,0.0181319,-1.74093e-05,9.35336e-09,-2.01725e-12,-7148.09,13.3808], Tmin=(200,'K'), Tmax=(1000,'K')), NASAPolynomial(coeffs=[5.75871,0.00635124,-2.25955e-06,3.62322e-10,-2.15856e-14,-8085.33,-4.9649], Tmin=(1000,'K'), Tmax=(6000,'K'))], Tmin=(200,'K'), Tmax=(6000,'K'), comment=\"\"\"Thermo library: Klippenstein_Glarborg2016\"\"\"), molecule=[Molecule(smiles=\"C=C=O\")], transport_data=TransportData(shapeIndex=2, epsilon=(3625.11,'J/mol'), sigma=(3.97,'angstrom'), dipoleMoment=(0,'De'), polarizability=(0,'angstrom^3'), rotrelaxcollnum=2.0, comment=\"\"\"NOx2018\"\"\"), molecular_weight=(42.0367,'amu'))), (Species(index=28, label=\"CH3OO\", thermo=NASA(polynomials=[NASAPolynomial(coeffs=[2.93065,0.00868504,8.80315e-06,-1.39561e-08,5.0294e-12,227.483,12.8755], Tmin=(298,'K'), Tmax=(1000,'K')), NASAPolynomial(coeffs=[2.88425,0.0140068,-6.88364e-06,1.6379e-09,-1.53129e-13,-20.0433,11.8153], Tmin=(1000,'K'), Tmax=(3000,'K'))], Tmin=(298,'K'), Tmax=(3000,'K'), comment=\"\"\"Thermo library: Klippenstein_Glarborg2016\"\"\"), molecule=[Molecule(smiles=\"CO[O]\")], transport_data=TransportData(shapeIndex=2, epsilon=(3467.13,'J/mol'), sigma=(3.69,'angstrom'), dipoleMoment=(1.7,'De'), polarizability=(0,'angstrom^3'), rotrelaxcollnum=2.0, comment=\"\"\"NOx2018\"\"\"), molecular_weight=(47.0333,'amu')), Species(index=34, label=\"CH3OOH\", thermo=NASA(polynomials=[NASAPolynomial(coeffs=[2.85837,0.0159701,-2.52104e-06,-5.736e-09,2.80535e-12,-16883,12.897], Tmin=(298,'K'), Tmax=(1000,'K')), NASAPolynomial(coeffs=[4.45931,0.0141051,-6.53177e-06,1.47663e-09,-1.32512e-13,-17430.1,4.03867], Tmin=(1000,'K'), Tmax=(3000,'K'))], Tmin=(298,'K'), Tmax=(3000,'K'), comment=\"\"\"Thermo library: Klippenstein_Glarborg2016\"\"\"), molecule=[Molecule(smiles=\"COO\")], transport_data=TransportData(shapeIndex=2, epsilon=(4005.91,'J/mol'), sigma=(3.626,'angstrom'), dipoleMoment=(0,'De'), polarizability=(0,'angstrom^3'), rotrelaxcollnum=1.0, comment=\"\"\"NOx2018\"\"\"), molecular_weight=(48.0413,'amu'))), (Species(index=28, label=\"CH3OO\", thermo=NASA(polynomials=[NASAPolynomial(coeffs=[2.93065,0.00868504,8.80315e-06,-1.39561e-08,5.0294e-12,227.483,12.8755], Tmin=(298,'K'), Tmax=(1000,'K')), NASAPolynomial(coeffs=[2.88425,0.0140068,-6.88364e-06,1.6379e-09,-1.53129e-13,-20.0433,11.8153], Tmin=(1000,'K'), Tmax=(3000,'K'))], Tmin=(298,'K'), Tmax=(3000,'K'), comment=\"\"\"Thermo library: Klippenstein_Glarborg2016\"\"\"), molecule=[Molecule(smiles=\"CO[O]\")], transport_data=TransportData(shapeIndex=2, epsilon=(3467.13,'J/mol'), sigma=(3.69,'angstrom'), dipoleMoment=(1.7,'De'), polarizability=(0,'angstrom^3'), rotrelaxcollnum=2.0, comment=\"\"\"NOx2018\"\"\"), molecular_weight=(47.0333,'amu')), Species(index=31, label=\"C2H3\", thermo=NASA(polynomials=[NASAPolynomial(coeffs=[3.36378,0.000265766,2.79621e-05,-3.72987e-08,1.5159e-11,34475,7.9151], Tmin=(200,'K'), Tmax=(1000,'K')), NASAPolynomial(coeffs=[4.15027,0.00754021,-2.62998e-06,4.15974e-10,-2.45408e-14,33856.6,1.72812], Tmin=(1000,'K'), Tmax=(6000,'K'))], Tmin=(200,'K'), Tmax=(6000,'K'), comment=\"\"\"Thermo library: Klippenstein_Glarborg2016\"\"\"), molecule=[Molecule(smiles=\"[CH]=C\")], transport_data=TransportData(shapeIndex=2, epsilon=(1737.72,'J/mol'), sigma=(4.1,'angstrom'), dipoleMoment=(0,'De'), polarizability=(0,'angstrom^3'), rotrelaxcollnum=1.0, comment=\"\"\"NOx2018\"\"\"), molecular_weight=(27.0452,'amu')))])"
      ]
     },
     "metadata": {},
     "output_type": "display_data"
    },
    {
     "name": "stdout",
     "output_type": "stream",
     "text": [
      "CH3OO(28) + C4H6O(271) => CH3OOH(34) + CH2CO(29) + C2H3(31)\n",
      "Arrhenius(A=(3.01e+12,'cm^3/(mol*s)'), n=0, Ea=(17.58,'kcal/mol'), T0=(1,'K'))\n",
      "Kinetic library: CurranPentane\n",
      "Direction: reverse\n",
      "Violation factor: 5.5e+03\n",
      "Violation condition: 500 K, 1.0 bar\n",
      "\n",
      "\n"
     ]
    },
    {
     "data": {
      "image/png": "[encoded data removed]",
      "text/plain": [
       "LibraryReaction(index=279, reactants=[Species(index=33, label=\"C2H2\", thermo=NASA(polynomials=[NASAPolynomial(coeffs=[0.80868,0.0233616,-3.55172e-05,2.80153e-08,-8.50075e-12,26429,13.9397], Tmin=(200,'K'), Tmax=(1000,'K')), NASAPolynomial(coeffs=[4.65878,0.00488397,-1.60829e-06,2.46975e-10,-1.38606e-14,25759.4,-3.99838], Tmin=(1000,'K'), Tmax=(6000,'K'))], Tmin=(200,'K'), Tmax=(6000,'K'), comment=\"\"\"Thermo library: Klippenstein_Glarborg2016\"\"\"), molecule=[Molecule(smiles=\"C#C\")], transport_data=TransportData(shapeIndex=1, epsilon=(1737.72,'J/mol'), sigma=(4.1,'angstrom'), dipoleMoment=(0,'De'), polarizability=(0,'angstrom^3'), rotrelaxcollnum=2.5, comment=\"\"\"NOx2018\"\"\"), molecular_weight=(26.0373,'amu'))], products=[Species(index=14, label=\"H\", thermo=NASA(polynomials=[NASAPolynomial(coeffs=[2.5,-2.38914e-13,3.12709e-16,-1.33367e-19,1.7499e-23,25472.7,-0.459566], Tmin=(100,'K'), Tmax=(4383.16,'K')), NASAPolynomial(coeffs=[2.50003,-3.04997e-08,1.01101e-11,-1.48797e-15,8.20356e-20,25472.7,-0.459785], Tmin=(4383.16,'K'), Tmax=(5000,'K'))], Tmin=(100,'K'), Tmax=(5000,'K'), comment=\"\"\"Thermo library: BurkeH2O2\"\"\"), molecule=[Molecule(smiles=\"[H]\")], transport_data=TransportData(shapeIndex=0, epsilon=(1205.6,'J/mol'), sigma=(2.05,'angstrom'), dipoleMoment=(0,'De'), polarizability=(0,'angstrom^3'), rotrelaxcollnum=0.0, comment=\"\"\"NOx2018\"\"\"), molecular_weight=(1.00794,'amu')), Species(index=4, label=\"C2H\", thermo=NASA(polynomials=[NASAPolynomial(coeffs=[2.89868,0.0132988,-2.80733e-05,2.89485e-08,-1.07502e-11,67061.6,6.18548], Tmin=(200,'K'), Tmax=(1000,'K')), NASAPolynomial(coeffs=[3.6627,0.00382492,-1.36633e-06,2.13455e-10,-1.23217e-14,67168.4,3.92206], Tmin=(1000,'K'), Tmax=(6000,'K'))], Tmin=(200,'K'), Tmax=(6000,'K'), comment=\"\"\"Thermo library: Klippenstein_Glarborg2016\"\"\"), molecule=[Molecule(smiles=\"[C]#C\")], transport_data=TransportData(shapeIndex=1, epsilon=(1737.72,'J/mol'), sigma=(4.1,'angstrom'), dipoleMoment=(0,'De'), polarizability=(0,'angstrom^3'), rotrelaxcollnum=2.5, comment=\"\"\"NOx2018\"\"\"), molecular_weight=(25.0293,'amu'))], kinetics=ThirdBody(arrheniusLow=Arrhenius(A=(9.1e+30,'cm^3/(mol*s)'), n=-3.7, Ea=(127.138,'kcal/mol'), T0=(1,'K')), efficiencies={Molecule(smiles=\"O=C=O\"): 3.0, Molecule(smiles=\"O\"): 5.0, Molecule(smiles=\"[C-]#[O+]\"): 2.0, Molecule(smiles=\"[H][H]\"): 2.0}), pairs=[(Species(index=33, label=\"C2H2\", thermo=NASA(polynomials=[NASAPolynomial(coeffs=[0.80868,0.0233616,-3.55172e-05,2.80153e-08,-8.50075e-12,26429,13.9397], Tmin=(200,'K'), Tmax=(1000,'K')), NASAPolynomial(coeffs=[4.65878,0.00488397,-1.60829e-06,2.46975e-10,-1.38606e-14,25759.4,-3.99838], Tmin=(1000,'K'), Tmax=(6000,'K'))], Tmin=(200,'K'), Tmax=(6000,'K'), comment=\"\"\"Thermo library: Klippenstein_Glarborg2016\"\"\"), molecule=[Molecule(smiles=\"C#C\")], transport_data=TransportData(shapeIndex=1, epsilon=(1737.72,'J/mol'), sigma=(4.1,'angstrom'), dipoleMoment=(0,'De'), polarizability=(0,'angstrom^3'), rotrelaxcollnum=2.5, comment=\"\"\"NOx2018\"\"\"), molecular_weight=(26.0373,'amu')), Species(index=14, label=\"H\", thermo=NASA(polynomials=[NASAPolynomial(coeffs=[2.5,-2.38914e-13,3.12709e-16,-1.33367e-19,1.7499e-23,25472.7,-0.459566], Tmin=(100,'K'), Tmax=(4383.16,'K')), NASAPolynomial(coeffs=[2.50003,-3.04997e-08,1.01101e-11,-1.48797e-15,8.20356e-20,25472.7,-0.459785], Tmin=(4383.16,'K'), Tmax=(5000,'K'))], Tmin=(100,'K'), Tmax=(5000,'K'), comment=\"\"\"Thermo library: BurkeH2O2\"\"\"), molecule=[Molecule(smiles=\"[H]\")], transport_data=TransportData(shapeIndex=0, epsilon=(1205.6,'J/mol'), sigma=(2.05,'angstrom'), dipoleMoment=(0,'De'), polarizability=(0,'angstrom^3'), rotrelaxcollnum=0.0, comment=\"\"\"NOx2018\"\"\"), molecular_weight=(1.00794,'amu'))), (Species(index=33, label=\"C2H2\", thermo=NASA(polynomials=[NASAPolynomial(coeffs=[0.80868,0.0233616,-3.55172e-05,2.80153e-08,-8.50075e-12,26429,13.9397], Tmin=(200,'K'), Tmax=(1000,'K')), NASAPolynomial(coeffs=[4.65878,0.00488397,-1.60829e-06,2.46975e-10,-1.38606e-14,25759.4,-3.99838], Tmin=(1000,'K'), Tmax=(6000,'K'))], Tmin=(200,'K'), Tmax=(6000,'K'), comment=\"\"\"Thermo library: Klippenstein_Glarborg2016\"\"\"), molecule=[Molecule(smiles=\"C#C\")], transport_data=TransportData(shapeIndex=1, epsilon=(1737.72,'J/mol'), sigma=(4.1,'angstrom'), dipoleMoment=(0,'De'), polarizability=(0,'angstrom^3'), rotrelaxcollnum=2.5, comment=\"\"\"NOx2018\"\"\"), molecular_weight=(26.0373,'amu')), Species(index=4, label=\"C2H\", thermo=NASA(polynomials=[NASAPolynomial(coeffs=[2.89868,0.0132988,-2.80733e-05,2.89485e-08,-1.07502e-11,67061.6,6.18548], Tmin=(200,'K'), Tmax=(1000,'K')), NASAPolynomial(coeffs=[3.6627,0.00382492,-1.36633e-06,2.13455e-10,-1.23217e-14,67168.4,3.92206], Tmin=(1000,'K'), Tmax=(6000,'K'))], Tmin=(200,'K'), Tmax=(6000,'K'), comment=\"\"\"Thermo library: Klippenstein_Glarborg2016\"\"\"), molecule=[Molecule(smiles=\"[C]#C\")], transport_data=TransportData(shapeIndex=1, epsilon=(1737.72,'J/mol'), sigma=(4.1,'angstrom'), dipoleMoment=(0,'De'), polarizability=(0,'angstrom^3'), rotrelaxcollnum=2.5, comment=\"\"\"NOx2018\"\"\"), molecular_weight=(25.0293,'amu')))])"
      ]
     },
     "metadata": {},
     "output_type": "display_data"
    },
    {
     "name": "stdout",
     "output_type": "stream",
     "text": [
      "C2H2(33) <=> H(14) + C2H(4)\n",
      "ThirdBody(arrheniusLow=Arrhenius(A=(9.1e+30,'cm^3/(mol*s)'), n=-3.7, Ea=(127.138,'kcal/mol'), T0=(1,'K')), efficiencies={Molecule(smiles=\"O=C=O\"): 3.0, Molecule(smiles=\"O\"): 5.0, Molecule(smiles=\"[C-]#[O+]\"): 2.0, Molecule(smiles=\"[H][H]\"): 2.0})\n",
      "Kinetic library: Klippenstein_Glarborg2016\n",
      "Direction: reverse\n",
      "Violation factor: 4.2e+03\n",
      "Violation condition: 500 K, 30.0 bar\n",
      "\n",
      "\n"
     ]
    },
    {
     "data": {
      "image/png": "[encoded data removed]",
      "text/plain": [
       "LibraryReaction(index=101, reactants=[Species(index=22, label=\"CH2\", thermo=NASA(polynomials=[NASAPolynomial(coeffs=[3.8328,0.000224446,4.68033e-06,-6.04743e-09,2.59009e-12,45920.8,1.40666], Tmin=(200,'K'), Tmax=(1000,'K')), NASAPolynomial(coeffs=[3.16229,0.00281798,-7.56235e-07,5.05446e-11,5.65236e-15,46099.1,4.77656], Tmin=(1000,'K'), Tmax=(3000,'K'))], Tmin=(200,'K'), Tmax=(3000,'K'), comment=\"\"\"Thermo library: Klippenstein_Glarborg2016\"\"\"), molecule=[Molecule(smiles=\"[CH2]\")], transport_data=TransportData(shapeIndex=2, epsilon=(1197.28,'J/mol'), sigma=(3.8,'angstrom'), dipoleMoment=(0,'De'), polarizability=(0,'angstrom^3'), rotrelaxcollnum=0.0, comment=\"\"\"NOx2018\"\"\"), molecular_weight=(14.0266,'amu'))], products=[Species(index=14, label=\"H\", thermo=NASA(polynomials=[NASAPolynomial(coeffs=[2.5,-2.38914e-13,3.12709e-16,-1.33367e-19,1.7499e-23,25472.7,-0.459566], Tmin=(100,'K'), Tmax=(4383.16,'K')), NASAPolynomial(coeffs=[2.50003,-3.04997e-08,1.01101e-11,-1.48797e-15,8.20356e-20,25472.7,-0.459785], Tmin=(4383.16,'K'), Tmax=(5000,'K'))], Tmin=(100,'K'), Tmax=(5000,'K'), comment=\"\"\"Thermo library: BurkeH2O2\"\"\"), molecule=[Molecule(smiles=\"[H]\")], transport_data=TransportData(shapeIndex=0, epsilon=(1205.6,'J/mol'), sigma=(2.05,'angstrom'), dipoleMoment=(0,'De'), polarizability=(0,'angstrom^3'), rotrelaxcollnum=0.0, comment=\"\"\"NOx2018\"\"\"), molecular_weight=(1.00794,'amu')), Species(index=3, label=\"CH\", thermo=NASA(polynomials=[NASAPolynomial(coeffs=[3.47159,0.000404745,-1.89388e-06,3.3321e-09,-1.51271e-12,70701.8,2.14542], Tmin=(200,'K'), Tmax=(1000,'K')), NASAPolynomial(coeffs=[2.66195,0.00170245,-6.83824e-07,1.3098e-10,-9.71843e-15,70958.9,6.52673], Tmin=(1000,'K'), Tmax=(3000,'K'))], Tmin=(200,'K'), Tmax=(3000,'K'), comment=\"\"\"Thermo library: Klippenstein_Glarborg2016\"\"\"), molecule=[Molecule(smiles=\"[CH]\")], transport_data=TransportData(shapeIndex=1, epsilon=(665.158,'J/mol'), sigma=(2.75,'angstrom'), dipoleMoment=(0,'De'), polarizability=(0,'angstrom^3'), rotrelaxcollnum=0.0, comment=\"\"\"NOx2018\"\"\"), molecular_weight=(13.0186,'amu'))], kinetics=ThirdBody(arrheniusLow=Arrhenius(A=(5.6e+15,'cm^3/(mol*s)'), n=0, Ea=(89,'kcal/mol'), T0=(1,'K')), efficiencies={}), pairs=[(Species(index=22, label=\"CH2\", thermo=NASA(polynomials=[NASAPolynomial(coeffs=[3.8328,0.000224446,4.68033e-06,-6.04743e-09,2.59009e-12,45920.8,1.40666], Tmin=(200,'K'), Tmax=(1000,'K')), NASAPolynomial(coeffs=[3.16229,0.00281798,-7.56235e-07,5.05446e-11,5.65236e-15,46099.1,4.77656], Tmin=(1000,'K'), Tmax=(3000,'K'))], Tmin=(200,'K'), Tmax=(3000,'K'), comment=\"\"\"Thermo library: Klippenstein_Glarborg2016\"\"\"), molecule=[Molecule(smiles=\"[CH2]\")], transport_data=TransportData(shapeIndex=2, epsilon=(1197.28,'J/mol'), sigma=(3.8,'angstrom'), dipoleMoment=(0,'De'), polarizability=(0,'angstrom^3'), rotrelaxcollnum=0.0, comment=\"\"\"NOx2018\"\"\"), molecular_weight=(14.0266,'amu')), Species(index=14, label=\"H\", thermo=NASA(polynomials=[NASAPolynomial(coeffs=[2.5,-2.38914e-13,3.12709e-16,-1.33367e-19,1.7499e-23,25472.7,-0.459566], Tmin=(100,'K'), Tmax=(4383.16,'K')), NASAPolynomial(coeffs=[2.50003,-3.04997e-08,1.01101e-11,-1.48797e-15,8.20356e-20,25472.7,-0.459785], Tmin=(4383.16,'K'), Tmax=(5000,'K'))], Tmin=(100,'K'), Tmax=(5000,'K'), comment=\"\"\"Thermo library: BurkeH2O2\"\"\"), molecule=[Molecule(smiles=\"[H]\")], transport_data=TransportData(shapeIndex=0, epsilon=(1205.6,'J/mol'), sigma=(2.05,'angstrom'), dipoleMoment=(0,'De'), polarizability=(0,'angstrom^3'), rotrelaxcollnum=0.0, comment=\"\"\"NOx2018\"\"\"), molecular_weight=(1.00794,'amu'))), (Species(index=22, label=\"CH2\", thermo=NASA(polynomials=[NASAPolynomial(coeffs=[3.8328,0.000224446,4.68033e-06,-6.04743e-09,2.59009e-12,45920.8,1.40666], Tmin=(200,'K'), Tmax=(1000,'K')), NASAPolynomial(coeffs=[3.16229,0.00281798,-7.56235e-07,5.05446e-11,5.65236e-15,46099.1,4.77656], Tmin=(1000,'K'), Tmax=(3000,'K'))], Tmin=(200,'K'), Tmax=(3000,'K'), comment=\"\"\"Thermo library: Klippenstein_Glarborg2016\"\"\"), molecule=[Molecule(smiles=\"[CH2]\")], transport_data=TransportData(shapeIndex=2, epsilon=(1197.28,'J/mol'), sigma=(3.8,'angstrom'), dipoleMoment=(0,'De'), polarizability=(0,'angstrom^3'), rotrelaxcollnum=0.0, comment=\"\"\"NOx2018\"\"\"), molecular_weight=(14.0266,'amu')), Species(index=3, label=\"CH\", thermo=NASA(polynomials=[NASAPolynomial(coeffs=[3.47159,0.000404745,-1.89388e-06,3.3321e-09,-1.51271e-12,70701.8,2.14542], Tmin=(200,'K'), Tmax=(1000,'K')), NASAPolynomial(coeffs=[2.66195,0.00170245,-6.83824e-07,1.3098e-10,-9.71843e-15,70958.9,6.52673], Tmin=(1000,'K'), Tmax=(3000,'K'))], Tmin=(200,'K'), Tmax=(3000,'K'), comment=\"\"\"Thermo library: Klippenstein_Glarborg2016\"\"\"), molecule=[Molecule(smiles=\"[CH]\")], transport_data=TransportData(shapeIndex=1, epsilon=(665.158,'J/mol'), sigma=(2.75,'angstrom'), dipoleMoment=(0,'De'), polarizability=(0,'angstrom^3'), rotrelaxcollnum=0.0, comment=\"\"\"NOx2018\"\"\"), molecular_weight=(13.0186,'amu')))])"
      ]
     },
     "metadata": {},
     "output_type": "display_data"
    },
    {
     "name": "stdout",
     "output_type": "stream",
     "text": [
      "CH2(22) <=> H(14) + CH(3)\n",
      "ThirdBody(arrheniusLow=Arrhenius(A=(5.6e+15,'cm^3/(mol*s)'), n=0, Ea=(89,'kcal/mol'), T0=(1,'K')), efficiencies={})\n",
      "Kinetic library: Klippenstein_Glarborg2016\n",
      "Direction: reverse\n",
      "Violation factor: 3.4e+02\n",
      "Violation condition: 500 K, 30.0 bar\n",
      "\n",
      "\n"
     ]
    },
    {
     "data": {
      "image/png": "[encoded data removed]",
      "text/plain": [
       "LibraryReaction(index=1688, reactants=[Species(index=17, label=\"HO2\", thermo=NASA(polynomials=[NASAPolynomial(coeffs=[4.02957,-0.00263999,1.52235e-05,-1.71679e-08,6.26771e-12,322.677,4.84424], Tmin=(100,'K'), Tmax=(923.9,'K')), NASAPolynomial(coeffs=[4.1513,0.00191152,-4.11308e-07,6.35038e-11,-4.86452e-15,83.4341,3.09359], Tmin=(923.9,'K'), Tmax=(5000,'K'))], Tmin=(100,'K'), Tmax=(5000,'K'), comment=\"\"\"Thermo library: BurkeH2O2\"\"\"), molecule=[Molecule(smiles=\"[O]O\")], transport_data=TransportData(shapeIndex=2, epsilon=(892.974,'J/mol'), sigma=(3.458,'angstrom'), dipoleMoment=(0,'De'), polarizability=(0,'angstrom^3'), rotrelaxcollnum=1.0, comment=\"\"\"NOx2018\"\"\"), molecular_weight=(33.0067,'amu')), Species(index=271, label=\"C4H6O\", thermo=NASA(polynomials=[NASAPolynomial(coeffs=[0.245579,0.0426432,-2.91127e-05,1.03478e-08,-1.53551e-12,-17030.5,26.4431], Tmin=(200,'K'), Tmax=(1386,'K')), NASAPolynomial(coeffs=[12.5572,0.0149673,-5.20015e-06,8.15864e-10,-4.76824e-14,-21462.3,-40.1434], Tmin=(1386,'K'), Tmax=(5000,'K'))], Tmin=(200,'K'), Tmax=(5000,'K'), comment=\"\"\"Thermo library: CurranPentane\"\"\"), molecule=[Molecule(smiles=\"C=CC(C)=O\")], transport_data=TransportData(shapeIndex=2, epsilon=(3355.73,'J/mol'), sigma=(5.472,'angstrom'), dipoleMoment=(0,'De'), polarizability=(0,'angstrom^3'), rotrelaxcollnum=0.0, comment=\"\"\"Epsilon & sigma estimated with Tc=524.16 K, Pc=46.47 bar (from Joback method)\"\"\"), molecular_weight=(70.0898,'amu'))], products=[Species(index=18, label=\"H2O2\", thermo=NASA(polynomials=[NASAPolynomial(coeffs=[3.72866,0.00413389,5.67454e-06,-1.0186e-08,4.28584e-12,-17696.4,5.35915], Tmin=(100,'K'), Tmax=(923.28,'K')), NASAPolynomial(coeffs=[4.95155,0.00354225,-1.01038e-06,1.61935e-10,-1.10204e-14,-18122.8,-1.52927], Tmin=(923.28,'K'), Tmax=(5000,'K'))], Tmin=(100,'K'), Tmax=(5000,'K'), comment=\"\"\"Thermo library: BurkeH2O2\"\"\"), molecule=[Molecule(smiles=\"OO\")], transport_data=TransportData(shapeIndex=2, epsilon=(2405.38,'J/mol'), sigma=(4.196,'angstrom'), dipoleMoment=(0,'De'), polarizability=(0,'angstrom^3'), rotrelaxcollnum=0.0, comment=\"\"\"PrimaryTransportLibrary\"\"\"), molecular_weight=(34.0147,'amu')), Species(index=29, label=\"CH2CO\", thermo=NASA(polynomials=[NASAPolynomial(coeffs=[2.13241,0.0181319,-1.74093e-05,9.35336e-09,-2.01725e-12,-7148.09,13.3808], Tmin=(200,'K'), Tmax=(1000,'K')), NASAPolynomial(coeffs=[5.75871,0.00635124,-2.25955e-06,3.62322e-10,-2.15856e-14,-8085.33,-4.9649], Tmin=(1000,'K'), Tmax=(6000,'K'))], Tmin=(200,'K'), Tmax=(6000,'K'), comment=\"\"\"Thermo library: Klippenstein_Glarborg2016\"\"\"), molecule=[Molecule(smiles=\"C=C=O\")], transport_data=TransportData(shapeIndex=2, epsilon=(3625.11,'J/mol'), sigma=(3.97,'angstrom'), dipoleMoment=(0,'De'), polarizability=(0,'angstrom^3'), rotrelaxcollnum=2.0, comment=\"\"\"NOx2018\"\"\"), molecular_weight=(42.0367,'amu')), Species(index=31, label=\"C2H3\", thermo=NASA(polynomials=[NASAPolynomial(coeffs=[3.36378,0.000265766,2.79621e-05,-3.72987e-08,1.5159e-11,34475,7.9151], Tmin=(200,'K'), Tmax=(1000,'K')), NASAPolynomial(coeffs=[4.15027,0.00754021,-2.62998e-06,4.15974e-10,-2.45408e-14,33856.6,1.72812], Tmin=(1000,'K'), Tmax=(6000,'K'))], Tmin=(200,'K'), Tmax=(6000,'K'), comment=\"\"\"Thermo library: Klippenstein_Glarborg2016\"\"\"), molecule=[Molecule(smiles=\"[CH]=C\")], transport_data=TransportData(shapeIndex=2, epsilon=(1737.72,'J/mol'), sigma=(4.1,'angstrom'), dipoleMoment=(0,'De'), polarizability=(0,'angstrom^3'), rotrelaxcollnum=1.0, comment=\"\"\"NOx2018\"\"\"), molecular_weight=(27.0452,'amu'))], kinetics=Arrhenius(A=(8.5e+12,'cm^3/(mol*s)'), n=0, Ea=(20.46,'kcal/mol'), T0=(1,'K')), reversible=False, pairs=[(Species(index=271, label=\"C4H6O\", thermo=NASA(polynomials=[NASAPolynomial(coeffs=[0.245579,0.0426432,-2.91127e-05,1.03478e-08,-1.53551e-12,-17030.5,26.4431], Tmin=(200,'K'), Tmax=(1386,'K')), NASAPolynomial(coeffs=[12.5572,0.0149673,-5.20015e-06,8.15864e-10,-4.76824e-14,-21462.3,-40.1434], Tmin=(1386,'K'), Tmax=(5000,'K'))], Tmin=(200,'K'), Tmax=(5000,'K'), comment=\"\"\"Thermo library: CurranPentane\"\"\"), molecule=[Molecule(smiles=\"C=CC(C)=O\")], transport_data=TransportData(shapeIndex=2, epsilon=(3355.73,'J/mol'), sigma=(5.472,'angstrom'), dipoleMoment=(0,'De'), polarizability=(0,'angstrom^3'), rotrelaxcollnum=0.0, comment=\"\"\"Epsilon & sigma estimated with Tc=524.16 K, Pc=46.47 bar (from Joback method)\"\"\"), molecular_weight=(70.0898,'amu')), Species(index=29, label=\"CH2CO\", thermo=NASA(polynomials=[NASAPolynomial(coeffs=[2.13241,0.0181319,-1.74093e-05,9.35336e-09,-2.01725e-12,-7148.09,13.3808], Tmin=(200,'K'), Tmax=(1000,'K')), NASAPolynomial(coeffs=[5.75871,0.00635124,-2.25955e-06,3.62322e-10,-2.15856e-14,-8085.33,-4.9649], Tmin=(1000,'K'), Tmax=(6000,'K'))], Tmin=(200,'K'), Tmax=(6000,'K'), comment=\"\"\"Thermo library: Klippenstein_Glarborg2016\"\"\"), molecule=[Molecule(smiles=\"C=C=O\")], transport_data=TransportData(shapeIndex=2, epsilon=(3625.11,'J/mol'), sigma=(3.97,'angstrom'), dipoleMoment=(0,'De'), polarizability=(0,'angstrom^3'), rotrelaxcollnum=2.0, comment=\"\"\"NOx2018\"\"\"), molecular_weight=(42.0367,'amu'))), (Species(index=17, label=\"HO2\", thermo=NASA(polynomials=[NASAPolynomial(coeffs=[4.02957,-0.00263999,1.52235e-05,-1.71679e-08,6.26771e-12,322.677,4.84424], Tmin=(100,'K'), Tmax=(923.9,'K')), NASAPolynomial(coeffs=[4.1513,0.00191152,-4.11308e-07,6.35038e-11,-4.86452e-15,83.4341,3.09359], Tmin=(923.9,'K'), Tmax=(5000,'K'))], Tmin=(100,'K'), Tmax=(5000,'K'), comment=\"\"\"Thermo library: BurkeH2O2\"\"\"), molecule=[Molecule(smiles=\"[O]O\")], transport_data=TransportData(shapeIndex=2, epsilon=(892.974,'J/mol'), sigma=(3.458,'angstrom'), dipoleMoment=(0,'De'), polarizability=(0,'angstrom^3'), rotrelaxcollnum=1.0, comment=\"\"\"NOx2018\"\"\"), molecular_weight=(33.0067,'amu')), Species(index=18, label=\"H2O2\", thermo=NASA(polynomials=[NASAPolynomial(coeffs=[3.72866,0.00413389,5.67454e-06,-1.0186e-08,4.28584e-12,-17696.4,5.35915], Tmin=(100,'K'), Tmax=(923.28,'K')), NASAPolynomial(coeffs=[4.95155,0.00354225,-1.01038e-06,1.61935e-10,-1.10204e-14,-18122.8,-1.52927], Tmin=(923.28,'K'), Tmax=(5000,'K'))], Tmin=(100,'K'), Tmax=(5000,'K'), comment=\"\"\"Thermo library: BurkeH2O2\"\"\"), molecule=[Molecule(smiles=\"OO\")], transport_data=TransportData(shapeIndex=2, epsilon=(2405.38,'J/mol'), sigma=(4.196,'angstrom'), dipoleMoment=(0,'De'), polarizability=(0,'angstrom^3'), rotrelaxcollnum=0.0, comment=\"\"\"PrimaryTransportLibrary\"\"\"), molecular_weight=(34.0147,'amu'))), (Species(index=17, label=\"HO2\", thermo=NASA(polynomials=[NASAPolynomial(coeffs=[4.02957,-0.00263999,1.52235e-05,-1.71679e-08,6.26771e-12,322.677,4.84424], Tmin=(100,'K'), Tmax=(923.9,'K')), NASAPolynomial(coeffs=[4.1513,0.00191152,-4.11308e-07,6.35038e-11,-4.86452e-15,83.4341,3.09359], Tmin=(923.9,'K'), Tmax=(5000,'K'))], Tmin=(100,'K'), Tmax=(5000,'K'), comment=\"\"\"Thermo library: BurkeH2O2\"\"\"), molecule=[Molecule(smiles=\"[O]O\")], transport_data=TransportData(shapeIndex=2, epsilon=(892.974,'J/mol'), sigma=(3.458,'angstrom'), dipoleMoment=(0,'De'), polarizability=(0,'angstrom^3'), rotrelaxcollnum=1.0, comment=\"\"\"NOx2018\"\"\"), molecular_weight=(33.0067,'amu')), Species(index=31, label=\"C2H3\", thermo=NASA(polynomials=[NASAPolynomial(coeffs=[3.36378,0.000265766,2.79621e-05,-3.72987e-08,1.5159e-11,34475,7.9151], Tmin=(200,'K'), Tmax=(1000,'K')), NASAPolynomial(coeffs=[4.15027,0.00754021,-2.62998e-06,4.15974e-10,-2.45408e-14,33856.6,1.72812], Tmin=(1000,'K'), Tmax=(6000,'K'))], Tmin=(200,'K'), Tmax=(6000,'K'), comment=\"\"\"Thermo library: Klippenstein_Glarborg2016\"\"\"), molecule=[Molecule(smiles=\"[CH]=C\")], transport_data=TransportData(shapeIndex=2, epsilon=(1737.72,'J/mol'), sigma=(4.1,'angstrom'), dipoleMoment=(0,'De'), polarizability=(0,'angstrom^3'), rotrelaxcollnum=1.0, comment=\"\"\"NOx2018\"\"\"), molecular_weight=(27.0452,'amu')))])"
      ]
     },
     "metadata": {},
     "output_type": "display_data"
    },
    {
     "name": "stdout",
     "output_type": "stream",
     "text": [
      "HO2(17) + C4H6O(271) => H2O2(18) + CH2CO(29) + C2H3(31)\n",
      "Arrhenius(A=(8.5e+12,'cm^3/(mol*s)'), n=0, Ea=(20.46,'kcal/mol'), T0=(1,'K'))\n",
      "Kinetic library: CurranPentane\n",
      "Direction: reverse\n",
      "Violation factor: 2.6e+02\n",
      "Violation condition: 500 K, 1.0 bar\n",
      "\n",
      "\n"
     ]
    },
    {
     "data": {
      "image/png": "[encoded data removed]",
      "text/plain": [
       "LibraryReaction(index=279, reactants=[Species(index=33, label=\"C2H2\", thermo=NASA(polynomials=[NASAPolynomial(coeffs=[0.80868,0.0233616,-3.55172e-05,2.80153e-08,-8.50075e-12,26429,13.9397], Tmin=(200,'K'), Tmax=(1000,'K')), NASAPolynomial(coeffs=[4.65878,0.00488397,-1.60829e-06,2.46975e-10,-1.38606e-14,25759.4,-3.99838], Tmin=(1000,'K'), Tmax=(6000,'K'))], Tmin=(200,'K'), Tmax=(6000,'K'), comment=\"\"\"Thermo library: Klippenstein_Glarborg2016\"\"\"), molecule=[Molecule(smiles=\"C#C\")], transport_data=TransportData(shapeIndex=1, epsilon=(1737.72,'J/mol'), sigma=(4.1,'angstrom'), dipoleMoment=(0,'De'), polarizability=(0,'angstrom^3'), rotrelaxcollnum=2.5, comment=\"\"\"NOx2018\"\"\"), molecular_weight=(26.0373,'amu'))], products=[Species(index=14, label=\"H\", thermo=NASA(polynomials=[NASAPolynomial(coeffs=[2.5,-2.38914e-13,3.12709e-16,-1.33367e-19,1.7499e-23,25472.7,-0.459566], Tmin=(100,'K'), Tmax=(4383.16,'K')), NASAPolynomial(coeffs=[2.50003,-3.04997e-08,1.01101e-11,-1.48797e-15,8.20356e-20,25472.7,-0.459785], Tmin=(4383.16,'K'), Tmax=(5000,'K'))], Tmin=(100,'K'), Tmax=(5000,'K'), comment=\"\"\"Thermo library: BurkeH2O2\"\"\"), molecule=[Molecule(smiles=\"[H]\")], transport_data=TransportData(shapeIndex=0, epsilon=(1205.6,'J/mol'), sigma=(2.05,'angstrom'), dipoleMoment=(0,'De'), polarizability=(0,'angstrom^3'), rotrelaxcollnum=0.0, comment=\"\"\"NOx2018\"\"\"), molecular_weight=(1.00794,'amu')), Species(index=4, label=\"C2H\", thermo=NASA(polynomials=[NASAPolynomial(coeffs=[2.89868,0.0132988,-2.80733e-05,2.89485e-08,-1.07502e-11,67061.6,6.18548], Tmin=(200,'K'), Tmax=(1000,'K')), NASAPolynomial(coeffs=[3.6627,0.00382492,-1.36633e-06,2.13455e-10,-1.23217e-14,67168.4,3.92206], Tmin=(1000,'K'), Tmax=(6000,'K'))], Tmin=(200,'K'), Tmax=(6000,'K'), comment=\"\"\"Thermo library: Klippenstein_Glarborg2016\"\"\"), molecule=[Molecule(smiles=\"[C]#C\")], transport_data=TransportData(shapeIndex=1, epsilon=(1737.72,'J/mol'), sigma=(4.1,'angstrom'), dipoleMoment=(0,'De'), polarizability=(0,'angstrom^3'), rotrelaxcollnum=2.5, comment=\"\"\"NOx2018\"\"\"), molecular_weight=(25.0293,'amu'))], kinetics=ThirdBody(arrheniusLow=Arrhenius(A=(9.1e+30,'cm^3/(mol*s)'), n=-3.7, Ea=(127.138,'kcal/mol'), T0=(1,'K')), efficiencies={Molecule(smiles=\"O=C=O\"): 3.0, Molecule(smiles=\"O\"): 5.0, Molecule(smiles=\"[C-]#[O+]\"): 2.0, Molecule(smiles=\"[H][H]\"): 2.0}), pairs=[(Species(index=33, label=\"C2H2\", thermo=NASA(polynomials=[NASAPolynomial(coeffs=[0.80868,0.0233616,-3.55172e-05,2.80153e-08,-8.50075e-12,26429,13.9397], Tmin=(200,'K'), Tmax=(1000,'K')), NASAPolynomial(coeffs=[4.65878,0.00488397,-1.60829e-06,2.46975e-10,-1.38606e-14,25759.4,-3.99838], Tmin=(1000,'K'), Tmax=(6000,'K'))], Tmin=(200,'K'), Tmax=(6000,'K'), comment=\"\"\"Thermo library: Klippenstein_Glarborg2016\"\"\"), molecule=[Molecule(smiles=\"C#C\")], transport_data=TransportData(shapeIndex=1, epsilon=(1737.72,'J/mol'), sigma=(4.1,'angstrom'), dipoleMoment=(0,'De'), polarizability=(0,'angstrom^3'), rotrelaxcollnum=2.5, comment=\"\"\"NOx2018\"\"\"), molecular_weight=(26.0373,'amu')), Species(index=14, label=\"H\", thermo=NASA(polynomials=[NASAPolynomial(coeffs=[2.5,-2.38914e-13,3.12709e-16,-1.33367e-19,1.7499e-23,25472.7,-0.459566], Tmin=(100,'K'), Tmax=(4383.16,'K')), NASAPolynomial(coeffs=[2.50003,-3.04997e-08,1.01101e-11,-1.48797e-15,8.20356e-20,25472.7,-0.459785], Tmin=(4383.16,'K'), Tmax=(5000,'K'))], Tmin=(100,'K'), Tmax=(5000,'K'), comment=\"\"\"Thermo library: BurkeH2O2\"\"\"), molecule=[Molecule(smiles=\"[H]\")], transport_data=TransportData(shapeIndex=0, epsilon=(1205.6,'J/mol'), sigma=(2.05,'angstrom'), dipoleMoment=(0,'De'), polarizability=(0,'angstrom^3'), rotrelaxcollnum=0.0, comment=\"\"\"NOx2018\"\"\"), molecular_weight=(1.00794,'amu'))), (Species(index=33, label=\"C2H2\", thermo=NASA(polynomials=[NASAPolynomial(coeffs=[0.80868,0.0233616,-3.55172e-05,2.80153e-08,-8.50075e-12,26429,13.9397], Tmin=(200,'K'), Tmax=(1000,'K')), NASAPolynomial(coeffs=[4.65878,0.00488397,-1.60829e-06,2.46975e-10,-1.38606e-14,25759.4,-3.99838], Tmin=(1000,'K'), Tmax=(6000,'K'))], Tmin=(200,'K'), Tmax=(6000,'K'), comment=\"\"\"Thermo library: Klippenstein_Glarborg2016\"\"\"), molecule=[Molecule(smiles=\"C#C\")], transport_data=TransportData(shapeIndex=1, epsilon=(1737.72,'J/mol'), sigma=(4.1,'angstrom'), dipoleMoment=(0,'De'), polarizability=(0,'angstrom^3'), rotrelaxcollnum=2.5, comment=\"\"\"NOx2018\"\"\"), molecular_weight=(26.0373,'amu')), Species(index=4, label=\"C2H\", thermo=NASA(polynomials=[NASAPolynomial(coeffs=[2.89868,0.0132988,-2.80733e-05,2.89485e-08,-1.07502e-11,67061.6,6.18548], Tmin=(200,'K'), Tmax=(1000,'K')), NASAPolynomial(coeffs=[3.6627,0.00382492,-1.36633e-06,2.13455e-10,-1.23217e-14,67168.4,3.92206], Tmin=(1000,'K'), Tmax=(6000,'K'))], Tmin=(200,'K'), Tmax=(6000,'K'), comment=\"\"\"Thermo library: Klippenstein_Glarborg2016\"\"\"), molecule=[Molecule(smiles=\"[C]#C\")], transport_data=TransportData(shapeIndex=1, epsilon=(1737.72,'J/mol'), sigma=(4.1,'angstrom'), dipoleMoment=(0,'De'), polarizability=(0,'angstrom^3'), rotrelaxcollnum=2.5, comment=\"\"\"NOx2018\"\"\"), molecular_weight=(25.0293,'amu')))])"
      ]
     },
     "metadata": {},
     "output_type": "display_data"
    },
    {
     "name": "stdout",
     "output_type": "stream",
     "text": [
      "C2H2(33) <=> H(14) + C2H(4)\n",
      "ThirdBody(arrheniusLow=Arrhenius(A=(9.1e+30,'cm^3/(mol*s)'), n=-3.7, Ea=(127.138,'kcal/mol'), T0=(1,'K')), efficiencies={Molecule(smiles=\"O=C=O\"): 3.0, Molecule(smiles=\"O\"): 5.0, Molecule(smiles=\"[C-]#[O+]\"): 2.0, Molecule(smiles=\"[H][H]\"): 2.0})\n",
      "Kinetic library: Klippenstein_Glarborg2016\n",
      "Direction: reverse\n",
      "Violation factor: 1.4e+02\n",
      "Violation condition: 500 K, 1.0 bar\n",
      "\n",
      "\n"
     ]
    },
    {
     "data": {
      "image/png": "[encoded data removed]",
      "text/plain": [
       "LibraryReaction(index=583, reactants=[Species(index=9, label=\"CH2O\", thermo=NASA(polynomials=[NASAPolynomial(coeffs=[4.79372,-0.00990833,3.7322e-05,-3.79285e-08,1.31773e-11,-14379.2,0.602798], Tmin=(200,'K'), Tmax=(1000,'K')), NASAPolynomial(coeffs=[3.16953,0.00619321,-2.25056e-06,3.65976e-10,-2.20149e-14,-14548.7,6.04208], Tmin=(1000,'K'), Tmax=(6000,'K'))], Tmin=(200,'K'), Tmax=(6000,'K'), comment=\"\"\"Thermo library: Klippenstein_Glarborg2016\"\"\"), molecule=[Molecule(smiles=\"C=O\")], transport_data=TransportData(shapeIndex=2, epsilon=(4140.61,'J/mol'), sigma=(3.59,'angstrom'), dipoleMoment=(0,'De'), polarizability=(0,'angstrom^3'), rotrelaxcollnum=2.0, comment=\"\"\"NOx2018\"\"\"), molecular_weight=(30.026,'amu')), Species(index=56, label=\"C2H5O3\", thermo=NASA(polynomials=[NASAPolynomial(coeffs=[0.556418,0.0412519,-3.10647e-05,1.2293e-08,-1.99691e-12,-22047.4,24.9983], Tmin=(298,'K'), Tmax=(800,'K')), NASAPolynomial(coeffs=[0.556418,0.0412519,-3.10647e-05,1.2293e-08,-1.99691e-12,-22047.4,24.9983], Tmin=(800,'K'), Tmax=(2500,'K'))], Tmin=(298,'K'), Tmax=(2500,'K'), comment=\"\"\"Thermo library: Klippenstein_Glarborg2016\"\"\"), molecule=[Molecule(smiles=\"[O]OCCO\")], transport_data=TransportData(shapeIndex=2, epsilon=(3284.22,'J/mol'), sigma=(4.037,'angstrom'), dipoleMoment=(1.3,'De'), polarizability=(0,'angstrom^3'), rotrelaxcollnum=1.0, comment=\"\"\"NOx2018\"\"\"), molecular_weight=(77.0593,'amu'))], products=[Species(index=20, label=\"HCO\", thermo=NASA(polynomials=[NASAPolynomial(coeffs=[4.23755,-0.00332075,1.4003e-05,-1.3424e-08,4.37416e-12,3872.41,3.30835], Tmin=(200,'K'), Tmax=(1000,'K')), NASAPolynomial(coeffs=[3.92002,0.00252279,-6.71004e-07,1.05616e-10,-7.43798e-15,3653.43,3.58077], Tmin=(1000,'K'), Tmax=(6000,'K'))], Tmin=(200,'K'), Tmax=(6000,'K'), comment=\"\"\"Thermo library: Klippenstein_Glarborg2016\"\"\"), molecule=[Molecule(smiles=\"[CH]=O\")], transport_data=TransportData(shapeIndex=2, epsilon=(4140.61,'J/mol'), sigma=(3.59,'angstrom'), dipoleMoment=(0,'De'), polarizability=(0,'angstrom^3'), rotrelaxcollnum=0.0, comment=\"\"\"NOx2018\"\"\"), molecular_weight=(29.018,'amu')), Species(index=25, label=\"CH2OH\", thermo=NASA(polynomials=[NASAPolynomial(coeffs=[4.47834,-0.0013507,2.78485e-05,-3.64869e-08,1.47907e-11,-3500.73,3.30913], Tmin=(200,'K'), Tmax=(1000,'K')), NASAPolynomial(coeffs=[5.09314,0.00594761,-2.06497e-06,3.23008e-10,-1.88126e-14,-4034.1,-1.84691], Tmin=(1000,'K'), Tmax=(6000,'K'))], Tmin=(200,'K'), Tmax=(6000,'K'), comment=\"\"\"Thermo library: Klippenstein_Glarborg2016\"\"\"), molecule=[Molecule(smiles=\"[CH2]O\")], transport_data=TransportData(shapeIndex=2, epsilon=(3467.13,'J/mol'), sigma=(3.69,'angstrom'), dipoleMoment=(1.7,'De'), polarizability=(0,'angstrom^3'), rotrelaxcollnum=2.0, comment=\"\"\"NOx2018\"\"\"), molecular_weight=(31.0339,'amu')), Species(index=35, label=\"CH2OOH\", thermo=NASA(polynomials=[NASAPolynomial(coeffs=[5.83127,-0.00351771,4.54551e-05,-5.66903e-08,2.21633e-11,6061.87,-0.579143], Tmin=(200,'K'), Tmax=(1000,'K')), NASAPolynomial(coeffs=[6.98746,0.00900484,-3.24367e-06,5.24325e-10,-3.13587e-14,5012.58,-10.2619], Tmin=(1000,'K'), Tmax=(2500,'K'))], Tmin=(200,'K'), Tmax=(2500,'K'), comment=\"\"\"Thermo library: Klippenstein_Glarborg2016\"\"\"), molecule=[Molecule(smiles=\"[CH2]OO\")], transport_data=TransportData(shapeIndex=2, epsilon=(3467.13,'J/mol'), sigma=(3.69,'angstrom'), dipoleMoment=(1.7,'De'), polarizability=(0,'angstrom^3'), rotrelaxcollnum=2.0, comment=\"\"\"NOx2018\"\"\"), molecular_weight=(47.0333,'amu'))], kinetics=Arrhenius(A=(41000,'cm^3/(mol*s)'), n=2.5, Ea=(10.206,'kcal/mol'), T0=(1,'K')), reversible=False, pairs=[(Species(index=56, label=\"C2H5O3\", thermo=NASA(polynomials=[NASAPolynomial(coeffs=[0.556418,0.0412519,-3.10647e-05,1.2293e-08,-1.99691e-12,-22047.4,24.9983], Tmin=(298,'K'), Tmax=(800,'K')), NASAPolynomial(coeffs=[0.556418,0.0412519,-3.10647e-05,1.2293e-08,-1.99691e-12,-22047.4,24.9983], Tmin=(800,'K'), Tmax=(2500,'K'))], Tmin=(298,'K'), Tmax=(2500,'K'), comment=\"\"\"Thermo library: Klippenstein_Glarborg2016\"\"\"), molecule=[Molecule(smiles=\"[O]OCCO\")], transport_data=TransportData(shapeIndex=2, epsilon=(3284.22,'J/mol'), sigma=(4.037,'angstrom'), dipoleMoment=(1.3,'De'), polarizability=(0,'angstrom^3'), rotrelaxcollnum=1.0, comment=\"\"\"NOx2018\"\"\"), molecular_weight=(77.0593,'amu')), Species(index=35, label=\"CH2OOH\", thermo=NASA(polynomials=[NASAPolynomial(coeffs=[5.83127,-0.00351771,4.54551e-05,-5.66903e-08,2.21633e-11,6061.87,-0.579143], Tmin=(200,'K'), Tmax=(1000,'K')), NASAPolynomial(coeffs=[6.98746,0.00900484,-3.24367e-06,5.24325e-10,-3.13587e-14,5012.58,-10.2619], Tmin=(1000,'K'), Tmax=(2500,'K'))], Tmin=(200,'K'), Tmax=(2500,'K'), comment=\"\"\"Thermo library: Klippenstein_Glarborg2016\"\"\"), molecule=[Molecule(smiles=\"[CH2]OO\")], transport_data=TransportData(shapeIndex=2, epsilon=(3467.13,'J/mol'), sigma=(3.69,'angstrom'), dipoleMoment=(1.7,'De'), polarizability=(0,'angstrom^3'), rotrelaxcollnum=2.0, comment=\"\"\"NOx2018\"\"\"), molecular_weight=(47.0333,'amu'))), (Species(index=9, label=\"CH2O\", thermo=NASA(polynomials=[NASAPolynomial(coeffs=[4.79372,-0.00990833,3.7322e-05,-3.79285e-08,1.31773e-11,-14379.2,0.602798], Tmin=(200,'K'), Tmax=(1000,'K')), NASAPolynomial(coeffs=[3.16953,0.00619321,-2.25056e-06,3.65976e-10,-2.20149e-14,-14548.7,6.04208], Tmin=(1000,'K'), Tmax=(6000,'K'))], Tmin=(200,'K'), Tmax=(6000,'K'), comment=\"\"\"Thermo library: Klippenstein_Glarborg2016\"\"\"), molecule=[Molecule(smiles=\"C=O\")], transport_data=TransportData(shapeIndex=2, epsilon=(4140.61,'J/mol'), sigma=(3.59,'angstrom'), dipoleMoment=(0,'De'), polarizability=(0,'angstrom^3'), rotrelaxcollnum=2.0, comment=\"\"\"NOx2018\"\"\"), molecular_weight=(30.026,'amu')), Species(index=20, label=\"HCO\", thermo=NASA(polynomials=[NASAPolynomial(coeffs=[4.23755,-0.00332075,1.4003e-05,-1.3424e-08,4.37416e-12,3872.41,3.30835], Tmin=(200,'K'), Tmax=(1000,'K')), NASAPolynomial(coeffs=[3.92002,0.00252279,-6.71004e-07,1.05616e-10,-7.43798e-15,3653.43,3.58077], Tmin=(1000,'K'), Tmax=(6000,'K'))], Tmin=(200,'K'), Tmax=(6000,'K'), comment=\"\"\"Thermo library: Klippenstein_Glarborg2016\"\"\"), molecule=[Molecule(smiles=\"[CH]=O\")], transport_data=TransportData(shapeIndex=2, epsilon=(4140.61,'J/mol'), sigma=(3.59,'angstrom'), dipoleMoment=(0,'De'), polarizability=(0,'angstrom^3'), rotrelaxcollnum=0.0, comment=\"\"\"NOx2018\"\"\"), molecular_weight=(29.018,'amu'))), (Species(index=9, label=\"CH2O\", thermo=NASA(polynomials=[NASAPolynomial(coeffs=[4.79372,-0.00990833,3.7322e-05,-3.79285e-08,1.31773e-11,-14379.2,0.602798], Tmin=(200,'K'), Tmax=(1000,'K')), NASAPolynomial(coeffs=[3.16953,0.00619321,-2.25056e-06,3.65976e-10,-2.20149e-14,-14548.7,6.04208], Tmin=(1000,'K'), Tmax=(6000,'K'))], Tmin=(200,'K'), Tmax=(6000,'K'), comment=\"\"\"Thermo library: Klippenstein_Glarborg2016\"\"\"), molecule=[Molecule(smiles=\"C=O\")], transport_data=TransportData(shapeIndex=2, epsilon=(4140.61,'J/mol'), sigma=(3.59,'angstrom'), dipoleMoment=(0,'De'), polarizability=(0,'angstrom^3'), rotrelaxcollnum=2.0, comment=\"\"\"NOx2018\"\"\"), molecular_weight=(30.026,'amu')), Species(index=25, label=\"CH2OH\", thermo=NASA(polynomials=[NASAPolynomial(coeffs=[4.47834,-0.0013507,2.78485e-05,-3.64869e-08,1.47907e-11,-3500.73,3.30913], Tmin=(200,'K'), Tmax=(1000,'K')), NASAPolynomial(coeffs=[5.09314,0.00594761,-2.06497e-06,3.23008e-10,-1.88126e-14,-4034.1,-1.84691], Tmin=(1000,'K'), Tmax=(6000,'K'))], Tmin=(200,'K'), Tmax=(6000,'K'), comment=\"\"\"Thermo library: Klippenstein_Glarborg2016\"\"\"), molecule=[Molecule(smiles=\"[CH2]O\")], transport_data=TransportData(shapeIndex=2, epsilon=(3467.13,'J/mol'), sigma=(3.69,'angstrom'), dipoleMoment=(1.7,'De'), polarizability=(0,'angstrom^3'), rotrelaxcollnum=2.0, comment=\"\"\"NOx2018\"\"\"), molecular_weight=(31.0339,'amu')))])"
      ]
     },
     "metadata": {},
     "output_type": "display_data"
    },
    {
     "name": "stdout",
     "output_type": "stream",
     "text": [
      "CH2O(9) + C2H5O3(56) => HCO(20) + CH2OH(25) + CH2OOH(35)\n",
      "Arrhenius(A=(41000,'cm^3/(mol*s)'), n=2.5, Ea=(10.206,'kcal/mol'), T0=(1,'K'))\n",
      "Kinetic library: Klippenstein_Glarborg2016\n",
      "Direction: reverse\n",
      "Violation factor: 1e+02\n",
      "Violation condition: 1000 K, 1.0 bar\n",
      "\n",
      "\n"
     ]
    },
    {
     "data": {
      "image/png": "[encoded data removed]",
      "text/plain": [
       "LibraryReaction(index=78, reactants=[Species(index=21, label=\"CH3\", thermo=NASA(polynomials=[NASAPolynomial(coeffs=[3.65718,0.0021266,5.45839e-06,-6.6181e-09,2.46571e-12,16422.7,1.67354], Tmin=(200,'K'), Tmax=(1000,'K')), NASAPolynomial(coeffs=[2.97812,0.00579785,-1.97558e-06,3.07298e-10,-1.79174e-14,16509.5,4.72248], Tmin=(1000,'K'), Tmax=(6000,'K'))], Tmin=(200,'K'), Tmax=(6000,'K'), comment=\"\"\"Thermo library: Klippenstein_Glarborg2016\"\"\"), molecule=[Molecule(smiles=\"[CH3]\")], transport_data=TransportData(shapeIndex=2, epsilon=(1197.28,'J/mol'), sigma=(3.8,'angstrom'), dipoleMoment=(0,'De'), polarizability=(0,'angstrom^3'), rotrelaxcollnum=0.0, comment=\"\"\"NOx2018\"\"\"), molecular_weight=(15.0345,'amu'))], products=[Species(index=14, label=\"H\", thermo=NASA(polynomials=[NASAPolynomial(coeffs=[2.5,-2.38914e-13,3.12709e-16,-1.33367e-19,1.7499e-23,25472.7,-0.459566], Tmin=(100,'K'), Tmax=(4383.16,'K')), NASAPolynomial(coeffs=[2.50003,-3.04997e-08,1.01101e-11,-1.48797e-15,8.20356e-20,25472.7,-0.459785], Tmin=(4383.16,'K'), Tmax=(5000,'K'))], Tmin=(100,'K'), Tmax=(5000,'K'), comment=\"\"\"Thermo library: BurkeH2O2\"\"\"), molecule=[Molecule(smiles=\"[H]\")], transport_data=TransportData(shapeIndex=0, epsilon=(1205.6,'J/mol'), sigma=(2.05,'angstrom'), dipoleMoment=(0,'De'), polarizability=(0,'angstrom^3'), rotrelaxcollnum=0.0, comment=\"\"\"NOx2018\"\"\"), molecular_weight=(1.00794,'amu')), Species(index=22, label=\"CH2\", thermo=NASA(polynomials=[NASAPolynomial(coeffs=[3.8328,0.000224446,4.68033e-06,-6.04743e-09,2.59009e-12,45920.8,1.40666], Tmin=(200,'K'), Tmax=(1000,'K')), NASAPolynomial(coeffs=[3.16229,0.00281798,-7.56235e-07,5.05446e-11,5.65236e-15,46099.1,4.77656], Tmin=(1000,'K'), Tmax=(3000,'K'))], Tmin=(200,'K'), Tmax=(3000,'K'), comment=\"\"\"Thermo library: Klippenstein_Glarborg2016\"\"\"), molecule=[Molecule(smiles=\"[CH2]\")], transport_data=TransportData(shapeIndex=2, epsilon=(1197.28,'J/mol'), sigma=(3.8,'angstrom'), dipoleMoment=(0,'De'), polarizability=(0,'angstrom^3'), rotrelaxcollnum=0.0, comment=\"\"\"NOx2018\"\"\"), molecular_weight=(14.0266,'amu'))], kinetics=ThirdBody(arrheniusLow=Arrhenius(A=(2.2e+15,'cm^3/(mol*s)'), n=0, Ea=(82.659,'kcal/mol'), T0=(1,'K')), efficiencies={}), pairs=[(Species(index=21, label=\"CH3\", thermo=NASA(polynomials=[NASAPolynomial(coeffs=[3.65718,0.0021266,5.45839e-06,-6.6181e-09,2.46571e-12,16422.7,1.67354], Tmin=(200,'K'), Tmax=(1000,'K')), NASAPolynomial(coeffs=[2.97812,0.00579785,-1.97558e-06,3.07298e-10,-1.79174e-14,16509.5,4.72248], Tmin=(1000,'K'), Tmax=(6000,'K'))], Tmin=(200,'K'), Tmax=(6000,'K'), comment=\"\"\"Thermo library: Klippenstein_Glarborg2016\"\"\"), molecule=[Molecule(smiles=\"[CH3]\")], transport_data=TransportData(shapeIndex=2, epsilon=(1197.28,'J/mol'), sigma=(3.8,'angstrom'), dipoleMoment=(0,'De'), polarizability=(0,'angstrom^3'), rotrelaxcollnum=0.0, comment=\"\"\"NOx2018\"\"\"), molecular_weight=(15.0345,'amu')), Species(index=14, label=\"H\", thermo=NASA(polynomials=[NASAPolynomial(coeffs=[2.5,-2.38914e-13,3.12709e-16,-1.33367e-19,1.7499e-23,25472.7,-0.459566], Tmin=(100,'K'), Tmax=(4383.16,'K')), NASAPolynomial(coeffs=[2.50003,-3.04997e-08,1.01101e-11,-1.48797e-15,8.20356e-20,25472.7,-0.459785], Tmin=(4383.16,'K'), Tmax=(5000,'K'))], Tmin=(100,'K'), Tmax=(5000,'K'), comment=\"\"\"Thermo library: BurkeH2O2\"\"\"), molecule=[Molecule(smiles=\"[H]\")], transport_data=TransportData(shapeIndex=0, epsilon=(1205.6,'J/mol'), sigma=(2.05,'angstrom'), dipoleMoment=(0,'De'), polarizability=(0,'angstrom^3'), rotrelaxcollnum=0.0, comment=\"\"\"NOx2018\"\"\"), molecular_weight=(1.00794,'amu'))), (Species(index=21, label=\"CH3\", thermo=NASA(polynomials=[NASAPolynomial(coeffs=[3.65718,0.0021266,5.45839e-06,-6.6181e-09,2.46571e-12,16422.7,1.67354], Tmin=(200,'K'), Tmax=(1000,'K')), NASAPolynomial(coeffs=[2.97812,0.00579785,-1.97558e-06,3.07298e-10,-1.79174e-14,16509.5,4.72248], Tmin=(1000,'K'), Tmax=(6000,'K'))], Tmin=(200,'K'), Tmax=(6000,'K'), comment=\"\"\"Thermo library: Klippenstein_Glarborg2016\"\"\"), molecule=[Molecule(smiles=\"[CH3]\")], transport_data=TransportData(shapeIndex=2, epsilon=(1197.28,'J/mol'), sigma=(3.8,'angstrom'), dipoleMoment=(0,'De'), polarizability=(0,'angstrom^3'), rotrelaxcollnum=0.0, comment=\"\"\"NOx2018\"\"\"), molecular_weight=(15.0345,'amu')), Species(index=22, label=\"CH2\", thermo=NASA(polynomials=[NASAPolynomial(coeffs=[3.8328,0.000224446,4.68033e-06,-6.04743e-09,2.59009e-12,45920.8,1.40666], Tmin=(200,'K'), Tmax=(1000,'K')), NASAPolynomial(coeffs=[3.16229,0.00281798,-7.56235e-07,5.05446e-11,5.65236e-15,46099.1,4.77656], Tmin=(1000,'K'), Tmax=(3000,'K'))], Tmin=(200,'K'), Tmax=(3000,'K'), comment=\"\"\"Thermo library: Klippenstein_Glarborg2016\"\"\"), molecule=[Molecule(smiles=\"[CH2]\")], transport_data=TransportData(shapeIndex=2, epsilon=(1197.28,'J/mol'), sigma=(3.8,'angstrom'), dipoleMoment=(0,'De'), polarizability=(0,'angstrom^3'), rotrelaxcollnum=0.0, comment=\"\"\"NOx2018\"\"\"), molecular_weight=(14.0266,'amu')))])"
      ]
     },
     "metadata": {},
     "output_type": "display_data"
    },
    {
     "name": "stdout",
     "output_type": "stream",
     "text": [
      "CH3(21) <=> H(14) + CH2(22)\n",
      "ThirdBody(arrheniusLow=Arrhenius(A=(2.2e+15,'cm^3/(mol*s)'), n=0, Ea=(82.659,'kcal/mol'), T0=(1,'K')), efficiencies={})\n",
      "Kinetic library: Klippenstein_Glarborg2016\n",
      "Direction: reverse\n",
      "Violation factor: 52\n",
      "Violation condition: 1000 K, 30.0 bar\n",
      "\n",
      "\n"
     ]
    },
    {
     "data": {
      "image/png": "[encoded data removed]",
      "text/plain": [
       "LibraryReaction(index=77, reactants=[Species(index=21, label=\"CH3\", thermo=NASA(polynomials=[NASAPolynomial(coeffs=[3.65718,0.0021266,5.45839e-06,-6.6181e-09,2.46571e-12,16422.7,1.67354], Tmin=(200,'K'), Tmax=(1000,'K')), NASAPolynomial(coeffs=[2.97812,0.00579785,-1.97558e-06,3.07298e-10,-1.79174e-14,16509.5,4.72248], Tmin=(1000,'K'), Tmax=(6000,'K'))], Tmin=(200,'K'), Tmax=(6000,'K'), comment=\"\"\"Thermo library: Klippenstein_Glarborg2016\"\"\"), molecule=[Molecule(smiles=\"[CH3]\")], transport_data=TransportData(shapeIndex=2, epsilon=(1197.28,'J/mol'), sigma=(3.8,'angstrom'), dipoleMoment=(0,'De'), polarizability=(0,'angstrom^3'), rotrelaxcollnum=0.0, comment=\"\"\"NOx2018\"\"\"), molecular_weight=(15.0345,'amu'))], products=[Species(index=13, label=\"H2\", thermo=NASA(polynomials=[NASAPolynomial(coeffs=[3.42254,0.000286646,-4.14662e-07,4.27541e-10,-9.38103e-14,-1029.78,-3.86365], Tmin=(100,'K'), Tmax=(1962.86,'K')), NASAPolynomial(coeffs=[2.74214,0.000579597,1.97176e-07,-6.4104e-11,4.95964e-15,-552.011,0.414362], Tmin=(1962.86,'K'), Tmax=(5000,'K'))], Tmin=(100,'K'), Tmax=(5000,'K'), comment=\"\"\"Thermo library: BurkeH2O2\"\"\"), molecule=[Molecule(smiles=\"[H][H]\")], transport_data=TransportData(shapeIndex=1, epsilon=(496.374,'J/mol'), sigma=(2.833,'angstrom'), dipoleMoment=(0,'De'), polarizability=(0,'angstrom^3'), rotrelaxcollnum=0.0, comment=\"\"\"PrimaryTransportLibrary\"\"\"), molecular_weight=(2.01588,'amu')), Species(index=3, label=\"CH\", thermo=NASA(polynomials=[NASAPolynomial(coeffs=[3.47159,0.000404745,-1.89388e-06,3.3321e-09,-1.51271e-12,70701.8,2.14542], Tmin=(200,'K'), Tmax=(1000,'K')), NASAPolynomial(coeffs=[2.66195,0.00170245,-6.83824e-07,1.3098e-10,-9.71843e-15,70958.9,6.52673], Tmin=(1000,'K'), Tmax=(3000,'K'))], Tmin=(200,'K'), Tmax=(3000,'K'), comment=\"\"\"Thermo library: Klippenstein_Glarborg2016\"\"\"), molecule=[Molecule(smiles=\"[CH]\")], transport_data=TransportData(shapeIndex=1, epsilon=(665.158,'J/mol'), sigma=(2.75,'angstrom'), dipoleMoment=(0,'De'), polarizability=(0,'angstrom^3'), rotrelaxcollnum=0.0, comment=\"\"\"NOx2018\"\"\"), molecular_weight=(13.0186,'amu'))], kinetics=ThirdBody(arrheniusLow=Arrhenius(A=(3.1e+15,'cm^3/(mol*s)'), n=0, Ea=(80.871,'kcal/mol'), T0=(1,'K')), efficiencies={}), pairs=[(Species(index=21, label=\"CH3\", thermo=NASA(polynomials=[NASAPolynomial(coeffs=[3.65718,0.0021266,5.45839e-06,-6.6181e-09,2.46571e-12,16422.7,1.67354], Tmin=(200,'K'), Tmax=(1000,'K')), NASAPolynomial(coeffs=[2.97812,0.00579785,-1.97558e-06,3.07298e-10,-1.79174e-14,16509.5,4.72248], Tmin=(1000,'K'), Tmax=(6000,'K'))], Tmin=(200,'K'), Tmax=(6000,'K'), comment=\"\"\"Thermo library: Klippenstein_Glarborg2016\"\"\"), molecule=[Molecule(smiles=\"[CH3]\")], transport_data=TransportData(shapeIndex=2, epsilon=(1197.28,'J/mol'), sigma=(3.8,'angstrom'), dipoleMoment=(0,'De'), polarizability=(0,'angstrom^3'), rotrelaxcollnum=0.0, comment=\"\"\"NOx2018\"\"\"), molecular_weight=(15.0345,'amu')), Species(index=13, label=\"H2\", thermo=NASA(polynomials=[NASAPolynomial(coeffs=[3.42254,0.000286646,-4.14662e-07,4.27541e-10,-9.38103e-14,-1029.78,-3.86365], Tmin=(100,'K'), Tmax=(1962.86,'K')), NASAPolynomial(coeffs=[2.74214,0.000579597,1.97176e-07,-6.4104e-11,4.95964e-15,-552.011,0.414362], Tmin=(1962.86,'K'), Tmax=(5000,'K'))], Tmin=(100,'K'), Tmax=(5000,'K'), comment=\"\"\"Thermo library: BurkeH2O2\"\"\"), molecule=[Molecule(smiles=\"[H][H]\")], transport_data=TransportData(shapeIndex=1, epsilon=(496.374,'J/mol'), sigma=(2.833,'angstrom'), dipoleMoment=(0,'De'), polarizability=(0,'angstrom^3'), rotrelaxcollnum=0.0, comment=\"\"\"PrimaryTransportLibrary\"\"\"), molecular_weight=(2.01588,'amu'))), (Species(index=21, label=\"CH3\", thermo=NASA(polynomials=[NASAPolynomial(coeffs=[3.65718,0.0021266,5.45839e-06,-6.6181e-09,2.46571e-12,16422.7,1.67354], Tmin=(200,'K'), Tmax=(1000,'K')), NASAPolynomial(coeffs=[2.97812,0.00579785,-1.97558e-06,3.07298e-10,-1.79174e-14,16509.5,4.72248], Tmin=(1000,'K'), Tmax=(6000,'K'))], Tmin=(200,'K'), Tmax=(6000,'K'), comment=\"\"\"Thermo library: Klippenstein_Glarborg2016\"\"\"), molecule=[Molecule(smiles=\"[CH3]\")], transport_data=TransportData(shapeIndex=2, epsilon=(1197.28,'J/mol'), sigma=(3.8,'angstrom'), dipoleMoment=(0,'De'), polarizability=(0,'angstrom^3'), rotrelaxcollnum=0.0, comment=\"\"\"NOx2018\"\"\"), molecular_weight=(15.0345,'amu')), Species(index=3, label=\"CH\", thermo=NASA(polynomials=[NASAPolynomial(coeffs=[3.47159,0.000404745,-1.89388e-06,3.3321e-09,-1.51271e-12,70701.8,2.14542], Tmin=(200,'K'), Tmax=(1000,'K')), NASAPolynomial(coeffs=[2.66195,0.00170245,-6.83824e-07,1.3098e-10,-9.71843e-15,70958.9,6.52673], Tmin=(1000,'K'), Tmax=(3000,'K'))], Tmin=(200,'K'), Tmax=(3000,'K'), comment=\"\"\"Thermo library: Klippenstein_Glarborg2016\"\"\"), molecule=[Molecule(smiles=\"[CH]\")], transport_data=TransportData(shapeIndex=1, epsilon=(665.158,'J/mol'), sigma=(2.75,'angstrom'), dipoleMoment=(0,'De'), polarizability=(0,'angstrom^3'), rotrelaxcollnum=0.0, comment=\"\"\"NOx2018\"\"\"), molecular_weight=(13.0186,'amu')))])"
      ]
     },
     "metadata": {},
     "output_type": "display_data"
    },
    {
     "name": "stdout",
     "output_type": "stream",
     "text": [
      "CH3(21) <=> H2(13) + CH(3)\n",
      "ThirdBody(arrheniusLow=Arrhenius(A=(3.1e+15,'cm^3/(mol*s)'), n=0, Ea=(80.871,'kcal/mol'), T0=(1,'K')), efficiencies={})\n",
      "Kinetic library: Klippenstein_Glarborg2016\n",
      "Direction: reverse\n",
      "Violation factor: 39\n",
      "Violation condition: 1000 K, 30.0 bar\n",
      "\n",
      "\n"
     ]
    },
    {
     "data": {
      "image/png": "[encoded data removed]",
      "text/plain": [
       "LibraryReaction(index=101, reactants=[Species(index=22, label=\"CH2\", thermo=NASA(polynomials=[NASAPolynomial(coeffs=[3.8328,0.000224446,4.68033e-06,-6.04743e-09,2.59009e-12,45920.8,1.40666], Tmin=(200,'K'), Tmax=(1000,'K')), NASAPolynomial(coeffs=[3.16229,0.00281798,-7.56235e-07,5.05446e-11,5.65236e-15,46099.1,4.77656], Tmin=(1000,'K'), Tmax=(3000,'K'))], Tmin=(200,'K'), Tmax=(3000,'K'), comment=\"\"\"Thermo library: Klippenstein_Glarborg2016\"\"\"), molecule=[Molecule(smiles=\"[CH2]\")], transport_data=TransportData(shapeIndex=2, epsilon=(1197.28,'J/mol'), sigma=(3.8,'angstrom'), dipoleMoment=(0,'De'), polarizability=(0,'angstrom^3'), rotrelaxcollnum=0.0, comment=\"\"\"NOx2018\"\"\"), molecular_weight=(14.0266,'amu'))], products=[Species(index=14, label=\"H\", thermo=NASA(polynomials=[NASAPolynomial(coeffs=[2.5,-2.38914e-13,3.12709e-16,-1.33367e-19,1.7499e-23,25472.7,-0.459566], Tmin=(100,'K'), Tmax=(4383.16,'K')), NASAPolynomial(coeffs=[2.50003,-3.04997e-08,1.01101e-11,-1.48797e-15,8.20356e-20,25472.7,-0.459785], Tmin=(4383.16,'K'), Tmax=(5000,'K'))], Tmin=(100,'K'), Tmax=(5000,'K'), comment=\"\"\"Thermo library: BurkeH2O2\"\"\"), molecule=[Molecule(smiles=\"[H]\")], transport_data=TransportData(shapeIndex=0, epsilon=(1205.6,'J/mol'), sigma=(2.05,'angstrom'), dipoleMoment=(0,'De'), polarizability=(0,'angstrom^3'), rotrelaxcollnum=0.0, comment=\"\"\"NOx2018\"\"\"), molecular_weight=(1.00794,'amu')), Species(index=3, label=\"CH\", thermo=NASA(polynomials=[NASAPolynomial(coeffs=[3.47159,0.000404745,-1.89388e-06,3.3321e-09,-1.51271e-12,70701.8,2.14542], Tmin=(200,'K'), Tmax=(1000,'K')), NASAPolynomial(coeffs=[2.66195,0.00170245,-6.83824e-07,1.3098e-10,-9.71843e-15,70958.9,6.52673], Tmin=(1000,'K'), Tmax=(3000,'K'))], Tmin=(200,'K'), Tmax=(3000,'K'), comment=\"\"\"Thermo library: Klippenstein_Glarborg2016\"\"\"), molecule=[Molecule(smiles=\"[CH]\")], transport_data=TransportData(shapeIndex=1, epsilon=(665.158,'J/mol'), sigma=(2.75,'angstrom'), dipoleMoment=(0,'De'), polarizability=(0,'angstrom^3'), rotrelaxcollnum=0.0, comment=\"\"\"NOx2018\"\"\"), molecular_weight=(13.0186,'amu'))], kinetics=ThirdBody(arrheniusLow=Arrhenius(A=(5.6e+15,'cm^3/(mol*s)'), n=0, Ea=(89,'kcal/mol'), T0=(1,'K')), efficiencies={}), pairs=[(Species(index=22, label=\"CH2\", thermo=NASA(polynomials=[NASAPolynomial(coeffs=[3.8328,0.000224446,4.68033e-06,-6.04743e-09,2.59009e-12,45920.8,1.40666], Tmin=(200,'K'), Tmax=(1000,'K')), NASAPolynomial(coeffs=[3.16229,0.00281798,-7.56235e-07,5.05446e-11,5.65236e-15,46099.1,4.77656], Tmin=(1000,'K'), Tmax=(3000,'K'))], Tmin=(200,'K'), Tmax=(3000,'K'), comment=\"\"\"Thermo library: Klippenstein_Glarborg2016\"\"\"), molecule=[Molecule(smiles=\"[CH2]\")], transport_data=TransportData(shapeIndex=2, epsilon=(1197.28,'J/mol'), sigma=(3.8,'angstrom'), dipoleMoment=(0,'De'), polarizability=(0,'angstrom^3'), rotrelaxcollnum=0.0, comment=\"\"\"NOx2018\"\"\"), molecular_weight=(14.0266,'amu')), Species(index=14, label=\"H\", thermo=NASA(polynomials=[NASAPolynomial(coeffs=[2.5,-2.38914e-13,3.12709e-16,-1.33367e-19,1.7499e-23,25472.7,-0.459566], Tmin=(100,'K'), Tmax=(4383.16,'K')), NASAPolynomial(coeffs=[2.50003,-3.04997e-08,1.01101e-11,-1.48797e-15,8.20356e-20,25472.7,-0.459785], Tmin=(4383.16,'K'), Tmax=(5000,'K'))], Tmin=(100,'K'), Tmax=(5000,'K'), comment=\"\"\"Thermo library: BurkeH2O2\"\"\"), molecule=[Molecule(smiles=\"[H]\")], transport_data=TransportData(shapeIndex=0, epsilon=(1205.6,'J/mol'), sigma=(2.05,'angstrom'), dipoleMoment=(0,'De'), polarizability=(0,'angstrom^3'), rotrelaxcollnum=0.0, comment=\"\"\"NOx2018\"\"\"), molecular_weight=(1.00794,'amu'))), (Species(index=22, label=\"CH2\", thermo=NASA(polynomials=[NASAPolynomial(coeffs=[3.8328,0.000224446,4.68033e-06,-6.04743e-09,2.59009e-12,45920.8,1.40666], Tmin=(200,'K'), Tmax=(1000,'K')), NASAPolynomial(coeffs=[3.16229,0.00281798,-7.56235e-07,5.05446e-11,5.65236e-15,46099.1,4.77656], Tmin=(1000,'K'), Tmax=(3000,'K'))], Tmin=(200,'K'), Tmax=(3000,'K'), comment=\"\"\"Thermo library: Klippenstein_Glarborg2016\"\"\"), molecule=[Molecule(smiles=\"[CH2]\")], transport_data=TransportData(shapeIndex=2, epsilon=(1197.28,'J/mol'), sigma=(3.8,'angstrom'), dipoleMoment=(0,'De'), polarizability=(0,'angstrom^3'), rotrelaxcollnum=0.0, comment=\"\"\"NOx2018\"\"\"), molecular_weight=(14.0266,'amu')), Species(index=3, label=\"CH\", thermo=NASA(polynomials=[NASAPolynomial(coeffs=[3.47159,0.000404745,-1.89388e-06,3.3321e-09,-1.51271e-12,70701.8,2.14542], Tmin=(200,'K'), Tmax=(1000,'K')), NASAPolynomial(coeffs=[2.66195,0.00170245,-6.83824e-07,1.3098e-10,-9.71843e-15,70958.9,6.52673], Tmin=(1000,'K'), Tmax=(3000,'K'))], Tmin=(200,'K'), Tmax=(3000,'K'), comment=\"\"\"Thermo library: Klippenstein_Glarborg2016\"\"\"), molecule=[Molecule(smiles=\"[CH]\")], transport_data=TransportData(shapeIndex=1, epsilon=(665.158,'J/mol'), sigma=(2.75,'angstrom'), dipoleMoment=(0,'De'), polarizability=(0,'angstrom^3'), rotrelaxcollnum=0.0, comment=\"\"\"NOx2018\"\"\"), molecular_weight=(13.0186,'amu')))])"
      ]
     },
     "metadata": {},
     "output_type": "display_data"
    },
    {
     "name": "stdout",
     "output_type": "stream",
     "text": [
      "CH2(22) <=> H(14) + CH(3)\n",
      "ThirdBody(arrheniusLow=Arrhenius(A=(5.6e+15,'cm^3/(mol*s)'), n=0, Ea=(89,'kcal/mol'), T0=(1,'K')), efficiencies={})\n",
      "Kinetic library: Klippenstein_Glarborg2016\n",
      "Direction: reverse\n",
      "Violation factor: 11\n",
      "Violation condition: 500 K, 1.0 bar\n",
      "\n",
      "\n"
     ]
    },
    {
     "data": {
      "image/png": "[encoded data removed]",
      "text/plain": [
       "LibraryReaction(index=482, reactants=[Species(index=53, label=\"C2O\", thermo=NASA(polynomials=[NASAPolynomial(coeffs=[2.86278,0.0119701,-1.80851e-05,1.52778e-08,-5.20063e-12,44312.6,8.89759], Tmin=(200,'K'), Tmax=(1000,'K')), NASAPolynomial(coeffs=[5.42468,0.00185394,-5.17933e-07,6.77646e-11,-3.53315e-15,43716.1,-3.69608], Tmin=(1000,'K'), Tmax=(6000,'K'))], Tmin=(200,'K'), Tmax=(6000,'K'), comment=\"\"\"Thermo library: Klippenstein_Glarborg2016\"\"\"), molecule=[Molecule(smiles=\"[C]#C[O]\"), Molecule(smiles=\"[C]=C=O\")], transport_data=TransportData(shapeIndex=1, epsilon=(1932.28,'J/mol'), sigma=(3.828,'angstrom'), dipoleMoment=(0,'De'), polarizability=(0,'angstrom^3'), rotrelaxcollnum=1.0, comment=\"\"\"NOx2018\"\"\"), molecular_weight=(40.0208,'amu'))], products=[Species(index=32, label=\"C\", thermo=NASA(polynomials=[NASAPolynomial(coeffs=[2.49975,5.02139e-07,1.93093e-09,-4.94633e-12,2.74089e-15,85485.8,3.66241], Tmin=(200,'K'), Tmax=(1000,'K')), NASAPolynomial(coeffs=[2.49891,2.41252e-06,-1.88942e-09,6.24309e-13,-7.45464e-17,85486.2,3.6671], Tmin=(1000,'K'), Tmax=(3000,'K'))], Tmin=(200,'K'), Tmax=(3000,'K'), comment=\"\"\"Thermo library: Klippenstein_Glarborg2016\"\"\"), molecule=[Molecule(smiles=\"[C]\")], transport_data=TransportData(shapeIndex=0, epsilon=(810.91,'J/mol'), sigma=(3.621,'angstrom'), dipoleMoment=(0,'De'), polarizability=(1.76,'angstrom^3'), rotrelaxcollnum=4.0, comment=\"\"\"NOx2018\"\"\"), molecular_weight=(12.0107,'amu')), Species(index=6, label=\"CO\", thermo=NASA(polynomials=[NASAPolynomial(coeffs=[3.5971,-0.00102425,2.83339e-06,-1.75827e-09,3.42593e-13,-14343.2,3.45822], Tmin=(100,'K'), Tmax=(1669.91,'K')), NASAPolynomial(coeffs=[2.92791,0.00181937,-8.35341e-07,1.51276e-10,-9.88924e-15,-14292.7,6.51185], Tmin=(1669.91,'K'), Tmax=(5000,'K'))], Tmin=(100,'K'), Tmax=(5000,'K'), comment=\"\"\"Thermo library: BurkeH2O2\"\"\"), molecule=[Molecule(smiles=\"[C-]#[O+]\")], transport_data=TransportData(shapeIndex=1, epsilon=(762.437,'J/mol'), sigma=(3.69,'angstrom'), dipoleMoment=(0,'De'), polarizability=(1.76,'angstrom^3'), rotrelaxcollnum=4.0, comment=\"\"\"PrimaryTransportLibrary\"\"\"), molecular_weight=(28.0101,'amu'))], kinetics=ThirdBody(arrheniusLow=Arrhenius(A=(2e+15,'cm^3/(mol*s)'), n=0, Ea=(44.2,'kcal/mol'), T0=(1,'K')), efficiencies={}), pairs=[(Species(index=53, label=\"C2O\", thermo=NASA(polynomials=[NASAPolynomial(coeffs=[2.86278,0.0119701,-1.80851e-05,1.52778e-08,-5.20063e-12,44312.6,8.89759], Tmin=(200,'K'), Tmax=(1000,'K')), NASAPolynomial(coeffs=[5.42468,0.00185394,-5.17933e-07,6.77646e-11,-3.53315e-15,43716.1,-3.69608], Tmin=(1000,'K'), Tmax=(6000,'K'))], Tmin=(200,'K'), Tmax=(6000,'K'), comment=\"\"\"Thermo library: Klippenstein_Glarborg2016\"\"\"), molecule=[Molecule(smiles=\"[C]#C[O]\"), Molecule(smiles=\"[C]=C=O\")], transport_data=TransportData(shapeIndex=1, epsilon=(1932.28,'J/mol'), sigma=(3.828,'angstrom'), dipoleMoment=(0,'De'), polarizability=(0,'angstrom^3'), rotrelaxcollnum=1.0, comment=\"\"\"NOx2018\"\"\"), molecular_weight=(40.0208,'amu')), Species(index=32, label=\"C\", thermo=NASA(polynomials=[NASAPolynomial(coeffs=[2.49975,5.02139e-07,1.93093e-09,-4.94633e-12,2.74089e-15,85485.8,3.66241], Tmin=(200,'K'), Tmax=(1000,'K')), NASAPolynomial(coeffs=[2.49891,2.41252e-06,-1.88942e-09,6.24309e-13,-7.45464e-17,85486.2,3.6671], Tmin=(1000,'K'), Tmax=(3000,'K'))], Tmin=(200,'K'), Tmax=(3000,'K'), comment=\"\"\"Thermo library: Klippenstein_Glarborg2016\"\"\"), molecule=[Molecule(smiles=\"[C]\")], transport_data=TransportData(shapeIndex=0, epsilon=(810.91,'J/mol'), sigma=(3.621,'angstrom'), dipoleMoment=(0,'De'), polarizability=(1.76,'angstrom^3'), rotrelaxcollnum=4.0, comment=\"\"\"NOx2018\"\"\"), molecular_weight=(12.0107,'amu'))), (Species(index=53, label=\"C2O\", thermo=NASA(polynomials=[NASAPolynomial(coeffs=[2.86278,0.0119701,-1.80851e-05,1.52778e-08,-5.20063e-12,44312.6,8.89759], Tmin=(200,'K'), Tmax=(1000,'K')), NASAPolynomial(coeffs=[5.42468,0.00185394,-5.17933e-07,6.77646e-11,-3.53315e-15,43716.1,-3.69608], Tmin=(1000,'K'), Tmax=(6000,'K'))], Tmin=(200,'K'), Tmax=(6000,'K'), comment=\"\"\"Thermo library: Klippenstein_Glarborg2016\"\"\"), molecule=[Molecule(smiles=\"[C]#C[O]\"), Molecule(smiles=\"[C]=C=O\")], transport_data=TransportData(shapeIndex=1, epsilon=(1932.28,'J/mol'), sigma=(3.828,'angstrom'), dipoleMoment=(0,'De'), polarizability=(0,'angstrom^3'), rotrelaxcollnum=1.0, comment=\"\"\"NOx2018\"\"\"), molecular_weight=(40.0208,'amu')), Species(index=6, label=\"CO\", thermo=NASA(polynomials=[NASAPolynomial(coeffs=[3.5971,-0.00102425,2.83339e-06,-1.75827e-09,3.42593e-13,-14343.2,3.45822], Tmin=(100,'K'), Tmax=(1669.91,'K')), NASAPolynomial(coeffs=[2.92791,0.00181937,-8.35341e-07,1.51276e-10,-9.88924e-15,-14292.7,6.51185], Tmin=(1669.91,'K'), Tmax=(5000,'K'))], Tmin=(100,'K'), Tmax=(5000,'K'), comment=\"\"\"Thermo library: BurkeH2O2\"\"\"), molecule=[Molecule(smiles=\"[C-]#[O+]\")], transport_data=TransportData(shapeIndex=1, epsilon=(762.437,'J/mol'), sigma=(3.69,'angstrom'), dipoleMoment=(0,'De'), polarizability=(1.76,'angstrom^3'), rotrelaxcollnum=4.0, comment=\"\"\"PrimaryTransportLibrary\"\"\"), molecular_weight=(28.0101,'amu')))])"
      ]
     },
     "metadata": {},
     "output_type": "display_data"
    },
    {
     "name": "stdout",
     "output_type": "stream",
     "text": [
      "C2O(53) <=> C(32) + CO(6)\n",
      "ThirdBody(arrheniusLow=Arrhenius(A=(2e+15,'cm^3/(mol*s)'), n=0, Ea=(44.2,'kcal/mol'), T0=(1,'K')), efficiencies={})\n",
      "Kinetic library: Klippenstein_Glarborg2016\n",
      "Direction: reverse\n",
      "Violation factor: 7.8\n",
      "Violation condition: 500 K, 30.0 bar\n",
      "\n",
      "\n"
     ]
    },
    {
     "data": {
      "image/png": "[encoded data removed]",
      "text/plain": [
       "LibraryReaction(index=279, reactants=[Species(index=33, label=\"C2H2\", thermo=NASA(polynomials=[NASAPolynomial(coeffs=[0.80868,0.0233616,-3.55172e-05,2.80153e-08,-8.50075e-12,26429,13.9397], Tmin=(200,'K'), Tmax=(1000,'K')), NASAPolynomial(coeffs=[4.65878,0.00488397,-1.60829e-06,2.46975e-10,-1.38606e-14,25759.4,-3.99838], Tmin=(1000,'K'), Tmax=(6000,'K'))], Tmin=(200,'K'), Tmax=(6000,'K'), comment=\"\"\"Thermo library: Klippenstein_Glarborg2016\"\"\"), molecule=[Molecule(smiles=\"C#C\")], transport_data=TransportData(shapeIndex=1, epsilon=(1737.72,'J/mol'), sigma=(4.1,'angstrom'), dipoleMoment=(0,'De'), polarizability=(0,'angstrom^3'), rotrelaxcollnum=2.5, comment=\"\"\"NOx2018\"\"\"), molecular_weight=(26.0373,'amu'))], products=[Species(index=14, label=\"H\", thermo=NASA(polynomials=[NASAPolynomial(coeffs=[2.5,-2.38914e-13,3.12709e-16,-1.33367e-19,1.7499e-23,25472.7,-0.459566], Tmin=(100,'K'), Tmax=(4383.16,'K')), NASAPolynomial(coeffs=[2.50003,-3.04997e-08,1.01101e-11,-1.48797e-15,8.20356e-20,25472.7,-0.459785], Tmin=(4383.16,'K'), Tmax=(5000,'K'))], Tmin=(100,'K'), Tmax=(5000,'K'), comment=\"\"\"Thermo library: BurkeH2O2\"\"\"), molecule=[Molecule(smiles=\"[H]\")], transport_data=TransportData(shapeIndex=0, epsilon=(1205.6,'J/mol'), sigma=(2.05,'angstrom'), dipoleMoment=(0,'De'), polarizability=(0,'angstrom^3'), rotrelaxcollnum=0.0, comment=\"\"\"NOx2018\"\"\"), molecular_weight=(1.00794,'amu')), Species(index=4, label=\"C2H\", thermo=NASA(polynomials=[NASAPolynomial(coeffs=[2.89868,0.0132988,-2.80733e-05,2.89485e-08,-1.07502e-11,67061.6,6.18548], Tmin=(200,'K'), Tmax=(1000,'K')), NASAPolynomial(coeffs=[3.6627,0.00382492,-1.36633e-06,2.13455e-10,-1.23217e-14,67168.4,3.92206], Tmin=(1000,'K'), Tmax=(6000,'K'))], Tmin=(200,'K'), Tmax=(6000,'K'), comment=\"\"\"Thermo library: Klippenstein_Glarborg2016\"\"\"), molecule=[Molecule(smiles=\"[C]#C\")], transport_data=TransportData(shapeIndex=1, epsilon=(1737.72,'J/mol'), sigma=(4.1,'angstrom'), dipoleMoment=(0,'De'), polarizability=(0,'angstrom^3'), rotrelaxcollnum=2.5, comment=\"\"\"NOx2018\"\"\"), molecular_weight=(25.0293,'amu'))], kinetics=ThirdBody(arrheniusLow=Arrhenius(A=(9.1e+30,'cm^3/(mol*s)'), n=-3.7, Ea=(127.138,'kcal/mol'), T0=(1,'K')), efficiencies={Molecule(smiles=\"O=C=O\"): 3.0, Molecule(smiles=\"O\"): 5.0, Molecule(smiles=\"[C-]#[O+]\"): 2.0, Molecule(smiles=\"[H][H]\"): 2.0}), pairs=[(Species(index=33, label=\"C2H2\", thermo=NASA(polynomials=[NASAPolynomial(coeffs=[0.80868,0.0233616,-3.55172e-05,2.80153e-08,-8.50075e-12,26429,13.9397], Tmin=(200,'K'), Tmax=(1000,'K')), NASAPolynomial(coeffs=[4.65878,0.00488397,-1.60829e-06,2.46975e-10,-1.38606e-14,25759.4,-3.99838], Tmin=(1000,'K'), Tmax=(6000,'K'))], Tmin=(200,'K'), Tmax=(6000,'K'), comment=\"\"\"Thermo library: Klippenstein_Glarborg2016\"\"\"), molecule=[Molecule(smiles=\"C#C\")], transport_data=TransportData(shapeIndex=1, epsilon=(1737.72,'J/mol'), sigma=(4.1,'angstrom'), dipoleMoment=(0,'De'), polarizability=(0,'angstrom^3'), rotrelaxcollnum=2.5, comment=\"\"\"NOx2018\"\"\"), molecular_weight=(26.0373,'amu')), Species(index=14, label=\"H\", thermo=NASA(polynomials=[NASAPolynomial(coeffs=[2.5,-2.38914e-13,3.12709e-16,-1.33367e-19,1.7499e-23,25472.7,-0.459566], Tmin=(100,'K'), Tmax=(4383.16,'K')), NASAPolynomial(coeffs=[2.50003,-3.04997e-08,1.01101e-11,-1.48797e-15,8.20356e-20,25472.7,-0.459785], Tmin=(4383.16,'K'), Tmax=(5000,'K'))], Tmin=(100,'K'), Tmax=(5000,'K'), comment=\"\"\"Thermo library: BurkeH2O2\"\"\"), molecule=[Molecule(smiles=\"[H]\")], transport_data=TransportData(shapeIndex=0, epsilon=(1205.6,'J/mol'), sigma=(2.05,'angstrom'), dipoleMoment=(0,'De'), polarizability=(0,'angstrom^3'), rotrelaxcollnum=0.0, comment=\"\"\"NOx2018\"\"\"), molecular_weight=(1.00794,'amu'))), (Species(index=33, label=\"C2H2\", thermo=NASA(polynomials=[NASAPolynomial(coeffs=[0.80868,0.0233616,-3.55172e-05,2.80153e-08,-8.50075e-12,26429,13.9397], Tmin=(200,'K'), Tmax=(1000,'K')), NASAPolynomial(coeffs=[4.65878,0.00488397,-1.60829e-06,2.46975e-10,-1.38606e-14,25759.4,-3.99838], Tmin=(1000,'K'), Tmax=(6000,'K'))], Tmin=(200,'K'), Tmax=(6000,'K'), comment=\"\"\"Thermo library: Klippenstein_Glarborg2016\"\"\"), molecule=[Molecule(smiles=\"C#C\")], transport_data=TransportData(shapeIndex=1, epsilon=(1737.72,'J/mol'), sigma=(4.1,'angstrom'), dipoleMoment=(0,'De'), polarizability=(0,'angstrom^3'), rotrelaxcollnum=2.5, comment=\"\"\"NOx2018\"\"\"), molecular_weight=(26.0373,'amu')), Species(index=4, label=\"C2H\", thermo=NASA(polynomials=[NASAPolynomial(coeffs=[2.89868,0.0132988,-2.80733e-05,2.89485e-08,-1.07502e-11,67061.6,6.18548], Tmin=(200,'K'), Tmax=(1000,'K')), NASAPolynomial(coeffs=[3.6627,0.00382492,-1.36633e-06,2.13455e-10,-1.23217e-14,67168.4,3.92206], Tmin=(1000,'K'), Tmax=(6000,'K'))], Tmin=(200,'K'), Tmax=(6000,'K'), comment=\"\"\"Thermo library: Klippenstein_Glarborg2016\"\"\"), molecule=[Molecule(smiles=\"[C]#C\")], transport_data=TransportData(shapeIndex=1, epsilon=(1737.72,'J/mol'), sigma=(4.1,'angstrom'), dipoleMoment=(0,'De'), polarizability=(0,'angstrom^3'), rotrelaxcollnum=2.5, comment=\"\"\"NOx2018\"\"\"), molecular_weight=(25.0293,'amu')))])"
      ]
     },
     "metadata": {},
     "output_type": "display_data"
    },
    {
     "name": "stdout",
     "output_type": "stream",
     "text": [
      "C2H2(33) <=> H(14) + C2H(4)\n",
      "ThirdBody(arrheniusLow=Arrhenius(A=(9.1e+30,'cm^3/(mol*s)'), n=-3.7, Ea=(127.138,'kcal/mol'), T0=(1,'K')), efficiencies={Molecule(smiles=\"O=C=O\"): 3.0, Molecule(smiles=\"O\"): 5.0, Molecule(smiles=\"[C-]#[O+]\"): 2.0, Molecule(smiles=\"[H][H]\"): 2.0})\n",
      "Kinetic library: Klippenstein_Glarborg2016\n",
      "Direction: reverse\n",
      "Violation factor: 7\n",
      "Violation condition: 1000 K, 30.0 bar\n",
      "\n",
      "\n"
     ]
    }
   ],
   "source": [
    "families = Counter()\n",
    "templates = Counter()\n",
    "rate_rules = Counter()\n",
    "problem_species = Counter()\n",
    "for violator in violators:\n",
    "    rxn_string = str(violator[0])\n",
    "    kinetics = violator[0].kinetics\n",
    "    comment = ''\n",
    "    if isinstance(violator[0], TemplateReaction):\n",
    "        comment = violator[0].kinetics.comment\n",
    "        violator[0].kinetics.comment = ''  # the comment is printed better when outside of the object\n",
    "    if isinstance(violator[0], LibraryReaction):\n",
    "        comment = 'Kinetic library: {0}'.format(violator[0].library)\n",
    "    if isinstance(violator[0], PDepReaction):\n",
    "        comment = 'Network #{0}'.format(violator[0].network)\n",
    "    direction = violator[1]\n",
    "    ratio = violator[2]\n",
    "    condition = violator[3]\n",
    "    \n",
    "    problem_species.update(violator[0].reactants)\n",
    "    problem_species.update(violator[0].products)\n",
    "    \n",
    "    m = re.search('family: (.*)', comment)\n",
    "    if m:\n",
    "        families[m.group(1)] += 1\n",
    "    n = re.search('rate rule (.*)', comment)\n",
    "    if n:\n",
    "        rate_rules[m.group(1) + n.group(1)] += 1\n",
    "    n = re.search('using template (\\S+)', comment)\n",
    "    if n:\n",
    "        templates[m.group(1) + n.group(1)] += 1\n",
    "    \n",
    "    if ratio < 5:\n",
    "        continue # only print the big ones!\n",
    "    \n",
    "    display(violator[0])\n",
    "    print('{0}\\n{1}\\n{2}\\nDirection: {3}\\nViolation factor: {4:.2g}\\n'\n",
    "                      'Violation condition: {5}\\n\\n'.format(rxn_string, kinetics, comment, direction,\n",
    "                                                            ratio, condition))\n",
    "    if isinstance(violator[0], TemplateReaction):\n",
    "        # although this is the end of the run, restore the original comment\n",
    "        violator[0].kinetics.comment = comment"
   ]
  },
  {
   "cell_type": "code",
   "execution_count": 30,
   "metadata": {},
   "outputs": [
    {
     "data": {
      "text/plain": [
       "[]"
      ]
     },
     "execution_count": 30,
     "metadata": {},
     "output_type": "execute_result"
    }
   ],
   "source": [
    "families.most_common(10)"
   ]
  },
  {
   "cell_type": "code",
   "execution_count": 31,
   "metadata": {},
   "outputs": [
    {
     "data": {
      "text/plain": [
       "[]"
      ]
     },
     "execution_count": 31,
     "metadata": {},
     "output_type": "execute_result"
    }
   ],
   "source": [
    "# This is what was used\n",
    "templates.most_common(10)"
   ]
  },
  {
   "cell_type": "code",
   "execution_count": 32,
   "metadata": {},
   "outputs": [
    {
     "data": {
      "text/plain": [
       "[]"
      ]
     },
     "execution_count": 32,
     "metadata": {},
     "output_type": "execute_result"
    }
   ],
   "source": [
    "# This is what it was trying to use\n",
    "rate_rules.most_common(10)"
   ]
  },
  {
   "cell_type": "code",
   "execution_count": 33,
   "metadata": {
    "scrolled": true
   },
   "outputs": [
    {
     "name": "stdout",
     "output_type": "stream",
     "text": [
      "CH3CO(57)    22  Thermo library: Klippenstein_Glarborg201\n",
      "HOCO(19)     14  Thermo library: Klippenstein_Glarborg201\n",
      "HOCHO(59)    14  Thermo library: Klippenstein_Glarborg201\n",
      "CH3CHO(37)   14  Thermo library: Klippenstein_Glarborg201\n",
      "OCHCO(61)    12  Thermo library: Klippenstein_Glarborg201\n",
      "OCHCHO(48)   12  Thermo library: Klippenstein_Glarborg201\n",
      "H(14)        11  Thermo library: BurkeH2O2\n",
      "CH2O(9)      10  Thermo library: Klippenstein_Glarborg201\n",
      "CH2CO(29)    10  Thermo library: Klippenstein_Glarborg201\n",
      "CH3(21)       8  Thermo library: Klippenstein_Glarborg201\n",
      "CH2(22)       7  Thermo library: Klippenstein_Glarborg201\n",
      "CH(3)         6  Thermo library: Klippenstein_Glarborg201\n",
      "CH3O(26)      6  Thermo library: Klippenstein_Glarborg201\n",
      "C2H5(30)      6  Thermo library: Klippenstein_Glarborg201\n",
      "C2H4(11)      6  Thermo library: Klippenstein_Glarborg201\n",
      "C2H5O(55)     6  Thermo library: Klippenstein_Glarborg201\n",
      "C2H4O(42)     6  Thermo library: Klippenstein_Glarborg201\n",
      "C6H13(758)    6  Thermo group additivity estimation: grou\n",
      "C6H12(749)    6  Thermo group additivity estimation: grou\n",
      "S(1405)       6  Thermo group additivity estimation: grou\n"
     ]
    }
   ],
   "source": [
    "# Most common species\n",
    "for s,n in problem_species.most_common(20):\n",
    "    print(f\"{str(s):10s}  {n:3d}  {s.thermo.comment[:40]}\")"
   ]
  },
  {
   "cell_type": "code",
   "execution_count": 34,
   "metadata": {
    "scrolled": true
   },
   "outputs": [
    {
     "data": {
      "image/png": "[encoded data removed]",
      "text/plain": [
       "Species(index=57, label=\"CH3CO\", thermo=NASA(polynomials=[NASAPolynomial(coeffs=[4.03587,0.000877295,3.071e-05,-3.92476e-08,1.52969e-11,-2682.07,7.86177], Tmin=(200,'K'), Tmax=(1000,'K')), NASAPolynomial(coeffs=[5.31372,0.00917378,-3.32204e-06,5.39475e-10,-3.24524e-14,-3645.04,-1.67576], Tmin=(1000,'K'), Tmax=(6000,'K'))], Tmin=(200,'K'), Tmax=(6000,'K'), comment=\"\"\"Thermo library: Klippenstein_Glarborg2016\"\"\"), molecule=[Molecule(smiles=\"C[C]=O\")], transport_data=TransportData(shapeIndex=2, epsilon=(3625.11,'J/mol'), sigma=(3.97,'angstrom'), dipoleMoment=(0,'De'), polarizability=(0,'angstrom^3'), rotrelaxcollnum=2.0, comment=\"\"\"NOx2018\"\"\"), molecular_weight=(43.0446,'amu'))"
      ]
     },
     "metadata": {},
     "output_type": "display_data"
    },
    {
     "name": "stdout",
     "output_type": "stream",
     "text": [
      "CH3CO(57)\n",
      "multiplicity 2\n",
      "1 O u0 p2 c0 {3,D}\n",
      "2 C u0 p0 c0 {3,S} {4,S} {5,S} {6,S}\n",
      "3 C u1 p0 c0 {1,D} {2,S}\n",
      "4 H u0 p0 c0 {2,S}\n",
      "5 H u0 p0 c0 {2,S}\n",
      "6 H u0 p0 c0 {2,S}\n",
      "\n",
      "Thermo library: Klippenstein_Glarborg2016\n",
      "--------------------------------------------------------------------------------\n"
     ]
    },
    {
     "data": {
      "image/png": "[encoded data removed]",
      "text/plain": [
       "Species(index=19, label=\"HOCO\", thermo=NASA(polynomials=[NASAPolynomial(coeffs=[2.82191,0.00966218,-2.7856e-06,-4.12692e-09,2.61472e-12,-23546.5,11.4285], Tmin=(200,'K'), Tmax=(998.4,'K')), NASAPolynomial(coeffs=[4.63989,0.00566363,-2.67855e-06,6.17049e-10,-5.60954e-14,-24052.7,1.90175], Tmin=(998.4,'K'), Tmax=(3000,'K'))], Tmin=(200,'K'), Tmax=(3000,'K'), comment=\"\"\"Thermo library: Klippenstein_Glarborg2016\"\"\"), molecule=[Molecule(smiles=\"O=[C]O\")], transport_data=TransportData(shapeIndex=2, epsilon=(4140.61,'J/mol'), sigma=(3.59,'angstrom'), dipoleMoment=(0,'De'), polarizability=(0,'angstrom^3'), rotrelaxcollnum=2.0, comment=\"\"\"NOx2018\"\"\"), molecular_weight=(45.0174,'amu'))"
      ]
     },
     "metadata": {},
     "output_type": "display_data"
    },
    {
     "name": "stdout",
     "output_type": "stream",
     "text": [
      "HOCO(19)\n",
      "multiplicity 2\n",
      "1 O u0 p2 c0 {3,S} {4,S}\n",
      "2 O u0 p2 c0 {3,D}\n",
      "3 C u1 p0 c0 {1,S} {2,D}\n",
      "4 H u0 p0 c0 {1,S}\n",
      "\n",
      "Thermo library: Klippenstein_Glarborg2016\n",
      "--------------------------------------------------------------------------------\n"
     ]
    },
    {
     "data": {
      "image/png": "[encoded data removed]",
      "text/plain": [
       "Species(index=59, label=\"HOCHO\", thermo=NASA(polynomials=[NASAPolynomial(coeffs=[3.89836,-0.00355878,3.55205e-05,-4.385e-08,1.71078e-11,-46778.6,7.34954], Tmin=(200,'K'), Tmax=(1000,'K')), NASAPolynomial(coeffs=[4.61383,0.00644964,-2.29083e-06,3.6716e-10,-2.18737e-14,-45330.3,0.847884], Tmin=(1000,'K'), Tmax=(6000,'K'))], Tmin=(200,'K'), Tmax=(6000,'K'), comment=\"\"\"Thermo library: Klippenstein_Glarborg2016\"\"\"), molecule=[Molecule(smiles=\"O=CO\")], transport_data=TransportData(shapeIndex=2, epsilon=(4005.91,'J/mol'), sigma=(3.626,'angstrom'), dipoleMoment=(1.7,'De'), polarizability=(0,'angstrom^3'), rotrelaxcollnum=1.0, comment=\"\"\"NOx2018\"\"\"), molecular_weight=(46.0254,'amu'))"
      ]
     },
     "metadata": {},
     "output_type": "display_data"
    },
    {
     "name": "stdout",
     "output_type": "stream",
     "text": [
      "HOCHO(59)\n",
      "1 O u0 p2 c0 {3,S} {5,S}\n",
      "2 O u0 p2 c0 {3,D}\n",
      "3 C u0 p0 c0 {1,S} {2,D} {4,S}\n",
      "4 H u0 p0 c0 {3,S}\n",
      "5 H u0 p0 c0 {1,S}\n",
      "\n",
      "Thermo library: Klippenstein_Glarborg2016\n",
      "--------------------------------------------------------------------------------\n"
     ]
    },
    {
     "data": {
      "image/png": "[encoded data removed]",
      "text/plain": [
       "Species(index=37, label=\"CH3CHO\", thermo=NASA(polynomials=[NASAPolynomial(coeffs=[4.72946,-0.00319329,4.75349e-05,-5.74586e-08,2.19311e-11,-21572.9,4.10302], Tmin=(200,'K'), Tmax=(1000,'K')), NASAPolynomial(coeffs=[5.40411,0.0117231,-4.22631e-06,6.83725e-10,-4.09849e-14,-22593.1,-3.48079], Tmin=(1000,'K'), Tmax=(6000,'K'))], Tmin=(200,'K'), Tmax=(6000,'K'), comment=\"\"\"Thermo library: Klippenstein_Glarborg2016\"\"\"), molecule=[Molecule(smiles=\"CC=O\")], transport_data=TransportData(shapeIndex=2, epsilon=(3625.11,'J/mol'), sigma=(3.97,'angstrom'), dipoleMoment=(0,'De'), polarizability=(0,'angstrom^3'), rotrelaxcollnum=2.0, comment=\"\"\"NOx2018\"\"\"), molecular_weight=(44.0526,'amu'))"
      ]
     },
     "metadata": {},
     "output_type": "display_data"
    },
    {
     "name": "stdout",
     "output_type": "stream",
     "text": [
      "CH3CHO(37)\n",
      "1 O u0 p2 c0 {3,D}\n",
      "2 C u0 p0 c0 {3,S} {4,S} {5,S} {6,S}\n",
      "3 C u0 p0 c0 {1,D} {2,S} {7,S}\n",
      "4 H u0 p0 c0 {2,S}\n",
      "5 H u0 p0 c0 {2,S}\n",
      "6 H u0 p0 c0 {2,S}\n",
      "7 H u0 p0 c0 {3,S}\n",
      "\n",
      "Thermo library: Klippenstein_Glarborg2016\n",
      "--------------------------------------------------------------------------------\n"
     ]
    },
    {
     "data": {
      "image/png": "[encoded data removed]",
      "text/plain": [
       "Species(index=61, label=\"OCHCO\", thermo=NASA(polynomials=[NASAPolynomial(coeffs=[3.39406,0.0143629,-8.84138e-06,1.60961e-09,3.20389e-13,-8684.14,10.592], Tmin=(298,'K'), Tmax=(1000,'K')), NASAPolynomial(coeffs=[4.94994,0.010163,-5.5772e-06,1.4572e-09,-1.47435e-13,-9096.51,2.57988], Tmin=(1000,'K'), Tmax=(2900,'K'))], Tmin=(298,'K'), Tmax=(2900,'K'), comment=\"\"\"Thermo library: Klippenstein_Glarborg2016\"\"\"), molecule=[Molecule(smiles=\"[O]C=C=O\"), Molecule(smiles=\"O=[C]C=O\")], transport_data=TransportData(shapeIndex=2, epsilon=(3660.03,'J/mol'), sigma=(4.01,'angstrom'), dipoleMoment=(0,'De'), polarizability=(0,'angstrom^3'), rotrelaxcollnum=2.0, comment=\"\"\"NOx2018\"\"\"), molecular_weight=(57.0281,'amu'))"
      ]
     },
     "metadata": {},
     "output_type": "display_data"
    },
    {
     "name": "stdout",
     "output_type": "stream",
     "text": [
      "OCHCO(61)\n",
      "multiplicity 2\n",
      "1 O u1 p2 c0 {3,S}\n",
      "2 O u0 p2 c0 {4,D}\n",
      "3 C u0 p0 c0 {1,S} {4,D} {5,S}\n",
      "4 C u0 p0 c0 {2,D} {3,D}\n",
      "5 H u0 p0 c0 {3,S}\n",
      "\n",
      "Thermo library: Klippenstein_Glarborg2016\n",
      "--------------------------------------------------------------------------------\n"
     ]
    },
    {
     "data": {
      "image/png": "[encoded data removed]",
      "text/plain": [
       "Species(index=48, label=\"OCHCHO\", thermo=NASA(polynomials=[NASAPolynomial(coeffs=[4.68412,0.000478013,4.26391e-05,-5.79018e-08,2.31669e-11,-27198.5,4.51187], Tmin=(200,'K'), Tmax=(1000,'K')), NASAPolynomial(coeffs=[8.72507,0.00633097,-2.35575e-06,3.89783e-10,-2.37487e-14,-29102.4,-20.3904], Tmin=(1000,'K'), Tmax=(6000,'K'))], Tmin=(200,'K'), Tmax=(6000,'K'), comment=\"\"\"Thermo library: Klippenstein_Glarborg2016\"\"\"), molecule=[Molecule(smiles=\"O=CC=O\")], transport_data=TransportData(shapeIndex=2, epsilon=(3660.03,'J/mol'), sigma=(4.01,'angstrom'), dipoleMoment=(0,'De'), polarizability=(0,'angstrom^3'), rotrelaxcollnum=2.0, comment=\"\"\"NOx2018\"\"\"), molecular_weight=(58.0361,'amu'))"
      ]
     },
     "metadata": {},
     "output_type": "display_data"
    },
    {
     "name": "stdout",
     "output_type": "stream",
     "text": [
      "OCHCHO(48)\n",
      "1 O u0 p2 c0 {3,D}\n",
      "2 O u0 p2 c0 {4,D}\n",
      "3 C u0 p0 c0 {1,D} {4,S} {5,S}\n",
      "4 C u0 p0 c0 {2,D} {3,S} {6,S}\n",
      "5 H u0 p0 c0 {3,S}\n",
      "6 H u0 p0 c0 {4,S}\n",
      "\n",
      "Thermo library: Klippenstein_Glarborg2016\n",
      "--------------------------------------------------------------------------------\n"
     ]
    },
    {
     "data": {
      "image/png": "[encoded data removed]",
      "text/plain": [
       "Species(index=14, label=\"H\", thermo=NASA(polynomials=[NASAPolynomial(coeffs=[2.5,-2.38914e-13,3.12709e-16,-1.33367e-19,1.7499e-23,25472.7,-0.459566], Tmin=(100,'K'), Tmax=(4383.16,'K')), NASAPolynomial(coeffs=[2.50003,-3.04997e-08,1.01101e-11,-1.48797e-15,8.20356e-20,25472.7,-0.459785], Tmin=(4383.16,'K'), Tmax=(5000,'K'))], Tmin=(100,'K'), Tmax=(5000,'K'), comment=\"\"\"Thermo library: BurkeH2O2\"\"\"), molecule=[Molecule(smiles=\"[H]\")], transport_data=TransportData(shapeIndex=0, epsilon=(1205.6,'J/mol'), sigma=(2.05,'angstrom'), dipoleMoment=(0,'De'), polarizability=(0,'angstrom^3'), rotrelaxcollnum=0.0, comment=\"\"\"NOx2018\"\"\"), molecular_weight=(1.00794,'amu'))"
      ]
     },
     "metadata": {},
     "output_type": "display_data"
    },
    {
     "name": "stdout",
     "output_type": "stream",
     "text": [
      "H(14)\n",
      "multiplicity 2\n",
      "1 H u1 p0 c0\n",
      "\n",
      "Thermo library: BurkeH2O2\n",
      "--------------------------------------------------------------------------------\n"
     ]
    },
    {
     "data": {
      "image/png": "[encoded data removed]",
      "text/plain": [
       "Species(index=9, label=\"CH2O\", thermo=NASA(polynomials=[NASAPolynomial(coeffs=[4.79372,-0.00990833,3.7322e-05,-3.79285e-08,1.31773e-11,-14379.2,0.602798], Tmin=(200,'K'), Tmax=(1000,'K')), NASAPolynomial(coeffs=[3.16953,0.00619321,-2.25056e-06,3.65976e-10,-2.20149e-14,-14548.7,6.04208], Tmin=(1000,'K'), Tmax=(6000,'K'))], Tmin=(200,'K'), Tmax=(6000,'K'), comment=\"\"\"Thermo library: Klippenstein_Glarborg2016\"\"\"), molecule=[Molecule(smiles=\"C=O\")], transport_data=TransportData(shapeIndex=2, epsilon=(4140.61,'J/mol'), sigma=(3.59,'angstrom'), dipoleMoment=(0,'De'), polarizability=(0,'angstrom^3'), rotrelaxcollnum=2.0, comment=\"\"\"NOx2018\"\"\"), molecular_weight=(30.026,'amu'))"
      ]
     },
     "metadata": {},
     "output_type": "display_data"
    },
    {
     "name": "stdout",
     "output_type": "stream",
     "text": [
      "CH2O(9)\n",
      "1 O u0 p2 c0 {2,D}\n",
      "2 C u0 p0 c0 {1,D} {3,S} {4,S}\n",
      "3 H u0 p0 c0 {2,S}\n",
      "4 H u0 p0 c0 {2,S}\n",
      "\n",
      "Thermo library: Klippenstein_Glarborg2016\n",
      "--------------------------------------------------------------------------------\n"
     ]
    },
    {
     "data": {
      "image/png": "[encoded data removed]",
      "text/plain": [
       "Species(index=29, label=\"CH2CO\", thermo=NASA(polynomials=[NASAPolynomial(coeffs=[2.13241,0.0181319,-1.74093e-05,9.35336e-09,-2.01725e-12,-7148.09,13.3808], Tmin=(200,'K'), Tmax=(1000,'K')), NASAPolynomial(coeffs=[5.75871,0.00635124,-2.25955e-06,3.62322e-10,-2.15856e-14,-8085.33,-4.9649], Tmin=(1000,'K'), Tmax=(6000,'K'))], Tmin=(200,'K'), Tmax=(6000,'K'), comment=\"\"\"Thermo library: Klippenstein_Glarborg2016\"\"\"), molecule=[Molecule(smiles=\"C=C=O\")], transport_data=TransportData(shapeIndex=2, epsilon=(3625.11,'J/mol'), sigma=(3.97,'angstrom'), dipoleMoment=(0,'De'), polarizability=(0,'angstrom^3'), rotrelaxcollnum=2.0, comment=\"\"\"NOx2018\"\"\"), molecular_weight=(42.0367,'amu'))"
      ]
     },
     "metadata": {},
     "output_type": "display_data"
    },
    {
     "name": "stdout",
     "output_type": "stream",
     "text": [
      "CH2CO(29)\n",
      "1 O u0 p2 c0 {3,D}\n",
      "2 C u0 p0 c0 {3,D} {4,S} {5,S}\n",
      "3 C u0 p0 c0 {1,D} {2,D}\n",
      "4 H u0 p0 c0 {2,S}\n",
      "5 H u0 p0 c0 {2,S}\n",
      "\n",
      "Thermo library: Klippenstein_Glarborg2016\n",
      "--------------------------------------------------------------------------------\n"
     ]
    },
    {
     "data": {
      "image/png": "[encoded data removed]",
      "text/plain": [
       "Species(index=21, label=\"CH3\", thermo=NASA(polynomials=[NASAPolynomial(coeffs=[3.65718,0.0021266,5.45839e-06,-6.6181e-09,2.46571e-12,16422.7,1.67354], Tmin=(200,'K'), Tmax=(1000,'K')), NASAPolynomial(coeffs=[2.97812,0.00579785,-1.97558e-06,3.07298e-10,-1.79174e-14,16509.5,4.72248], Tmin=(1000,'K'), Tmax=(6000,'K'))], Tmin=(200,'K'), Tmax=(6000,'K'), comment=\"\"\"Thermo library: Klippenstein_Glarborg2016\"\"\"), molecule=[Molecule(smiles=\"[CH3]\")], transport_data=TransportData(shapeIndex=2, epsilon=(1197.28,'J/mol'), sigma=(3.8,'angstrom'), dipoleMoment=(0,'De'), polarizability=(0,'angstrom^3'), rotrelaxcollnum=0.0, comment=\"\"\"NOx2018\"\"\"), molecular_weight=(15.0345,'amu'))"
      ]
     },
     "metadata": {},
     "output_type": "display_data"
    },
    {
     "name": "stdout",
     "output_type": "stream",
     "text": [
      "CH3(21)\n",
      "multiplicity 2\n",
      "1 C u1 p0 c0 {2,S} {3,S} {4,S}\n",
      "2 H u0 p0 c0 {1,S}\n",
      "3 H u0 p0 c0 {1,S}\n",
      "4 H u0 p0 c0 {1,S}\n",
      "\n",
      "Thermo library: Klippenstein_Glarborg2016\n",
      "--------------------------------------------------------------------------------\n"
     ]
    }
   ],
   "source": [
    "for s,n in problem_species.most_common(10):\n",
    "    display(s)\n",
    "    print(s)\n",
    "    print(s.molecule[0].to_adjacency_list())\n",
    "    print(s.thermo.comment)\n",
    "    print('-'*80)"
   ]
  },
  {
   "cell_type": "code",
   "execution_count": null,
   "metadata": {},
   "outputs": [],
   "source": []
  }
 ],
 "metadata": {
  "kernelspec": {
   "display_name": "Python 3",
   "language": "python",
   "name": "python3"
  },
  "language_info": {
   "codemirror_mode": {
    "name": "ipython",
    "version": 3
   },
   "file_extension": ".py",
   "mimetype": "text/x-python",
   "name": "python",
   "nbconvert_exporter": "python",
   "pygments_lexer": "ipython3",
   "version": "3.7.5"
  }
 },
 "nbformat": 4,
 "nbformat_minor": 2
}
