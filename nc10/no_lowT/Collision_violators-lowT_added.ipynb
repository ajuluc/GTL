{
 "cells": [
  {
   "cell_type": "markdown",
   "metadata": {},
   "source": [
    "## Notebook to generate collision rate violators for any RMG job while running"
   ]
  },
  {
   "cell_type": "code",
   "execution_count": 1,
   "metadata": {},
   "outputs": [],
   "source": [
    "import logging\n",
    "import numpy as np\n",
    "import os\n",
    "import sys"
   ]
  },
  {
   "cell_type": "code",
   "execution_count": 2,
   "metadata": {},
   "outputs": [
    {
     "name": "stderr",
     "output_type": "stream",
     "text": [
      "RDKit WARNING: [17:17:33] Enabling RDKit 2019.09.1 jupyter extensions\n"
     ]
    },
    {
     "name": "stdout",
     "output_type": "stream",
     "text": [
      "RMG-Py Version 3.0.0\n",
      "/scratch/ajulu.c/Code/RMG-Py/rmgpy/__init__.py\n"
     ]
    }
   ],
   "source": [
    "import os, sys\n",
    "rmg_path = os.getenv('RMGpy')\n",
    "if rmg_path not in sys.path:\n",
    "    sys.path.append(rmg_path)\n",
    "sys.path\n",
    "\n",
    "import rmgpy\n",
    "from rmgpy.chemkin import load_chemkin_file\n",
    "from rmgpy.rmgobject import RMGObject, expand_to_dict, recursive_make_object\n",
    "\n",
    "print(f\"RMG-Py Version {rmgpy.__version__}\")\n",
    "print(rmgpy.__file__)"
   ]
  },
  {
   "cell_type": "code",
   "execution_count": 5,
   "metadata": {},
   "outputs": [],
   "source": [
    "chemkin_file = '../nc10_lowT/chemkin/chem_annotated.inp'\n",
    "chemkin_folder = os.path.split(chemkin_file)[0]\n",
    "species_dictionary_file = os.path.join(chemkin_folder, 'species_dictionary.txt')\n",
    "transport_file = os.path.join(chemkin_folder, 'tran.dat')"
   ]
  },
  {
   "cell_type": "code",
   "execution_count": 6,
   "metadata": {},
   "outputs": [
    {
     "ename": "ValueError",
     "evalue": "invalid literal for int() with base 10: '<<<<<<<'",
     "output_type": "error",
     "traceback": [
      "\u001b[0;31m---------------------------------------------------------------------------\u001b[0m",
      "\u001b[0;31mValueError\u001b[0m                                Traceback (most recent call last)",
      "\u001b[0;32m<ipython-input-6-6d336824e13b>\u001b[0m in \u001b[0;36m<module>\u001b[0;34m\u001b[0m\n\u001b[1;32m      1\u001b[0m species, reactions = rmgpy.chemkin.load_chemkin_file(\n\u001b[1;32m      2\u001b[0m                     \u001b[0mchemkin_file\u001b[0m\u001b[0;34m,\u001b[0m \u001b[0mspecies_dictionary_file\u001b[0m\u001b[0;34m,\u001b[0m\u001b[0mtransport_path\u001b[0m\u001b[0;34m=\u001b[0m\u001b[0mtransport_file\u001b[0m\u001b[0;34m,\u001b[0m\u001b[0;34m\u001b[0m\u001b[0;34m\u001b[0m\u001b[0m\n\u001b[0;32m----> 3\u001b[0;31m                     check_duplicates=False, use_chemkin_names=True,read_comments=True)\n\u001b[0m\u001b[1;32m      4\u001b[0m \u001b[0;34m\u001b[0m\u001b[0m\n",
      "\u001b[0;32m/scratch/ajulu.c/Code/RMG-Py/rmgpy/chemkin.pyx\u001b[0m in \u001b[0;36mrmgpy.chemkin.load_chemkin_file\u001b[0;34m()\u001b[0m\n",
      "\u001b[0;32m/scratch/ajulu.c/Code/RMG-Py/rmgpy/chemkin.pyx\u001b[0m in \u001b[0;36mrmgpy.chemkin.load_species_dictionary\u001b[0;34m()\u001b[0m\n",
      "\u001b[0;32m/scratch/ajulu.c/Code/RMG-Py/rmgpy/chemkin.pyx\u001b[0m in \u001b[0;36mrmgpy.chemkin.load_species_dictionary\u001b[0;34m()\u001b[0m\n",
      "\u001b[0;32m/scratch/ajulu.c/Code/RMG-Py/rmgpy/species.cpython-37m-x86_64-linux-gnu.so\u001b[0m in \u001b[0;36mrmgpy.species.Species.from_adjacency_list\u001b[0;34m()\u001b[0m\n",
      "\u001b[0;32m/scratch/ajulu.c/Code/RMG-Py/rmgpy/species.cpython-37m-x86_64-linux-gnu.so\u001b[0m in \u001b[0;36mrmgpy.species.Species.from_adjacency_list\u001b[0;34m()\u001b[0m\n",
      "\u001b[0;32m/scratch/ajulu.c/Code/RMG-Py/rmgpy/molecule/molecule.cpython-37m-x86_64-linux-gnu.so\u001b[0m in \u001b[0;36mrmgpy.molecule.molecule.Molecule.from_adjacency_list\u001b[0;34m()\u001b[0m\n",
      "\u001b[0;32m/scratch/ajulu.c/Code/RMG-Py/rmgpy/molecule/adjlist.py\u001b[0m in \u001b[0;36mfrom_adjacency_list\u001b[0;34m(adjlist, group, saturate_h)\u001b[0m\n\u001b[1;32m    548\u001b[0m         \u001b[0;31m# Sometimes these have a trailing period (as if in a numbered list),\u001b[0m\u001b[0;34m\u001b[0m\u001b[0;34m\u001b[0m\u001b[0;34m\u001b[0m\u001b[0m\n\u001b[1;32m    549\u001b[0m         \u001b[0;31m# so remove it just in case\u001b[0m\u001b[0;34m\u001b[0m\u001b[0;34m\u001b[0m\u001b[0;34m\u001b[0m\u001b[0m\n\u001b[0;32m--> 550\u001b[0;31m         \u001b[0maid\u001b[0m \u001b[0;34m=\u001b[0m \u001b[0mint\u001b[0m\u001b[0;34m(\u001b[0m\u001b[0mdata\u001b[0m\u001b[0;34m[\u001b[0m\u001b[0;36m0\u001b[0m\u001b[0;34m]\u001b[0m\u001b[0;34m.\u001b[0m\u001b[0mstrip\u001b[0m\u001b[0;34m(\u001b[0m\u001b[0;34m'.'\u001b[0m\u001b[0;34m)\u001b[0m\u001b[0;34m)\u001b[0m\u001b[0;34m\u001b[0m\u001b[0;34m\u001b[0m\u001b[0m\n\u001b[0m\u001b[1;32m    551\u001b[0m \u001b[0;34m\u001b[0m\u001b[0m\n\u001b[1;32m    552\u001b[0m         \u001b[0;31m# If second item starts with '*', then atom is labeled\u001b[0m\u001b[0;34m\u001b[0m\u001b[0;34m\u001b[0m\u001b[0;34m\u001b[0m\u001b[0m\n",
      "\u001b[0;31mValueError\u001b[0m: invalid literal for int() with base 10: '<<<<<<<'"
     ]
    }
   ],
   "source": [
    "species, reactions = rmgpy.chemkin.load_chemkin_file(\n",
    "                    chemkin_file, species_dictionary_file,transport_path=transport_file,\n",
    "                    check_duplicates=False, use_chemkin_names=True,read_comments=True)\n",
    "\n"
   ]
  },
  {
   "cell_type": "code",
   "execution_count": 5,
   "metadata": {},
   "outputs": [
    {
     "data": {
      "text/plain": [
       "dict_keys(['N2', 'Ar', 'Ne', 'nC10H22(1)', 'O2(2)', 'CH(3)', 'C2H(4)', 'O(5)', 'CO(6)', 'CO2(7)', 'H2O(8)', 'CH2O(9)', 'CH4(10)', 'C2H4(11)', 'C3H6(12)', 'H2(13)', 'R_1(14)', 'R_2(15)', 'R_3(16)', 'R_4(17)', 'R_5(18)', 'ROO_1(19)', 'ROO_2(20)', 'ROO_3(21)', 'ROO_4(22)', 'ROO_5(23)', 'QOOH_1(24)', 'QOOH_2(25)', 'QOOH_3(26)', 'QOOH_4(27)', 'QOOH_5(28)', 'QOOH_6(29)', 'QOOH_7(30)', 'QOOH_8(31)', 'QOOH_9(32)', 'S(33)', 'S(34)', 'S(35)', 'S(36)', 'S(37)', 'S(38)', 'S(39)', 'S(40)', 'S(41)', 'S(42)', 'S(43)', 'S(44)', 'S(45)', 'S(46)', 'S(47)', 'S(48)', 'S(49)', 'S(50)', 'S(51)', 'S(52)', 'S(53)', 'S(54)', 'S(55)', 'S(56)', 'S(57)', 'S(58)', 'S(59)', 'S(60)', 'S(61)', 'S(62)', 'S(63)', 'S(64)', 'S(65)', 'S(66)', 'S(67)', 'S(68)', 'S(69)', 'S(70)', 'S(71)', 'S(72)', 'S(73)', 'S(74)', 'S(75)', 'S(76)', 'S(77)', 'S(78)', 'S(79)', 'S(80)', 'S(81)', 'S(82)', 'S(83)', 'S(84)', 'S(85)', 'S(86)', 'S(87)', 'S(88)', 'S(89)', 'S(90)', 'S(91)', 'S(92)', 'S(93)', 'S(94)', 'S(95)', 'S(96)', 'S(97)', 'S(98)', 'S(99)', 'S(100)', 'S(101)', 'S(102)', 'S(103)', 'S(104)', 'S(105)', 'S(106)', 'S(107)', 'S(108)', 'S(109)', 'S(110)', 'S(111)', 'S(112)', 'S(113)', 'S(114)', 'S(115)', 'S(116)', 'S(117)', 'S(118)', 'S(119)', 'S(120)', 'S(121)', 'S(122)', 'S(123)', 'S(124)', 'S(125)', 'S(126)', 'S(127)', 'S(128)', 'S(129)', 'S(130)', 'S(131)', 'S(132)', 'S(133)', 'S(134)', 'S(135)', 'S(136)', 'S(137)', 'S(138)', 'S(139)', 'S(140)', 'S(141)', 'S(142)', 'S(143)', 'S(144)', 'S(145)', 'S(146)', 'S(147)', 'S(148)', 'S(149)', 'S(150)', 'S(151)', 'S(152)', 'S(153)', 'S(154)', 'S(155)', 'S(156)', 'S(157)', 'S(158)', 'S(159)', 'S(160)', 'S(161)', 'S(162)', 'S(163)', 'S(164)', 'S(165)', 'S(166)', 'S(167)', 'S(168)', 'S(169)', 'S(170)', 'S(171)', 'S(172)', 'S(173)', 'S(174)', 'S(175)', 'S(176)', 'S(177)', 'S(178)', 'S(179)', 'S(180)', 'S(181)', 'S(182)', 'S(183)', 'S(184)', 'S(185)', 'S(186)', 'S(187)', 'S(188)', 'S(189)', 'S(190)', 'S(191)', 'S(192)', 'S(193)', 'S(194)', 'S(195)', 'S(196)', 'S(197)', 'S(198)', 'S(199)', 'S(200)', 'S(201)', 'S(202)', 'S(203)', 'S(204)', 'S(205)', 'S(206)', 'S(207)', 'S(208)', 'S(209)', 'S(210)', 'S(211)', 'S(212)', 'S(213)', 'S(214)', 'S(215)', 'S(216)', 'S(217)', 'S(218)', 'S(219)', 'S(220)', 'S(221)', 'S(222)', 'S(223)', 'S(224)', 'S(225)', 'S(226)', 'S(227)', 'S(228)', 'S(229)', 'S(230)', 'S(231)', 'S(232)', 'S(233)', 'S(234)', 'S(235)', 'S(236)', 'S(237)', 'S(238)', 'S(239)', 'S(240)', 'S(241)', 'S(242)', 'S(243)', 'S(244)', 'S(245)', 'S(246)', 'S(247)', 'S(248)', 'S(249)', 'S(250)', 'S(251)', 'S(252)', 'S(253)', 'S(254)', 'S(255)', 'RO_1(256)', 'RO_2(257)', 'RO_3(258)', 'RO_4(259)', 'RO_5(260)', 'H(261)', 'OH(262)', 'He(263)', 'HO2(264)', 'H2O2(265)', 'HOCO(266)', 'HCO(267)', 'CH3(268)', 'CH2(269)', 'CH3OH(270)', 'CH2(271)', 'CH2OH(272)', 'CH3O(273)', 'HCOH(274)', 'CH3OO(275)', 'CH2CO(276)', 'C2H5(277)', 'C2H3(278)', 'C(279)', 'C2H2(280)', 'CH4O2(281)', 'CH3O2(282)', 'C2H6(283)', 'C2H4O(284)', 'C2H5O(285)', 'S(286)', 'C2H3O(287)', 'H2CC(288)', 'C2H4O(289)', 'C2H5O(290)', 'C2H4O(291)', 'S(292)', 'S(293)', 'CHCHO(294)', 'S(295)', 'HCCO(296)', 'HCCOH(297)', 'C2H3O(298)', 'C2(299)', 'C2O(300)', 'C2H6O(301)', 'C2H5O(302)', 'S(303)', 'CH3CO(304)', 'C2H3O(305)', 'HOCHO(306)', 'S(307)', 'OCHCO(308)', 'S(309)', 'S(310)', 'S(311)', 'CH3O2(312)', 'OCHO(313)', 'S(314)', 'S(315)', 'O2CHO(316)', 'CH2O3(317)', 'CH3O3(318)', 'CH3O3(319)', 'CH4O3(320)', 'S(321)', 'S(322)', 'H2CC(323)', 'C3H3(324)', 'C3H6O(325)', 'C3H5O(326)', 'S(327)', 'S(328)', 'S(329)', 'C3H4O(330)', 'C3H3O(331)', 'C3H6O(332)', 'C3H5O(333)', 'C2H6O(334)', 'C2H5O(335)', 'S(336)', 'S(337)', 'S(338)', 'S(339)', 'S(340)', 'S(341)', 'S(342)', 'S(343)', 'S(344)', 'S(345)', 'S(346)', 'C3H8(347)', 'NC3H7(348)', 'IC3H7(349)', 'C3H5(350)', 'S(351)', 'S(352)', 'S(353)', 'S(354)', 'CC3H6(355)', 'C3H5(356)', 'C3H5(357)', 'C6H5(358)', 'S(369)', 'S(370)', 'C3H6O(372)', 'C3H6O(373)', 'C3H5O(384)', 'C3H5O(386)', 'C3H5O(387)', 'C3H6O(388)', 'C3H7O(434)', 'C3H7O(435)', 'PC4H9(437)', 'SC4H9(438)', 'S(439)', 'S(441)', 'C4H8(443)', 'C4H8(444)', 'C4H7(445)', 'C4H7(446)', 'C4H7(447)', 'C4H6(449)', 'C4H6O(465)', 'C4H8O(469)', 'C4H8O(470)', 'S(474)', 'S(475)', 'S(480)', 'S(493)', 'S(507)', 'C4H7O(513)', 'C4H7O(515)', 'C4H6O(518)', 'C4H8O(519)', 'C4H7O(523)', 'C5H11(673)', 'C5H11(674)', 'C5H10(676)', 'C5H10(677)', 'S(688)', 'S(690)', 'S(695)', 'S(696)', 'S(697)', 'S(700)', 'S(701)', 'S(705)', 'S(706)', 'S(709)', 'S(711)', 'S(712)', 'S(724)', 'S(727)', 'S(729)', 'S(754)', 'S(775)', 'C7H15(931)', 'C8H17(932)', 'C6H13(933)', 'C9H19(934)', 'C9H19(935)', 'C9H19(936)', 'S(937)', 'S(938)', 'C7H14(939)', 'C6H12(940)', 'S(963)', 'C8H16(964)', 'S(983)', 'C9H19(998)', 'S(999)', 'S(1014)', 'S(1029)', 'S(1030)', 'S(1070)', 'S(1071)', 'C2H4(1152)', 'S(1177)', 'S(1200)', 'S(1217)', 'S(1232)', 'S(1250)', 'S(1272)', 'S(1312)', 'S(1363)', 'S(1364)', 'S(1365)', 'S(1389)', 'S(1451)', 'S(1456)', 'S(1504)', 'S(1527)', 'S(1576)', 'S(1609)', 'S(1648)', 'S(1668)', 'S(1685)', 'S(1702)', 'S(1717)', 'S(1832)', 'S(1834)', 'S(1889)', 'S(1911)', 'S(1948)', 'S(1974)', 'S(1975)', 'S(1995)', 'S(1996)', 'S(2023)', 'S(2032)', 'S(2105)', 'S(2119)', 'S(2172)', 'S(2217)', 'S(2221)', 'S(2238)', 'S(2403)', 'S(2461)', 'S(2484)', 'S(2540)', 'S(2550)', 'S(2593)', 'S(2599)', 'S(2607)', 'S(2657)', 'S(2679)', 'S(2756)', 'S(2875)', 'S(3194)', 'S(3195)', 'S(3218)', 'S(3606)', 'S(3627)', 'S(3666)', 'S(3686)', 'S(3706)', 'S(3726)', 'S(3763)', 'S(3829)', 'S(3831)', 'S(3833)', 'S(3834)', 'S(3837)', 'S(3841)', 'S(3849)', 'S(3850)', 'S(3854)', 'S(3866)', 'S(3868)', 'S(3869)', 'S(4465)', 'S(4726)', 'S(4729)', 'S(4730)', 'S(4731)', 'S(4734)', 'S(4768)', 'S(4794)', 'S(4805)', 'S(4835)', 'S(4850)', 'S(4878)', 'S(4951)', 'S(4986)', 'S(4994)', 'S(5002)', 'S(5043)', 'S(5061)', 'S(5099)', 'S(5107)', 'S(5114)', 'S(5152)', 'S(5204)', 'S(5217)', 'S(5242)', 'S(5250)', 'S(5273)', 'S(5279)', 'S(5341)', 'S(5374)', 'S(5384)', 'S(5638)', 'S(5659)', 'S(5669)', 'S(5772)', 'S(5793)', 'S(5804)', 'S(5838)', 'S(5859)', 'S(6026)', 'S(6057)', 'S(6058)', 'S(6099)', 'S(6196)', 'S(6199)', 'S(6261)', 'S(6444)', 'S(6477)', 'S(6570)', 'S(6602)', 'S(6623)', 'S(6636)', 'S(6775)', 'S(6911)', 'S(6940)', 'S(6974)', 'S(7004)', 'S(7035)', 'S(7195)', 'S(7196)', 'S(7197)', 'S(7198)', 'S(7206)', 'S(7407)', 'S(7411)', 'S(7412)', 'S(7419)', 'S(7425)', 'S(7505)', 'S(7522)', 'S(7525)', 'S(7535)', 'S(7541)', 'S(7552)', 'S(7553)', 'S(7558)', 'S(7613)', 'S(7637)', 'S(7667)', 'S(7669)', 'S(7671)', 'S(7672)', 'S(7679)', 'S(7681)', 'S(7682)', 'S(7685)', 'S(7809)', 'S(7882)', 'S(7883)', 'S(7895)', 'S(7912)', 'S(7920)', 'S(8103)', 'S(8127)', 'S(8128)', 'S(8130)', 'S(8173)', 'S(8243)', 'S(8251)', 'S(8289)', 'S(8330)', 'S(8390)', 'S(8429)', 'S(8489)', 'S(8558)', 'S(8562)', 'S(8598)', 'S(8685)', 'S(8688)', 'S(8703)', 'S(8705)', 'S(8717)', 'S(8718)', 'S(8723)', 'S(8740)', 'S(8752)', 'S(8761)', 'S(8767)', 'S(8795)', 'S(8842)', 'S(8843)', 'S(8851)', 'S(8872)', 'S(8931)', 'S(8937)', 'S(8963)', 'S(8969)', 'S(8997)', 'S(9000)', 'S(9008)', 'S(9150)', 'S(9270)', 'S(9317)', 'S(9318)', 'S(9344)', 'S(9362)', 'S(9533)', 'S(9577)', 'S(9589)', 'S(10352)', 'S(10896)', 'S(10900)', 'S(11116)', 'S(11708)', 'S(12282)', 'S(12458)', 'S(12464)', 'S(12769)', 'S(13207)', 'S(13464)', 'S(13812)', 'S(14143)', 'S(14821)', 'S(15372)', 'S(15380)', 'S(15437)', 'S(15438)', 'S(15442)', 'S(15448)', 'S(17777)', 'S(17778)', 'S(17789)', 'S(17842)', 'S(18419)', 'S(19282)', 'S(21680)', 'S(22701)', 'S(22709)', 'S(22715)', 'S(22725)', 'S(22726)', 'S(22729)', 'S(22731)', 'S(22748)', 'S(22749)', 'S(22750)', 'S(22760)', 'S(22767)', 'S(22768)', 'S(22794)', 'S(22795)', 'S(22796)', 'S(22805)', 'S(22822)', 'S(22834)', 'S(22843)', 'S(22853)', 'S(22869)', 'S(22972)', 'S(22980)', 'S(23060)', 'S(23072)', 'S(23074)', 'S(23078)', 'S(23103)', 'S(23161)', 'S(23185)', 'S(23305)', 'S(23308)', 'S(23324)', 'S(23338)', 'S(23472)', 'S(23480)', 'S(23569)', 'S(23581)', 'S(23582)', 'S(23586)', 'S(23599)', 'S(23603)', 'S(23606)', 'S(23626)', 'S(23628)', 'S(23642)', 'S(23660)', 'S(23666)', 'S(23715)', 'S(23716)', 'S(23731)', 'S(23807)', 'S(23831)', 'S(23832)', 'S(23846)', 'S(23918)', 'S(23968)', 'S(24054)', 'S(24067)', 'S(24068)', 'S(24088)', 'S(24113)', 'S(24328)', 'S(24343)', 'S(24357)', 'S(24372)', 'S(24404)', 'S(24478)', 'S(24479)', 'S(24655)', 'S(24657)', 'S(24678)', 'S(24762)', 'S(24784)', 'S(24928)', 'S(24995)', 'S(25019)', 'S(25240)', 'S(25283)', 'S(25863)', 'S(26121)', 'S(26331)', 'S(26348)', 'S(26349)', 'S(26429)', 'S(26442)', 'S(26545)', 'S(26716)', 'S(27028)', 'S(27038)', 'S(27039)', 'S(27051)', 'S(27055)', 'S(27410)', 'S(27412)', 'S(27925)', 'S(28059)', 'S(28068)', 'S(28069)', 'S(28126)', 'S(28128)', 'S(28173)', 'S(28218)', 'S(28219)', 'S(28240)', 'S(28385)', 'S(29665)', 'S(29745)', 'S(29748)', 'S(29751)', 'S(29780)', 'S(29802)', 'S(29803)', 'S(29871)', 'S(29872)', 'S(29894)', 'S(29902)', 'S(29921)', 'S(29954)', 'S(30012)', 'S(32008)', 'S(32088)', 'S(32089)', 'S(32094)', 'S(32175)', 'S(32187)', 'S(32188)', 'S(33822)', 'S(33823)'])"
      ]
     },
     "execution_count": 5,
     "metadata": {},
     "output_type": "execute_result"
    }
   ],
   "source": [
    "species_dict = {rmgpy.chemkin.get_species_identifier(s): s for s in species}\n",
    "species_dict.keys()"
   ]
  },
  {
   "cell_type": "code",
   "execution_count": 6,
   "metadata": {},
   "outputs": [
    {
     "data": {
      "text/plain": [
       "(805, 28958)"
      ]
     },
     "execution_count": 6,
     "metadata": {},
     "output_type": "execute_result"
    }
   ],
   "source": [
    "len(species), len(reactions)"
   ]
  },
  {
   "cell_type": "code",
   "execution_count": 7,
   "metadata": {},
   "outputs": [],
   "source": [
    "def check_collision_limit_violation(self, t_min, t_max, p_min, p_max):\n",
    "        \"\"\"\n",
    "        Warn if a core reaction violates the collision limit rate in either the forward or reverse direction\n",
    "        at the relevant extreme T/P conditions. Assuming a monotonic behaviour of the kinetics.\n",
    "        Returns a list with the reaction object and the direction in which the violation was detected.\n",
    "        \"\"\"\n",
    "        conditions = [[t_min, p_min]]\n",
    "        if t_min != t_max:\n",
    "            conditions.append([t_max, p_min])\n",
    "        if self.kinetics.is_pressure_dependent() and p_max != p_min:\n",
    "            conditions.append([t_min, p_max])\n",
    "            if t_min != t_max:\n",
    "                conditions.append([t_max, p_max])\n",
    "        logging.debug(\"Checking whether reaction {0} violates the collision rate limit...\".format(self))\n",
    "        violator_list = []\n",
    "        kf_list = []\n",
    "        kr_list = []\n",
    "        collision_limit_f = []\n",
    "        collision_limit_r = []\n",
    "        for condition in conditions:\n",
    "            if len(self.reactants) >= 2:\n",
    "                try:\n",
    "                    collision_limit_f.append(self.calculate_coll_limit(temp=condition[0], reverse=False))\n",
    "                except ValueError:\n",
    "                    continue\n",
    "                else:\n",
    "                    kf_list.append(self.get_rate_coefficient(condition[0], condition[1]))\n",
    "            if len(self.products) >= 2:\n",
    "                try:\n",
    "                    collision_limit_r.append(self.calculate_coll_limit(temp=condition[0], reverse=True))\n",
    "                except ValueError:\n",
    "                    continue\n",
    "                else:\n",
    "                    kr_list.append(self.generate_reverse_rate_coefficient().get_rate_coefficient(condition[0], condition[1]))\n",
    "        if len(self.reactants) >= 2:\n",
    "            for i, k in enumerate(kf_list):\n",
    "                if k > collision_limit_f[i]:\n",
    "                    ratio = k / collision_limit_f[i]\n",
    "                    condition = '{0} K, {1:.1f} bar'.format(conditions[i][0], conditions[i][1] / 1e5)\n",
    "                    violator_list.append([self, 'forward', ratio, condition])\n",
    "        if len(self.products) >= 2:\n",
    "            for i, k in enumerate(kr_list):\n",
    "                if k > collision_limit_r[i]:\n",
    "                    ratio = k / collision_limit_r[i]\n",
    "                    condition = '{0} K, {1:.1f} bar'.format(conditions[i][0], conditions[i][1] / 1e5)\n",
    "                    violator_list.append([self, 'reverse', ratio, condition])\n",
    "        return violator_list"
   ]
  },
  {
   "cell_type": "code",
   "execution_count": 8,
   "metadata": {},
   "outputs": [
    {
     "data": {
      "text/plain": [
       "numpy.linalg.linalg.LinAlgError"
      ]
     },
     "execution_count": 8,
     "metadata": {},
     "output_type": "execute_result"
    }
   ],
   "source": [
    "import numpy as np\n",
    "np.linalg.LinAlgError"
   ]
  },
  {
   "cell_type": "code",
   "execution_count": 9,
   "metadata": {},
   "outputs": [
    {
     "name": "stdout",
     "output_type": "stream",
     "text": [
      "H(261) + HO2(264) <=> H2O2(265)\n",
      "CH3(268) <=> H2(13) + CH(3)\n",
      "CH3(268) <=> H(261) + CH2(269)\n",
      "CH2(269) <=> H(261) + CH(3)\n",
      "CH2(269) <=> H2(13) + C(279)\n",
      "C2H2(280) <=> H(261) + C2H(4)\n",
      "C2O(300) <=> C(279) + CO(6)\n",
      "HO2(264) + S(303) => O2(2) + CH2OH(272) + CH3O2(282)\n",
      "CH2O(9) + S(303) => HCO(267) + CH2OH(272) + CH3O2(282)\n",
      "CH3CO(304) + C2H5(277) <=> C2H4(11) + C2H4O(284)\n",
      "CH3CO(304) + C5H11(674) <=> C2H4O(284) + C5H10(676)\n",
      "CH3O(273) + CH3CO(304) <=> CH2O(9) + C2H4O(284)\n",
      "CH3CO(304) + CH3CO(304) <=> CH2CO(276) + C2H4O(284)\n",
      "OCHCO(308) + CH3CO(304) <=> CH2CO(276) + S(295)\n",
      "HOCO(266) + CH3CO(304) <=> HOCHO(306) + CH2CO(276)\n",
      "HCO(267) + CH3CO(304) <=> CH2O(9) + CH2CO(276)\n",
      "CH3CO(304) + C2H5O(302) <=> C2H4O(289) + C2H4O(284)\n",
      "OCHCO(308) + C2H5O(302) <=> S(295) + C2H4O(289)\n",
      "HOCO(266) + C2H5O(302) <=> HOCHO(306) + C2H4O(289)\n",
      "CH3O(273) + OCHCO(308) <=> CH2O(9) + S(295)\n",
      "OCHCO(308) + C2H5(277) <=> S(295) + C2H4(11)\n",
      "OCHCO(308) + C5H11(674) <=> S(295) + C5H10(676)\n",
      "HOCO(266) + CH3O(273) <=> CH2O(9) + HOCHO(306)\n",
      "HOCO(266) + C2H5(277) <=> HOCHO(306) + C2H4(11)\n",
      "HOCO(266) + C5H11(674) <=> HOCHO(306) + C5H10(676)\n",
      "C5H11(674) + S(3841) <=> C5H10(676) + S(1975)\n",
      "C2H5O(302) + S(3841) <=> C2H4O(289) + S(1975)\n",
      "CH3O(273) + S(3841) <=> CH2O(9) + S(1975)\n",
      "C2H5(277) + S(3841) <=> C2H4(11) + S(1975)\n",
      "OH(262) + C3H5(350) => H(261) + H(261) + C3H4O(330)\n",
      "CH3CO(304) + S(1995) <=> C2H4O(284) + C6H12(940)\n",
      "HOCO(266) + S(1995) <=> HOCHO(306) + C6H12(940)\n",
      "S(3841) + S(1995) <=> C6H12(940) + S(1975)\n",
      "CH3O(273) + C3H3O(331) <=> CH2O(9) + C3H4O(330)\n",
      "C2H5(277) + C3H5O(333) <=> C2H4(11) + C3H6O(332)\n",
      "C3H5O(333) + C5H11(674) <=> C3H6O(332) + C5H10(676)\n",
      "CH3O(273) + C3H5O(333) <=> CH2O(9) + C3H6O(332)\n",
      "CH3CO(304) + C3H5O(333) <=> CH2CO(276) + C3H6O(332)\n",
      "C2H5O(302) + C3H5O(333) <=> C2H4O(289) + C3H6O(332)\n",
      "C3H5O(333) + S(1995) <=> C3H6O(332) + C6H12(940)\n",
      "CH3CO(304) + S(3841) <=> CH2CO(276) + S(1975)\n",
      "C2H5(277) + C3H3O(331) <=> C2H4(11) + C3H4O(330)\n",
      "C3H3O(331) + S(1995) <=> C3H4O(330) + C6H12(940)\n",
      "CH3CO(304) + C3H3O(331) <=> CH2CO(276) + C3H4O(330)\n",
      "C2H5O(302) + C3H3O(331) <=> C2H4O(289) + C3H4O(330)\n",
      "OCHCO(308) + S(1995) <=> S(295) + C6H12(940)\n",
      "C3H3O(331) + C5H11(674) <=> C3H4O(330) + C5H10(676)\n",
      "CH3CO(304) + S(22709) <=> C2H4O(284) + C7H14(939)\n",
      "C3H5O(333) + S(22709) <=> C3H6O(332) + C7H14(939)\n",
      "S(3841) + S(22709) <=> S(1975) + C7H14(939)\n",
      "CH3CO(304) + SC4H9(438) <=> C2H4O(284) + C4H8(443)\n",
      "OCHCO(308) + SC4H9(438) <=> S(295) + C4H8(443)\n",
      "HOCO(266) + SC4H9(438) <=> HOCHO(306) + C4H8(443)\n",
      "C3H5O(333) + SC4H9(438) <=> C3H6O(332) + C4H8(443)\n",
      "SC4H9(438) + S(3841) <=> C4H8(443) + S(1975)\n",
      "C3H3O(331) + SC4H9(438) <=> C3H4O(330) + C4H8(443)\n",
      "CH3CO(304) + IC3H7(349) <=> C2H4O(284) + C3H6(12)\n",
      "C3H5O(333) + IC3H7(349) <=> C3H6(12) + C3H6O(332)\n",
      "OCHCO(308) + IC3H7(349) <=> S(295) + C3H6(12)\n",
      "HOCO(266) + IC3H7(349) <=> HOCHO(306) + C3H6(12)\n",
      "IC3H7(349) + S(3841) <=> C3H6(12) + S(1975)\n",
      "C3H3O(331) + IC3H7(349) <=> C3H4O(330) + C3H6(12)\n",
      "CH3CO(304) + C9H19(998) <=> C2H4O(284) + S(1014)\n",
      "CH3CO(304) + S(7667) <=> C2H4O(284) + C8H16(964)\n",
      "C3H5O(333) + C9H19(998) <=> C3H6O(332) + S(1014)\n",
      "S(352) <=> OH(262) + C3H7O(434)\n",
      "CH3CO(304) + R_4(17) <=> C2H4O(284) + S(983)\n",
      "C3H5O(333) + S(7667) <=> C3H6O(332) + C8H16(964)\n",
      "HO2(264) + C4H6O(518) => H2O2(265) + CH2CO(276) + C2H3(278)\n",
      "CH3OO(275) + C4H6O(518) => CH4O2(281) + CH2CO(276) + C2H3(278)\n",
      "S(3841) + S(7667) <=> S(1975) + C8H16(964)\n",
      "OCHCO(308) + S(22709) <=> S(295) + C7H14(939)\n",
      "OCHCO(308) + C9H19(998) <=> S(295) + S(1014)\n",
      "C3H3O(331) + S(22709) <=> C3H4O(330) + C7H14(939)\n",
      "C3H3O(331) + C9H19(998) <=> C3H4O(330) + S(1014)\n",
      "C3H3O(331) + S(7667) <=> C3H4O(330) + C8H16(964)\n",
      "OCHCO(308) + S(7667) <=> S(295) + C8H16(964)\n",
      "HOCO(266) + S(22709) <=> HOCHO(306) + C7H14(939)\n",
      "HOCO(266) + C9H19(998) <=> HOCHO(306) + S(1014)\n",
      "HOCO(266) + S(7667) <=> HOCHO(306) + C8H16(964)\n",
      "HOCO(266) + R_4(17) <=> HOCHO(306) + S(983)\n",
      "S(3841) + C9H19(998) <=> S(1975) + S(1014)\n"
     ]
    }
   ],
   "source": [
    "violators = []\n",
    "for r in reactions:\n",
    "    try:\n",
    "        v = check_collision_limit_violation(r, 500,1000, 1e5, 30e5)\n",
    "    except np.linalg.LinAlgError:\n",
    "        print(f\"LinAlgError checking {r}\")\n",
    "    if v:\n",
    "        print(r)\n",
    "        violators.extend(v)"
   ]
  },
  {
   "cell_type": "code",
   "execution_count": 10,
   "metadata": {},
   "outputs": [],
   "source": [
    "from rmgpy.data.kinetics import TemplateReaction, LibraryReaction\n",
    "from rmgpy.rmg.pdep import PDepReaction"
   ]
  },
  {
   "cell_type": "code",
   "execution_count": 11,
   "metadata": {},
   "outputs": [],
   "source": [
    "violators.sort(key = lambda violator: -violator[2])"
   ]
  },
  {
   "cell_type": "code",
   "execution_count": 12,
   "metadata": {},
   "outputs": [
    {
     "data": {
      "text/plain": [
       "Text(0.5, 0, 'reaction index (of 28958 total)')"
      ]
     },
     "execution_count": 12,
     "metadata": {},
     "output_type": "execute_result"
    },
    {
     "data": {
      "image/png": "[encoded data removed]",
      "text/plain": [
       "<Figure size 432x288 with 1 Axes>"
      ]
     },
     "metadata": {
      "needs_background": "light"
     },
     "output_type": "display_data"
    }
   ],
   "source": [
    "ratios = [np.log10(violator[2]) for violator in violators]\n",
    "from matplotlib import pyplot as plt\n",
    "plt.bar(np.arange(len(ratios)), ratios)\n",
    "plt.ylabel(\"orders of magnitude above collision limit\")\n",
    "plt.xlabel(f\"reaction index (of {len(reactions)} total)\")"
   ]
  },
  {
   "cell_type": "code",
   "execution_count": 13,
   "metadata": {},
   "outputs": [
    {
     "data": {
      "text/plain": [
       "(155, 28958)"
      ]
     },
     "execution_count": 13,
     "metadata": {},
     "output_type": "execute_result"
    }
   ],
   "source": [
    "len(ratios), len(reactions)"
   ]
  },
  {
   "cell_type": "code",
   "execution_count": 14,
   "metadata": {},
   "outputs": [
    {
     "name": "stdout",
     "output_type": "stream",
     "text": [
      "CH2O(9) + S(303) => HCO(267) + CH2OH(272) + CH3O2(282)  2e+18\n",
      "CH3(268) <= H(261) + CH2(269)                     1e+08\n",
      "HO2(264) + S(303) => O2(2) + CH2OH(272) + CH3O2(282)  9e+07\n",
      "CH3(268) <= H2(13) + CH(3)                        6e+07\n",
      "CH3(268) <= H(261) + CH2(269)                     5e+06\n",
      "CH3(268) <= H2(13) + CH(3)                        2e+06\n",
      "CH3OO(275) + C4H6O(518) => CH4O2(281) + CH2CO(276) + C2H3(278)  5e+03\n",
      "C2H2(280) <= H(261) + C2H(4)                      4e+03\n",
      "CH2(269) <= H(261) + CH(3)                        3e+02\n",
      "HO2(264) + C4H6O(518) => H2O2(265) + CH2CO(276) + C2H3(278)  3e+02\n",
      "C2H2(280) <= H(261) + C2H(4)                      1e+02\n",
      "CH2O(9) + S(303) => HCO(267) + CH2OH(272) + CH3O2(282)  1e+02\n",
      "CH3(268) <= H(261) + CH2(269)                     5e+01\n",
      "CH3(268) <= H2(13) + CH(3)                        4e+01\n",
      "OH(262) + C3H5(350) => H(261) + H(261) + C3H4O(330)  1e+01\n",
      "CH2(269) <= H(261) + CH(3)                        1e+01\n",
      "C2O(300) <= C(279) + CO(6)                        8\n",
      "C2H2(280) <= H(261) + C2H(4)                      7\n",
      "HOCO(266) + IC3H7(349) => HOCHO(306) + C3H6(12)   3\n",
      "OCHCO(308) + IC3H7(349) => S(295) + C3H6(12)      3\n",
      "CH2(269) <= H2(13) + C(279)                       3\n",
      "CH3CO(304) + IC3H7(349) => C2H4O(284) + C3H6(12)  3\n",
      "HOCO(266) + IC3H7(349) => HOCHO(306) + C3H6(12)   3\n",
      "H(261) + HO2(264) => H2O2(265)                    3\n",
      "OCHCO(308) + IC3H7(349) => S(295) + C3H6(12)      3\n",
      "CH3CO(304) + IC3H7(349) => C2H4O(284) + C3H6(12)  3\n",
      "C3H3O(331) + IC3H7(349) => C3H4O(330) + C3H6(12)  3\n",
      "C3H5O(333) + IC3H7(349) => C3H6(12) + C3H6O(332)  3\n",
      "H(261) + HO2(264) => H2O2(265)                    2\n",
      "C3H3O(331) + IC3H7(349) => C3H4O(330) + C3H6(12)  2\n",
      "IC3H7(349) + S(3841) => C3H6(12) + S(1975)        2\n",
      "C3H5O(333) + IC3H7(349) => C3H6(12) + C3H6O(332)  2\n",
      "IC3H7(349) + S(3841) => C3H6(12) + S(1975)        2\n",
      "HOCO(266) + CH3CO(304) => HOCHO(306) + CH2CO(276)  2\n",
      "HOCO(266) + CH3O(273) => CH2O(9) + HOCHO(306)     2\n",
      "OCHCO(308) + CH3CO(304) => CH2CO(276) + S(295)    2\n",
      "CH3O(273) + OCHCO(308) => CH2O(9) + S(295)        2\n",
      "HOCO(266) + CH3CO(304) => HOCHO(306) + CH2CO(276)  2\n",
      "HOCO(266) + CH3O(273) => CH2O(9) + HOCHO(306)     2\n",
      "HOCO(266) + C2H5(277) => HOCHO(306) + C2H4(11)    2\n",
      "CH3CO(304) + CH3CO(304) => CH2CO(276) + C2H4O(284)  2\n",
      "CH3O(273) + CH3CO(304) => CH2O(9) + C2H4O(284)    2\n",
      "CH3(268) <= H(261) + CH2(269)                     2\n",
      "HOCO(266) + C2H5O(302) => HOCHO(306) + C2H4O(289)  2\n",
      "OCHCO(308) + CH3CO(304) => CH2CO(276) + S(295)    2\n",
      "OCHCO(308) + C2H5(277) => S(295) + C2H4(11)       2\n",
      "OCHCO(308) + C2H5O(302) => S(295) + C2H4O(289)    2\n",
      "CH3O(273) + OCHCO(308) => CH2O(9) + S(295)        2\n",
      "HCO(267) + CH3CO(304) => CH2O(9) + CH2CO(276)     2\n",
      "CH3CO(304) + C2H5(277) => C2H4(11) + C2H4O(284)   2\n",
      "CH3CO(304) + CH3CO(304) => CH2CO(276) + C2H4O(284)  2\n",
      "CH3O(273) + CH3CO(304) => CH2O(9) + C2H4O(284)    2\n",
      "S(352) <= OH(262) + C3H7O(434)                    2\n",
      "CH3CO(304) + C2H5O(302) => C2H4O(289) + C2H4O(284)  2\n",
      "HOCO(266) + C2H5O(302) => HOCHO(306) + C2H4O(289)  2\n",
      "HOCO(266) + C2H5(277) => HOCHO(306) + C2H4(11)    2\n",
      "HCO(267) + CH3CO(304) => CH2O(9) + CH2CO(276)     2\n",
      "HOCO(266) + SC4H9(438) => HOCHO(306) + C4H8(443)  2\n",
      "OCHCO(308) + SC4H9(438) => S(295) + C4H8(443)     2\n",
      "OCHCO(308) + C2H5O(302) => S(295) + C2H4O(289)    2\n",
      "OCHCO(308) + C2H5(277) => S(295) + C2H4(11)       2\n",
      "CH3CO(304) + C2H5O(302) => C2H4O(289) + C2H4O(284)  1\n",
      "CH3CO(304) + SC4H9(438) => C2H4O(284) + C4H8(443)  1\n",
      "HOCO(266) + SC4H9(438) => HOCHO(306) + C4H8(443)  1\n",
      "CH3CO(304) + C2H5(277) => C2H4(11) + C2H4O(284)   1\n",
      "OCHCO(308) + C5H11(674) => S(295) + C5H10(676)    1\n",
      "CH3CO(304) + C3H3O(331) => CH2CO(276) + C3H4O(330)  1\n",
      "HOCO(266) + C5H11(674) => HOCHO(306) + C5H10(676)  1\n",
      "OCHCO(308) + SC4H9(438) => S(295) + C4H8(443)     1\n",
      "CH3O(273) + C3H3O(331) => CH2O(9) + C3H4O(330)    1\n",
      "OCHCO(308) + S(1995) => S(295) + C6H12(940)       1\n",
      "CH3CO(304) + C3H5O(333) => CH2CO(276) + C3H6O(332)  1\n",
      "HOCO(266) + S(1995) => HOCHO(306) + C6H12(940)    1\n",
      "C2H5O(302) + C3H3O(331) => C2H4O(289) + C3H4O(330)  1\n",
      "CH3O(273) + C3H5O(333) => CH2O(9) + C3H6O(332)    1\n",
      "CH3CO(304) + C5H11(674) => C2H4O(284) + C5H10(676)  1\n",
      "C2H5(277) + C3H3O(331) => C2H4(11) + C3H4O(330)   1\n",
      "CH3CO(304) + SC4H9(438) => C2H4O(284) + C4H8(443)  1\n",
      "OCHCO(308) + S(22709) => S(295) + C7H14(939)      1\n",
      "HOCO(266) + C5H11(674) => HOCHO(306) + C5H10(676)  1\n",
      "OCHCO(308) + C5H11(674) => S(295) + C5H10(676)    1\n",
      "CH3CO(304) + C3H3O(331) => CH2CO(276) + C3H4O(330)  1\n",
      "C2H5O(302) + C3H5O(333) => C2H4O(289) + C3H6O(332)  1\n",
      "HOCO(266) + S(22709) => HOCHO(306) + C7H14(939)   1\n",
      "CH3(268) <= H2(13) + CH(3)                        1\n",
      "C2H5(277) + C3H5O(333) => C2H4(11) + C3H6O(332)   1\n",
      "CH3O(273) + C3H3O(331) => CH2O(9) + C3H4O(330)    1\n",
      "OCHCO(308) + S(1995) => S(295) + C6H12(940)       1\n",
      "CH3CO(304) + S(1995) => C2H4O(284) + C6H12(940)   1\n",
      "CH3CO(304) + C3H5O(333) => CH2CO(276) + C3H6O(332)  1\n",
      "HOCO(266) + S(1995) => HOCHO(306) + C6H12(940)    1\n",
      "OCHCO(308) + S(7667) => S(295) + C8H16(964)       1\n",
      "C3H3O(331) + SC4H9(438) => C3H4O(330) + C4H8(443)  1\n",
      "OCHCO(308) + S(22709) => S(295) + C7H14(939)      1\n",
      "CH3O(273) + C3H5O(333) => CH2O(9) + C3H6O(332)    1\n",
      "CH3CO(304) + C5H11(674) => C2H4O(284) + C5H10(676)  1\n",
      "HOCO(266) + S(7667) => HOCHO(306) + C8H16(964)    1\n",
      "C3H5O(333) + SC4H9(438) => C3H6O(332) + C4H8(443)  1\n",
      "C2H5O(302) + C3H3O(331) => C2H4O(289) + C3H4O(330)  1\n",
      "CH3CO(304) + S(22709) => C2H4O(284) + C7H14(939)  1\n"
     ]
    }
   ],
   "source": [
    "for violator in violators[:100]:\n",
    "    rxn_string = str(violator[0])\n",
    "    direction = {'forward':'=>','reverse':'<='}[violator[1]]\n",
    "    ratio = violator[2]\n",
    "    print(f\"{rxn_string.replace('<=>',direction) :48s}  {ratio :.1g}\")"
   ]
  },
  {
   "cell_type": "code",
   "execution_count": 15,
   "metadata": {},
   "outputs": [],
   "source": [
    "from collections import Counter\n",
    "import re"
   ]
  },
  {
   "cell_type": "code",
   "execution_count": 16,
   "metadata": {
    "scrolled": true
   },
   "outputs": [
    {
     "data": {
      "image/png": "[encoded data removed]",
      "text/plain": [
       "LibraryReaction(index=583, reactants=[Species(index=9, label=\"CH2O\", thermo=NASA(polynomials=[NASAPolynomial(coeffs=[4.79372,-0.00990833,3.7322e-05,-3.79285e-08,1.31773e-11,-14379.2,0.602798], Tmin=(200,'K'), Tmax=(1000,'K')), NASAPolynomial(coeffs=[3.16953,0.00619321,-2.25056e-06,3.65976e-10,-2.20149e-14,-14548.7,6.04208], Tmin=(1000,'K'), Tmax=(6000,'K'))], Tmin=(200,'K'), Tmax=(6000,'K'), comment=\"\"\"Thermo library: Klippenstein_Glarborg2016\"\"\"), molecule=[Molecule(smiles=\"C=O\")], transport_data=TransportData(shapeIndex=2, epsilon=(4140.61,'J/mol'), sigma=(3.59,'angstrom'), dipoleMoment=(0,'De'), polarizability=(0,'angstrom^3'), rotrelaxcollnum=2.0, comment=\"\"\"NOx2018\"\"\"), molecular_weight=(30.026,'amu')), Species(index=303, label=\"S\", thermo=NASA(polynomials=[NASAPolynomial(coeffs=[0.556418,0.0412519,-3.10647e-05,1.2293e-08,-1.99691e-12,-22047.4,24.9983], Tmin=(298,'K'), Tmax=(800,'K')), NASAPolynomial(coeffs=[0.556418,0.0412519,-3.10647e-05,1.2293e-08,-1.99691e-12,-22047.4,24.9983], Tmin=(800,'K'), Tmax=(2500,'K'))], Tmin=(298,'K'), Tmax=(2500,'K'), comment=\"\"\"Thermo library: Klippenstein_Glarborg2016\"\"\"), molecule=[Molecule(smiles=\"[O]OCCO\")], transport_data=TransportData(shapeIndex=2, epsilon=(3284.22,'J/mol'), sigma=(4.037,'angstrom'), dipoleMoment=(1.3,'De'), polarizability=(0,'angstrom^3'), rotrelaxcollnum=1.0, comment=\"\"\"NOx2018\"\"\"), molecular_weight=(77.0593,'amu'))], products=[Species(index=267, label=\"HCO\", thermo=NASA(polynomials=[NASAPolynomial(coeffs=[4.23755,-0.00332075,1.4003e-05,-1.3424e-08,4.37416e-12,3872.41,3.30835], Tmin=(200,'K'), Tmax=(1000,'K')), NASAPolynomial(coeffs=[3.92002,0.00252279,-6.71004e-07,1.05616e-10,-7.43798e-15,3653.43,3.58077], Tmin=(1000,'K'), Tmax=(6000,'K'))], Tmin=(200,'K'), Tmax=(6000,'K'), comment=\"\"\"Thermo library: Klippenstein_Glarborg2016\"\"\"), molecule=[Molecule(smiles=\"[CH]=O\")], transport_data=TransportData(shapeIndex=2, epsilon=(4140.61,'J/mol'), sigma=(3.59,'angstrom'), dipoleMoment=(0,'De'), polarizability=(0,'angstrom^3'), rotrelaxcollnum=0.0, comment=\"\"\"NOx2018\"\"\"), molecular_weight=(29.018,'amu')), Species(index=272, label=\"CH2OH\", thermo=NASA(polynomials=[NASAPolynomial(coeffs=[4.47834,-0.0013507,2.78485e-05,-3.64869e-08,1.47907e-11,-3500.73,3.30913], Tmin=(200,'K'), Tmax=(1000,'K')), NASAPolynomial(coeffs=[5.09314,0.00594761,-2.06497e-06,3.23008e-10,-1.88126e-14,-4034.1,-1.84691], Tmin=(1000,'K'), Tmax=(6000,'K'))], Tmin=(200,'K'), Tmax=(6000,'K'), comment=\"\"\"Thermo library: Klippenstein_Glarborg2016\"\"\"), molecule=[Molecule(smiles=\"[CH2]O\")], transport_data=TransportData(shapeIndex=2, epsilon=(3467.13,'J/mol'), sigma=(3.69,'angstrom'), dipoleMoment=(1.7,'De'), polarizability=(0,'angstrom^3'), rotrelaxcollnum=2.0, comment=\"\"\"NOx2018\"\"\"), molecular_weight=(31.0339,'amu')), Species(index=282, label=\"CH3O2\", thermo=NASA(polynomials=[NASAPolynomial(coeffs=[5.83127,-0.00351771,4.54551e-05,-5.66903e-08,2.21633e-11,6061.87,-0.579143], Tmin=(200,'K'), Tmax=(1000,'K')), NASAPolynomial(coeffs=[6.98746,0.00900484,-3.24367e-06,5.24325e-10,-3.13587e-14,5012.58,-10.2619], Tmin=(1000,'K'), Tmax=(2500,'K'))], Tmin=(200,'K'), Tmax=(2500,'K'), comment=\"\"\"Thermo library: Klippenstein_Glarborg2016\"\"\"), molecule=[Molecule(smiles=\"[CH2]OO\")], transport_data=TransportData(shapeIndex=2, epsilon=(3467.13,'J/mol'), sigma=(3.69,'angstrom'), dipoleMoment=(1.7,'De'), polarizability=(0,'angstrom^3'), rotrelaxcollnum=2.0, comment=\"\"\"NOx2018\"\"\"), molecular_weight=(47.0333,'amu'))], kinetics=Arrhenius(A=(41000,'cm^3/(mol*s)'), n=2.5, Ea=(10.206,'kcal/mol'), T0=(1,'K')), reversible=False, pairs=[(Species(index=303, label=\"S\", thermo=NASA(polynomials=[NASAPolynomial(coeffs=[0.556418,0.0412519,-3.10647e-05,1.2293e-08,-1.99691e-12,-22047.4,24.9983], Tmin=(298,'K'), Tmax=(800,'K')), NASAPolynomial(coeffs=[0.556418,0.0412519,-3.10647e-05,1.2293e-08,-1.99691e-12,-22047.4,24.9983], Tmin=(800,'K'), Tmax=(2500,'K'))], Tmin=(298,'K'), Tmax=(2500,'K'), comment=\"\"\"Thermo library: Klippenstein_Glarborg2016\"\"\"), molecule=[Molecule(smiles=\"[O]OCCO\")], transport_data=TransportData(shapeIndex=2, epsilon=(3284.22,'J/mol'), sigma=(4.037,'angstrom'), dipoleMoment=(1.3,'De'), polarizability=(0,'angstrom^3'), rotrelaxcollnum=1.0, comment=\"\"\"NOx2018\"\"\"), molecular_weight=(77.0593,'amu')), Species(index=282, label=\"CH3O2\", thermo=NASA(polynomials=[NASAPolynomial(coeffs=[5.83127,-0.00351771,4.54551e-05,-5.66903e-08,2.21633e-11,6061.87,-0.579143], Tmin=(200,'K'), Tmax=(1000,'K')), NASAPolynomial(coeffs=[6.98746,0.00900484,-3.24367e-06,5.24325e-10,-3.13587e-14,5012.58,-10.2619], Tmin=(1000,'K'), Tmax=(2500,'K'))], Tmin=(200,'K'), Tmax=(2500,'K'), comment=\"\"\"Thermo library: Klippenstein_Glarborg2016\"\"\"), molecule=[Molecule(smiles=\"[CH2]OO\")], transport_data=TransportData(shapeIndex=2, epsilon=(3467.13,'J/mol'), sigma=(3.69,'angstrom'), dipoleMoment=(1.7,'De'), polarizability=(0,'angstrom^3'), rotrelaxcollnum=2.0, comment=\"\"\"NOx2018\"\"\"), molecular_weight=(47.0333,'amu'))), (Species(index=9, label=\"CH2O\", thermo=NASA(polynomials=[NASAPolynomial(coeffs=[4.79372,-0.00990833,3.7322e-05,-3.79285e-08,1.31773e-11,-14379.2,0.602798], Tmin=(200,'K'), Tmax=(1000,'K')), NASAPolynomial(coeffs=[3.16953,0.00619321,-2.25056e-06,3.65976e-10,-2.20149e-14,-14548.7,6.04208], Tmin=(1000,'K'), Tmax=(6000,'K'))], Tmin=(200,'K'), Tmax=(6000,'K'), comment=\"\"\"Thermo library: Klippenstein_Glarborg2016\"\"\"), molecule=[Molecule(smiles=\"C=O\")], transport_data=TransportData(shapeIndex=2, epsilon=(4140.61,'J/mol'), sigma=(3.59,'angstrom'), dipoleMoment=(0,'De'), polarizability=(0,'angstrom^3'), rotrelaxcollnum=2.0, comment=\"\"\"NOx2018\"\"\"), molecular_weight=(30.026,'amu')), Species(index=267, label=\"HCO\", thermo=NASA(polynomials=[NASAPolynomial(coeffs=[4.23755,-0.00332075,1.4003e-05,-1.3424e-08,4.37416e-12,3872.41,3.30835], Tmin=(200,'K'), Tmax=(1000,'K')), NASAPolynomial(coeffs=[3.92002,0.00252279,-6.71004e-07,1.05616e-10,-7.43798e-15,3653.43,3.58077], Tmin=(1000,'K'), Tmax=(6000,'K'))], Tmin=(200,'K'), Tmax=(6000,'K'), comment=\"\"\"Thermo library: Klippenstein_Glarborg2016\"\"\"), molecule=[Molecule(smiles=\"[CH]=O\")], transport_data=TransportData(shapeIndex=2, epsilon=(4140.61,'J/mol'), sigma=(3.59,'angstrom'), dipoleMoment=(0,'De'), polarizability=(0,'angstrom^3'), rotrelaxcollnum=0.0, comment=\"\"\"NOx2018\"\"\"), molecular_weight=(29.018,'amu'))), (Species(index=9, label=\"CH2O\", thermo=NASA(polynomials=[NASAPolynomial(coeffs=[4.79372,-0.00990833,3.7322e-05,-3.79285e-08,1.31773e-11,-14379.2,0.602798], Tmin=(200,'K'), Tmax=(1000,'K')), NASAPolynomial(coeffs=[3.16953,0.00619321,-2.25056e-06,3.65976e-10,-2.20149e-14,-14548.7,6.04208], Tmin=(1000,'K'), Tmax=(6000,'K'))], Tmin=(200,'K'), Tmax=(6000,'K'), comment=\"\"\"Thermo library: Klippenstein_Glarborg2016\"\"\"), molecule=[Molecule(smiles=\"C=O\")], transport_data=TransportData(shapeIndex=2, epsilon=(4140.61,'J/mol'), sigma=(3.59,'angstrom'), dipoleMoment=(0,'De'), polarizability=(0,'angstrom^3'), rotrelaxcollnum=2.0, comment=\"\"\"NOx2018\"\"\"), molecular_weight=(30.026,'amu')), Species(index=272, label=\"CH2OH\", thermo=NASA(polynomials=[NASAPolynomial(coeffs=[4.47834,-0.0013507,2.78485e-05,-3.64869e-08,1.47907e-11,-3500.73,3.30913], Tmin=(200,'K'), Tmax=(1000,'K')), NASAPolynomial(coeffs=[5.09314,0.00594761,-2.06497e-06,3.23008e-10,-1.88126e-14,-4034.1,-1.84691], Tmin=(1000,'K'), Tmax=(6000,'K'))], Tmin=(200,'K'), Tmax=(6000,'K'), comment=\"\"\"Thermo library: Klippenstein_Glarborg2016\"\"\"), molecule=[Molecule(smiles=\"[CH2]O\")], transport_data=TransportData(shapeIndex=2, epsilon=(3467.13,'J/mol'), sigma=(3.69,'angstrom'), dipoleMoment=(1.7,'De'), polarizability=(0,'angstrom^3'), rotrelaxcollnum=2.0, comment=\"\"\"NOx2018\"\"\"), molecular_weight=(31.0339,'amu')))])"
      ]
     },
     "metadata": {},
     "output_type": "display_data"
    },
    {
     "name": "stdout",
     "output_type": "stream",
     "text": [
      "CH2O(9) + S(303) => HCO(267) + CH2OH(272) + CH3O2(282)\n",
      "Arrhenius(A=(41000,'cm^3/(mol*s)'), n=2.5, Ea=(10.206,'kcal/mol'), T0=(1,'K'))\n",
      "Kinetic library: Klippenstein_Glarborg2016\n",
      "Direction: reverse\n",
      "Violation factor: 1.8e+18\n",
      "Violation condition: 500 K, 1.0 bar\n",
      "\n",
      "\n"
     ]
    },
    {
     "data": {
      "image/png": "[encoded data removed]",
      "text/plain": [
       "LibraryReaction(index=78, reactants=[Species(index=268, label=\"CH3\", thermo=NASA(polynomials=[NASAPolynomial(coeffs=[3.65718,0.0021266,5.45839e-06,-6.6181e-09,2.46571e-12,16422.7,1.67354], Tmin=(200,'K'), Tmax=(1000,'K')), NASAPolynomial(coeffs=[2.97812,0.00579785,-1.97558e-06,3.07298e-10,-1.79174e-14,16509.5,4.72248], Tmin=(1000,'K'), Tmax=(6000,'K'))], Tmin=(200,'K'), Tmax=(6000,'K'), comment=\"\"\"Thermo library: Klippenstein_Glarborg2016\"\"\"), molecule=[Molecule(smiles=\"[CH3]\")], transport_data=TransportData(shapeIndex=2, epsilon=(1197.28,'J/mol'), sigma=(3.8,'angstrom'), dipoleMoment=(0,'De'), polarizability=(0,'angstrom^3'), rotrelaxcollnum=0.0, comment=\"\"\"NOx2018\"\"\"), molecular_weight=(15.0345,'amu'))], products=[Species(index=261, label=\"H\", thermo=NASA(polynomials=[NASAPolynomial(coeffs=[2.5,-2.38914e-13,3.12709e-16,-1.33367e-19,1.7499e-23,25472.7,-0.459566], Tmin=(100,'K'), Tmax=(4383.16,'K')), NASAPolynomial(coeffs=[2.50003,-3.04997e-08,1.01101e-11,-1.48797e-15,8.20356e-20,25472.7,-0.459785], Tmin=(4383.16,'K'), Tmax=(5000,'K'))], Tmin=(100,'K'), Tmax=(5000,'K'), comment=\"\"\"Thermo library: BurkeH2O2\"\"\"), molecule=[Molecule(smiles=\"[H]\")], transport_data=TransportData(shapeIndex=0, epsilon=(1205.6,'J/mol'), sigma=(2.05,'angstrom'), dipoleMoment=(0,'De'), polarizability=(0,'angstrom^3'), rotrelaxcollnum=0.0, comment=\"\"\"NOx2018\"\"\"), molecular_weight=(1.00794,'amu')), Species(index=269, label=\"CH2\", thermo=NASA(polynomials=[NASAPolynomial(coeffs=[3.8328,0.000224446,4.68033e-06,-6.04743e-09,2.59009e-12,45920.8,1.40666], Tmin=(200,'K'), Tmax=(1000,'K')), NASAPolynomial(coeffs=[3.16229,0.00281798,-7.56235e-07,5.05446e-11,5.65236e-15,46099.1,4.77656], Tmin=(1000,'K'), Tmax=(3000,'K'))], Tmin=(200,'K'), Tmax=(3000,'K'), comment=\"\"\"Thermo library: Klippenstein_Glarborg2016\"\"\"), molecule=[Molecule(smiles=\"[CH2]\")], transport_data=TransportData(shapeIndex=2, epsilon=(1197.28,'J/mol'), sigma=(3.8,'angstrom'), dipoleMoment=(0,'De'), polarizability=(0,'angstrom^3'), rotrelaxcollnum=0.0, comment=\"\"\"NOx2018\"\"\"), molecular_weight=(14.0266,'amu'))], kinetics=ThirdBody(arrheniusLow=Arrhenius(A=(2.2e+15,'cm^3/(mol*s)'), n=0, Ea=(82.659,'kcal/mol'), T0=(1,'K')), efficiencies={}), pairs=[(Species(index=268, label=\"CH3\", thermo=NASA(polynomials=[NASAPolynomial(coeffs=[3.65718,0.0021266,5.45839e-06,-6.6181e-09,2.46571e-12,16422.7,1.67354], Tmin=(200,'K'), Tmax=(1000,'K')), NASAPolynomial(coeffs=[2.97812,0.00579785,-1.97558e-06,3.07298e-10,-1.79174e-14,16509.5,4.72248], Tmin=(1000,'K'), Tmax=(6000,'K'))], Tmin=(200,'K'), Tmax=(6000,'K'), comment=\"\"\"Thermo library: Klippenstein_Glarborg2016\"\"\"), molecule=[Molecule(smiles=\"[CH3]\")], transport_data=TransportData(shapeIndex=2, epsilon=(1197.28,'J/mol'), sigma=(3.8,'angstrom'), dipoleMoment=(0,'De'), polarizability=(0,'angstrom^3'), rotrelaxcollnum=0.0, comment=\"\"\"NOx2018\"\"\"), molecular_weight=(15.0345,'amu')), Species(index=261, label=\"H\", thermo=NASA(polynomials=[NASAPolynomial(coeffs=[2.5,-2.38914e-13,3.12709e-16,-1.33367e-19,1.7499e-23,25472.7,-0.459566], Tmin=(100,'K'), Tmax=(4383.16,'K')), NASAPolynomial(coeffs=[2.50003,-3.04997e-08,1.01101e-11,-1.48797e-15,8.20356e-20,25472.7,-0.459785], Tmin=(4383.16,'K'), Tmax=(5000,'K'))], Tmin=(100,'K'), Tmax=(5000,'K'), comment=\"\"\"Thermo library: BurkeH2O2\"\"\"), molecule=[Molecule(smiles=\"[H]\")], transport_data=TransportData(shapeIndex=0, epsilon=(1205.6,'J/mol'), sigma=(2.05,'angstrom'), dipoleMoment=(0,'De'), polarizability=(0,'angstrom^3'), rotrelaxcollnum=0.0, comment=\"\"\"NOx2018\"\"\"), molecular_weight=(1.00794,'amu'))), (Species(index=268, label=\"CH3\", thermo=NASA(polynomials=[NASAPolynomial(coeffs=[3.65718,0.0021266,5.45839e-06,-6.6181e-09,2.46571e-12,16422.7,1.67354], Tmin=(200,'K'), Tmax=(1000,'K')), NASAPolynomial(coeffs=[2.97812,0.00579785,-1.97558e-06,3.07298e-10,-1.79174e-14,16509.5,4.72248], Tmin=(1000,'K'), Tmax=(6000,'K'))], Tmin=(200,'K'), Tmax=(6000,'K'), comment=\"\"\"Thermo library: Klippenstein_Glarborg2016\"\"\"), molecule=[Molecule(smiles=\"[CH3]\")], transport_data=TransportData(shapeIndex=2, epsilon=(1197.28,'J/mol'), sigma=(3.8,'angstrom'), dipoleMoment=(0,'De'), polarizability=(0,'angstrom^3'), rotrelaxcollnum=0.0, comment=\"\"\"NOx2018\"\"\"), molecular_weight=(15.0345,'amu')), Species(index=269, label=\"CH2\", thermo=NASA(polynomials=[NASAPolynomial(coeffs=[3.8328,0.000224446,4.68033e-06,-6.04743e-09,2.59009e-12,45920.8,1.40666], Tmin=(200,'K'), Tmax=(1000,'K')), NASAPolynomial(coeffs=[3.16229,0.00281798,-7.56235e-07,5.05446e-11,5.65236e-15,46099.1,4.77656], Tmin=(1000,'K'), Tmax=(3000,'K'))], Tmin=(200,'K'), Tmax=(3000,'K'), comment=\"\"\"Thermo library: Klippenstein_Glarborg2016\"\"\"), molecule=[Molecule(smiles=\"[CH2]\")], transport_data=TransportData(shapeIndex=2, epsilon=(1197.28,'J/mol'), sigma=(3.8,'angstrom'), dipoleMoment=(0,'De'), polarizability=(0,'angstrom^3'), rotrelaxcollnum=0.0, comment=\"\"\"NOx2018\"\"\"), molecular_weight=(14.0266,'amu')))])"
      ]
     },
     "metadata": {},
     "output_type": "display_data"
    },
    {
     "name": "stdout",
     "output_type": "stream",
     "text": [
      "CH3(268) <=> H(261) + CH2(269)\n",
      "ThirdBody(arrheniusLow=Arrhenius(A=(2.2e+15,'cm^3/(mol*s)'), n=0, Ea=(82.659,'kcal/mol'), T0=(1,'K')), efficiencies={})\n",
      "Kinetic library: Klippenstein_Glarborg2016\n",
      "Direction: reverse\n",
      "Violation factor: 1.5e+08\n",
      "Violation condition: 500 K, 30.0 bar\n",
      "\n",
      "\n"
     ]
    },
    {
     "data": {
      "image/png": "[encoded data removed]",
      "text/plain": [
       "LibraryReaction(index=582, reactants=[Species(index=264, label=\"HO2\", thermo=NASA(polynomials=[NASAPolynomial(coeffs=[4.02957,-0.00263999,1.52235e-05,-1.71679e-08,6.26771e-12,322.677,4.84424], Tmin=(100,'K'), Tmax=(923.9,'K')), NASAPolynomial(coeffs=[4.1513,0.00191152,-4.11308e-07,6.35038e-11,-4.86452e-15,83.4341,3.09359], Tmin=(923.9,'K'), Tmax=(5000,'K'))], Tmin=(100,'K'), Tmax=(5000,'K'), comment=\"\"\"Thermo library: BurkeH2O2\"\"\"), molecule=[Molecule(smiles=\"[O]O\")], transport_data=TransportData(shapeIndex=2, epsilon=(892.974,'J/mol'), sigma=(3.458,'angstrom'), dipoleMoment=(0,'De'), polarizability=(0,'angstrom^3'), rotrelaxcollnum=1.0, comment=\"\"\"NOx2018\"\"\"), molecular_weight=(33.0067,'amu')), Species(index=303, label=\"S\", thermo=NASA(polynomials=[NASAPolynomial(coeffs=[0.556418,0.0412519,-3.10647e-05,1.2293e-08,-1.99691e-12,-22047.4,24.9983], Tmin=(298,'K'), Tmax=(800,'K')), NASAPolynomial(coeffs=[0.556418,0.0412519,-3.10647e-05,1.2293e-08,-1.99691e-12,-22047.4,24.9983], Tmin=(800,'K'), Tmax=(2500,'K'))], Tmin=(298,'K'), Tmax=(2500,'K'), comment=\"\"\"Thermo library: Klippenstein_Glarborg2016\"\"\"), molecule=[Molecule(smiles=\"[O]OCCO\")], transport_data=TransportData(shapeIndex=2, epsilon=(3284.22,'J/mol'), sigma=(4.037,'angstrom'), dipoleMoment=(1.3,'De'), polarizability=(0,'angstrom^3'), rotrelaxcollnum=1.0, comment=\"\"\"NOx2018\"\"\"), molecular_weight=(77.0593,'amu'))], products=[Species(index=2, label=\"O2\", thermo=NASA(polynomials=[NASAPolynomial(coeffs=[3.53764,-0.00122827,5.36759e-06,-4.93128e-09,1.45955e-12,-1037.99,4.6718], Tmin=(100,'K'), Tmax=(1087.71,'K')), NASAPolynomial(coeffs=[3.16427,0.00169454,-8.00335e-07,1.5903e-10,-1.14891e-14,-1048.45,6.08303], Tmin=(1087.71,'K'), Tmax=(5000,'K'))], Tmin=(100,'K'), Tmax=(5000,'K'), comment=\"\"\"Thermo library: BurkeH2O2\"\"\"), molecule=[Molecule(smiles=\"[O][O]\")], transport_data=TransportData(shapeIndex=1, epsilon=(887.154,'J/mol'), sigma=(3.467,'angstrom'), dipoleMoment=(0,'De'), polarizability=(0,'angstrom^3'), rotrelaxcollnum=0.0, comment=\"\"\"PrimaryTransportLibrary\"\"\"), molecular_weight=(31.9988,'amu')), Species(index=272, label=\"CH2OH\", thermo=NASA(polynomials=[NASAPolynomial(coeffs=[4.47834,-0.0013507,2.78485e-05,-3.64869e-08,1.47907e-11,-3500.73,3.30913], Tmin=(200,'K'), Tmax=(1000,'K')), NASAPolynomial(coeffs=[5.09314,0.00594761,-2.06497e-06,3.23008e-10,-1.88126e-14,-4034.1,-1.84691], Tmin=(1000,'K'), Tmax=(6000,'K'))], Tmin=(200,'K'), Tmax=(6000,'K'), comment=\"\"\"Thermo library: Klippenstein_Glarborg2016\"\"\"), molecule=[Molecule(smiles=\"[CH2]O\")], transport_data=TransportData(shapeIndex=2, epsilon=(3467.13,'J/mol'), sigma=(3.69,'angstrom'), dipoleMoment=(1.7,'De'), polarizability=(0,'angstrom^3'), rotrelaxcollnum=2.0, comment=\"\"\"NOx2018\"\"\"), molecular_weight=(31.0339,'amu')), Species(index=282, label=\"CH3O2\", thermo=NASA(polynomials=[NASAPolynomial(coeffs=[5.83127,-0.00351771,4.54551e-05,-5.66903e-08,2.21633e-11,6061.87,-0.579143], Tmin=(200,'K'), Tmax=(1000,'K')), NASAPolynomial(coeffs=[6.98746,0.00900484,-3.24367e-06,5.24325e-10,-3.13587e-14,5012.58,-10.2619], Tmin=(1000,'K'), Tmax=(2500,'K'))], Tmin=(200,'K'), Tmax=(2500,'K'), comment=\"\"\"Thermo library: Klippenstein_Glarborg2016\"\"\"), molecule=[Molecule(smiles=\"[CH2]OO\")], transport_data=TransportData(shapeIndex=2, epsilon=(3467.13,'J/mol'), sigma=(3.69,'angstrom'), dipoleMoment=(1.7,'De'), polarizability=(0,'angstrom^3'), rotrelaxcollnum=2.0, comment=\"\"\"NOx2018\"\"\"), molecular_weight=(47.0333,'amu'))], kinetics=Arrhenius(A=(2.5e+11,'cm^3/(mol*s)'), n=0, Ea=(-1.49,'kcal/mol'), T0=(1,'K')), reversible=False, pairs=[(Species(index=303, label=\"S\", thermo=NASA(polynomials=[NASAPolynomial(coeffs=[0.556418,0.0412519,-3.10647e-05,1.2293e-08,-1.99691e-12,-22047.4,24.9983], Tmin=(298,'K'), Tmax=(800,'K')), NASAPolynomial(coeffs=[0.556418,0.0412519,-3.10647e-05,1.2293e-08,-1.99691e-12,-22047.4,24.9983], Tmin=(800,'K'), Tmax=(2500,'K'))], Tmin=(298,'K'), Tmax=(2500,'K'), comment=\"\"\"Thermo library: Klippenstein_Glarborg2016\"\"\"), molecule=[Molecule(smiles=\"[O]OCCO\")], transport_data=TransportData(shapeIndex=2, epsilon=(3284.22,'J/mol'), sigma=(4.037,'angstrom'), dipoleMoment=(1.3,'De'), polarizability=(0,'angstrom^3'), rotrelaxcollnum=1.0, comment=\"\"\"NOx2018\"\"\"), molecular_weight=(77.0593,'amu')), Species(index=282, label=\"CH3O2\", thermo=NASA(polynomials=[NASAPolynomial(coeffs=[5.83127,-0.00351771,4.54551e-05,-5.66903e-08,2.21633e-11,6061.87,-0.579143], Tmin=(200,'K'), Tmax=(1000,'K')), NASAPolynomial(coeffs=[6.98746,0.00900484,-3.24367e-06,5.24325e-10,-3.13587e-14,5012.58,-10.2619], Tmin=(1000,'K'), Tmax=(2500,'K'))], Tmin=(200,'K'), Tmax=(2500,'K'), comment=\"\"\"Thermo library: Klippenstein_Glarborg2016\"\"\"), molecule=[Molecule(smiles=\"[CH2]OO\")], transport_data=TransportData(shapeIndex=2, epsilon=(3467.13,'J/mol'), sigma=(3.69,'angstrom'), dipoleMoment=(1.7,'De'), polarizability=(0,'angstrom^3'), rotrelaxcollnum=2.0, comment=\"\"\"NOx2018\"\"\"), molecular_weight=(47.0333,'amu'))), (Species(index=264, label=\"HO2\", thermo=NASA(polynomials=[NASAPolynomial(coeffs=[4.02957,-0.00263999,1.52235e-05,-1.71679e-08,6.26771e-12,322.677,4.84424], Tmin=(100,'K'), Tmax=(923.9,'K')), NASAPolynomial(coeffs=[4.1513,0.00191152,-4.11308e-07,6.35038e-11,-4.86452e-15,83.4341,3.09359], Tmin=(923.9,'K'), Tmax=(5000,'K'))], Tmin=(100,'K'), Tmax=(5000,'K'), comment=\"\"\"Thermo library: BurkeH2O2\"\"\"), molecule=[Molecule(smiles=\"[O]O\")], transport_data=TransportData(shapeIndex=2, epsilon=(892.974,'J/mol'), sigma=(3.458,'angstrom'), dipoleMoment=(0,'De'), polarizability=(0,'angstrom^3'), rotrelaxcollnum=1.0, comment=\"\"\"NOx2018\"\"\"), molecular_weight=(33.0067,'amu')), Species(index=2, label=\"O2\", thermo=NASA(polynomials=[NASAPolynomial(coeffs=[3.53764,-0.00122827,5.36759e-06,-4.93128e-09,1.45955e-12,-1037.99,4.6718], Tmin=(100,'K'), Tmax=(1087.71,'K')), NASAPolynomial(coeffs=[3.16427,0.00169454,-8.00335e-07,1.5903e-10,-1.14891e-14,-1048.45,6.08303], Tmin=(1087.71,'K'), Tmax=(5000,'K'))], Tmin=(100,'K'), Tmax=(5000,'K'), comment=\"\"\"Thermo library: BurkeH2O2\"\"\"), molecule=[Molecule(smiles=\"[O][O]\")], transport_data=TransportData(shapeIndex=1, epsilon=(887.154,'J/mol'), sigma=(3.467,'angstrom'), dipoleMoment=(0,'De'), polarizability=(0,'angstrom^3'), rotrelaxcollnum=0.0, comment=\"\"\"PrimaryTransportLibrary\"\"\"), molecular_weight=(31.9988,'amu'))), (Species(index=264, label=\"HO2\", thermo=NASA(polynomials=[NASAPolynomial(coeffs=[4.02957,-0.00263999,1.52235e-05,-1.71679e-08,6.26771e-12,322.677,4.84424], Tmin=(100,'K'), Tmax=(923.9,'K')), NASAPolynomial(coeffs=[4.1513,0.00191152,-4.11308e-07,6.35038e-11,-4.86452e-15,83.4341,3.09359], Tmin=(923.9,'K'), Tmax=(5000,'K'))], Tmin=(100,'K'), Tmax=(5000,'K'), comment=\"\"\"Thermo library: BurkeH2O2\"\"\"), molecule=[Molecule(smiles=\"[O]O\")], transport_data=TransportData(shapeIndex=2, epsilon=(892.974,'J/mol'), sigma=(3.458,'angstrom'), dipoleMoment=(0,'De'), polarizability=(0,'angstrom^3'), rotrelaxcollnum=1.0, comment=\"\"\"NOx2018\"\"\"), molecular_weight=(33.0067,'amu')), Species(index=272, label=\"CH2OH\", thermo=NASA(polynomials=[NASAPolynomial(coeffs=[4.47834,-0.0013507,2.78485e-05,-3.64869e-08,1.47907e-11,-3500.73,3.30913], Tmin=(200,'K'), Tmax=(1000,'K')), NASAPolynomial(coeffs=[5.09314,0.00594761,-2.06497e-06,3.23008e-10,-1.88126e-14,-4034.1,-1.84691], Tmin=(1000,'K'), Tmax=(6000,'K'))], Tmin=(200,'K'), Tmax=(6000,'K'), comment=\"\"\"Thermo library: Klippenstein_Glarborg2016\"\"\"), molecule=[Molecule(smiles=\"[CH2]O\")], transport_data=TransportData(shapeIndex=2, epsilon=(3467.13,'J/mol'), sigma=(3.69,'angstrom'), dipoleMoment=(1.7,'De'), polarizability=(0,'angstrom^3'), rotrelaxcollnum=2.0, comment=\"\"\"NOx2018\"\"\"), molecular_weight=(31.0339,'amu')))])"
      ]
     },
     "metadata": {},
     "output_type": "display_data"
    },
    {
     "name": "stdout",
     "output_type": "stream",
     "text": [
      "HO2(264) + S(303) => O2(2) + CH2OH(272) + CH3O2(282)\n",
      "Arrhenius(A=(2.5e+11,'cm^3/(mol*s)'), n=0, Ea=(-1.49,'kcal/mol'), T0=(1,'K'))\n",
      "Kinetic library: Klippenstein_Glarborg2016\n",
      "Direction: reverse\n",
      "Violation factor: 9.3e+07\n",
      "Violation condition: 500 K, 1.0 bar\n",
      "\n",
      "\n"
     ]
    },
    {
     "data": {
      "image/png": "[encoded data removed]",
      "text/plain": [
       "LibraryReaction(index=77, reactants=[Species(index=268, label=\"CH3\", thermo=NASA(polynomials=[NASAPolynomial(coeffs=[3.65718,0.0021266,5.45839e-06,-6.6181e-09,2.46571e-12,16422.7,1.67354], Tmin=(200,'K'), Tmax=(1000,'K')), NASAPolynomial(coeffs=[2.97812,0.00579785,-1.97558e-06,3.07298e-10,-1.79174e-14,16509.5,4.72248], Tmin=(1000,'K'), Tmax=(6000,'K'))], Tmin=(200,'K'), Tmax=(6000,'K'), comment=\"\"\"Thermo library: Klippenstein_Glarborg2016\"\"\"), molecule=[Molecule(smiles=\"[CH3]\")], transport_data=TransportData(shapeIndex=2, epsilon=(1197.28,'J/mol'), sigma=(3.8,'angstrom'), dipoleMoment=(0,'De'), polarizability=(0,'angstrom^3'), rotrelaxcollnum=0.0, comment=\"\"\"NOx2018\"\"\"), molecular_weight=(15.0345,'amu'))], products=[Species(index=13, label=\"H2\", thermo=NASA(polynomials=[NASAPolynomial(coeffs=[3.42254,0.000286646,-4.14662e-07,4.27541e-10,-9.38103e-14,-1029.78,-3.86365], Tmin=(100,'K'), Tmax=(1962.86,'K')), NASAPolynomial(coeffs=[2.74214,0.000579597,1.97176e-07,-6.4104e-11,4.95964e-15,-552.011,0.414362], Tmin=(1962.86,'K'), Tmax=(5000,'K'))], Tmin=(100,'K'), Tmax=(5000,'K'), comment=\"\"\"Thermo library: BurkeH2O2\"\"\"), molecule=[Molecule(smiles=\"[H][H]\")], transport_data=TransportData(shapeIndex=1, epsilon=(496.374,'J/mol'), sigma=(2.833,'angstrom'), dipoleMoment=(0,'De'), polarizability=(0,'angstrom^3'), rotrelaxcollnum=0.0, comment=\"\"\"PrimaryTransportLibrary\"\"\"), molecular_weight=(2.01588,'amu')), Species(index=3, label=\"CH\", thermo=NASA(polynomials=[NASAPolynomial(coeffs=[3.47159,0.000404745,-1.89388e-06,3.3321e-09,-1.51271e-12,70701.8,2.14542], Tmin=(200,'K'), Tmax=(1000,'K')), NASAPolynomial(coeffs=[2.66195,0.00170245,-6.83824e-07,1.3098e-10,-9.71843e-15,70958.9,6.52673], Tmin=(1000,'K'), Tmax=(3000,'K'))], Tmin=(200,'K'), Tmax=(3000,'K'), comment=\"\"\"Thermo library: Klippenstein_Glarborg2016\"\"\"), molecule=[Molecule(smiles=\"[CH]\")], transport_data=TransportData(shapeIndex=1, epsilon=(665.158,'J/mol'), sigma=(2.75,'angstrom'), dipoleMoment=(0,'De'), polarizability=(0,'angstrom^3'), rotrelaxcollnum=0.0, comment=\"\"\"NOx2018\"\"\"), molecular_weight=(13.0186,'amu'))], kinetics=ThirdBody(arrheniusLow=Arrhenius(A=(3.1e+15,'cm^3/(mol*s)'), n=0, Ea=(80.871,'kcal/mol'), T0=(1,'K')), efficiencies={}), pairs=[(Species(index=268, label=\"CH3\", thermo=NASA(polynomials=[NASAPolynomial(coeffs=[3.65718,0.0021266,5.45839e-06,-6.6181e-09,2.46571e-12,16422.7,1.67354], Tmin=(200,'K'), Tmax=(1000,'K')), NASAPolynomial(coeffs=[2.97812,0.00579785,-1.97558e-06,3.07298e-10,-1.79174e-14,16509.5,4.72248], Tmin=(1000,'K'), Tmax=(6000,'K'))], Tmin=(200,'K'), Tmax=(6000,'K'), comment=\"\"\"Thermo library: Klippenstein_Glarborg2016\"\"\"), molecule=[Molecule(smiles=\"[CH3]\")], transport_data=TransportData(shapeIndex=2, epsilon=(1197.28,'J/mol'), sigma=(3.8,'angstrom'), dipoleMoment=(0,'De'), polarizability=(0,'angstrom^3'), rotrelaxcollnum=0.0, comment=\"\"\"NOx2018\"\"\"), molecular_weight=(15.0345,'amu')), Species(index=13, label=\"H2\", thermo=NASA(polynomials=[NASAPolynomial(coeffs=[3.42254,0.000286646,-4.14662e-07,4.27541e-10,-9.38103e-14,-1029.78,-3.86365], Tmin=(100,'K'), Tmax=(1962.86,'K')), NASAPolynomial(coeffs=[2.74214,0.000579597,1.97176e-07,-6.4104e-11,4.95964e-15,-552.011,0.414362], Tmin=(1962.86,'K'), Tmax=(5000,'K'))], Tmin=(100,'K'), Tmax=(5000,'K'), comment=\"\"\"Thermo library: BurkeH2O2\"\"\"), molecule=[Molecule(smiles=\"[H][H]\")], transport_data=TransportData(shapeIndex=1, epsilon=(496.374,'J/mol'), sigma=(2.833,'angstrom'), dipoleMoment=(0,'De'), polarizability=(0,'angstrom^3'), rotrelaxcollnum=0.0, comment=\"\"\"PrimaryTransportLibrary\"\"\"), molecular_weight=(2.01588,'amu'))), (Species(index=268, label=\"CH3\", thermo=NASA(polynomials=[NASAPolynomial(coeffs=[3.65718,0.0021266,5.45839e-06,-6.6181e-09,2.46571e-12,16422.7,1.67354], Tmin=(200,'K'), Tmax=(1000,'K')), NASAPolynomial(coeffs=[2.97812,0.00579785,-1.97558e-06,3.07298e-10,-1.79174e-14,16509.5,4.72248], Tmin=(1000,'K'), Tmax=(6000,'K'))], Tmin=(200,'K'), Tmax=(6000,'K'), comment=\"\"\"Thermo library: Klippenstein_Glarborg2016\"\"\"), molecule=[Molecule(smiles=\"[CH3]\")], transport_data=TransportData(shapeIndex=2, epsilon=(1197.28,'J/mol'), sigma=(3.8,'angstrom'), dipoleMoment=(0,'De'), polarizability=(0,'angstrom^3'), rotrelaxcollnum=0.0, comment=\"\"\"NOx2018\"\"\"), molecular_weight=(15.0345,'amu')), Species(index=3, label=\"CH\", thermo=NASA(polynomials=[NASAPolynomial(coeffs=[3.47159,0.000404745,-1.89388e-06,3.3321e-09,-1.51271e-12,70701.8,2.14542], Tmin=(200,'K'), Tmax=(1000,'K')), NASAPolynomial(coeffs=[2.66195,0.00170245,-6.83824e-07,1.3098e-10,-9.71843e-15,70958.9,6.52673], Tmin=(1000,'K'), Tmax=(3000,'K'))], Tmin=(200,'K'), Tmax=(3000,'K'), comment=\"\"\"Thermo library: Klippenstein_Glarborg2016\"\"\"), molecule=[Molecule(smiles=\"[CH]\")], transport_data=TransportData(shapeIndex=1, epsilon=(665.158,'J/mol'), sigma=(2.75,'angstrom'), dipoleMoment=(0,'De'), polarizability=(0,'angstrom^3'), rotrelaxcollnum=0.0, comment=\"\"\"NOx2018\"\"\"), molecular_weight=(13.0186,'amu')))])"
      ]
     },
     "metadata": {},
     "output_type": "display_data"
    },
    {
     "name": "stdout",
     "output_type": "stream",
     "text": [
      "CH3(268) <=> H2(13) + CH(3)\n",
      "ThirdBody(arrheniusLow=Arrhenius(A=(3.1e+15,'cm^3/(mol*s)'), n=0, Ea=(80.871,'kcal/mol'), T0=(1,'K')), efficiencies={})\n",
      "Kinetic library: Klippenstein_Glarborg2016\n",
      "Direction: reverse\n",
      "Violation factor: 5.7e+07\n",
      "Violation condition: 500 K, 30.0 bar\n",
      "\n",
      "\n"
     ]
    },
    {
     "data": {
      "image/png": "[encoded data removed]",
      "text/plain": [
       "LibraryReaction(index=78, reactants=[Species(index=268, label=\"CH3\", thermo=NASA(polynomials=[NASAPolynomial(coeffs=[3.65718,0.0021266,5.45839e-06,-6.6181e-09,2.46571e-12,16422.7,1.67354], Tmin=(200,'K'), Tmax=(1000,'K')), NASAPolynomial(coeffs=[2.97812,0.00579785,-1.97558e-06,3.07298e-10,-1.79174e-14,16509.5,4.72248], Tmin=(1000,'K'), Tmax=(6000,'K'))], Tmin=(200,'K'), Tmax=(6000,'K'), comment=\"\"\"Thermo library: Klippenstein_Glarborg2016\"\"\"), molecule=[Molecule(smiles=\"[CH3]\")], transport_data=TransportData(shapeIndex=2, epsilon=(1197.28,'J/mol'), sigma=(3.8,'angstrom'), dipoleMoment=(0,'De'), polarizability=(0,'angstrom^3'), rotrelaxcollnum=0.0, comment=\"\"\"NOx2018\"\"\"), molecular_weight=(15.0345,'amu'))], products=[Species(index=261, label=\"H\", thermo=NASA(polynomials=[NASAPolynomial(coeffs=[2.5,-2.38914e-13,3.12709e-16,-1.33367e-19,1.7499e-23,25472.7,-0.459566], Tmin=(100,'K'), Tmax=(4383.16,'K')), NASAPolynomial(coeffs=[2.50003,-3.04997e-08,1.01101e-11,-1.48797e-15,8.20356e-20,25472.7,-0.459785], Tmin=(4383.16,'K'), Tmax=(5000,'K'))], Tmin=(100,'K'), Tmax=(5000,'K'), comment=\"\"\"Thermo library: BurkeH2O2\"\"\"), molecule=[Molecule(smiles=\"[H]\")], transport_data=TransportData(shapeIndex=0, epsilon=(1205.6,'J/mol'), sigma=(2.05,'angstrom'), dipoleMoment=(0,'De'), polarizability=(0,'angstrom^3'), rotrelaxcollnum=0.0, comment=\"\"\"NOx2018\"\"\"), molecular_weight=(1.00794,'amu')), Species(index=269, label=\"CH2\", thermo=NASA(polynomials=[NASAPolynomial(coeffs=[3.8328,0.000224446,4.68033e-06,-6.04743e-09,2.59009e-12,45920.8,1.40666], Tmin=(200,'K'), Tmax=(1000,'K')), NASAPolynomial(coeffs=[3.16229,0.00281798,-7.56235e-07,5.05446e-11,5.65236e-15,46099.1,4.77656], Tmin=(1000,'K'), Tmax=(3000,'K'))], Tmin=(200,'K'), Tmax=(3000,'K'), comment=\"\"\"Thermo library: Klippenstein_Glarborg2016\"\"\"), molecule=[Molecule(smiles=\"[CH2]\")], transport_data=TransportData(shapeIndex=2, epsilon=(1197.28,'J/mol'), sigma=(3.8,'angstrom'), dipoleMoment=(0,'De'), polarizability=(0,'angstrom^3'), rotrelaxcollnum=0.0, comment=\"\"\"NOx2018\"\"\"), molecular_weight=(14.0266,'amu'))], kinetics=ThirdBody(arrheniusLow=Arrhenius(A=(2.2e+15,'cm^3/(mol*s)'), n=0, Ea=(82.659,'kcal/mol'), T0=(1,'K')), efficiencies={}), pairs=[(Species(index=268, label=\"CH3\", thermo=NASA(polynomials=[NASAPolynomial(coeffs=[3.65718,0.0021266,5.45839e-06,-6.6181e-09,2.46571e-12,16422.7,1.67354], Tmin=(200,'K'), Tmax=(1000,'K')), NASAPolynomial(coeffs=[2.97812,0.00579785,-1.97558e-06,3.07298e-10,-1.79174e-14,16509.5,4.72248], Tmin=(1000,'K'), Tmax=(6000,'K'))], Tmin=(200,'K'), Tmax=(6000,'K'), comment=\"\"\"Thermo library: Klippenstein_Glarborg2016\"\"\"), molecule=[Molecule(smiles=\"[CH3]\")], transport_data=TransportData(shapeIndex=2, epsilon=(1197.28,'J/mol'), sigma=(3.8,'angstrom'), dipoleMoment=(0,'De'), polarizability=(0,'angstrom^3'), rotrelaxcollnum=0.0, comment=\"\"\"NOx2018\"\"\"), molecular_weight=(15.0345,'amu')), Species(index=261, label=\"H\", thermo=NASA(polynomials=[NASAPolynomial(coeffs=[2.5,-2.38914e-13,3.12709e-16,-1.33367e-19,1.7499e-23,25472.7,-0.459566], Tmin=(100,'K'), Tmax=(4383.16,'K')), NASAPolynomial(coeffs=[2.50003,-3.04997e-08,1.01101e-11,-1.48797e-15,8.20356e-20,25472.7,-0.459785], Tmin=(4383.16,'K'), Tmax=(5000,'K'))], Tmin=(100,'K'), Tmax=(5000,'K'), comment=\"\"\"Thermo library: BurkeH2O2\"\"\"), molecule=[Molecule(smiles=\"[H]\")], transport_data=TransportData(shapeIndex=0, epsilon=(1205.6,'J/mol'), sigma=(2.05,'angstrom'), dipoleMoment=(0,'De'), polarizability=(0,'angstrom^3'), rotrelaxcollnum=0.0, comment=\"\"\"NOx2018\"\"\"), molecular_weight=(1.00794,'amu'))), (Species(index=268, label=\"CH3\", thermo=NASA(polynomials=[NASAPolynomial(coeffs=[3.65718,0.0021266,5.45839e-06,-6.6181e-09,2.46571e-12,16422.7,1.67354], Tmin=(200,'K'), Tmax=(1000,'K')), NASAPolynomial(coeffs=[2.97812,0.00579785,-1.97558e-06,3.07298e-10,-1.79174e-14,16509.5,4.72248], Tmin=(1000,'K'), Tmax=(6000,'K'))], Tmin=(200,'K'), Tmax=(6000,'K'), comment=\"\"\"Thermo library: Klippenstein_Glarborg2016\"\"\"), molecule=[Molecule(smiles=\"[CH3]\")], transport_data=TransportData(shapeIndex=2, epsilon=(1197.28,'J/mol'), sigma=(3.8,'angstrom'), dipoleMoment=(0,'De'), polarizability=(0,'angstrom^3'), rotrelaxcollnum=0.0, comment=\"\"\"NOx2018\"\"\"), molecular_weight=(15.0345,'amu')), Species(index=269, label=\"CH2\", thermo=NASA(polynomials=[NASAPolynomial(coeffs=[3.8328,0.000224446,4.68033e-06,-6.04743e-09,2.59009e-12,45920.8,1.40666], Tmin=(200,'K'), Tmax=(1000,'K')), NASAPolynomial(coeffs=[3.16229,0.00281798,-7.56235e-07,5.05446e-11,5.65236e-15,46099.1,4.77656], Tmin=(1000,'K'), Tmax=(3000,'K'))], Tmin=(200,'K'), Tmax=(3000,'K'), comment=\"\"\"Thermo library: Klippenstein_Glarborg2016\"\"\"), molecule=[Molecule(smiles=\"[CH2]\")], transport_data=TransportData(shapeIndex=2, epsilon=(1197.28,'J/mol'), sigma=(3.8,'angstrom'), dipoleMoment=(0,'De'), polarizability=(0,'angstrom^3'), rotrelaxcollnum=0.0, comment=\"\"\"NOx2018\"\"\"), molecular_weight=(14.0266,'amu')))])"
      ]
     },
     "metadata": {},
     "output_type": "display_data"
    },
    {
     "name": "stdout",
     "output_type": "stream",
     "text": [
      "CH3(268) <=> H(261) + CH2(269)\n",
      "ThirdBody(arrheniusLow=Arrhenius(A=(2.2e+15,'cm^3/(mol*s)'), n=0, Ea=(82.659,'kcal/mol'), T0=(1,'K')), efficiencies={})\n",
      "Kinetic library: Klippenstein_Glarborg2016\n",
      "Direction: reverse\n",
      "Violation factor: 4.9e+06\n",
      "Violation condition: 500 K, 1.0 bar\n",
      "\n",
      "\n"
     ]
    },
    {
     "data": {
      "image/png": "[encoded data removed]",
      "text/plain": [
       "LibraryReaction(index=77, reactants=[Species(index=268, label=\"CH3\", thermo=NASA(polynomials=[NASAPolynomial(coeffs=[3.65718,0.0021266,5.45839e-06,-6.6181e-09,2.46571e-12,16422.7,1.67354], Tmin=(200,'K'), Tmax=(1000,'K')), NASAPolynomial(coeffs=[2.97812,0.00579785,-1.97558e-06,3.07298e-10,-1.79174e-14,16509.5,4.72248], Tmin=(1000,'K'), Tmax=(6000,'K'))], Tmin=(200,'K'), Tmax=(6000,'K'), comment=\"\"\"Thermo library: Klippenstein_Glarborg2016\"\"\"), molecule=[Molecule(smiles=\"[CH3]\")], transport_data=TransportData(shapeIndex=2, epsilon=(1197.28,'J/mol'), sigma=(3.8,'angstrom'), dipoleMoment=(0,'De'), polarizability=(0,'angstrom^3'), rotrelaxcollnum=0.0, comment=\"\"\"NOx2018\"\"\"), molecular_weight=(15.0345,'amu'))], products=[Species(index=13, label=\"H2\", thermo=NASA(polynomials=[NASAPolynomial(coeffs=[3.42254,0.000286646,-4.14662e-07,4.27541e-10,-9.38103e-14,-1029.78,-3.86365], Tmin=(100,'K'), Tmax=(1962.86,'K')), NASAPolynomial(coeffs=[2.74214,0.000579597,1.97176e-07,-6.4104e-11,4.95964e-15,-552.011,0.414362], Tmin=(1962.86,'K'), Tmax=(5000,'K'))], Tmin=(100,'K'), Tmax=(5000,'K'), comment=\"\"\"Thermo library: BurkeH2O2\"\"\"), molecule=[Molecule(smiles=\"[H][H]\")], transport_data=TransportData(shapeIndex=1, epsilon=(496.374,'J/mol'), sigma=(2.833,'angstrom'), dipoleMoment=(0,'De'), polarizability=(0,'angstrom^3'), rotrelaxcollnum=0.0, comment=\"\"\"PrimaryTransportLibrary\"\"\"), molecular_weight=(2.01588,'amu')), Species(index=3, label=\"CH\", thermo=NASA(polynomials=[NASAPolynomial(coeffs=[3.47159,0.000404745,-1.89388e-06,3.3321e-09,-1.51271e-12,70701.8,2.14542], Tmin=(200,'K'), Tmax=(1000,'K')), NASAPolynomial(coeffs=[2.66195,0.00170245,-6.83824e-07,1.3098e-10,-9.71843e-15,70958.9,6.52673], Tmin=(1000,'K'), Tmax=(3000,'K'))], Tmin=(200,'K'), Tmax=(3000,'K'), comment=\"\"\"Thermo library: Klippenstein_Glarborg2016\"\"\"), molecule=[Molecule(smiles=\"[CH]\")], transport_data=TransportData(shapeIndex=1, epsilon=(665.158,'J/mol'), sigma=(2.75,'angstrom'), dipoleMoment=(0,'De'), polarizability=(0,'angstrom^3'), rotrelaxcollnum=0.0, comment=\"\"\"NOx2018\"\"\"), molecular_weight=(13.0186,'amu'))], kinetics=ThirdBody(arrheniusLow=Arrhenius(A=(3.1e+15,'cm^3/(mol*s)'), n=0, Ea=(80.871,'kcal/mol'), T0=(1,'K')), efficiencies={}), pairs=[(Species(index=268, label=\"CH3\", thermo=NASA(polynomials=[NASAPolynomial(coeffs=[3.65718,0.0021266,5.45839e-06,-6.6181e-09,2.46571e-12,16422.7,1.67354], Tmin=(200,'K'), Tmax=(1000,'K')), NASAPolynomial(coeffs=[2.97812,0.00579785,-1.97558e-06,3.07298e-10,-1.79174e-14,16509.5,4.72248], Tmin=(1000,'K'), Tmax=(6000,'K'))], Tmin=(200,'K'), Tmax=(6000,'K'), comment=\"\"\"Thermo library: Klippenstein_Glarborg2016\"\"\"), molecule=[Molecule(smiles=\"[CH3]\")], transport_data=TransportData(shapeIndex=2, epsilon=(1197.28,'J/mol'), sigma=(3.8,'angstrom'), dipoleMoment=(0,'De'), polarizability=(0,'angstrom^3'), rotrelaxcollnum=0.0, comment=\"\"\"NOx2018\"\"\"), molecular_weight=(15.0345,'amu')), Species(index=13, label=\"H2\", thermo=NASA(polynomials=[NASAPolynomial(coeffs=[3.42254,0.000286646,-4.14662e-07,4.27541e-10,-9.38103e-14,-1029.78,-3.86365], Tmin=(100,'K'), Tmax=(1962.86,'K')), NASAPolynomial(coeffs=[2.74214,0.000579597,1.97176e-07,-6.4104e-11,4.95964e-15,-552.011,0.414362], Tmin=(1962.86,'K'), Tmax=(5000,'K'))], Tmin=(100,'K'), Tmax=(5000,'K'), comment=\"\"\"Thermo library: BurkeH2O2\"\"\"), molecule=[Molecule(smiles=\"[H][H]\")], transport_data=TransportData(shapeIndex=1, epsilon=(496.374,'J/mol'), sigma=(2.833,'angstrom'), dipoleMoment=(0,'De'), polarizability=(0,'angstrom^3'), rotrelaxcollnum=0.0, comment=\"\"\"PrimaryTransportLibrary\"\"\"), molecular_weight=(2.01588,'amu'))), (Species(index=268, label=\"CH3\", thermo=NASA(polynomials=[NASAPolynomial(coeffs=[3.65718,0.0021266,5.45839e-06,-6.6181e-09,2.46571e-12,16422.7,1.67354], Tmin=(200,'K'), Tmax=(1000,'K')), NASAPolynomial(coeffs=[2.97812,0.00579785,-1.97558e-06,3.07298e-10,-1.79174e-14,16509.5,4.72248], Tmin=(1000,'K'), Tmax=(6000,'K'))], Tmin=(200,'K'), Tmax=(6000,'K'), comment=\"\"\"Thermo library: Klippenstein_Glarborg2016\"\"\"), molecule=[Molecule(smiles=\"[CH3]\")], transport_data=TransportData(shapeIndex=2, epsilon=(1197.28,'J/mol'), sigma=(3.8,'angstrom'), dipoleMoment=(0,'De'), polarizability=(0,'angstrom^3'), rotrelaxcollnum=0.0, comment=\"\"\"NOx2018\"\"\"), molecular_weight=(15.0345,'amu')), Species(index=3, label=\"CH\", thermo=NASA(polynomials=[NASAPolynomial(coeffs=[3.47159,0.000404745,-1.89388e-06,3.3321e-09,-1.51271e-12,70701.8,2.14542], Tmin=(200,'K'), Tmax=(1000,'K')), NASAPolynomial(coeffs=[2.66195,0.00170245,-6.83824e-07,1.3098e-10,-9.71843e-15,70958.9,6.52673], Tmin=(1000,'K'), Tmax=(3000,'K'))], Tmin=(200,'K'), Tmax=(3000,'K'), comment=\"\"\"Thermo library: Klippenstein_Glarborg2016\"\"\"), molecule=[Molecule(smiles=\"[CH]\")], transport_data=TransportData(shapeIndex=1, epsilon=(665.158,'J/mol'), sigma=(2.75,'angstrom'), dipoleMoment=(0,'De'), polarizability=(0,'angstrom^3'), rotrelaxcollnum=0.0, comment=\"\"\"NOx2018\"\"\"), molecular_weight=(13.0186,'amu')))])"
      ]
     },
     "metadata": {},
     "output_type": "display_data"
    },
    {
     "name": "stdout",
     "output_type": "stream",
     "text": [
      "CH3(268) <=> H2(13) + CH(3)\n",
      "ThirdBody(arrheniusLow=Arrhenius(A=(3.1e+15,'cm^3/(mol*s)'), n=0, Ea=(80.871,'kcal/mol'), T0=(1,'K')), efficiencies={})\n",
      "Kinetic library: Klippenstein_Glarborg2016\n",
      "Direction: reverse\n",
      "Violation factor: 1.9e+06\n",
      "Violation condition: 500 K, 1.0 bar\n",
      "\n",
      "\n"
     ]
    },
    {
     "data": {
      "image/png": "[encoded data removed]",
      "text/plain": [
       "LibraryReaction(index=22593, reactants=[Species(index=275, label=\"CH3OO\", thermo=NASA(polynomials=[NASAPolynomial(coeffs=[2.93065,0.00868504,8.80315e-06,-1.39561e-08,5.0294e-12,227.483,12.8755], Tmin=(298,'K'), Tmax=(1000,'K')), NASAPolynomial(coeffs=[2.88425,0.0140068,-6.88364e-06,1.6379e-09,-1.53129e-13,-20.0433,11.8153], Tmin=(1000,'K'), Tmax=(3000,'K'))], Tmin=(298,'K'), Tmax=(3000,'K'), comment=\"\"\"Thermo library: Klippenstein_Glarborg2016\"\"\"), molecule=[Molecule(smiles=\"CO[O]\")], transport_data=TransportData(shapeIndex=2, epsilon=(3467.13,'J/mol'), sigma=(3.69,'angstrom'), dipoleMoment=(1.7,'De'), polarizability=(0,'angstrom^3'), rotrelaxcollnum=2.0, comment=\"\"\"NOx2018\"\"\"), molecular_weight=(47.0333,'amu')), Species(index=518, label=\"C4H6O\", thermo=NASA(polynomials=[NASAPolynomial(coeffs=[0.245579,0.0426432,-2.91127e-05,1.03478e-08,-1.53551e-12,-17030.5,26.4431], Tmin=(200,'K'), Tmax=(1386,'K')), NASAPolynomial(coeffs=[12.5572,0.0149673,-5.20015e-06,8.15864e-10,-4.76824e-14,-21462.3,-40.1434], Tmin=(1386,'K'), Tmax=(5000,'K'))], Tmin=(200,'K'), Tmax=(5000,'K'), comment=\"\"\"Thermo library: CurranPentane\"\"\"), molecule=[Molecule(smiles=\"C=CC(C)=O\")], transport_data=TransportData(shapeIndex=2, epsilon=(3355.73,'J/mol'), sigma=(5.472,'angstrom'), dipoleMoment=(0,'De'), polarizability=(0,'angstrom^3'), rotrelaxcollnum=0.0, comment=\"\"\"Epsilon & sigma estimated with Tc=524.16 K, Pc=46.47 bar (from Joback method)\"\"\"), molecular_weight=(70.0898,'amu'))], products=[Species(index=281, label=\"CH4O2\", thermo=NASA(polynomials=[NASAPolynomial(coeffs=[2.85837,0.0159701,-2.52104e-06,-5.736e-09,2.80535e-12,-16883,12.897], Tmin=(298,'K'), Tmax=(1000,'K')), NASAPolynomial(coeffs=[4.45931,0.0141051,-6.53177e-06,1.47663e-09,-1.32512e-13,-17430.1,4.03867], Tmin=(1000,'K'), Tmax=(3000,'K'))], Tmin=(298,'K'), Tmax=(3000,'K'), comment=\"\"\"Thermo library: Klippenstein_Glarborg2016\"\"\"), molecule=[Molecule(smiles=\"COO\")], transport_data=TransportData(shapeIndex=2, epsilon=(4005.91,'J/mol'), sigma=(3.626,'angstrom'), dipoleMoment=(0,'De'), polarizability=(0,'angstrom^3'), rotrelaxcollnum=1.0, comment=\"\"\"NOx2018\"\"\"), molecular_weight=(48.0413,'amu')), Species(index=276, label=\"CH2CO\", thermo=NASA(polynomials=[NASAPolynomial(coeffs=[2.13241,0.0181319,-1.74093e-05,9.35336e-09,-2.01725e-12,-7148.09,13.3808], Tmin=(200,'K'), Tmax=(1000,'K')), NASAPolynomial(coeffs=[5.75871,0.00635124,-2.25955e-06,3.62322e-10,-2.15856e-14,-8085.33,-4.9649], Tmin=(1000,'K'), Tmax=(6000,'K'))], Tmin=(200,'K'), Tmax=(6000,'K'), comment=\"\"\"Thermo library: Klippenstein_Glarborg2016\"\"\"), molecule=[Molecule(smiles=\"C=C=O\")], transport_data=TransportData(shapeIndex=2, epsilon=(3625.11,'J/mol'), sigma=(3.97,'angstrom'), dipoleMoment=(0,'De'), polarizability=(0,'angstrom^3'), rotrelaxcollnum=2.0, comment=\"\"\"NOx2018\"\"\"), molecular_weight=(42.0367,'amu')), Species(index=278, label=\"C2H3\", thermo=NASA(polynomials=[NASAPolynomial(coeffs=[3.36378,0.000265766,2.79621e-05,-3.72987e-08,1.5159e-11,34475,7.9151], Tmin=(200,'K'), Tmax=(1000,'K')), NASAPolynomial(coeffs=[4.15027,0.00754021,-2.62998e-06,4.15974e-10,-2.45408e-14,33856.6,1.72812], Tmin=(1000,'K'), Tmax=(6000,'K'))], Tmin=(200,'K'), Tmax=(6000,'K'), comment=\"\"\"Thermo library: Klippenstein_Glarborg2016\"\"\"), molecule=[Molecule(smiles=\"[CH]=C\")], transport_data=TransportData(shapeIndex=2, epsilon=(1737.72,'J/mol'), sigma=(4.1,'angstrom'), dipoleMoment=(0,'De'), polarizability=(0,'angstrom^3'), rotrelaxcollnum=1.0, comment=\"\"\"NOx2018\"\"\"), molecular_weight=(27.0452,'amu'))], kinetics=Arrhenius(A=(3.01e+12,'cm^3/(mol*s)'), n=0, Ea=(17.58,'kcal/mol'), T0=(1,'K')), reversible=False, pairs=[(Species(index=518, label=\"C4H6O\", thermo=NASA(polynomials=[NASAPolynomial(coeffs=[0.245579,0.0426432,-2.91127e-05,1.03478e-08,-1.53551e-12,-17030.5,26.4431], Tmin=(200,'K'), Tmax=(1386,'K')), NASAPolynomial(coeffs=[12.5572,0.0149673,-5.20015e-06,8.15864e-10,-4.76824e-14,-21462.3,-40.1434], Tmin=(1386,'K'), Tmax=(5000,'K'))], Tmin=(200,'K'), Tmax=(5000,'K'), comment=\"\"\"Thermo library: CurranPentane\"\"\"), molecule=[Molecule(smiles=\"C=CC(C)=O\")], transport_data=TransportData(shapeIndex=2, epsilon=(3355.73,'J/mol'), sigma=(5.472,'angstrom'), dipoleMoment=(0,'De'), polarizability=(0,'angstrom^3'), rotrelaxcollnum=0.0, comment=\"\"\"Epsilon & sigma estimated with Tc=524.16 K, Pc=46.47 bar (from Joback method)\"\"\"), molecular_weight=(70.0898,'amu')), Species(index=276, label=\"CH2CO\", thermo=NASA(polynomials=[NASAPolynomial(coeffs=[2.13241,0.0181319,-1.74093e-05,9.35336e-09,-2.01725e-12,-7148.09,13.3808], Tmin=(200,'K'), Tmax=(1000,'K')), NASAPolynomial(coeffs=[5.75871,0.00635124,-2.25955e-06,3.62322e-10,-2.15856e-14,-8085.33,-4.9649], Tmin=(1000,'K'), Tmax=(6000,'K'))], Tmin=(200,'K'), Tmax=(6000,'K'), comment=\"\"\"Thermo library: Klippenstein_Glarborg2016\"\"\"), molecule=[Molecule(smiles=\"C=C=O\")], transport_data=TransportData(shapeIndex=2, epsilon=(3625.11,'J/mol'), sigma=(3.97,'angstrom'), dipoleMoment=(0,'De'), polarizability=(0,'angstrom^3'), rotrelaxcollnum=2.0, comment=\"\"\"NOx2018\"\"\"), molecular_weight=(42.0367,'amu'))), (Species(index=275, label=\"CH3OO\", thermo=NASA(polynomials=[NASAPolynomial(coeffs=[2.93065,0.00868504,8.80315e-06,-1.39561e-08,5.0294e-12,227.483,12.8755], Tmin=(298,'K'), Tmax=(1000,'K')), NASAPolynomial(coeffs=[2.88425,0.0140068,-6.88364e-06,1.6379e-09,-1.53129e-13,-20.0433,11.8153], Tmin=(1000,'K'), Tmax=(3000,'K'))], Tmin=(298,'K'), Tmax=(3000,'K'), comment=\"\"\"Thermo library: Klippenstein_Glarborg2016\"\"\"), molecule=[Molecule(smiles=\"CO[O]\")], transport_data=TransportData(shapeIndex=2, epsilon=(3467.13,'J/mol'), sigma=(3.69,'angstrom'), dipoleMoment=(1.7,'De'), polarizability=(0,'angstrom^3'), rotrelaxcollnum=2.0, comment=\"\"\"NOx2018\"\"\"), molecular_weight=(47.0333,'amu')), Species(index=281, label=\"CH4O2\", thermo=NASA(polynomials=[NASAPolynomial(coeffs=[2.85837,0.0159701,-2.52104e-06,-5.736e-09,2.80535e-12,-16883,12.897], Tmin=(298,'K'), Tmax=(1000,'K')), NASAPolynomial(coeffs=[4.45931,0.0141051,-6.53177e-06,1.47663e-09,-1.32512e-13,-17430.1,4.03867], Tmin=(1000,'K'), Tmax=(3000,'K'))], Tmin=(298,'K'), Tmax=(3000,'K'), comment=\"\"\"Thermo library: Klippenstein_Glarborg2016\"\"\"), molecule=[Molecule(smiles=\"COO\")], transport_data=TransportData(shapeIndex=2, epsilon=(4005.91,'J/mol'), sigma=(3.626,'angstrom'), dipoleMoment=(0,'De'), polarizability=(0,'angstrom^3'), rotrelaxcollnum=1.0, comment=\"\"\"NOx2018\"\"\"), molecular_weight=(48.0413,'amu'))), (Species(index=275, label=\"CH3OO\", thermo=NASA(polynomials=[NASAPolynomial(coeffs=[2.93065,0.00868504,8.80315e-06,-1.39561e-08,5.0294e-12,227.483,12.8755], Tmin=(298,'K'), Tmax=(1000,'K')), NASAPolynomial(coeffs=[2.88425,0.0140068,-6.88364e-06,1.6379e-09,-1.53129e-13,-20.0433,11.8153], Tmin=(1000,'K'), Tmax=(3000,'K'))], Tmin=(298,'K'), Tmax=(3000,'K'), comment=\"\"\"Thermo library: Klippenstein_Glarborg2016\"\"\"), molecule=[Molecule(smiles=\"CO[O]\")], transport_data=TransportData(shapeIndex=2, epsilon=(3467.13,'J/mol'), sigma=(3.69,'angstrom'), dipoleMoment=(1.7,'De'), polarizability=(0,'angstrom^3'), rotrelaxcollnum=2.0, comment=\"\"\"NOx2018\"\"\"), molecular_weight=(47.0333,'amu')), Species(index=278, label=\"C2H3\", thermo=NASA(polynomials=[NASAPolynomial(coeffs=[3.36378,0.000265766,2.79621e-05,-3.72987e-08,1.5159e-11,34475,7.9151], Tmin=(200,'K'), Tmax=(1000,'K')), NASAPolynomial(coeffs=[4.15027,0.00754021,-2.62998e-06,4.15974e-10,-2.45408e-14,33856.6,1.72812], Tmin=(1000,'K'), Tmax=(6000,'K'))], Tmin=(200,'K'), Tmax=(6000,'K'), comment=\"\"\"Thermo library: Klippenstein_Glarborg2016\"\"\"), molecule=[Molecule(smiles=\"[CH]=C\")], transport_data=TransportData(shapeIndex=2, epsilon=(1737.72,'J/mol'), sigma=(4.1,'angstrom'), dipoleMoment=(0,'De'), polarizability=(0,'angstrom^3'), rotrelaxcollnum=1.0, comment=\"\"\"NOx2018\"\"\"), molecular_weight=(27.0452,'amu')))])"
      ]
     },
     "metadata": {},
     "output_type": "display_data"
    },
    {
     "name": "stdout",
     "output_type": "stream",
     "text": [
      "CH3OO(275) + C4H6O(518) => CH4O2(281) + CH2CO(276) + C2H3(278)\n",
      "Arrhenius(A=(3.01e+12,'cm^3/(mol*s)'), n=0, Ea=(17.58,'kcal/mol'), T0=(1,'K'))\n",
      "Kinetic library: CurranPentane\n",
      "Direction: reverse\n",
      "Violation factor: 5.5e+03\n",
      "Violation condition: 500 K, 1.0 bar\n",
      "\n",
      "\n"
     ]
    },
    {
     "data": {
      "image/png": "[encoded data removed]",
      "text/plain": [
       "LibraryReaction(index=279, reactants=[Species(index=280, label=\"C2H2\", thermo=NASA(polynomials=[NASAPolynomial(coeffs=[0.80868,0.0233616,-3.55172e-05,2.80153e-08,-8.50075e-12,26429,13.9397], Tmin=(200,'K'), Tmax=(1000,'K')), NASAPolynomial(coeffs=[4.65878,0.00488397,-1.60829e-06,2.46975e-10,-1.38606e-14,25759.4,-3.99838], Tmin=(1000,'K'), Tmax=(6000,'K'))], Tmin=(200,'K'), Tmax=(6000,'K'), comment=\"\"\"Thermo library: Klippenstein_Glarborg2016\"\"\"), molecule=[Molecule(smiles=\"C#C\")], transport_data=TransportData(shapeIndex=1, epsilon=(1737.72,'J/mol'), sigma=(4.1,'angstrom'), dipoleMoment=(0,'De'), polarizability=(0,'angstrom^3'), rotrelaxcollnum=2.5, comment=\"\"\"NOx2018\"\"\"), molecular_weight=(26.0373,'amu'))], products=[Species(index=261, label=\"H\", thermo=NASA(polynomials=[NASAPolynomial(coeffs=[2.5,-2.38914e-13,3.12709e-16,-1.33367e-19,1.7499e-23,25472.7,-0.459566], Tmin=(100,'K'), Tmax=(4383.16,'K')), NASAPolynomial(coeffs=[2.50003,-3.04997e-08,1.01101e-11,-1.48797e-15,8.20356e-20,25472.7,-0.459785], Tmin=(4383.16,'K'), Tmax=(5000,'K'))], Tmin=(100,'K'), Tmax=(5000,'K'), comment=\"\"\"Thermo library: BurkeH2O2\"\"\"), molecule=[Molecule(smiles=\"[H]\")], transport_data=TransportData(shapeIndex=0, epsilon=(1205.6,'J/mol'), sigma=(2.05,'angstrom'), dipoleMoment=(0,'De'), polarizability=(0,'angstrom^3'), rotrelaxcollnum=0.0, comment=\"\"\"NOx2018\"\"\"), molecular_weight=(1.00794,'amu')), Species(index=4, label=\"C2H\", thermo=NASA(polynomials=[NASAPolynomial(coeffs=[2.89868,0.0132988,-2.80733e-05,2.89485e-08,-1.07502e-11,67061.6,6.18548], Tmin=(200,'K'), Tmax=(1000,'K')), NASAPolynomial(coeffs=[3.6627,0.00382492,-1.36633e-06,2.13455e-10,-1.23217e-14,67168.4,3.92206], Tmin=(1000,'K'), Tmax=(6000,'K'))], Tmin=(200,'K'), Tmax=(6000,'K'), comment=\"\"\"Thermo library: Klippenstein_Glarborg2016\"\"\"), molecule=[Molecule(smiles=\"[C]#C\")], transport_data=TransportData(shapeIndex=1, epsilon=(1737.72,'J/mol'), sigma=(4.1,'angstrom'), dipoleMoment=(0,'De'), polarizability=(0,'angstrom^3'), rotrelaxcollnum=2.5, comment=\"\"\"NOx2018\"\"\"), molecular_weight=(25.0293,'amu'))], kinetics=ThirdBody(arrheniusLow=Arrhenius(A=(9.1e+30,'cm^3/(mol*s)'), n=-3.7, Ea=(127.138,'kcal/mol'), T0=(1,'K')), efficiencies={Molecule(smiles=\"[C-]#[O+]\"): 2.0, Molecule(smiles=\"[H][H]\"): 2.0, Molecule(smiles=\"O=C=O\"): 3.0, Molecule(smiles=\"O\"): 5.0}), pairs=[(Species(index=280, label=\"C2H2\", thermo=NASA(polynomials=[NASAPolynomial(coeffs=[0.80868,0.0233616,-3.55172e-05,2.80153e-08,-8.50075e-12,26429,13.9397], Tmin=(200,'K'), Tmax=(1000,'K')), NASAPolynomial(coeffs=[4.65878,0.00488397,-1.60829e-06,2.46975e-10,-1.38606e-14,25759.4,-3.99838], Tmin=(1000,'K'), Tmax=(6000,'K'))], Tmin=(200,'K'), Tmax=(6000,'K'), comment=\"\"\"Thermo library: Klippenstein_Glarborg2016\"\"\"), molecule=[Molecule(smiles=\"C#C\")], transport_data=TransportData(shapeIndex=1, epsilon=(1737.72,'J/mol'), sigma=(4.1,'angstrom'), dipoleMoment=(0,'De'), polarizability=(0,'angstrom^3'), rotrelaxcollnum=2.5, comment=\"\"\"NOx2018\"\"\"), molecular_weight=(26.0373,'amu')), Species(index=261, label=\"H\", thermo=NASA(polynomials=[NASAPolynomial(coeffs=[2.5,-2.38914e-13,3.12709e-16,-1.33367e-19,1.7499e-23,25472.7,-0.459566], Tmin=(100,'K'), Tmax=(4383.16,'K')), NASAPolynomial(coeffs=[2.50003,-3.04997e-08,1.01101e-11,-1.48797e-15,8.20356e-20,25472.7,-0.459785], Tmin=(4383.16,'K'), Tmax=(5000,'K'))], Tmin=(100,'K'), Tmax=(5000,'K'), comment=\"\"\"Thermo library: BurkeH2O2\"\"\"), molecule=[Molecule(smiles=\"[H]\")], transport_data=TransportData(shapeIndex=0, epsilon=(1205.6,'J/mol'), sigma=(2.05,'angstrom'), dipoleMoment=(0,'De'), polarizability=(0,'angstrom^3'), rotrelaxcollnum=0.0, comment=\"\"\"NOx2018\"\"\"), molecular_weight=(1.00794,'amu'))), (Species(index=280, label=\"C2H2\", thermo=NASA(polynomials=[NASAPolynomial(coeffs=[0.80868,0.0233616,-3.55172e-05,2.80153e-08,-8.50075e-12,26429,13.9397], Tmin=(200,'K'), Tmax=(1000,'K')), NASAPolynomial(coeffs=[4.65878,0.00488397,-1.60829e-06,2.46975e-10,-1.38606e-14,25759.4,-3.99838], Tmin=(1000,'K'), Tmax=(6000,'K'))], Tmin=(200,'K'), Tmax=(6000,'K'), comment=\"\"\"Thermo library: Klippenstein_Glarborg2016\"\"\"), molecule=[Molecule(smiles=\"C#C\")], transport_data=TransportData(shapeIndex=1, epsilon=(1737.72,'J/mol'), sigma=(4.1,'angstrom'), dipoleMoment=(0,'De'), polarizability=(0,'angstrom^3'), rotrelaxcollnum=2.5, comment=\"\"\"NOx2018\"\"\"), molecular_weight=(26.0373,'amu')), Species(index=4, label=\"C2H\", thermo=NASA(polynomials=[NASAPolynomial(coeffs=[2.89868,0.0132988,-2.80733e-05,2.89485e-08,-1.07502e-11,67061.6,6.18548], Tmin=(200,'K'), Tmax=(1000,'K')), NASAPolynomial(coeffs=[3.6627,0.00382492,-1.36633e-06,2.13455e-10,-1.23217e-14,67168.4,3.92206], Tmin=(1000,'K'), Tmax=(6000,'K'))], Tmin=(200,'K'), Tmax=(6000,'K'), comment=\"\"\"Thermo library: Klippenstein_Glarborg2016\"\"\"), molecule=[Molecule(smiles=\"[C]#C\")], transport_data=TransportData(shapeIndex=1, epsilon=(1737.72,'J/mol'), sigma=(4.1,'angstrom'), dipoleMoment=(0,'De'), polarizability=(0,'angstrom^3'), rotrelaxcollnum=2.5, comment=\"\"\"NOx2018\"\"\"), molecular_weight=(25.0293,'amu')))])"
      ]
     },
     "metadata": {},
     "output_type": "display_data"
    },
    {
     "name": "stdout",
     "output_type": "stream",
     "text": [
      "C2H2(280) <=> H(261) + C2H(4)\n",
      "ThirdBody(arrheniusLow=Arrhenius(A=(9.1e+30,'cm^3/(mol*s)'), n=-3.7, Ea=(127.138,'kcal/mol'), T0=(1,'K')), efficiencies={Molecule(smiles=\"[C-]#[O+]\"): 2.0, Molecule(smiles=\"[H][H]\"): 2.0, Molecule(smiles=\"O=C=O\"): 3.0, Molecule(smiles=\"O\"): 5.0})\n",
      "Kinetic library: Klippenstein_Glarborg2016\n",
      "Direction: reverse\n",
      "Violation factor: 4.2e+03\n",
      "Violation condition: 500 K, 30.0 bar\n",
      "\n",
      "\n"
     ]
    },
    {
     "data": {
      "image/png": "[encoded data removed]",
      "text/plain": [
       "LibraryReaction(index=101, reactants=[Species(index=269, label=\"CH2\", thermo=NASA(polynomials=[NASAPolynomial(coeffs=[3.8328,0.000224446,4.68033e-06,-6.04743e-09,2.59009e-12,45920.8,1.40666], Tmin=(200,'K'), Tmax=(1000,'K')), NASAPolynomial(coeffs=[3.16229,0.00281798,-7.56235e-07,5.05446e-11,5.65236e-15,46099.1,4.77656], Tmin=(1000,'K'), Tmax=(3000,'K'))], Tmin=(200,'K'), Tmax=(3000,'K'), comment=\"\"\"Thermo library: Klippenstein_Glarborg2016\"\"\"), molecule=[Molecule(smiles=\"[CH2]\")], transport_data=TransportData(shapeIndex=2, epsilon=(1197.28,'J/mol'), sigma=(3.8,'angstrom'), dipoleMoment=(0,'De'), polarizability=(0,'angstrom^3'), rotrelaxcollnum=0.0, comment=\"\"\"NOx2018\"\"\"), molecular_weight=(14.0266,'amu'))], products=[Species(index=261, label=\"H\", thermo=NASA(polynomials=[NASAPolynomial(coeffs=[2.5,-2.38914e-13,3.12709e-16,-1.33367e-19,1.7499e-23,25472.7,-0.459566], Tmin=(100,'K'), Tmax=(4383.16,'K')), NASAPolynomial(coeffs=[2.50003,-3.04997e-08,1.01101e-11,-1.48797e-15,8.20356e-20,25472.7,-0.459785], Tmin=(4383.16,'K'), Tmax=(5000,'K'))], Tmin=(100,'K'), Tmax=(5000,'K'), comment=\"\"\"Thermo library: BurkeH2O2\"\"\"), molecule=[Molecule(smiles=\"[H]\")], transport_data=TransportData(shapeIndex=0, epsilon=(1205.6,'J/mol'), sigma=(2.05,'angstrom'), dipoleMoment=(0,'De'), polarizability=(0,'angstrom^3'), rotrelaxcollnum=0.0, comment=\"\"\"NOx2018\"\"\"), molecular_weight=(1.00794,'amu')), Species(index=3, label=\"CH\", thermo=NASA(polynomials=[NASAPolynomial(coeffs=[3.47159,0.000404745,-1.89388e-06,3.3321e-09,-1.51271e-12,70701.8,2.14542], Tmin=(200,'K'), Tmax=(1000,'K')), NASAPolynomial(coeffs=[2.66195,0.00170245,-6.83824e-07,1.3098e-10,-9.71843e-15,70958.9,6.52673], Tmin=(1000,'K'), Tmax=(3000,'K'))], Tmin=(200,'K'), Tmax=(3000,'K'), comment=\"\"\"Thermo library: Klippenstein_Glarborg2016\"\"\"), molecule=[Molecule(smiles=\"[CH]\")], transport_data=TransportData(shapeIndex=1, epsilon=(665.158,'J/mol'), sigma=(2.75,'angstrom'), dipoleMoment=(0,'De'), polarizability=(0,'angstrom^3'), rotrelaxcollnum=0.0, comment=\"\"\"NOx2018\"\"\"), molecular_weight=(13.0186,'amu'))], kinetics=ThirdBody(arrheniusLow=Arrhenius(A=(5.6e+15,'cm^3/(mol*s)'), n=0, Ea=(89,'kcal/mol'), T0=(1,'K')), efficiencies={}), pairs=[(Species(index=269, label=\"CH2\", thermo=NASA(polynomials=[NASAPolynomial(coeffs=[3.8328,0.000224446,4.68033e-06,-6.04743e-09,2.59009e-12,45920.8,1.40666], Tmin=(200,'K'), Tmax=(1000,'K')), NASAPolynomial(coeffs=[3.16229,0.00281798,-7.56235e-07,5.05446e-11,5.65236e-15,46099.1,4.77656], Tmin=(1000,'K'), Tmax=(3000,'K'))], Tmin=(200,'K'), Tmax=(3000,'K'), comment=\"\"\"Thermo library: Klippenstein_Glarborg2016\"\"\"), molecule=[Molecule(smiles=\"[CH2]\")], transport_data=TransportData(shapeIndex=2, epsilon=(1197.28,'J/mol'), sigma=(3.8,'angstrom'), dipoleMoment=(0,'De'), polarizability=(0,'angstrom^3'), rotrelaxcollnum=0.0, comment=\"\"\"NOx2018\"\"\"), molecular_weight=(14.0266,'amu')), Species(index=261, label=\"H\", thermo=NASA(polynomials=[NASAPolynomial(coeffs=[2.5,-2.38914e-13,3.12709e-16,-1.33367e-19,1.7499e-23,25472.7,-0.459566], Tmin=(100,'K'), Tmax=(4383.16,'K')), NASAPolynomial(coeffs=[2.50003,-3.04997e-08,1.01101e-11,-1.48797e-15,8.20356e-20,25472.7,-0.459785], Tmin=(4383.16,'K'), Tmax=(5000,'K'))], Tmin=(100,'K'), Tmax=(5000,'K'), comment=\"\"\"Thermo library: BurkeH2O2\"\"\"), molecule=[Molecule(smiles=\"[H]\")], transport_data=TransportData(shapeIndex=0, epsilon=(1205.6,'J/mol'), sigma=(2.05,'angstrom'), dipoleMoment=(0,'De'), polarizability=(0,'angstrom^3'), rotrelaxcollnum=0.0, comment=\"\"\"NOx2018\"\"\"), molecular_weight=(1.00794,'amu'))), (Species(index=269, label=\"CH2\", thermo=NASA(polynomials=[NASAPolynomial(coeffs=[3.8328,0.000224446,4.68033e-06,-6.04743e-09,2.59009e-12,45920.8,1.40666], Tmin=(200,'K'), Tmax=(1000,'K')), NASAPolynomial(coeffs=[3.16229,0.00281798,-7.56235e-07,5.05446e-11,5.65236e-15,46099.1,4.77656], Tmin=(1000,'K'), Tmax=(3000,'K'))], Tmin=(200,'K'), Tmax=(3000,'K'), comment=\"\"\"Thermo library: Klippenstein_Glarborg2016\"\"\"), molecule=[Molecule(smiles=\"[CH2]\")], transport_data=TransportData(shapeIndex=2, epsilon=(1197.28,'J/mol'), sigma=(3.8,'angstrom'), dipoleMoment=(0,'De'), polarizability=(0,'angstrom^3'), rotrelaxcollnum=0.0, comment=\"\"\"NOx2018\"\"\"), molecular_weight=(14.0266,'amu')), Species(index=3, label=\"CH\", thermo=NASA(polynomials=[NASAPolynomial(coeffs=[3.47159,0.000404745,-1.89388e-06,3.3321e-09,-1.51271e-12,70701.8,2.14542], Tmin=(200,'K'), Tmax=(1000,'K')), NASAPolynomial(coeffs=[2.66195,0.00170245,-6.83824e-07,1.3098e-10,-9.71843e-15,70958.9,6.52673], Tmin=(1000,'K'), Tmax=(3000,'K'))], Tmin=(200,'K'), Tmax=(3000,'K'), comment=\"\"\"Thermo library: Klippenstein_Glarborg2016\"\"\"), molecule=[Molecule(smiles=\"[CH]\")], transport_data=TransportData(shapeIndex=1, epsilon=(665.158,'J/mol'), sigma=(2.75,'angstrom'), dipoleMoment=(0,'De'), polarizability=(0,'angstrom^3'), rotrelaxcollnum=0.0, comment=\"\"\"NOx2018\"\"\"), molecular_weight=(13.0186,'amu')))])"
      ]
     },
     "metadata": {},
     "output_type": "display_data"
    },
    {
     "name": "stdout",
     "output_type": "stream",
     "text": [
      "CH2(269) <=> H(261) + CH(3)\n",
      "ThirdBody(arrheniusLow=Arrhenius(A=(5.6e+15,'cm^3/(mol*s)'), n=0, Ea=(89,'kcal/mol'), T0=(1,'K')), efficiencies={})\n",
      "Kinetic library: Klippenstein_Glarborg2016\n",
      "Direction: reverse\n",
      "Violation factor: 3.4e+02\n",
      "Violation condition: 500 K, 30.0 bar\n",
      "\n",
      "\n"
     ]
    },
    {
     "data": {
      "image/png": "[encoded data removed]",
      "text/plain": [
       "LibraryReaction(index=22591, reactants=[Species(index=264, label=\"HO2\", thermo=NASA(polynomials=[NASAPolynomial(coeffs=[4.02957,-0.00263999,1.52235e-05,-1.71679e-08,6.26771e-12,322.677,4.84424], Tmin=(100,'K'), Tmax=(923.9,'K')), NASAPolynomial(coeffs=[4.1513,0.00191152,-4.11308e-07,6.35038e-11,-4.86452e-15,83.4341,3.09359], Tmin=(923.9,'K'), Tmax=(5000,'K'))], Tmin=(100,'K'), Tmax=(5000,'K'), comment=\"\"\"Thermo library: BurkeH2O2\"\"\"), molecule=[Molecule(smiles=\"[O]O\")], transport_data=TransportData(shapeIndex=2, epsilon=(892.974,'J/mol'), sigma=(3.458,'angstrom'), dipoleMoment=(0,'De'), polarizability=(0,'angstrom^3'), rotrelaxcollnum=1.0, comment=\"\"\"NOx2018\"\"\"), molecular_weight=(33.0067,'amu')), Species(index=518, label=\"C4H6O\", thermo=NASA(polynomials=[NASAPolynomial(coeffs=[0.245579,0.0426432,-2.91127e-05,1.03478e-08,-1.53551e-12,-17030.5,26.4431], Tmin=(200,'K'), Tmax=(1386,'K')), NASAPolynomial(coeffs=[12.5572,0.0149673,-5.20015e-06,8.15864e-10,-4.76824e-14,-21462.3,-40.1434], Tmin=(1386,'K'), Tmax=(5000,'K'))], Tmin=(200,'K'), Tmax=(5000,'K'), comment=\"\"\"Thermo library: CurranPentane\"\"\"), molecule=[Molecule(smiles=\"C=CC(C)=O\")], transport_data=TransportData(shapeIndex=2, epsilon=(3355.73,'J/mol'), sigma=(5.472,'angstrom'), dipoleMoment=(0,'De'), polarizability=(0,'angstrom^3'), rotrelaxcollnum=0.0, comment=\"\"\"Epsilon & sigma estimated with Tc=524.16 K, Pc=46.47 bar (from Joback method)\"\"\"), molecular_weight=(70.0898,'amu'))], products=[Species(index=265, label=\"H2O2\", thermo=NASA(polynomials=[NASAPolynomial(coeffs=[3.72866,0.00413389,5.67454e-06,-1.0186e-08,4.28584e-12,-17696.4,5.35915], Tmin=(100,'K'), Tmax=(923.28,'K')), NASAPolynomial(coeffs=[4.95155,0.00354225,-1.01038e-06,1.61935e-10,-1.10204e-14,-18122.8,-1.52927], Tmin=(923.28,'K'), Tmax=(5000,'K'))], Tmin=(100,'K'), Tmax=(5000,'K'), comment=\"\"\"Thermo library: BurkeH2O2\"\"\"), molecule=[Molecule(smiles=\"OO\")], transport_data=TransportData(shapeIndex=2, epsilon=(2405.38,'J/mol'), sigma=(4.196,'angstrom'), dipoleMoment=(0,'De'), polarizability=(0,'angstrom^3'), rotrelaxcollnum=0.0, comment=\"\"\"PrimaryTransportLibrary\"\"\"), molecular_weight=(34.0147,'amu')), Species(index=276, label=\"CH2CO\", thermo=NASA(polynomials=[NASAPolynomial(coeffs=[2.13241,0.0181319,-1.74093e-05,9.35336e-09,-2.01725e-12,-7148.09,13.3808], Tmin=(200,'K'), Tmax=(1000,'K')), NASAPolynomial(coeffs=[5.75871,0.00635124,-2.25955e-06,3.62322e-10,-2.15856e-14,-8085.33,-4.9649], Tmin=(1000,'K'), Tmax=(6000,'K'))], Tmin=(200,'K'), Tmax=(6000,'K'), comment=\"\"\"Thermo library: Klippenstein_Glarborg2016\"\"\"), molecule=[Molecule(smiles=\"C=C=O\")], transport_data=TransportData(shapeIndex=2, epsilon=(3625.11,'J/mol'), sigma=(3.97,'angstrom'), dipoleMoment=(0,'De'), polarizability=(0,'angstrom^3'), rotrelaxcollnum=2.0, comment=\"\"\"NOx2018\"\"\"), molecular_weight=(42.0367,'amu')), Species(index=278, label=\"C2H3\", thermo=NASA(polynomials=[NASAPolynomial(coeffs=[3.36378,0.000265766,2.79621e-05,-3.72987e-08,1.5159e-11,34475,7.9151], Tmin=(200,'K'), Tmax=(1000,'K')), NASAPolynomial(coeffs=[4.15027,0.00754021,-2.62998e-06,4.15974e-10,-2.45408e-14,33856.6,1.72812], Tmin=(1000,'K'), Tmax=(6000,'K'))], Tmin=(200,'K'), Tmax=(6000,'K'), comment=\"\"\"Thermo library: Klippenstein_Glarborg2016\"\"\"), molecule=[Molecule(smiles=\"[CH]=C\")], transport_data=TransportData(shapeIndex=2, epsilon=(1737.72,'J/mol'), sigma=(4.1,'angstrom'), dipoleMoment=(0,'De'), polarizability=(0,'angstrom^3'), rotrelaxcollnum=1.0, comment=\"\"\"NOx2018\"\"\"), molecular_weight=(27.0452,'amu'))], kinetics=Arrhenius(A=(8.5e+12,'cm^3/(mol*s)'), n=0, Ea=(20.46,'kcal/mol'), T0=(1,'K')), reversible=False, pairs=[(Species(index=518, label=\"C4H6O\", thermo=NASA(polynomials=[NASAPolynomial(coeffs=[0.245579,0.0426432,-2.91127e-05,1.03478e-08,-1.53551e-12,-17030.5,26.4431], Tmin=(200,'K'), Tmax=(1386,'K')), NASAPolynomial(coeffs=[12.5572,0.0149673,-5.20015e-06,8.15864e-10,-4.76824e-14,-21462.3,-40.1434], Tmin=(1386,'K'), Tmax=(5000,'K'))], Tmin=(200,'K'), Tmax=(5000,'K'), comment=\"\"\"Thermo library: CurranPentane\"\"\"), molecule=[Molecule(smiles=\"C=CC(C)=O\")], transport_data=TransportData(shapeIndex=2, epsilon=(3355.73,'J/mol'), sigma=(5.472,'angstrom'), dipoleMoment=(0,'De'), polarizability=(0,'angstrom^3'), rotrelaxcollnum=0.0, comment=\"\"\"Epsilon & sigma estimated with Tc=524.16 K, Pc=46.47 bar (from Joback method)\"\"\"), molecular_weight=(70.0898,'amu')), Species(index=276, label=\"CH2CO\", thermo=NASA(polynomials=[NASAPolynomial(coeffs=[2.13241,0.0181319,-1.74093e-05,9.35336e-09,-2.01725e-12,-7148.09,13.3808], Tmin=(200,'K'), Tmax=(1000,'K')), NASAPolynomial(coeffs=[5.75871,0.00635124,-2.25955e-06,3.62322e-10,-2.15856e-14,-8085.33,-4.9649], Tmin=(1000,'K'), Tmax=(6000,'K'))], Tmin=(200,'K'), Tmax=(6000,'K'), comment=\"\"\"Thermo library: Klippenstein_Glarborg2016\"\"\"), molecule=[Molecule(smiles=\"C=C=O\")], transport_data=TransportData(shapeIndex=2, epsilon=(3625.11,'J/mol'), sigma=(3.97,'angstrom'), dipoleMoment=(0,'De'), polarizability=(0,'angstrom^3'), rotrelaxcollnum=2.0, comment=\"\"\"NOx2018\"\"\"), molecular_weight=(42.0367,'amu'))), (Species(index=264, label=\"HO2\", thermo=NASA(polynomials=[NASAPolynomial(coeffs=[4.02957,-0.00263999,1.52235e-05,-1.71679e-08,6.26771e-12,322.677,4.84424], Tmin=(100,'K'), Tmax=(923.9,'K')), NASAPolynomial(coeffs=[4.1513,0.00191152,-4.11308e-07,6.35038e-11,-4.86452e-15,83.4341,3.09359], Tmin=(923.9,'K'), Tmax=(5000,'K'))], Tmin=(100,'K'), Tmax=(5000,'K'), comment=\"\"\"Thermo library: BurkeH2O2\"\"\"), molecule=[Molecule(smiles=\"[O]O\")], transport_data=TransportData(shapeIndex=2, epsilon=(892.974,'J/mol'), sigma=(3.458,'angstrom'), dipoleMoment=(0,'De'), polarizability=(0,'angstrom^3'), rotrelaxcollnum=1.0, comment=\"\"\"NOx2018\"\"\"), molecular_weight=(33.0067,'amu')), Species(index=265, label=\"H2O2\", thermo=NASA(polynomials=[NASAPolynomial(coeffs=[3.72866,0.00413389,5.67454e-06,-1.0186e-08,4.28584e-12,-17696.4,5.35915], Tmin=(100,'K'), Tmax=(923.28,'K')), NASAPolynomial(coeffs=[4.95155,0.00354225,-1.01038e-06,1.61935e-10,-1.10204e-14,-18122.8,-1.52927], Tmin=(923.28,'K'), Tmax=(5000,'K'))], Tmin=(100,'K'), Tmax=(5000,'K'), comment=\"\"\"Thermo library: BurkeH2O2\"\"\"), molecule=[Molecule(smiles=\"OO\")], transport_data=TransportData(shapeIndex=2, epsilon=(2405.38,'J/mol'), sigma=(4.196,'angstrom'), dipoleMoment=(0,'De'), polarizability=(0,'angstrom^3'), rotrelaxcollnum=0.0, comment=\"\"\"PrimaryTransportLibrary\"\"\"), molecular_weight=(34.0147,'amu'))), (Species(index=264, label=\"HO2\", thermo=NASA(polynomials=[NASAPolynomial(coeffs=[4.02957,-0.00263999,1.52235e-05,-1.71679e-08,6.26771e-12,322.677,4.84424], Tmin=(100,'K'), Tmax=(923.9,'K')), NASAPolynomial(coeffs=[4.1513,0.00191152,-4.11308e-07,6.35038e-11,-4.86452e-15,83.4341,3.09359], Tmin=(923.9,'K'), Tmax=(5000,'K'))], Tmin=(100,'K'), Tmax=(5000,'K'), comment=\"\"\"Thermo library: BurkeH2O2\"\"\"), molecule=[Molecule(smiles=\"[O]O\")], transport_data=TransportData(shapeIndex=2, epsilon=(892.974,'J/mol'), sigma=(3.458,'angstrom'), dipoleMoment=(0,'De'), polarizability=(0,'angstrom^3'), rotrelaxcollnum=1.0, comment=\"\"\"NOx2018\"\"\"), molecular_weight=(33.0067,'amu')), Species(index=278, label=\"C2H3\", thermo=NASA(polynomials=[NASAPolynomial(coeffs=[3.36378,0.000265766,2.79621e-05,-3.72987e-08,1.5159e-11,34475,7.9151], Tmin=(200,'K'), Tmax=(1000,'K')), NASAPolynomial(coeffs=[4.15027,0.00754021,-2.62998e-06,4.15974e-10,-2.45408e-14,33856.6,1.72812], Tmin=(1000,'K'), Tmax=(6000,'K'))], Tmin=(200,'K'), Tmax=(6000,'K'), comment=\"\"\"Thermo library: Klippenstein_Glarborg2016\"\"\"), molecule=[Molecule(smiles=\"[CH]=C\")], transport_data=TransportData(shapeIndex=2, epsilon=(1737.72,'J/mol'), sigma=(4.1,'angstrom'), dipoleMoment=(0,'De'), polarizability=(0,'angstrom^3'), rotrelaxcollnum=1.0, comment=\"\"\"NOx2018\"\"\"), molecular_weight=(27.0452,'amu')))])"
      ]
     },
     "metadata": {},
     "output_type": "display_data"
    },
    {
     "name": "stdout",
     "output_type": "stream",
     "text": [
      "HO2(264) + C4H6O(518) => H2O2(265) + CH2CO(276) + C2H3(278)\n",
      "Arrhenius(A=(8.5e+12,'cm^3/(mol*s)'), n=0, Ea=(20.46,'kcal/mol'), T0=(1,'K'))\n",
      "Kinetic library: CurranPentane\n",
      "Direction: reverse\n",
      "Violation factor: 2.6e+02\n",
      "Violation condition: 500 K, 1.0 bar\n",
      "\n",
      "\n"
     ]
    },
    {
     "data": {
      "image/png": "[encoded data removed]",
      "text/plain": [
       "LibraryReaction(index=279, reactants=[Species(index=280, label=\"C2H2\", thermo=NASA(polynomials=[NASAPolynomial(coeffs=[0.80868,0.0233616,-3.55172e-05,2.80153e-08,-8.50075e-12,26429,13.9397], Tmin=(200,'K'), Tmax=(1000,'K')), NASAPolynomial(coeffs=[4.65878,0.00488397,-1.60829e-06,2.46975e-10,-1.38606e-14,25759.4,-3.99838], Tmin=(1000,'K'), Tmax=(6000,'K'))], Tmin=(200,'K'), Tmax=(6000,'K'), comment=\"\"\"Thermo library: Klippenstein_Glarborg2016\"\"\"), molecule=[Molecule(smiles=\"C#C\")], transport_data=TransportData(shapeIndex=1, epsilon=(1737.72,'J/mol'), sigma=(4.1,'angstrom'), dipoleMoment=(0,'De'), polarizability=(0,'angstrom^3'), rotrelaxcollnum=2.5, comment=\"\"\"NOx2018\"\"\"), molecular_weight=(26.0373,'amu'))], products=[Species(index=261, label=\"H\", thermo=NASA(polynomials=[NASAPolynomial(coeffs=[2.5,-2.38914e-13,3.12709e-16,-1.33367e-19,1.7499e-23,25472.7,-0.459566], Tmin=(100,'K'), Tmax=(4383.16,'K')), NASAPolynomial(coeffs=[2.50003,-3.04997e-08,1.01101e-11,-1.48797e-15,8.20356e-20,25472.7,-0.459785], Tmin=(4383.16,'K'), Tmax=(5000,'K'))], Tmin=(100,'K'), Tmax=(5000,'K'), comment=\"\"\"Thermo library: BurkeH2O2\"\"\"), molecule=[Molecule(smiles=\"[H]\")], transport_data=TransportData(shapeIndex=0, epsilon=(1205.6,'J/mol'), sigma=(2.05,'angstrom'), dipoleMoment=(0,'De'), polarizability=(0,'angstrom^3'), rotrelaxcollnum=0.0, comment=\"\"\"NOx2018\"\"\"), molecular_weight=(1.00794,'amu')), Species(index=4, label=\"C2H\", thermo=NASA(polynomials=[NASAPolynomial(coeffs=[2.89868,0.0132988,-2.80733e-05,2.89485e-08,-1.07502e-11,67061.6,6.18548], Tmin=(200,'K'), Tmax=(1000,'K')), NASAPolynomial(coeffs=[3.6627,0.00382492,-1.36633e-06,2.13455e-10,-1.23217e-14,67168.4,3.92206], Tmin=(1000,'K'), Tmax=(6000,'K'))], Tmin=(200,'K'), Tmax=(6000,'K'), comment=\"\"\"Thermo library: Klippenstein_Glarborg2016\"\"\"), molecule=[Molecule(smiles=\"[C]#C\")], transport_data=TransportData(shapeIndex=1, epsilon=(1737.72,'J/mol'), sigma=(4.1,'angstrom'), dipoleMoment=(0,'De'), polarizability=(0,'angstrom^3'), rotrelaxcollnum=2.5, comment=\"\"\"NOx2018\"\"\"), molecular_weight=(25.0293,'amu'))], kinetics=ThirdBody(arrheniusLow=Arrhenius(A=(9.1e+30,'cm^3/(mol*s)'), n=-3.7, Ea=(127.138,'kcal/mol'), T0=(1,'K')), efficiencies={Molecule(smiles=\"[C-]#[O+]\"): 2.0, Molecule(smiles=\"[H][H]\"): 2.0, Molecule(smiles=\"O=C=O\"): 3.0, Molecule(smiles=\"O\"): 5.0}), pairs=[(Species(index=280, label=\"C2H2\", thermo=NASA(polynomials=[NASAPolynomial(coeffs=[0.80868,0.0233616,-3.55172e-05,2.80153e-08,-8.50075e-12,26429,13.9397], Tmin=(200,'K'), Tmax=(1000,'K')), NASAPolynomial(coeffs=[4.65878,0.00488397,-1.60829e-06,2.46975e-10,-1.38606e-14,25759.4,-3.99838], Tmin=(1000,'K'), Tmax=(6000,'K'))], Tmin=(200,'K'), Tmax=(6000,'K'), comment=\"\"\"Thermo library: Klippenstein_Glarborg2016\"\"\"), molecule=[Molecule(smiles=\"C#C\")], transport_data=TransportData(shapeIndex=1, epsilon=(1737.72,'J/mol'), sigma=(4.1,'angstrom'), dipoleMoment=(0,'De'), polarizability=(0,'angstrom^3'), rotrelaxcollnum=2.5, comment=\"\"\"NOx2018\"\"\"), molecular_weight=(26.0373,'amu')), Species(index=261, label=\"H\", thermo=NASA(polynomials=[NASAPolynomial(coeffs=[2.5,-2.38914e-13,3.12709e-16,-1.33367e-19,1.7499e-23,25472.7,-0.459566], Tmin=(100,'K'), Tmax=(4383.16,'K')), NASAPolynomial(coeffs=[2.50003,-3.04997e-08,1.01101e-11,-1.48797e-15,8.20356e-20,25472.7,-0.459785], Tmin=(4383.16,'K'), Tmax=(5000,'K'))], Tmin=(100,'K'), Tmax=(5000,'K'), comment=\"\"\"Thermo library: BurkeH2O2\"\"\"), molecule=[Molecule(smiles=\"[H]\")], transport_data=TransportData(shapeIndex=0, epsilon=(1205.6,'J/mol'), sigma=(2.05,'angstrom'), dipoleMoment=(0,'De'), polarizability=(0,'angstrom^3'), rotrelaxcollnum=0.0, comment=\"\"\"NOx2018\"\"\"), molecular_weight=(1.00794,'amu'))), (Species(index=280, label=\"C2H2\", thermo=NASA(polynomials=[NASAPolynomial(coeffs=[0.80868,0.0233616,-3.55172e-05,2.80153e-08,-8.50075e-12,26429,13.9397], Tmin=(200,'K'), Tmax=(1000,'K')), NASAPolynomial(coeffs=[4.65878,0.00488397,-1.60829e-06,2.46975e-10,-1.38606e-14,25759.4,-3.99838], Tmin=(1000,'K'), Tmax=(6000,'K'))], Tmin=(200,'K'), Tmax=(6000,'K'), comment=\"\"\"Thermo library: Klippenstein_Glarborg2016\"\"\"), molecule=[Molecule(smiles=\"C#C\")], transport_data=TransportData(shapeIndex=1, epsilon=(1737.72,'J/mol'), sigma=(4.1,'angstrom'), dipoleMoment=(0,'De'), polarizability=(0,'angstrom^3'), rotrelaxcollnum=2.5, comment=\"\"\"NOx2018\"\"\"), molecular_weight=(26.0373,'amu')), Species(index=4, label=\"C2H\", thermo=NASA(polynomials=[NASAPolynomial(coeffs=[2.89868,0.0132988,-2.80733e-05,2.89485e-08,-1.07502e-11,67061.6,6.18548], Tmin=(200,'K'), Tmax=(1000,'K')), NASAPolynomial(coeffs=[3.6627,0.00382492,-1.36633e-06,2.13455e-10,-1.23217e-14,67168.4,3.92206], Tmin=(1000,'K'), Tmax=(6000,'K'))], Tmin=(200,'K'), Tmax=(6000,'K'), comment=\"\"\"Thermo library: Klippenstein_Glarborg2016\"\"\"), molecule=[Molecule(smiles=\"[C]#C\")], transport_data=TransportData(shapeIndex=1, epsilon=(1737.72,'J/mol'), sigma=(4.1,'angstrom'), dipoleMoment=(0,'De'), polarizability=(0,'angstrom^3'), rotrelaxcollnum=2.5, comment=\"\"\"NOx2018\"\"\"), molecular_weight=(25.0293,'amu')))])"
      ]
     },
     "metadata": {},
     "output_type": "display_data"
    },
    {
     "name": "stdout",
     "output_type": "stream",
     "text": [
      "C2H2(280) <=> H(261) + C2H(4)\n",
      "ThirdBody(arrheniusLow=Arrhenius(A=(9.1e+30,'cm^3/(mol*s)'), n=-3.7, Ea=(127.138,'kcal/mol'), T0=(1,'K')), efficiencies={Molecule(smiles=\"[C-]#[O+]\"): 2.0, Molecule(smiles=\"[H][H]\"): 2.0, Molecule(smiles=\"O=C=O\"): 3.0, Molecule(smiles=\"O\"): 5.0})\n",
      "Kinetic library: Klippenstein_Glarborg2016\n",
      "Direction: reverse\n",
      "Violation factor: 1.4e+02\n",
      "Violation condition: 500 K, 1.0 bar\n",
      "\n",
      "\n"
     ]
    },
    {
     "data": {
      "image/png": "[encoded data removed]",
      "text/plain": [
       "LibraryReaction(index=583, reactants=[Species(index=9, label=\"CH2O\", thermo=NASA(polynomials=[NASAPolynomial(coeffs=[4.79372,-0.00990833,3.7322e-05,-3.79285e-08,1.31773e-11,-14379.2,0.602798], Tmin=(200,'K'), Tmax=(1000,'K')), NASAPolynomial(coeffs=[3.16953,0.00619321,-2.25056e-06,3.65976e-10,-2.20149e-14,-14548.7,6.04208], Tmin=(1000,'K'), Tmax=(6000,'K'))], Tmin=(200,'K'), Tmax=(6000,'K'), comment=\"\"\"Thermo library: Klippenstein_Glarborg2016\"\"\"), molecule=[Molecule(smiles=\"C=O\")], transport_data=TransportData(shapeIndex=2, epsilon=(4140.61,'J/mol'), sigma=(3.59,'angstrom'), dipoleMoment=(0,'De'), polarizability=(0,'angstrom^3'), rotrelaxcollnum=2.0, comment=\"\"\"NOx2018\"\"\"), molecular_weight=(30.026,'amu')), Species(index=303, label=\"S\", thermo=NASA(polynomials=[NASAPolynomial(coeffs=[0.556418,0.0412519,-3.10647e-05,1.2293e-08,-1.99691e-12,-22047.4,24.9983], Tmin=(298,'K'), Tmax=(800,'K')), NASAPolynomial(coeffs=[0.556418,0.0412519,-3.10647e-05,1.2293e-08,-1.99691e-12,-22047.4,24.9983], Tmin=(800,'K'), Tmax=(2500,'K'))], Tmin=(298,'K'), Tmax=(2500,'K'), comment=\"\"\"Thermo library: Klippenstein_Glarborg2016\"\"\"), molecule=[Molecule(smiles=\"[O]OCCO\")], transport_data=TransportData(shapeIndex=2, epsilon=(3284.22,'J/mol'), sigma=(4.037,'angstrom'), dipoleMoment=(1.3,'De'), polarizability=(0,'angstrom^3'), rotrelaxcollnum=1.0, comment=\"\"\"NOx2018\"\"\"), molecular_weight=(77.0593,'amu'))], products=[Species(index=267, label=\"HCO\", thermo=NASA(polynomials=[NASAPolynomial(coeffs=[4.23755,-0.00332075,1.4003e-05,-1.3424e-08,4.37416e-12,3872.41,3.30835], Tmin=(200,'K'), Tmax=(1000,'K')), NASAPolynomial(coeffs=[3.92002,0.00252279,-6.71004e-07,1.05616e-10,-7.43798e-15,3653.43,3.58077], Tmin=(1000,'K'), Tmax=(6000,'K'))], Tmin=(200,'K'), Tmax=(6000,'K'), comment=\"\"\"Thermo library: Klippenstein_Glarborg2016\"\"\"), molecule=[Molecule(smiles=\"[CH]=O\")], transport_data=TransportData(shapeIndex=2, epsilon=(4140.61,'J/mol'), sigma=(3.59,'angstrom'), dipoleMoment=(0,'De'), polarizability=(0,'angstrom^3'), rotrelaxcollnum=0.0, comment=\"\"\"NOx2018\"\"\"), molecular_weight=(29.018,'amu')), Species(index=272, label=\"CH2OH\", thermo=NASA(polynomials=[NASAPolynomial(coeffs=[4.47834,-0.0013507,2.78485e-05,-3.64869e-08,1.47907e-11,-3500.73,3.30913], Tmin=(200,'K'), Tmax=(1000,'K')), NASAPolynomial(coeffs=[5.09314,0.00594761,-2.06497e-06,3.23008e-10,-1.88126e-14,-4034.1,-1.84691], Tmin=(1000,'K'), Tmax=(6000,'K'))], Tmin=(200,'K'), Tmax=(6000,'K'), comment=\"\"\"Thermo library: Klippenstein_Glarborg2016\"\"\"), molecule=[Molecule(smiles=\"[CH2]O\")], transport_data=TransportData(shapeIndex=2, epsilon=(3467.13,'J/mol'), sigma=(3.69,'angstrom'), dipoleMoment=(1.7,'De'), polarizability=(0,'angstrom^3'), rotrelaxcollnum=2.0, comment=\"\"\"NOx2018\"\"\"), molecular_weight=(31.0339,'amu')), Species(index=282, label=\"CH3O2\", thermo=NASA(polynomials=[NASAPolynomial(coeffs=[5.83127,-0.00351771,4.54551e-05,-5.66903e-08,2.21633e-11,6061.87,-0.579143], Tmin=(200,'K'), Tmax=(1000,'K')), NASAPolynomial(coeffs=[6.98746,0.00900484,-3.24367e-06,5.24325e-10,-3.13587e-14,5012.58,-10.2619], Tmin=(1000,'K'), Tmax=(2500,'K'))], Tmin=(200,'K'), Tmax=(2500,'K'), comment=\"\"\"Thermo library: Klippenstein_Glarborg2016\"\"\"), molecule=[Molecule(smiles=\"[CH2]OO\")], transport_data=TransportData(shapeIndex=2, epsilon=(3467.13,'J/mol'), sigma=(3.69,'angstrom'), dipoleMoment=(1.7,'De'), polarizability=(0,'angstrom^3'), rotrelaxcollnum=2.0, comment=\"\"\"NOx2018\"\"\"), molecular_weight=(47.0333,'amu'))], kinetics=Arrhenius(A=(41000,'cm^3/(mol*s)'), n=2.5, Ea=(10.206,'kcal/mol'), T0=(1,'K')), reversible=False, pairs=[(Species(index=303, label=\"S\", thermo=NASA(polynomials=[NASAPolynomial(coeffs=[0.556418,0.0412519,-3.10647e-05,1.2293e-08,-1.99691e-12,-22047.4,24.9983], Tmin=(298,'K'), Tmax=(800,'K')), NASAPolynomial(coeffs=[0.556418,0.0412519,-3.10647e-05,1.2293e-08,-1.99691e-12,-22047.4,24.9983], Tmin=(800,'K'), Tmax=(2500,'K'))], Tmin=(298,'K'), Tmax=(2500,'K'), comment=\"\"\"Thermo library: Klippenstein_Glarborg2016\"\"\"), molecule=[Molecule(smiles=\"[O]OCCO\")], transport_data=TransportData(shapeIndex=2, epsilon=(3284.22,'J/mol'), sigma=(4.037,'angstrom'), dipoleMoment=(1.3,'De'), polarizability=(0,'angstrom^3'), rotrelaxcollnum=1.0, comment=\"\"\"NOx2018\"\"\"), molecular_weight=(77.0593,'amu')), Species(index=282, label=\"CH3O2\", thermo=NASA(polynomials=[NASAPolynomial(coeffs=[5.83127,-0.00351771,4.54551e-05,-5.66903e-08,2.21633e-11,6061.87,-0.579143], Tmin=(200,'K'), Tmax=(1000,'K')), NASAPolynomial(coeffs=[6.98746,0.00900484,-3.24367e-06,5.24325e-10,-3.13587e-14,5012.58,-10.2619], Tmin=(1000,'K'), Tmax=(2500,'K'))], Tmin=(200,'K'), Tmax=(2500,'K'), comment=\"\"\"Thermo library: Klippenstein_Glarborg2016\"\"\"), molecule=[Molecule(smiles=\"[CH2]OO\")], transport_data=TransportData(shapeIndex=2, epsilon=(3467.13,'J/mol'), sigma=(3.69,'angstrom'), dipoleMoment=(1.7,'De'), polarizability=(0,'angstrom^3'), rotrelaxcollnum=2.0, comment=\"\"\"NOx2018\"\"\"), molecular_weight=(47.0333,'amu'))), (Species(index=9, label=\"CH2O\", thermo=NASA(polynomials=[NASAPolynomial(coeffs=[4.79372,-0.00990833,3.7322e-05,-3.79285e-08,1.31773e-11,-14379.2,0.602798], Tmin=(200,'K'), Tmax=(1000,'K')), NASAPolynomial(coeffs=[3.16953,0.00619321,-2.25056e-06,3.65976e-10,-2.20149e-14,-14548.7,6.04208], Tmin=(1000,'K'), Tmax=(6000,'K'))], Tmin=(200,'K'), Tmax=(6000,'K'), comment=\"\"\"Thermo library: Klippenstein_Glarborg2016\"\"\"), molecule=[Molecule(smiles=\"C=O\")], transport_data=TransportData(shapeIndex=2, epsilon=(4140.61,'J/mol'), sigma=(3.59,'angstrom'), dipoleMoment=(0,'De'), polarizability=(0,'angstrom^3'), rotrelaxcollnum=2.0, comment=\"\"\"NOx2018\"\"\"), molecular_weight=(30.026,'amu')), Species(index=267, label=\"HCO\", thermo=NASA(polynomials=[NASAPolynomial(coeffs=[4.23755,-0.00332075,1.4003e-05,-1.3424e-08,4.37416e-12,3872.41,3.30835], Tmin=(200,'K'), Tmax=(1000,'K')), NASAPolynomial(coeffs=[3.92002,0.00252279,-6.71004e-07,1.05616e-10,-7.43798e-15,3653.43,3.58077], Tmin=(1000,'K'), Tmax=(6000,'K'))], Tmin=(200,'K'), Tmax=(6000,'K'), comment=\"\"\"Thermo library: Klippenstein_Glarborg2016\"\"\"), molecule=[Molecule(smiles=\"[CH]=O\")], transport_data=TransportData(shapeIndex=2, epsilon=(4140.61,'J/mol'), sigma=(3.59,'angstrom'), dipoleMoment=(0,'De'), polarizability=(0,'angstrom^3'), rotrelaxcollnum=0.0, comment=\"\"\"NOx2018\"\"\"), molecular_weight=(29.018,'amu'))), (Species(index=9, label=\"CH2O\", thermo=NASA(polynomials=[NASAPolynomial(coeffs=[4.79372,-0.00990833,3.7322e-05,-3.79285e-08,1.31773e-11,-14379.2,0.602798], Tmin=(200,'K'), Tmax=(1000,'K')), NASAPolynomial(coeffs=[3.16953,0.00619321,-2.25056e-06,3.65976e-10,-2.20149e-14,-14548.7,6.04208], Tmin=(1000,'K'), Tmax=(6000,'K'))], Tmin=(200,'K'), Tmax=(6000,'K'), comment=\"\"\"Thermo library: Klippenstein_Glarborg2016\"\"\"), molecule=[Molecule(smiles=\"C=O\")], transport_data=TransportData(shapeIndex=2, epsilon=(4140.61,'J/mol'), sigma=(3.59,'angstrom'), dipoleMoment=(0,'De'), polarizability=(0,'angstrom^3'), rotrelaxcollnum=2.0, comment=\"\"\"NOx2018\"\"\"), molecular_weight=(30.026,'amu')), Species(index=272, label=\"CH2OH\", thermo=NASA(polynomials=[NASAPolynomial(coeffs=[4.47834,-0.0013507,2.78485e-05,-3.64869e-08,1.47907e-11,-3500.73,3.30913], Tmin=(200,'K'), Tmax=(1000,'K')), NASAPolynomial(coeffs=[5.09314,0.00594761,-2.06497e-06,3.23008e-10,-1.88126e-14,-4034.1,-1.84691], Tmin=(1000,'K'), Tmax=(6000,'K'))], Tmin=(200,'K'), Tmax=(6000,'K'), comment=\"\"\"Thermo library: Klippenstein_Glarborg2016\"\"\"), molecule=[Molecule(smiles=\"[CH2]O\")], transport_data=TransportData(shapeIndex=2, epsilon=(3467.13,'J/mol'), sigma=(3.69,'angstrom'), dipoleMoment=(1.7,'De'), polarizability=(0,'angstrom^3'), rotrelaxcollnum=2.0, comment=\"\"\"NOx2018\"\"\"), molecular_weight=(31.0339,'amu')))])"
      ]
     },
     "metadata": {},
     "output_type": "display_data"
    },
    {
     "name": "stdout",
     "output_type": "stream",
     "text": [
      "CH2O(9) + S(303) => HCO(267) + CH2OH(272) + CH3O2(282)\n",
      "Arrhenius(A=(41000,'cm^3/(mol*s)'), n=2.5, Ea=(10.206,'kcal/mol'), T0=(1,'K'))\n",
      "Kinetic library: Klippenstein_Glarborg2016\n",
      "Direction: reverse\n",
      "Violation factor: 1e+02\n",
      "Violation condition: 1000 K, 1.0 bar\n",
      "\n",
      "\n"
     ]
    },
    {
     "data": {
      "image/png": "[encoded data removed]",
      "text/plain": [
       "LibraryReaction(index=78, reactants=[Species(index=268, label=\"CH3\", thermo=NASA(polynomials=[NASAPolynomial(coeffs=[3.65718,0.0021266,5.45839e-06,-6.6181e-09,2.46571e-12,16422.7,1.67354], Tmin=(200,'K'), Tmax=(1000,'K')), NASAPolynomial(coeffs=[2.97812,0.00579785,-1.97558e-06,3.07298e-10,-1.79174e-14,16509.5,4.72248], Tmin=(1000,'K'), Tmax=(6000,'K'))], Tmin=(200,'K'), Tmax=(6000,'K'), comment=\"\"\"Thermo library: Klippenstein_Glarborg2016\"\"\"), molecule=[Molecule(smiles=\"[CH3]\")], transport_data=TransportData(shapeIndex=2, epsilon=(1197.28,'J/mol'), sigma=(3.8,'angstrom'), dipoleMoment=(0,'De'), polarizability=(0,'angstrom^3'), rotrelaxcollnum=0.0, comment=\"\"\"NOx2018\"\"\"), molecular_weight=(15.0345,'amu'))], products=[Species(index=261, label=\"H\", thermo=NASA(polynomials=[NASAPolynomial(coeffs=[2.5,-2.38914e-13,3.12709e-16,-1.33367e-19,1.7499e-23,25472.7,-0.459566], Tmin=(100,'K'), Tmax=(4383.16,'K')), NASAPolynomial(coeffs=[2.50003,-3.04997e-08,1.01101e-11,-1.48797e-15,8.20356e-20,25472.7,-0.459785], Tmin=(4383.16,'K'), Tmax=(5000,'K'))], Tmin=(100,'K'), Tmax=(5000,'K'), comment=\"\"\"Thermo library: BurkeH2O2\"\"\"), molecule=[Molecule(smiles=\"[H]\")], transport_data=TransportData(shapeIndex=0, epsilon=(1205.6,'J/mol'), sigma=(2.05,'angstrom'), dipoleMoment=(0,'De'), polarizability=(0,'angstrom^3'), rotrelaxcollnum=0.0, comment=\"\"\"NOx2018\"\"\"), molecular_weight=(1.00794,'amu')), Species(index=269, label=\"CH2\", thermo=NASA(polynomials=[NASAPolynomial(coeffs=[3.8328,0.000224446,4.68033e-06,-6.04743e-09,2.59009e-12,45920.8,1.40666], Tmin=(200,'K'), Tmax=(1000,'K')), NASAPolynomial(coeffs=[3.16229,0.00281798,-7.56235e-07,5.05446e-11,5.65236e-15,46099.1,4.77656], Tmin=(1000,'K'), Tmax=(3000,'K'))], Tmin=(200,'K'), Tmax=(3000,'K'), comment=\"\"\"Thermo library: Klippenstein_Glarborg2016\"\"\"), molecule=[Molecule(smiles=\"[CH2]\")], transport_data=TransportData(shapeIndex=2, epsilon=(1197.28,'J/mol'), sigma=(3.8,'angstrom'), dipoleMoment=(0,'De'), polarizability=(0,'angstrom^3'), rotrelaxcollnum=0.0, comment=\"\"\"NOx2018\"\"\"), molecular_weight=(14.0266,'amu'))], kinetics=ThirdBody(arrheniusLow=Arrhenius(A=(2.2e+15,'cm^3/(mol*s)'), n=0, Ea=(82.659,'kcal/mol'), T0=(1,'K')), efficiencies={}), pairs=[(Species(index=268, label=\"CH3\", thermo=NASA(polynomials=[NASAPolynomial(coeffs=[3.65718,0.0021266,5.45839e-06,-6.6181e-09,2.46571e-12,16422.7,1.67354], Tmin=(200,'K'), Tmax=(1000,'K')), NASAPolynomial(coeffs=[2.97812,0.00579785,-1.97558e-06,3.07298e-10,-1.79174e-14,16509.5,4.72248], Tmin=(1000,'K'), Tmax=(6000,'K'))], Tmin=(200,'K'), Tmax=(6000,'K'), comment=\"\"\"Thermo library: Klippenstein_Glarborg2016\"\"\"), molecule=[Molecule(smiles=\"[CH3]\")], transport_data=TransportData(shapeIndex=2, epsilon=(1197.28,'J/mol'), sigma=(3.8,'angstrom'), dipoleMoment=(0,'De'), polarizability=(0,'angstrom^3'), rotrelaxcollnum=0.0, comment=\"\"\"NOx2018\"\"\"), molecular_weight=(15.0345,'amu')), Species(index=261, label=\"H\", thermo=NASA(polynomials=[NASAPolynomial(coeffs=[2.5,-2.38914e-13,3.12709e-16,-1.33367e-19,1.7499e-23,25472.7,-0.459566], Tmin=(100,'K'), Tmax=(4383.16,'K')), NASAPolynomial(coeffs=[2.50003,-3.04997e-08,1.01101e-11,-1.48797e-15,8.20356e-20,25472.7,-0.459785], Tmin=(4383.16,'K'), Tmax=(5000,'K'))], Tmin=(100,'K'), Tmax=(5000,'K'), comment=\"\"\"Thermo library: BurkeH2O2\"\"\"), molecule=[Molecule(smiles=\"[H]\")], transport_data=TransportData(shapeIndex=0, epsilon=(1205.6,'J/mol'), sigma=(2.05,'angstrom'), dipoleMoment=(0,'De'), polarizability=(0,'angstrom^3'), rotrelaxcollnum=0.0, comment=\"\"\"NOx2018\"\"\"), molecular_weight=(1.00794,'amu'))), (Species(index=268, label=\"CH3\", thermo=NASA(polynomials=[NASAPolynomial(coeffs=[3.65718,0.0021266,5.45839e-06,-6.6181e-09,2.46571e-12,16422.7,1.67354], Tmin=(200,'K'), Tmax=(1000,'K')), NASAPolynomial(coeffs=[2.97812,0.00579785,-1.97558e-06,3.07298e-10,-1.79174e-14,16509.5,4.72248], Tmin=(1000,'K'), Tmax=(6000,'K'))], Tmin=(200,'K'), Tmax=(6000,'K'), comment=\"\"\"Thermo library: Klippenstein_Glarborg2016\"\"\"), molecule=[Molecule(smiles=\"[CH3]\")], transport_data=TransportData(shapeIndex=2, epsilon=(1197.28,'J/mol'), sigma=(3.8,'angstrom'), dipoleMoment=(0,'De'), polarizability=(0,'angstrom^3'), rotrelaxcollnum=0.0, comment=\"\"\"NOx2018\"\"\"), molecular_weight=(15.0345,'amu')), Species(index=269, label=\"CH2\", thermo=NASA(polynomials=[NASAPolynomial(coeffs=[3.8328,0.000224446,4.68033e-06,-6.04743e-09,2.59009e-12,45920.8,1.40666], Tmin=(200,'K'), Tmax=(1000,'K')), NASAPolynomial(coeffs=[3.16229,0.00281798,-7.56235e-07,5.05446e-11,5.65236e-15,46099.1,4.77656], Tmin=(1000,'K'), Tmax=(3000,'K'))], Tmin=(200,'K'), Tmax=(3000,'K'), comment=\"\"\"Thermo library: Klippenstein_Glarborg2016\"\"\"), molecule=[Molecule(smiles=\"[CH2]\")], transport_data=TransportData(shapeIndex=2, epsilon=(1197.28,'J/mol'), sigma=(3.8,'angstrom'), dipoleMoment=(0,'De'), polarizability=(0,'angstrom^3'), rotrelaxcollnum=0.0, comment=\"\"\"NOx2018\"\"\"), molecular_weight=(14.0266,'amu')))])"
      ]
     },
     "metadata": {},
     "output_type": "display_data"
    },
    {
     "name": "stdout",
     "output_type": "stream",
     "text": [
      "CH3(268) <=> H(261) + CH2(269)\n",
      "ThirdBody(arrheniusLow=Arrhenius(A=(2.2e+15,'cm^3/(mol*s)'), n=0, Ea=(82.659,'kcal/mol'), T0=(1,'K')), efficiencies={})\n",
      "Kinetic library: Klippenstein_Glarborg2016\n",
      "Direction: reverse\n",
      "Violation factor: 52\n",
      "Violation condition: 1000 K, 30.0 bar\n",
      "\n",
      "\n"
     ]
    },
    {
     "data": {
      "image/png": "[encoded data removed]",
      "text/plain": [
       "LibraryReaction(index=77, reactants=[Species(index=268, label=\"CH3\", thermo=NASA(polynomials=[NASAPolynomial(coeffs=[3.65718,0.0021266,5.45839e-06,-6.6181e-09,2.46571e-12,16422.7,1.67354], Tmin=(200,'K'), Tmax=(1000,'K')), NASAPolynomial(coeffs=[2.97812,0.00579785,-1.97558e-06,3.07298e-10,-1.79174e-14,16509.5,4.72248], Tmin=(1000,'K'), Tmax=(6000,'K'))], Tmin=(200,'K'), Tmax=(6000,'K'), comment=\"\"\"Thermo library: Klippenstein_Glarborg2016\"\"\"), molecule=[Molecule(smiles=\"[CH3]\")], transport_data=TransportData(shapeIndex=2, epsilon=(1197.28,'J/mol'), sigma=(3.8,'angstrom'), dipoleMoment=(0,'De'), polarizability=(0,'angstrom^3'), rotrelaxcollnum=0.0, comment=\"\"\"NOx2018\"\"\"), molecular_weight=(15.0345,'amu'))], products=[Species(index=13, label=\"H2\", thermo=NASA(polynomials=[NASAPolynomial(coeffs=[3.42254,0.000286646,-4.14662e-07,4.27541e-10,-9.38103e-14,-1029.78,-3.86365], Tmin=(100,'K'), Tmax=(1962.86,'K')), NASAPolynomial(coeffs=[2.74214,0.000579597,1.97176e-07,-6.4104e-11,4.95964e-15,-552.011,0.414362], Tmin=(1962.86,'K'), Tmax=(5000,'K'))], Tmin=(100,'K'), Tmax=(5000,'K'), comment=\"\"\"Thermo library: BurkeH2O2\"\"\"), molecule=[Molecule(smiles=\"[H][H]\")], transport_data=TransportData(shapeIndex=1, epsilon=(496.374,'J/mol'), sigma=(2.833,'angstrom'), dipoleMoment=(0,'De'), polarizability=(0,'angstrom^3'), rotrelaxcollnum=0.0, comment=\"\"\"PrimaryTransportLibrary\"\"\"), molecular_weight=(2.01588,'amu')), Species(index=3, label=\"CH\", thermo=NASA(polynomials=[NASAPolynomial(coeffs=[3.47159,0.000404745,-1.89388e-06,3.3321e-09,-1.51271e-12,70701.8,2.14542], Tmin=(200,'K'), Tmax=(1000,'K')), NASAPolynomial(coeffs=[2.66195,0.00170245,-6.83824e-07,1.3098e-10,-9.71843e-15,70958.9,6.52673], Tmin=(1000,'K'), Tmax=(3000,'K'))], Tmin=(200,'K'), Tmax=(3000,'K'), comment=\"\"\"Thermo library: Klippenstein_Glarborg2016\"\"\"), molecule=[Molecule(smiles=\"[CH]\")], transport_data=TransportData(shapeIndex=1, epsilon=(665.158,'J/mol'), sigma=(2.75,'angstrom'), dipoleMoment=(0,'De'), polarizability=(0,'angstrom^3'), rotrelaxcollnum=0.0, comment=\"\"\"NOx2018\"\"\"), molecular_weight=(13.0186,'amu'))], kinetics=ThirdBody(arrheniusLow=Arrhenius(A=(3.1e+15,'cm^3/(mol*s)'), n=0, Ea=(80.871,'kcal/mol'), T0=(1,'K')), efficiencies={}), pairs=[(Species(index=268, label=\"CH3\", thermo=NASA(polynomials=[NASAPolynomial(coeffs=[3.65718,0.0021266,5.45839e-06,-6.6181e-09,2.46571e-12,16422.7,1.67354], Tmin=(200,'K'), Tmax=(1000,'K')), NASAPolynomial(coeffs=[2.97812,0.00579785,-1.97558e-06,3.07298e-10,-1.79174e-14,16509.5,4.72248], Tmin=(1000,'K'), Tmax=(6000,'K'))], Tmin=(200,'K'), Tmax=(6000,'K'), comment=\"\"\"Thermo library: Klippenstein_Glarborg2016\"\"\"), molecule=[Molecule(smiles=\"[CH3]\")], transport_data=TransportData(shapeIndex=2, epsilon=(1197.28,'J/mol'), sigma=(3.8,'angstrom'), dipoleMoment=(0,'De'), polarizability=(0,'angstrom^3'), rotrelaxcollnum=0.0, comment=\"\"\"NOx2018\"\"\"), molecular_weight=(15.0345,'amu')), Species(index=13, label=\"H2\", thermo=NASA(polynomials=[NASAPolynomial(coeffs=[3.42254,0.000286646,-4.14662e-07,4.27541e-10,-9.38103e-14,-1029.78,-3.86365], Tmin=(100,'K'), Tmax=(1962.86,'K')), NASAPolynomial(coeffs=[2.74214,0.000579597,1.97176e-07,-6.4104e-11,4.95964e-15,-552.011,0.414362], Tmin=(1962.86,'K'), Tmax=(5000,'K'))], Tmin=(100,'K'), Tmax=(5000,'K'), comment=\"\"\"Thermo library: BurkeH2O2\"\"\"), molecule=[Molecule(smiles=\"[H][H]\")], transport_data=TransportData(shapeIndex=1, epsilon=(496.374,'J/mol'), sigma=(2.833,'angstrom'), dipoleMoment=(0,'De'), polarizability=(0,'angstrom^3'), rotrelaxcollnum=0.0, comment=\"\"\"PrimaryTransportLibrary\"\"\"), molecular_weight=(2.01588,'amu'))), (Species(index=268, label=\"CH3\", thermo=NASA(polynomials=[NASAPolynomial(coeffs=[3.65718,0.0021266,5.45839e-06,-6.6181e-09,2.46571e-12,16422.7,1.67354], Tmin=(200,'K'), Tmax=(1000,'K')), NASAPolynomial(coeffs=[2.97812,0.00579785,-1.97558e-06,3.07298e-10,-1.79174e-14,16509.5,4.72248], Tmin=(1000,'K'), Tmax=(6000,'K'))], Tmin=(200,'K'), Tmax=(6000,'K'), comment=\"\"\"Thermo library: Klippenstein_Glarborg2016\"\"\"), molecule=[Molecule(smiles=\"[CH3]\")], transport_data=TransportData(shapeIndex=2, epsilon=(1197.28,'J/mol'), sigma=(3.8,'angstrom'), dipoleMoment=(0,'De'), polarizability=(0,'angstrom^3'), rotrelaxcollnum=0.0, comment=\"\"\"NOx2018\"\"\"), molecular_weight=(15.0345,'amu')), Species(index=3, label=\"CH\", thermo=NASA(polynomials=[NASAPolynomial(coeffs=[3.47159,0.000404745,-1.89388e-06,3.3321e-09,-1.51271e-12,70701.8,2.14542], Tmin=(200,'K'), Tmax=(1000,'K')), NASAPolynomial(coeffs=[2.66195,0.00170245,-6.83824e-07,1.3098e-10,-9.71843e-15,70958.9,6.52673], Tmin=(1000,'K'), Tmax=(3000,'K'))], Tmin=(200,'K'), Tmax=(3000,'K'), comment=\"\"\"Thermo library: Klippenstein_Glarborg2016\"\"\"), molecule=[Molecule(smiles=\"[CH]\")], transport_data=TransportData(shapeIndex=1, epsilon=(665.158,'J/mol'), sigma=(2.75,'angstrom'), dipoleMoment=(0,'De'), polarizability=(0,'angstrom^3'), rotrelaxcollnum=0.0, comment=\"\"\"NOx2018\"\"\"), molecular_weight=(13.0186,'amu')))])"
      ]
     },
     "metadata": {},
     "output_type": "display_data"
    },
    {
     "name": "stdout",
     "output_type": "stream",
     "text": [
      "CH3(268) <=> H2(13) + CH(3)\n",
      "ThirdBody(arrheniusLow=Arrhenius(A=(3.1e+15,'cm^3/(mol*s)'), n=0, Ea=(80.871,'kcal/mol'), T0=(1,'K')), efficiencies={})\n",
      "Kinetic library: Klippenstein_Glarborg2016\n",
      "Direction: reverse\n",
      "Violation factor: 39\n",
      "Violation condition: 1000 K, 30.0 bar\n",
      "\n",
      "\n"
     ]
    },
    {
     "data": {
      "image/png": "[encoded data removed]",
      "text/plain": [
       "LibraryReaction(index=12877, reactants=[Species(index=262, label=\"OH\", thermo=NASA(polynomials=[NASAPolynomial(coeffs=[3.48579,0.001334,-4.70054e-06,5.64393e-09,-2.06324e-12,3411.96,1.99789], Tmin=(100,'K'), Tmax=(1005.24,'K')), NASAPolynomial(coeffs=[2.88226,0.00103867,-2.35641e-07,1.40204e-11,6.3479e-16,3669.56,5.59047], Tmin=(1005.24,'K'), Tmax=(5000,'K'))], Tmin=(100,'K'), Tmax=(5000,'K'), comment=\"\"\"Thermo library: BurkeH2O2\"\"\"), molecule=[Molecule(smiles=\"[OH]\")], transport_data=TransportData(shapeIndex=1, epsilon=(665.158,'J/mol'), sigma=(2.75,'angstrom'), dipoleMoment=(0,'De'), polarizability=(0,'angstrom^3'), rotrelaxcollnum=0.0, comment=\"\"\"NOx2018\"\"\"), molecular_weight=(17.0073,'amu')), Species(index=350, label=\"C3H5\", thermo=NASA(polynomials=[NASAPolynomial(coeffs=[1.36318,0.0198138,1.24971e-05,-3.33556e-08,1.58466e-11,19245.6,17.1732], Tmin=(200,'K'), Tmax=(1000,'K')), NASAPolynomial(coeffs=[6.50079,0.0143247,-5.67816e-06,1.10808e-09,-9.03639e-14,17482.4,-11.2431], Tmin=(1000,'K'), Tmax=(3000,'K'))], Tmin=(200,'K'), Tmax=(3000,'K'), comment=\"\"\"Thermo library: CurranPentane\"\"\"), molecule=[Molecule(smiles=\"[CH2]C=C\"), Molecule(smiles=\"[CH2]C=C\")], transport_data=TransportData(shapeIndex=2, epsilon=(2161.77,'J/mol'), sigma=(4.85,'angstrom'), dipoleMoment=(0,'De'), polarizability=(0,'angstrom^3'), rotrelaxcollnum=1.0, comment=\"\"\"GRI-Mech\"\"\"), molecular_weight=(41.0718,'amu'))], products=[Species(index=261, label=\"H\", thermo=NASA(polynomials=[NASAPolynomial(coeffs=[2.5,-2.38914e-13,3.12709e-16,-1.33367e-19,1.7499e-23,25472.7,-0.459566], Tmin=(100,'K'), Tmax=(4383.16,'K')), NASAPolynomial(coeffs=[2.50003,-3.04997e-08,1.01101e-11,-1.48797e-15,8.20356e-20,25472.7,-0.459785], Tmin=(4383.16,'K'), Tmax=(5000,'K'))], Tmin=(100,'K'), Tmax=(5000,'K'), comment=\"\"\"Thermo library: BurkeH2O2\"\"\"), molecule=[Molecule(smiles=\"[H]\")], transport_data=TransportData(shapeIndex=0, epsilon=(1205.6,'J/mol'), sigma=(2.05,'angstrom'), dipoleMoment=(0,'De'), polarizability=(0,'angstrom^3'), rotrelaxcollnum=0.0, comment=\"\"\"NOx2018\"\"\"), molecular_weight=(1.00794,'amu')), Species(index=261, label=\"H\", thermo=NASA(polynomials=[NASAPolynomial(coeffs=[2.5,-2.38914e-13,3.12709e-16,-1.33367e-19,1.7499e-23,25472.7,-0.459566], Tmin=(100,'K'), Tmax=(4383.16,'K')), NASAPolynomial(coeffs=[2.50003,-3.04997e-08,1.01101e-11,-1.48797e-15,8.20356e-20,25472.7,-0.459785], Tmin=(4383.16,'K'), Tmax=(5000,'K'))], Tmin=(100,'K'), Tmax=(5000,'K'), comment=\"\"\"Thermo library: BurkeH2O2\"\"\"), molecule=[Molecule(smiles=\"[H]\")], transport_data=TransportData(shapeIndex=0, epsilon=(1205.6,'J/mol'), sigma=(2.05,'angstrom'), dipoleMoment=(0,'De'), polarizability=(0,'angstrom^3'), rotrelaxcollnum=0.0, comment=\"\"\"NOx2018\"\"\"), molecular_weight=(1.00794,'amu')), Species(index=330, label=\"C3H4O\", thermo=NASA(polynomials=[NASAPolynomial(coeffs=[0.733844,0.0317483,-2.29599e-05,8.42104e-09,-1.23613e-12,-9384.74,21.0309], Tmin=(200,'K'), Tmax=(1398,'K')), NASAPolynomial(coeffs=[9.99155,0.00982348,-3.31203e-06,5.09524e-10,-2.93822e-14,-12530.4,-28.5169], Tmin=(1398,'K'), Tmax=(5000,'K'))], Tmin=(200,'K'), Tmax=(5000,'K'), comment=\"\"\"Thermo library: CurranPentane\"\"\"), molecule=[Molecule(smiles=\"C=CC=O\")], transport_data=TransportData(shapeIndex=2, epsilon=(3136.31,'J/mol'), sigma=(5.142,'angstrom'), dipoleMoment=(0,'De'), polarizability=(0,'angstrom^3'), rotrelaxcollnum=0.0, comment=\"\"\"Epsilon & sigma estimated with Tc=489.88 K, Pc=52.36 bar (from Joback method)\"\"\"), molecular_weight=(56.0633,'amu'))], kinetics=PDepArrhenius(pressures=([0.1,1,10],'atm'), arrhenius=[Arrhenius(A=(5.3e+37,'cm^3/(mol*s)'), n=-6.71, Ea=(29.306,'kcal/mol'), T0=(1,'K')), Arrhenius(A=(4.2e+32,'cm^3/(mol*s)'), n=-5.16, Ea=(30.126,'kcal/mol'), T0=(1,'K')), Arrhenius(A=(1.6e+20,'cm^3/(mol*s)'), n=-1.56, Ea=(26.33,'kcal/mol'), T0=(1,'K'))]), reversible=False, pairs=[(Species(index=350, label=\"C3H5\", thermo=NASA(polynomials=[NASAPolynomial(coeffs=[1.36318,0.0198138,1.24971e-05,-3.33556e-08,1.58466e-11,19245.6,17.1732], Tmin=(200,'K'), Tmax=(1000,'K')), NASAPolynomial(coeffs=[6.50079,0.0143247,-5.67816e-06,1.10808e-09,-9.03639e-14,17482.4,-11.2431], Tmin=(1000,'K'), Tmax=(3000,'K'))], Tmin=(200,'K'), Tmax=(3000,'K'), comment=\"\"\"Thermo library: CurranPentane\"\"\"), molecule=[Molecule(smiles=\"[CH2]C=C\"), Molecule(smiles=\"[CH2]C=C\")], transport_data=TransportData(shapeIndex=2, epsilon=(2161.77,'J/mol'), sigma=(4.85,'angstrom'), dipoleMoment=(0,'De'), polarizability=(0,'angstrom^3'), rotrelaxcollnum=1.0, comment=\"\"\"GRI-Mech\"\"\"), molecular_weight=(41.0718,'amu')), Species(index=330, label=\"C3H4O\", thermo=NASA(polynomials=[NASAPolynomial(coeffs=[0.733844,0.0317483,-2.29599e-05,8.42104e-09,-1.23613e-12,-9384.74,21.0309], Tmin=(200,'K'), Tmax=(1398,'K')), NASAPolynomial(coeffs=[9.99155,0.00982348,-3.31203e-06,5.09524e-10,-2.93822e-14,-12530.4,-28.5169], Tmin=(1398,'K'), Tmax=(5000,'K'))], Tmin=(200,'K'), Tmax=(5000,'K'), comment=\"\"\"Thermo library: CurranPentane\"\"\"), molecule=[Molecule(smiles=\"C=CC=O\")], transport_data=TransportData(shapeIndex=2, epsilon=(3136.31,'J/mol'), sigma=(5.142,'angstrom'), dipoleMoment=(0,'De'), polarizability=(0,'angstrom^3'), rotrelaxcollnum=0.0, comment=\"\"\"Epsilon & sigma estimated with Tc=489.88 K, Pc=52.36 bar (from Joback method)\"\"\"), molecular_weight=(56.0633,'amu'))), (Species(index=262, label=\"OH\", thermo=NASA(polynomials=[NASAPolynomial(coeffs=[3.48579,0.001334,-4.70054e-06,5.64393e-09,-2.06324e-12,3411.96,1.99789], Tmin=(100,'K'), Tmax=(1005.24,'K')), NASAPolynomial(coeffs=[2.88226,0.00103867,-2.35641e-07,1.40204e-11,6.3479e-16,3669.56,5.59047], Tmin=(1005.24,'K'), Tmax=(5000,'K'))], Tmin=(100,'K'), Tmax=(5000,'K'), comment=\"\"\"Thermo library: BurkeH2O2\"\"\"), molecule=[Molecule(smiles=\"[OH]\")], transport_data=TransportData(shapeIndex=1, epsilon=(665.158,'J/mol'), sigma=(2.75,'angstrom'), dipoleMoment=(0,'De'), polarizability=(0,'angstrom^3'), rotrelaxcollnum=0.0, comment=\"\"\"NOx2018\"\"\"), molecular_weight=(17.0073,'amu')), Species(index=261, label=\"H\", thermo=NASA(polynomials=[NASAPolynomial(coeffs=[2.5,-2.38914e-13,3.12709e-16,-1.33367e-19,1.7499e-23,25472.7,-0.459566], Tmin=(100,'K'), Tmax=(4383.16,'K')), NASAPolynomial(coeffs=[2.50003,-3.04997e-08,1.01101e-11,-1.48797e-15,8.20356e-20,25472.7,-0.459785], Tmin=(4383.16,'K'), Tmax=(5000,'K'))], Tmin=(100,'K'), Tmax=(5000,'K'), comment=\"\"\"Thermo library: BurkeH2O2\"\"\"), molecule=[Molecule(smiles=\"[H]\")], transport_data=TransportData(shapeIndex=0, epsilon=(1205.6,'J/mol'), sigma=(2.05,'angstrom'), dipoleMoment=(0,'De'), polarizability=(0,'angstrom^3'), rotrelaxcollnum=0.0, comment=\"\"\"NOx2018\"\"\"), molecular_weight=(1.00794,'amu'))), (Species(index=262, label=\"OH\", thermo=NASA(polynomials=[NASAPolynomial(coeffs=[3.48579,0.001334,-4.70054e-06,5.64393e-09,-2.06324e-12,3411.96,1.99789], Tmin=(100,'K'), Tmax=(1005.24,'K')), NASAPolynomial(coeffs=[2.88226,0.00103867,-2.35641e-07,1.40204e-11,6.3479e-16,3669.56,5.59047], Tmin=(1005.24,'K'), Tmax=(5000,'K'))], Tmin=(100,'K'), Tmax=(5000,'K'), comment=\"\"\"Thermo library: BurkeH2O2\"\"\"), molecule=[Molecule(smiles=\"[OH]\")], transport_data=TransportData(shapeIndex=1, epsilon=(665.158,'J/mol'), sigma=(2.75,'angstrom'), dipoleMoment=(0,'De'), polarizability=(0,'angstrom^3'), rotrelaxcollnum=0.0, comment=\"\"\"NOx2018\"\"\"), molecular_weight=(17.0073,'amu')), Species(index=261, label=\"H\", thermo=NASA(polynomials=[NASAPolynomial(coeffs=[2.5,-2.38914e-13,3.12709e-16,-1.33367e-19,1.7499e-23,25472.7,-0.459566], Tmin=(100,'K'), Tmax=(4383.16,'K')), NASAPolynomial(coeffs=[2.50003,-3.04997e-08,1.01101e-11,-1.48797e-15,8.20356e-20,25472.7,-0.459785], Tmin=(4383.16,'K'), Tmax=(5000,'K'))], Tmin=(100,'K'), Tmax=(5000,'K'), comment=\"\"\"Thermo library: BurkeH2O2\"\"\"), molecule=[Molecule(smiles=\"[H]\")], transport_data=TransportData(shapeIndex=0, epsilon=(1205.6,'J/mol'), sigma=(2.05,'angstrom'), dipoleMoment=(0,'De'), polarizability=(0,'angstrom^3'), rotrelaxcollnum=0.0, comment=\"\"\"NOx2018\"\"\"), molecular_weight=(1.00794,'amu')))])"
      ]
     },
     "metadata": {},
     "output_type": "display_data"
    },
    {
     "name": "stdout",
     "output_type": "stream",
     "text": [
      "OH(262) + C3H5(350) => H(261) + H(261) + C3H4O(330)\n",
      "PDepArrhenius(pressures=([0.1,1,10],'atm'), arrhenius=[Arrhenius(A=(5.3e+37,'cm^3/(mol*s)'), n=-6.71, Ea=(29.306,'kcal/mol'), T0=(1,'K')), Arrhenius(A=(4.2e+32,'cm^3/(mol*s)'), n=-5.16, Ea=(30.126,'kcal/mol'), T0=(1,'K')), Arrhenius(A=(1.6e+20,'cm^3/(mol*s)'), n=-1.56, Ea=(26.33,'kcal/mol'), T0=(1,'K'))])\n",
      "Kinetic library: CurranPentane\n",
      "Direction: reverse\n",
      "Violation factor: 13\n",
      "Violation condition: 500 K, 1.0 bar\n",
      "\n",
      "\n"
     ]
    },
    {
     "data": {
      "image/png": "[encoded data removed]",
      "text/plain": [
       "LibraryReaction(index=101, reactants=[Species(index=269, label=\"CH2\", thermo=NASA(polynomials=[NASAPolynomial(coeffs=[3.8328,0.000224446,4.68033e-06,-6.04743e-09,2.59009e-12,45920.8,1.40666], Tmin=(200,'K'), Tmax=(1000,'K')), NASAPolynomial(coeffs=[3.16229,0.00281798,-7.56235e-07,5.05446e-11,5.65236e-15,46099.1,4.77656], Tmin=(1000,'K'), Tmax=(3000,'K'))], Tmin=(200,'K'), Tmax=(3000,'K'), comment=\"\"\"Thermo library: Klippenstein_Glarborg2016\"\"\"), molecule=[Molecule(smiles=\"[CH2]\")], transport_data=TransportData(shapeIndex=2, epsilon=(1197.28,'J/mol'), sigma=(3.8,'angstrom'), dipoleMoment=(0,'De'), polarizability=(0,'angstrom^3'), rotrelaxcollnum=0.0, comment=\"\"\"NOx2018\"\"\"), molecular_weight=(14.0266,'amu'))], products=[Species(index=261, label=\"H\", thermo=NASA(polynomials=[NASAPolynomial(coeffs=[2.5,-2.38914e-13,3.12709e-16,-1.33367e-19,1.7499e-23,25472.7,-0.459566], Tmin=(100,'K'), Tmax=(4383.16,'K')), NASAPolynomial(coeffs=[2.50003,-3.04997e-08,1.01101e-11,-1.48797e-15,8.20356e-20,25472.7,-0.459785], Tmin=(4383.16,'K'), Tmax=(5000,'K'))], Tmin=(100,'K'), Tmax=(5000,'K'), comment=\"\"\"Thermo library: BurkeH2O2\"\"\"), molecule=[Molecule(smiles=\"[H]\")], transport_data=TransportData(shapeIndex=0, epsilon=(1205.6,'J/mol'), sigma=(2.05,'angstrom'), dipoleMoment=(0,'De'), polarizability=(0,'angstrom^3'), rotrelaxcollnum=0.0, comment=\"\"\"NOx2018\"\"\"), molecular_weight=(1.00794,'amu')), Species(index=3, label=\"CH\", thermo=NASA(polynomials=[NASAPolynomial(coeffs=[3.47159,0.000404745,-1.89388e-06,3.3321e-09,-1.51271e-12,70701.8,2.14542], Tmin=(200,'K'), Tmax=(1000,'K')), NASAPolynomial(coeffs=[2.66195,0.00170245,-6.83824e-07,1.3098e-10,-9.71843e-15,70958.9,6.52673], Tmin=(1000,'K'), Tmax=(3000,'K'))], Tmin=(200,'K'), Tmax=(3000,'K'), comment=\"\"\"Thermo library: Klippenstein_Glarborg2016\"\"\"), molecule=[Molecule(smiles=\"[CH]\")], transport_data=TransportData(shapeIndex=1, epsilon=(665.158,'J/mol'), sigma=(2.75,'angstrom'), dipoleMoment=(0,'De'), polarizability=(0,'angstrom^3'), rotrelaxcollnum=0.0, comment=\"\"\"NOx2018\"\"\"), molecular_weight=(13.0186,'amu'))], kinetics=ThirdBody(arrheniusLow=Arrhenius(A=(5.6e+15,'cm^3/(mol*s)'), n=0, Ea=(89,'kcal/mol'), T0=(1,'K')), efficiencies={}), pairs=[(Species(index=269, label=\"CH2\", thermo=NASA(polynomials=[NASAPolynomial(coeffs=[3.8328,0.000224446,4.68033e-06,-6.04743e-09,2.59009e-12,45920.8,1.40666], Tmin=(200,'K'), Tmax=(1000,'K')), NASAPolynomial(coeffs=[3.16229,0.00281798,-7.56235e-07,5.05446e-11,5.65236e-15,46099.1,4.77656], Tmin=(1000,'K'), Tmax=(3000,'K'))], Tmin=(200,'K'), Tmax=(3000,'K'), comment=\"\"\"Thermo library: Klippenstein_Glarborg2016\"\"\"), molecule=[Molecule(smiles=\"[CH2]\")], transport_data=TransportData(shapeIndex=2, epsilon=(1197.28,'J/mol'), sigma=(3.8,'angstrom'), dipoleMoment=(0,'De'), polarizability=(0,'angstrom^3'), rotrelaxcollnum=0.0, comment=\"\"\"NOx2018\"\"\"), molecular_weight=(14.0266,'amu')), Species(index=261, label=\"H\", thermo=NASA(polynomials=[NASAPolynomial(coeffs=[2.5,-2.38914e-13,3.12709e-16,-1.33367e-19,1.7499e-23,25472.7,-0.459566], Tmin=(100,'K'), Tmax=(4383.16,'K')), NASAPolynomial(coeffs=[2.50003,-3.04997e-08,1.01101e-11,-1.48797e-15,8.20356e-20,25472.7,-0.459785], Tmin=(4383.16,'K'), Tmax=(5000,'K'))], Tmin=(100,'K'), Tmax=(5000,'K'), comment=\"\"\"Thermo library: BurkeH2O2\"\"\"), molecule=[Molecule(smiles=\"[H]\")], transport_data=TransportData(shapeIndex=0, epsilon=(1205.6,'J/mol'), sigma=(2.05,'angstrom'), dipoleMoment=(0,'De'), polarizability=(0,'angstrom^3'), rotrelaxcollnum=0.0, comment=\"\"\"NOx2018\"\"\"), molecular_weight=(1.00794,'amu'))), (Species(index=269, label=\"CH2\", thermo=NASA(polynomials=[NASAPolynomial(coeffs=[3.8328,0.000224446,4.68033e-06,-6.04743e-09,2.59009e-12,45920.8,1.40666], Tmin=(200,'K'), Tmax=(1000,'K')), NASAPolynomial(coeffs=[3.16229,0.00281798,-7.56235e-07,5.05446e-11,5.65236e-15,46099.1,4.77656], Tmin=(1000,'K'), Tmax=(3000,'K'))], Tmin=(200,'K'), Tmax=(3000,'K'), comment=\"\"\"Thermo library: Klippenstein_Glarborg2016\"\"\"), molecule=[Molecule(smiles=\"[CH2]\")], transport_data=TransportData(shapeIndex=2, epsilon=(1197.28,'J/mol'), sigma=(3.8,'angstrom'), dipoleMoment=(0,'De'), polarizability=(0,'angstrom^3'), rotrelaxcollnum=0.0, comment=\"\"\"NOx2018\"\"\"), molecular_weight=(14.0266,'amu')), Species(index=3, label=\"CH\", thermo=NASA(polynomials=[NASAPolynomial(coeffs=[3.47159,0.000404745,-1.89388e-06,3.3321e-09,-1.51271e-12,70701.8,2.14542], Tmin=(200,'K'), Tmax=(1000,'K')), NASAPolynomial(coeffs=[2.66195,0.00170245,-6.83824e-07,1.3098e-10,-9.71843e-15,70958.9,6.52673], Tmin=(1000,'K'), Tmax=(3000,'K'))], Tmin=(200,'K'), Tmax=(3000,'K'), comment=\"\"\"Thermo library: Klippenstein_Glarborg2016\"\"\"), molecule=[Molecule(smiles=\"[CH]\")], transport_data=TransportData(shapeIndex=1, epsilon=(665.158,'J/mol'), sigma=(2.75,'angstrom'), dipoleMoment=(0,'De'), polarizability=(0,'angstrom^3'), rotrelaxcollnum=0.0, comment=\"\"\"NOx2018\"\"\"), molecular_weight=(13.0186,'amu')))])"
      ]
     },
     "metadata": {},
     "output_type": "display_data"
    },
    {
     "name": "stdout",
     "output_type": "stream",
     "text": [
      "CH2(269) <=> H(261) + CH(3)\n",
      "ThirdBody(arrheniusLow=Arrhenius(A=(5.6e+15,'cm^3/(mol*s)'), n=0, Ea=(89,'kcal/mol'), T0=(1,'K')), efficiencies={})\n",
      "Kinetic library: Klippenstein_Glarborg2016\n",
      "Direction: reverse\n",
      "Violation factor: 11\n",
      "Violation condition: 500 K, 1.0 bar\n",
      "\n",
      "\n"
     ]
    },
    {
     "data": {
      "image/png": "[encoded data removed]",
      "text/plain": [
       "LibraryReaction(index=482, reactants=[Species(index=300, label=\"C2O\", thermo=NASA(polynomials=[NASAPolynomial(coeffs=[2.86278,0.0119701,-1.80851e-05,1.52778e-08,-5.20063e-12,44312.6,8.89759], Tmin=(200,'K'), Tmax=(1000,'K')), NASAPolynomial(coeffs=[5.42468,0.00185394,-5.17933e-07,6.77646e-11,-3.53315e-15,43716.1,-3.69608], Tmin=(1000,'K'), Tmax=(6000,'K'))], Tmin=(200,'K'), Tmax=(6000,'K'), comment=\"\"\"Thermo library: Klippenstein_Glarborg2016\"\"\"), molecule=[Molecule(smiles=\"[C]#C[O]\"), Molecule(smiles=\"[C]=C=O\")], transport_data=TransportData(shapeIndex=1, epsilon=(1932.28,'J/mol'), sigma=(3.828,'angstrom'), dipoleMoment=(0,'De'), polarizability=(0,'angstrom^3'), rotrelaxcollnum=1.0, comment=\"\"\"NOx2018\"\"\"), molecular_weight=(40.0208,'amu'))], products=[Species(index=279, label=\"C\", thermo=NASA(polynomials=[NASAPolynomial(coeffs=[2.49975,5.02139e-07,1.93093e-09,-4.94633e-12,2.74089e-15,85485.8,3.66241], Tmin=(200,'K'), Tmax=(1000,'K')), NASAPolynomial(coeffs=[2.49891,2.41252e-06,-1.88942e-09,6.24309e-13,-7.45464e-17,85486.2,3.6671], Tmin=(1000,'K'), Tmax=(3000,'K'))], Tmin=(200,'K'), Tmax=(3000,'K'), comment=\"\"\"Thermo library: Klippenstein_Glarborg2016\"\"\"), molecule=[Molecule(smiles=\"[C]\")], transport_data=TransportData(shapeIndex=0, epsilon=(810.91,'J/mol'), sigma=(3.621,'angstrom'), dipoleMoment=(0,'De'), polarizability=(1.76,'angstrom^3'), rotrelaxcollnum=4.0, comment=\"\"\"NOx2018\"\"\"), molecular_weight=(12.0107,'amu')), Species(index=6, label=\"CO\", thermo=NASA(polynomials=[NASAPolynomial(coeffs=[3.5971,-0.00102425,2.83339e-06,-1.75827e-09,3.42593e-13,-14343.2,3.45822], Tmin=(100,'K'), Tmax=(1669.91,'K')), NASAPolynomial(coeffs=[2.92791,0.00181937,-8.35341e-07,1.51276e-10,-9.88924e-15,-14292.7,6.51185], Tmin=(1669.91,'K'), Tmax=(5000,'K'))], Tmin=(100,'K'), Tmax=(5000,'K'), comment=\"\"\"Thermo library: BurkeH2O2\"\"\"), molecule=[Molecule(smiles=\"[C-]#[O+]\")], transport_data=TransportData(shapeIndex=1, epsilon=(762.437,'J/mol'), sigma=(3.69,'angstrom'), dipoleMoment=(0,'De'), polarizability=(1.76,'angstrom^3'), rotrelaxcollnum=4.0, comment=\"\"\"PrimaryTransportLibrary\"\"\"), molecular_weight=(28.0101,'amu'))], kinetics=ThirdBody(arrheniusLow=Arrhenius(A=(2e+15,'cm^3/(mol*s)'), n=0, Ea=(44.2,'kcal/mol'), T0=(1,'K')), efficiencies={}), pairs=[(Species(index=300, label=\"C2O\", thermo=NASA(polynomials=[NASAPolynomial(coeffs=[2.86278,0.0119701,-1.80851e-05,1.52778e-08,-5.20063e-12,44312.6,8.89759], Tmin=(200,'K'), Tmax=(1000,'K')), NASAPolynomial(coeffs=[5.42468,0.00185394,-5.17933e-07,6.77646e-11,-3.53315e-15,43716.1,-3.69608], Tmin=(1000,'K'), Tmax=(6000,'K'))], Tmin=(200,'K'), Tmax=(6000,'K'), comment=\"\"\"Thermo library: Klippenstein_Glarborg2016\"\"\"), molecule=[Molecule(smiles=\"[C]#C[O]\"), Molecule(smiles=\"[C]=C=O\")], transport_data=TransportData(shapeIndex=1, epsilon=(1932.28,'J/mol'), sigma=(3.828,'angstrom'), dipoleMoment=(0,'De'), polarizability=(0,'angstrom^3'), rotrelaxcollnum=1.0, comment=\"\"\"NOx2018\"\"\"), molecular_weight=(40.0208,'amu')), Species(index=279, label=\"C\", thermo=NASA(polynomials=[NASAPolynomial(coeffs=[2.49975,5.02139e-07,1.93093e-09,-4.94633e-12,2.74089e-15,85485.8,3.66241], Tmin=(200,'K'), Tmax=(1000,'K')), NASAPolynomial(coeffs=[2.49891,2.41252e-06,-1.88942e-09,6.24309e-13,-7.45464e-17,85486.2,3.6671], Tmin=(1000,'K'), Tmax=(3000,'K'))], Tmin=(200,'K'), Tmax=(3000,'K'), comment=\"\"\"Thermo library: Klippenstein_Glarborg2016\"\"\"), molecule=[Molecule(smiles=\"[C]\")], transport_data=TransportData(shapeIndex=0, epsilon=(810.91,'J/mol'), sigma=(3.621,'angstrom'), dipoleMoment=(0,'De'), polarizability=(1.76,'angstrom^3'), rotrelaxcollnum=4.0, comment=\"\"\"NOx2018\"\"\"), molecular_weight=(12.0107,'amu'))), (Species(index=300, label=\"C2O\", thermo=NASA(polynomials=[NASAPolynomial(coeffs=[2.86278,0.0119701,-1.80851e-05,1.52778e-08,-5.20063e-12,44312.6,8.89759], Tmin=(200,'K'), Tmax=(1000,'K')), NASAPolynomial(coeffs=[5.42468,0.00185394,-5.17933e-07,6.77646e-11,-3.53315e-15,43716.1,-3.69608], Tmin=(1000,'K'), Tmax=(6000,'K'))], Tmin=(200,'K'), Tmax=(6000,'K'), comment=\"\"\"Thermo library: Klippenstein_Glarborg2016\"\"\"), molecule=[Molecule(smiles=\"[C]#C[O]\"), Molecule(smiles=\"[C]=C=O\")], transport_data=TransportData(shapeIndex=1, epsilon=(1932.28,'J/mol'), sigma=(3.828,'angstrom'), dipoleMoment=(0,'De'), polarizability=(0,'angstrom^3'), rotrelaxcollnum=1.0, comment=\"\"\"NOx2018\"\"\"), molecular_weight=(40.0208,'amu')), Species(index=6, label=\"CO\", thermo=NASA(polynomials=[NASAPolynomial(coeffs=[3.5971,-0.00102425,2.83339e-06,-1.75827e-09,3.42593e-13,-14343.2,3.45822], Tmin=(100,'K'), Tmax=(1669.91,'K')), NASAPolynomial(coeffs=[2.92791,0.00181937,-8.35341e-07,1.51276e-10,-9.88924e-15,-14292.7,6.51185], Tmin=(1669.91,'K'), Tmax=(5000,'K'))], Tmin=(100,'K'), Tmax=(5000,'K'), comment=\"\"\"Thermo library: BurkeH2O2\"\"\"), molecule=[Molecule(smiles=\"[C-]#[O+]\")], transport_data=TransportData(shapeIndex=1, epsilon=(762.437,'J/mol'), sigma=(3.69,'angstrom'), dipoleMoment=(0,'De'), polarizability=(1.76,'angstrom^3'), rotrelaxcollnum=4.0, comment=\"\"\"PrimaryTransportLibrary\"\"\"), molecular_weight=(28.0101,'amu')))])"
      ]
     },
     "metadata": {},
     "output_type": "display_data"
    },
    {
     "name": "stdout",
     "output_type": "stream",
     "text": [
      "C2O(300) <=> C(279) + CO(6)\n",
      "ThirdBody(arrheniusLow=Arrhenius(A=(2e+15,'cm^3/(mol*s)'), n=0, Ea=(44.2,'kcal/mol'), T0=(1,'K')), efficiencies={})\n",
      "Kinetic library: Klippenstein_Glarborg2016\n",
      "Direction: reverse\n",
      "Violation factor: 7.8\n",
      "Violation condition: 500 K, 30.0 bar\n",
      "\n",
      "\n"
     ]
    },
    {
     "data": {
      "image/png": "[encoded data removed]",
      "text/plain": [
       "LibraryReaction(index=279, reactants=[Species(index=280, label=\"C2H2\", thermo=NASA(polynomials=[NASAPolynomial(coeffs=[0.80868,0.0233616,-3.55172e-05,2.80153e-08,-8.50075e-12,26429,13.9397], Tmin=(200,'K'), Tmax=(1000,'K')), NASAPolynomial(coeffs=[4.65878,0.00488397,-1.60829e-06,2.46975e-10,-1.38606e-14,25759.4,-3.99838], Tmin=(1000,'K'), Tmax=(6000,'K'))], Tmin=(200,'K'), Tmax=(6000,'K'), comment=\"\"\"Thermo library: Klippenstein_Glarborg2016\"\"\"), molecule=[Molecule(smiles=\"C#C\")], transport_data=TransportData(shapeIndex=1, epsilon=(1737.72,'J/mol'), sigma=(4.1,'angstrom'), dipoleMoment=(0,'De'), polarizability=(0,'angstrom^3'), rotrelaxcollnum=2.5, comment=\"\"\"NOx2018\"\"\"), molecular_weight=(26.0373,'amu'))], products=[Species(index=261, label=\"H\", thermo=NASA(polynomials=[NASAPolynomial(coeffs=[2.5,-2.38914e-13,3.12709e-16,-1.33367e-19,1.7499e-23,25472.7,-0.459566], Tmin=(100,'K'), Tmax=(4383.16,'K')), NASAPolynomial(coeffs=[2.50003,-3.04997e-08,1.01101e-11,-1.48797e-15,8.20356e-20,25472.7,-0.459785], Tmin=(4383.16,'K'), Tmax=(5000,'K'))], Tmin=(100,'K'), Tmax=(5000,'K'), comment=\"\"\"Thermo library: BurkeH2O2\"\"\"), molecule=[Molecule(smiles=\"[H]\")], transport_data=TransportData(shapeIndex=0, epsilon=(1205.6,'J/mol'), sigma=(2.05,'angstrom'), dipoleMoment=(0,'De'), polarizability=(0,'angstrom^3'), rotrelaxcollnum=0.0, comment=\"\"\"NOx2018\"\"\"), molecular_weight=(1.00794,'amu')), Species(index=4, label=\"C2H\", thermo=NASA(polynomials=[NASAPolynomial(coeffs=[2.89868,0.0132988,-2.80733e-05,2.89485e-08,-1.07502e-11,67061.6,6.18548], Tmin=(200,'K'), Tmax=(1000,'K')), NASAPolynomial(coeffs=[3.6627,0.00382492,-1.36633e-06,2.13455e-10,-1.23217e-14,67168.4,3.92206], Tmin=(1000,'K'), Tmax=(6000,'K'))], Tmin=(200,'K'), Tmax=(6000,'K'), comment=\"\"\"Thermo library: Klippenstein_Glarborg2016\"\"\"), molecule=[Molecule(smiles=\"[C]#C\")], transport_data=TransportData(shapeIndex=1, epsilon=(1737.72,'J/mol'), sigma=(4.1,'angstrom'), dipoleMoment=(0,'De'), polarizability=(0,'angstrom^3'), rotrelaxcollnum=2.5, comment=\"\"\"NOx2018\"\"\"), molecular_weight=(25.0293,'amu'))], kinetics=ThirdBody(arrheniusLow=Arrhenius(A=(9.1e+30,'cm^3/(mol*s)'), n=-3.7, Ea=(127.138,'kcal/mol'), T0=(1,'K')), efficiencies={Molecule(smiles=\"[C-]#[O+]\"): 2.0, Molecule(smiles=\"[H][H]\"): 2.0, Molecule(smiles=\"O=C=O\"): 3.0, Molecule(smiles=\"O\"): 5.0}), pairs=[(Species(index=280, label=\"C2H2\", thermo=NASA(polynomials=[NASAPolynomial(coeffs=[0.80868,0.0233616,-3.55172e-05,2.80153e-08,-8.50075e-12,26429,13.9397], Tmin=(200,'K'), Tmax=(1000,'K')), NASAPolynomial(coeffs=[4.65878,0.00488397,-1.60829e-06,2.46975e-10,-1.38606e-14,25759.4,-3.99838], Tmin=(1000,'K'), Tmax=(6000,'K'))], Tmin=(200,'K'), Tmax=(6000,'K'), comment=\"\"\"Thermo library: Klippenstein_Glarborg2016\"\"\"), molecule=[Molecule(smiles=\"C#C\")], transport_data=TransportData(shapeIndex=1, epsilon=(1737.72,'J/mol'), sigma=(4.1,'angstrom'), dipoleMoment=(0,'De'), polarizability=(0,'angstrom^3'), rotrelaxcollnum=2.5, comment=\"\"\"NOx2018\"\"\"), molecular_weight=(26.0373,'amu')), Species(index=261, label=\"H\", thermo=NASA(polynomials=[NASAPolynomial(coeffs=[2.5,-2.38914e-13,3.12709e-16,-1.33367e-19,1.7499e-23,25472.7,-0.459566], Tmin=(100,'K'), Tmax=(4383.16,'K')), NASAPolynomial(coeffs=[2.50003,-3.04997e-08,1.01101e-11,-1.48797e-15,8.20356e-20,25472.7,-0.459785], Tmin=(4383.16,'K'), Tmax=(5000,'K'))], Tmin=(100,'K'), Tmax=(5000,'K'), comment=\"\"\"Thermo library: BurkeH2O2\"\"\"), molecule=[Molecule(smiles=\"[H]\")], transport_data=TransportData(shapeIndex=0, epsilon=(1205.6,'J/mol'), sigma=(2.05,'angstrom'), dipoleMoment=(0,'De'), polarizability=(0,'angstrom^3'), rotrelaxcollnum=0.0, comment=\"\"\"NOx2018\"\"\"), molecular_weight=(1.00794,'amu'))), (Species(index=280, label=\"C2H2\", thermo=NASA(polynomials=[NASAPolynomial(coeffs=[0.80868,0.0233616,-3.55172e-05,2.80153e-08,-8.50075e-12,26429,13.9397], Tmin=(200,'K'), Tmax=(1000,'K')), NASAPolynomial(coeffs=[4.65878,0.00488397,-1.60829e-06,2.46975e-10,-1.38606e-14,25759.4,-3.99838], Tmin=(1000,'K'), Tmax=(6000,'K'))], Tmin=(200,'K'), Tmax=(6000,'K'), comment=\"\"\"Thermo library: Klippenstein_Glarborg2016\"\"\"), molecule=[Molecule(smiles=\"C#C\")], transport_data=TransportData(shapeIndex=1, epsilon=(1737.72,'J/mol'), sigma=(4.1,'angstrom'), dipoleMoment=(0,'De'), polarizability=(0,'angstrom^3'), rotrelaxcollnum=2.5, comment=\"\"\"NOx2018\"\"\"), molecular_weight=(26.0373,'amu')), Species(index=4, label=\"C2H\", thermo=NASA(polynomials=[NASAPolynomial(coeffs=[2.89868,0.0132988,-2.80733e-05,2.89485e-08,-1.07502e-11,67061.6,6.18548], Tmin=(200,'K'), Tmax=(1000,'K')), NASAPolynomial(coeffs=[3.6627,0.00382492,-1.36633e-06,2.13455e-10,-1.23217e-14,67168.4,3.92206], Tmin=(1000,'K'), Tmax=(6000,'K'))], Tmin=(200,'K'), Tmax=(6000,'K'), comment=\"\"\"Thermo library: Klippenstein_Glarborg2016\"\"\"), molecule=[Molecule(smiles=\"[C]#C\")], transport_data=TransportData(shapeIndex=1, epsilon=(1737.72,'J/mol'), sigma=(4.1,'angstrom'), dipoleMoment=(0,'De'), polarizability=(0,'angstrom^3'), rotrelaxcollnum=2.5, comment=\"\"\"NOx2018\"\"\"), molecular_weight=(25.0293,'amu')))])"
      ]
     },
     "metadata": {},
     "output_type": "display_data"
    },
    {
     "name": "stdout",
     "output_type": "stream",
     "text": [
      "C2H2(280) <=> H(261) + C2H(4)\n",
      "ThirdBody(arrheniusLow=Arrhenius(A=(9.1e+30,'cm^3/(mol*s)'), n=-3.7, Ea=(127.138,'kcal/mol'), T0=(1,'K')), efficiencies={Molecule(smiles=\"[C-]#[O+]\"): 2.0, Molecule(smiles=\"[H][H]\"): 2.0, Molecule(smiles=\"O=C=O\"): 3.0, Molecule(smiles=\"O\"): 5.0})\n",
      "Kinetic library: Klippenstein_Glarborg2016\n",
      "Direction: reverse\n",
      "Violation factor: 7\n",
      "Violation condition: 1000 K, 30.0 bar\n",
      "\n",
      "\n"
     ]
    }
   ],
   "source": [
    "families = Counter()\n",
    "templates = Counter()\n",
    "rate_rules = Counter()\n",
    "problem_species = Counter()\n",
    "for violator in violators:\n",
    "    rxn_string = str(violator[0])\n",
    "    kinetics = violator[0].kinetics\n",
    "    comment = ''\n",
    "    if isinstance(violator[0], TemplateReaction):\n",
    "        comment = violator[0].kinetics.comment\n",
    "        violator[0].kinetics.comment = ''  # the comment is printed better when outside of the object\n",
    "    if isinstance(violator[0], LibraryReaction):\n",
    "        comment = 'Kinetic library: {0}'.format(violator[0].library)\n",
    "    if isinstance(violator[0], PDepReaction):\n",
    "        comment = 'Network #{0}'.format(violator[0].network)\n",
    "    direction = violator[1]\n",
    "    ratio = violator[2]\n",
    "    condition = violator[3]\n",
    "    \n",
    "    problem_species.update(violator[0].reactants)\n",
    "    problem_species.update(violator[0].products)\n",
    "    \n",
    "    m = re.search('family: (.*)', comment)\n",
    "    if m:\n",
    "        families[m.group(1)] += 1\n",
    "    n = re.search('rate rule (.*)', comment)\n",
    "    if n:\n",
    "        rate_rules[m.group(1) + n.group(1)] += 1\n",
    "    n = re.search('using template (\\S+)', comment)\n",
    "    if n:\n",
    "        templates[m.group(1) + n.group(1)] += 1\n",
    "    \n",
    "    if ratio < 5:\n",
    "        continue # only print the big ones!\n",
    "    \n",
    "    display(violator[0])\n",
    "    print('{0}\\n{1}\\n{2}\\nDirection: {3}\\nViolation factor: {4:.2g}\\n'\n",
    "                      'Violation condition: {5}\\n\\n'.format(rxn_string, kinetics, comment, direction,\n",
    "                                                            ratio, condition))\n",
    "    if isinstance(violator[0], TemplateReaction):\n",
    "        # although this is the end of the run, restore the original comment\n",
    "        violator[0].kinetics.comment = comment"
   ]
  },
  {
   "cell_type": "code",
   "execution_count": 17,
   "metadata": {},
   "outputs": [
    {
     "data": {
      "text/plain": [
       "[('Disproportionation', 69)]"
      ]
     },
     "execution_count": 17,
     "metadata": {},
     "output_type": "execute_result"
    }
   ],
   "source": [
    "families.most_common(10)"
   ]
  },
  {
   "cell_type": "code",
   "execution_count": 18,
   "metadata": {},
   "outputs": [
    {
     "data": {
      "text/plain": [
       "[('Disproportionation[CO_rad;XH_s_Rrad]', 68),\n",
       " ('Disproportionation[CO_pri_rad;XH_s_Rrad]', 1)]"
      ]
     },
     "execution_count": 18,
     "metadata": {},
     "output_type": "execute_result"
    }
   ],
   "source": [
    "# This is what was used\n",
    "templates.most_common(10)"
   ]
  },
  {
   "cell_type": "code",
   "execution_count": 19,
   "metadata": {},
   "outputs": [
    {
     "data": {
      "text/plain": [
       "[('Disproportionation[CO_rad/NonDe;Cmethyl_Csrad]', 38),\n",
       " ('Disproportionation[CO_rad/OneDe;Cmethyl_Csrad]', 18),\n",
       " ('Disproportionation[CO_rad/NonDe;Cmethyl_COrad]', 4),\n",
       " ('Disproportionation[CO_rad/NonDe;Cmethyl_Orad]', 4),\n",
       " ('Disproportionation[CO_rad/OneDe;Cmethyl_COrad]', 2),\n",
       " ('Disproportionation[CO_rad/OneDe;Cmethyl_Orad]', 2),\n",
       " ('Disproportionation[CO_pri_rad;Cmethyl_COrad]', 1)]"
      ]
     },
     "execution_count": 19,
     "metadata": {},
     "output_type": "execute_result"
    }
   ],
   "source": [
    "# This is what it was trying to use\n",
    "rate_rules.most_common(10)"
   ]
  },
  {
   "cell_type": "code",
   "execution_count": 20,
   "metadata": {
    "scrolled": true
   },
   "outputs": [
    {
     "name": "stdout",
     "output_type": "stream",
     "text": [
      "CH3CO(304)   37  Thermo library: Klippenstein_Glarborg201\n",
      "HOCO(266)    24  Thermo library: Klippenstein_Glarborg201\n",
      "HOCHO(306)   24  Thermo library: Klippenstein_Glarborg201\n",
      "C2H4O(284)   23  Thermo library: Klippenstein_Glarborg201\n",
      "C3H4O(330)   22  Thermo library: CurranPentane\n",
      "OCHCO(308)   22  Thermo library: Klippenstein_Glarborg201\n",
      "S(295)       22  Thermo library: Klippenstein_Glarborg201\n",
      "C3H3O(331)   20  Thermo library: CurranPentane\n",
      "C3H5O(333)   20  Thermo library: CurranPentane\n",
      "C3H6O(332)   20  Thermo library: CurranPentane\n",
      "S(3841)      19  Thermo group additivity estimation: grou\n",
      "S(1975)      19  Thermo group additivity estimation: grou\n",
      "CH2O(9)      16  Thermo library: Klippenstein_Glarborg201\n",
      "CH2CO(276)   16  Thermo library: Klippenstein_Glarborg201\n",
      "H(261)       15  Thermo library: BurkeH2O2\n",
      "IC3H7(349)   12  Thermo library: CurranPentane\n",
      "C3H6(12)     12  Thermo library: CurranPentane\n",
      "CH3O(273)    12  Thermo library: Klippenstein_Glarborg201\n",
      "C2H5(277)    12  Thermo library: Klippenstein_Glarborg201\n",
      "C2H4(11)     12  Thermo library: Klippenstein_Glarborg201\n"
     ]
    }
   ],
   "source": [
    "# Most common species\n",
    "for s,n in problem_species.most_common(20):\n",
    "    print(f\"{str(s):10s}  {n:3d}  {s.thermo.comment[:40]}\")"
   ]
  },
  {
   "cell_type": "code",
   "execution_count": 21,
   "metadata": {
    "scrolled": true
   },
   "outputs": [
    {
     "data": {
      "image/png": "[encoded data removed]",
      "text/plain": [
       "Species(index=304, label=\"CH3CO\", thermo=NASA(polynomials=[NASAPolynomial(coeffs=[4.03587,0.000877295,3.071e-05,-3.92476e-08,1.52969e-11,-2682.07,7.86177], Tmin=(200,'K'), Tmax=(1000,'K')), NASAPolynomial(coeffs=[5.31372,0.00917378,-3.32204e-06,5.39475e-10,-3.24524e-14,-3645.04,-1.67576], Tmin=(1000,'K'), Tmax=(6000,'K'))], Tmin=(200,'K'), Tmax=(6000,'K'), comment=\"\"\"Thermo library: Klippenstein_Glarborg2016\"\"\"), molecule=[Molecule(smiles=\"C[C]=O\")], transport_data=TransportData(shapeIndex=2, epsilon=(3625.11,'J/mol'), sigma=(3.97,'angstrom'), dipoleMoment=(0,'De'), polarizability=(0,'angstrom^3'), rotrelaxcollnum=2.0, comment=\"\"\"NOx2018\"\"\"), molecular_weight=(43.0446,'amu'))"
      ]
     },
     "metadata": {},
     "output_type": "display_data"
    },
    {
     "name": "stdout",
     "output_type": "stream",
     "text": [
      "CH3CO(304)\n",
      "multiplicity 2\n",
      "1 O u0 p2 c0 {3,D}\n",
      "2 C u0 p0 c0 {3,S} {4,S} {5,S} {6,S}\n",
      "3 C u1 p0 c0 {1,D} {2,S}\n",
      "4 H u0 p0 c0 {2,S}\n",
      "5 H u0 p0 c0 {2,S}\n",
      "6 H u0 p0 c0 {2,S}\n",
      "\n",
      "Thermo library: Klippenstein_Glarborg2016\n",
      "--------------------------------------------------------------------------------\n"
     ]
    },
    {
     "data": {
      "image/png": "[encoded data removed]",
      "text/plain": [
       "Species(index=266, label=\"HOCO\", thermo=NASA(polynomials=[NASAPolynomial(coeffs=[2.82191,0.00966218,-2.7856e-06,-4.12692e-09,2.61472e-12,-23546.5,11.4285], Tmin=(200,'K'), Tmax=(998.4,'K')), NASAPolynomial(coeffs=[4.63989,0.00566363,-2.67855e-06,6.17049e-10,-5.60954e-14,-24052.7,1.90175], Tmin=(998.4,'K'), Tmax=(3000,'K'))], Tmin=(200,'K'), Tmax=(3000,'K'), comment=\"\"\"Thermo library: Klippenstein_Glarborg2016\"\"\"), molecule=[Molecule(smiles=\"O=[C]O\")], transport_data=TransportData(shapeIndex=2, epsilon=(4140.61,'J/mol'), sigma=(3.59,'angstrom'), dipoleMoment=(0,'De'), polarizability=(0,'angstrom^3'), rotrelaxcollnum=2.0, comment=\"\"\"NOx2018\"\"\"), molecular_weight=(45.0174,'amu'))"
      ]
     },
     "metadata": {},
     "output_type": "display_data"
    },
    {
     "name": "stdout",
     "output_type": "stream",
     "text": [
      "HOCO(266)\n",
      "multiplicity 2\n",
      "1 O u0 p2 c0 {3,S} {4,S}\n",
      "2 O u0 p2 c0 {3,D}\n",
      "3 C u1 p0 c0 {1,S} {2,D}\n",
      "4 H u0 p0 c0 {1,S}\n",
      "\n",
      "Thermo library: Klippenstein_Glarborg2016\n",
      "--------------------------------------------------------------------------------\n"
     ]
    },
    {
     "data": {
      "image/png": "[encoded data removed]",
      "text/plain": [
       "Species(index=306, label=\"HOCHO\", thermo=NASA(polynomials=[NASAPolynomial(coeffs=[3.89836,-0.00355878,3.55205e-05,-4.385e-08,1.71078e-11,-46778.6,7.34954], Tmin=(200,'K'), Tmax=(1000,'K')), NASAPolynomial(coeffs=[4.61383,0.00644964,-2.29083e-06,3.6716e-10,-2.18737e-14,-45330.3,0.847884], Tmin=(1000,'K'), Tmax=(6000,'K'))], Tmin=(200,'K'), Tmax=(6000,'K'), comment=\"\"\"Thermo library: Klippenstein_Glarborg2016\"\"\"), molecule=[Molecule(smiles=\"O=CO\")], transport_data=TransportData(shapeIndex=2, epsilon=(4005.91,'J/mol'), sigma=(3.626,'angstrom'), dipoleMoment=(1.7,'De'), polarizability=(0,'angstrom^3'), rotrelaxcollnum=1.0, comment=\"\"\"NOx2018\"\"\"), molecular_weight=(46.0254,'amu'))"
      ]
     },
     "metadata": {},
     "output_type": "display_data"
    },
    {
     "name": "stdout",
     "output_type": "stream",
     "text": [
      "HOCHO(306)\n",
      "1 O u0 p2 c0 {3,S} {5,S}\n",
      "2 O u0 p2 c0 {3,D}\n",
      "3 C u0 p0 c0 {1,S} {2,D} {4,S}\n",
      "4 H u0 p0 c0 {3,S}\n",
      "5 H u0 p0 c0 {1,S}\n",
      "\n",
      "Thermo library: Klippenstein_Glarborg2016\n",
      "--------------------------------------------------------------------------------\n"
     ]
    },
    {
     "data": {
      "image/png": "[encoded data removed]",
      "text/plain": [
       "Species(index=284, label=\"C2H4O\", thermo=NASA(polynomials=[NASAPolynomial(coeffs=[4.72946,-0.00319329,4.75349e-05,-5.74586e-08,2.19311e-11,-21572.9,4.10302], Tmin=(200,'K'), Tmax=(1000,'K')), NASAPolynomial(coeffs=[5.40411,0.0117231,-4.22631e-06,6.83725e-10,-4.09849e-14,-22593.1,-3.48079], Tmin=(1000,'K'), Tmax=(6000,'K'))], Tmin=(200,'K'), Tmax=(6000,'K'), comment=\"\"\"Thermo library: Klippenstein_Glarborg2016\"\"\"), molecule=[Molecule(smiles=\"CC=O\")], transport_data=TransportData(shapeIndex=2, epsilon=(3625.11,'J/mol'), sigma=(3.97,'angstrom'), dipoleMoment=(0,'De'), polarizability=(0,'angstrom^3'), rotrelaxcollnum=2.0, comment=\"\"\"NOx2018\"\"\"), molecular_weight=(44.0526,'amu'))"
      ]
     },
     "metadata": {},
     "output_type": "display_data"
    },
    {
     "name": "stdout",
     "output_type": "stream",
     "text": [
      "C2H4O(284)\n",
      "1 O u0 p2 c0 {3,D}\n",
      "2 C u0 p0 c0 {3,S} {4,S} {5,S} {6,S}\n",
      "3 C u0 p0 c0 {1,D} {2,S} {7,S}\n",
      "4 H u0 p0 c0 {2,S}\n",
      "5 H u0 p0 c0 {2,S}\n",
      "6 H u0 p0 c0 {2,S}\n",
      "7 H u0 p0 c0 {3,S}\n",
      "\n",
      "Thermo library: Klippenstein_Glarborg2016\n",
      "--------------------------------------------------------------------------------\n"
     ]
    },
    {
     "data": {
      "image/png": "[encoded data removed]",
      "text/plain": [
       "Species(index=330, label=\"C3H4O\", thermo=NASA(polynomials=[NASAPolynomial(coeffs=[0.733844,0.0317483,-2.29599e-05,8.42104e-09,-1.23613e-12,-9384.74,21.0309], Tmin=(200,'K'), Tmax=(1398,'K')), NASAPolynomial(coeffs=[9.99155,0.00982348,-3.31203e-06,5.09524e-10,-2.93822e-14,-12530.4,-28.5169], Tmin=(1398,'K'), Tmax=(5000,'K'))], Tmin=(200,'K'), Tmax=(5000,'K'), comment=\"\"\"Thermo library: CurranPentane\"\"\"), molecule=[Molecule(smiles=\"C=CC=O\")], transport_data=TransportData(shapeIndex=2, epsilon=(3136.31,'J/mol'), sigma=(5.142,'angstrom'), dipoleMoment=(0,'De'), polarizability=(0,'angstrom^3'), rotrelaxcollnum=0.0, comment=\"\"\"Epsilon & sigma estimated with Tc=489.88 K, Pc=52.36 bar (from Joback method)\"\"\"), molecular_weight=(56.0633,'amu'))"
      ]
     },
     "metadata": {},
     "output_type": "display_data"
    },
    {
     "name": "stdout",
     "output_type": "stream",
     "text": [
      "C3H4O(330)\n",
      "1 O u0 p2 c0 {4,D}\n",
      "2 C u0 p0 c0 {3,D} {4,S} {5,S}\n",
      "3 C u0 p0 c0 {2,D} {6,S} {7,S}\n",
      "4 C u0 p0 c0 {1,D} {2,S} {8,S}\n",
      "5 H u0 p0 c0 {2,S}\n",
      "6 H u0 p0 c0 {3,S}\n",
      "7 H u0 p0 c0 {3,S}\n",
      "8 H u0 p0 c0 {4,S}\n",
      "\n",
      "Thermo library: CurranPentane\n",
      "--------------------------------------------------------------------------------\n"
     ]
    },
    {
     "data": {
      "image/png": "[encoded data removed]",
      "text/plain": [
       "Species(index=308, label=\"OCHCO\", thermo=NASA(polynomials=[NASAPolynomial(coeffs=[3.39406,0.0143629,-8.84138e-06,1.60961e-09,3.20389e-13,-8684.14,10.592], Tmin=(298,'K'), Tmax=(1000,'K')), NASAPolynomial(coeffs=[4.94994,0.010163,-5.5772e-06,1.4572e-09,-1.47435e-13,-9096.51,2.57988], Tmin=(1000,'K'), Tmax=(2900,'K'))], Tmin=(298,'K'), Tmax=(2900,'K'), comment=\"\"\"Thermo library: Klippenstein_Glarborg2016\"\"\"), molecule=[Molecule(smiles=\"[O]C=C=O\"), Molecule(smiles=\"O=[C]C=O\")], transport_data=TransportData(shapeIndex=2, epsilon=(3660.03,'J/mol'), sigma=(4.01,'angstrom'), dipoleMoment=(0,'De'), polarizability=(0,'angstrom^3'), rotrelaxcollnum=2.0, comment=\"\"\"NOx2018\"\"\"), molecular_weight=(57.0281,'amu'))"
      ]
     },
     "metadata": {},
     "output_type": "display_data"
    },
    {
     "name": "stdout",
     "output_type": "stream",
     "text": [
      "OCHCO(308)\n",
      "multiplicity 2\n",
      "1 O u1 p2 c0 {3,S}\n",
      "2 O u0 p2 c0 {4,D}\n",
      "3 C u0 p0 c0 {1,S} {4,D} {5,S}\n",
      "4 C u0 p0 c0 {2,D} {3,D}\n",
      "5 H u0 p0 c0 {3,S}\n",
      "\n",
      "Thermo library: Klippenstein_Glarborg2016\n",
      "--------------------------------------------------------------------------------\n"
     ]
    },
    {
     "data": {
      "image/png": "[encoded data removed]",
      "text/plain": [
       "Species(index=295, label=\"S\", thermo=NASA(polynomials=[NASAPolynomial(coeffs=[4.68412,0.000478013,4.26391e-05,-5.79018e-08,2.31669e-11,-27198.5,4.51187], Tmin=(200,'K'), Tmax=(1000,'K')), NASAPolynomial(coeffs=[8.72507,0.00633097,-2.35575e-06,3.89783e-10,-2.37487e-14,-29102.4,-20.3904], Tmin=(1000,'K'), Tmax=(6000,'K'))], Tmin=(200,'K'), Tmax=(6000,'K'), comment=\"\"\"Thermo library: Klippenstein_Glarborg2016\"\"\"), molecule=[Molecule(smiles=\"O=CC=O\")], transport_data=TransportData(shapeIndex=2, epsilon=(3660.03,'J/mol'), sigma=(4.01,'angstrom'), dipoleMoment=(0,'De'), polarizability=(0,'angstrom^3'), rotrelaxcollnum=2.0, comment=\"\"\"NOx2018\"\"\"), molecular_weight=(58.0361,'amu'))"
      ]
     },
     "metadata": {},
     "output_type": "display_data"
    },
    {
     "name": "stdout",
     "output_type": "stream",
     "text": [
      "S(295)\n",
      "1 O u0 p2 c0 {3,D}\n",
      "2 O u0 p2 c0 {4,D}\n",
      "3 C u0 p0 c0 {1,D} {4,S} {5,S}\n",
      "4 C u0 p0 c0 {2,D} {3,S} {6,S}\n",
      "5 H u0 p0 c0 {3,S}\n",
      "6 H u0 p0 c0 {4,S}\n",
      "\n",
      "Thermo library: Klippenstein_Glarborg2016\n",
      "--------------------------------------------------------------------------------\n"
     ]
    },
    {
     "data": {
      "image/png": "[encoded data removed]",
      "text/plain": [
       "Species(index=331, label=\"C3H3O\", thermo=NASA(polynomials=[NASAPolynomial(coeffs=[1.65335,0.0257403,-1.8901e-05,7.29175e-09,-1.16083e-12,10202.1,17.8706], Tmin=(200,'K'), Tmax=(1395,'K')), NASAPolynomial(coeffs=[8.86033,0.00848985,-2.9035e-06,4.50764e-10,-2.61524e-14,7734.89,-20.6979], Tmin=(1395,'K'), Tmax=(5000,'K'))], Tmin=(200,'K'), Tmax=(5000,'K'), comment=\"\"\"Thermo library: CurranPentane\"\"\"), molecule=[Molecule(smiles=\"C=C[C]=O\"), Molecule(smiles=\"[CH2]C=C=O\")], transport_data=TransportData(shapeIndex=2, epsilon=(3136.31,'J/mol'), sigma=(5.142,'angstrom'), dipoleMoment=(0,'De'), polarizability=(0,'angstrom^3'), rotrelaxcollnum=0.0, comment=\"\"\"Epsilon & sigma estimated with Tc=489.88 K, Pc=52.36 bar (from Joback method)\"\"\"), molecular_weight=(55.0553,'amu'))"
      ]
     },
     "metadata": {},
     "output_type": "display_data"
    },
    {
     "name": "stdout",
     "output_type": "stream",
     "text": [
      "C3H3O(331)\n",
      "multiplicity 2\n",
      "1 O u0 p2 c0 {4,D}\n",
      "2 C u0 p0 c0 {3,D} {4,S} {5,S}\n",
      "3 C u0 p0 c0 {2,D} {6,S} {7,S}\n",
      "4 C u1 p0 c0 {1,D} {2,S}\n",
      "5 H u0 p0 c0 {2,S}\n",
      "6 H u0 p0 c0 {3,S}\n",
      "7 H u0 p0 c0 {3,S}\n",
      "\n",
      "Thermo library: CurranPentane\n",
      "--------------------------------------------------------------------------------\n"
     ]
    },
    {
     "data": {
      "image/png": "[encoded data removed]",
      "text/plain": [
       "Species(index=333, label=\"C3H5O\", thermo=NASA(polynomials=[NASAPolynomial(coeffs=[6.25722,-0.00917612,7.6119e-05,-9.05515e-08,3.46198e-11,-5916.16,2.23331], Tmin=(200,'K'), Tmax=(1000,'K')), NASAPolynomial(coeffs=[6.52325,0.0154212,-5.50898e-06,8.8589e-10,-5.28846e-14,-7196.32,-5.19862], Tmin=(1000,'K'), Tmax=(6000,'K'))], Tmin=(200,'K'), Tmax=(6000,'K'), comment=\"\"\"Thermo library: CurranPentane\"\"\"), molecule=[Molecule(smiles=\"CC[C]=O\")], transport_data=TransportData(shapeIndex=2, epsilon=(3133.67,'J/mol'), sigma=(5.351,'angstrom'), dipoleMoment=(0,'De'), polarizability=(0,'angstrom^3'), rotrelaxcollnum=0.0, comment=\"\"\"Epsilon & sigma estimated with Tc=489.47 K, Pc=46.4 bar (from Joback method)\"\"\"), molecular_weight=(57.0712,'amu'))"
      ]
     },
     "metadata": {},
     "output_type": "display_data"
    },
    {
     "name": "stdout",
     "output_type": "stream",
     "text": [
      "C3H5O(333)\n",
      "multiplicity 2\n",
      "1 O u0 p2 c0 {4,D}\n",
      "2 C u0 p0 c0 {3,S} {4,S} {5,S} {6,S}\n",
      "3 C u0 p0 c0 {2,S} {7,S} {8,S} {9,S}\n",
      "4 C u1 p0 c0 {1,D} {2,S}\n",
      "5 H u0 p0 c0 {2,S}\n",
      "6 H u0 p0 c0 {2,S}\n",
      "7 H u0 p0 c0 {3,S}\n",
      "8 H u0 p0 c0 {3,S}\n",
      "9 H u0 p0 c0 {3,S}\n",
      "\n",
      "Thermo library: CurranPentane\n",
      "--------------------------------------------------------------------------------\n"
     ]
    },
    {
     "data": {
      "image/png": "[encoded data removed]",
      "text/plain": [
       "Species(index=332, label=\"C3H6O\", thermo=NASA(polynomials=[NASAPolynomial(coeffs=[4.2453,0.00668297,4.93338e-05,-6.71986e-08,2.67262e-11,-24147.3,6.90739], Tmin=(200,'K'), Tmax=(1000,'K')), NASAPolynomial(coeffs=[7.44086,0.0177302,-6.34082e-06,1.02041e-09,-6.09462e-14,-26005.6,-14.4195], Tmin=(1000,'K'), Tmax=(6000,'K'))], Tmin=(200,'K'), Tmax=(6000,'K'), comment=\"\"\"Thermo library: CurranPentane\"\"\"), molecule=[Molecule(smiles=\"CCC=O\")], transport_data=TransportData(shapeIndex=2, epsilon=(3133.67,'J/mol'), sigma=(5.351,'angstrom'), dipoleMoment=(0,'De'), polarizability=(0,'angstrom^3'), rotrelaxcollnum=0.0, comment=\"\"\"Epsilon & sigma estimated with Tc=489.47 K, Pc=46.4 bar (from Joback method)\"\"\"), molecular_weight=(58.0791,'amu'))"
      ]
     },
     "metadata": {},
     "output_type": "display_data"
    },
    {
     "name": "stdout",
     "output_type": "stream",
     "text": [
      "C3H6O(332)\n",
      "1  O u0 p2 c0 {4,D}\n",
      "2  C u0 p0 c0 {3,S} {4,S} {5,S} {6,S}\n",
      "3  C u0 p0 c0 {2,S} {7,S} {8,S} {9,S}\n",
      "4  C u0 p0 c0 {1,D} {2,S} {10,S}\n",
      "5  H u0 p0 c0 {2,S}\n",
      "6  H u0 p0 c0 {2,S}\n",
      "7  H u0 p0 c0 {3,S}\n",
      "8  H u0 p0 c0 {3,S}\n",
      "9  H u0 p0 c0 {3,S}\n",
      "10 H u0 p0 c0 {4,S}\n",
      "\n",
      "Thermo library: CurranPentane\n",
      "--------------------------------------------------------------------------------\n"
     ]
    }
   ],
   "source": [
    "for s,n in problem_species.most_common(10):\n",
    "    display(s)\n",
    "    print(s)\n",
    "    print(s.molecule[0].to_adjacency_list())\n",
    "    print(s.thermo.comment)\n",
    "    print('-'*80)"
   ]
  },
  {
   "cell_type": "code",
   "execution_count": 31,
   "metadata": {
    "scrolled": true
   },
   "outputs": [
    {
     "name": "stdout",
     "output_type": "stream",
     "text": [
      "1.7936745517993183e+18\n",
      "145960912.30518755\n",
      "92882392.29975204\n",
      "57090076.573488854\n",
      "4865363.743506252\n",
      "1903002.5524496287\n",
      "5480.433157820036\n",
      "4207.688788408307\n",
      "337.9976842585792\n",
      "262.10074987086506\n",
      "140.25629294694357\n",
      "104.24879716223445\n",
      "51.944041929471744\n",
      "39.41012689101107\n",
      "12.913823626794013\n",
      "11.266589475285976\n",
      "7.7939611265362565\n",
      "7.046346495033403\n",
      "3.2985436995077504\n",
      "3.2521619670813053\n",
      "3.202153623155689\n",
      "3.079822393493384\n",
      "2.9914479266057814\n",
      "2.9378152174242342\n",
      "2.919719921437391\n",
      "2.7628691459729\n",
      "2.6301929997699784\n",
      "2.5451186968639385\n",
      "2.4479494945593245\n",
      "2.3329286085822925\n",
      "2.2977070545405835\n",
      "2.257324341393118\n",
      "2.058839885328779\n"
     ]
    }
   ],
   "source": [
    "for violator in violators:\n",
    "    ratio = violator[2]\n",
    "    if ratio < 2:\n",
    "        continue \n",
    "    print(ratio)\n",
    "    new_factors = np.zeros_like(ratio)\n",
    "#     for i in ratio:\n",
    "#         new_factors[i] = np.divide(ratio[i],ratio[i])\n",
    "#     print(new_factors)\n",
    "        \n",
    "    "
   ]
  },
  {
   "cell_type": "code",
   "execution_count": 33,
   "metadata": {},
   "outputs": [
    {
     "name": "stdout",
     "output_type": "stream",
     "text": [
      "0.0\n"
     ]
    }
   ],
   "source": [
    "new_factors = np.zeros_like(ratio)\n",
    "print(new_factors)"
   ]
  },
  {
   "cell_type": "code",
   "execution_count": null,
   "metadata": {},
   "outputs": [],
   "source": []
  }
 ],
 "metadata": {
  "kernelspec": {
   "display_name": "Python 3",
   "language": "python",
   "name": "python3"
  },
  "language_info": {
   "codemirror_mode": {
    "name": "ipython",
    "version": 3
   },
   "file_extension": ".py",
   "mimetype": "text/x-python",
   "name": "python",
   "nbconvert_exporter": "python",
   "pygments_lexer": "ipython3",
   "version": "3.7.5"
  }
 },
 "nbformat": 4,
 "nbformat_minor": 2
}
