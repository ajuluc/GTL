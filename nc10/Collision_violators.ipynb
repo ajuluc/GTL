{
 "cells": [
  {
   "cell_type": "markdown",
   "metadata": {},
   "source": [
    "## Notebook to generate collision rate violators for any RMG job while running"
   ]
  },
  {
   "cell_type": "code",
   "execution_count": 1,
   "metadata": {},
   "outputs": [
    {
     "name": "stdout",
     "output_type": "stream",
     "text": [
      "# packages in environment at /Users/ebubeajulu/anaconda3/envs/rmg_py3:\n",
      "#\n",
      "# Name                    Version                   Build  Channel\n",
      "/usr/bin/python\n"
     ]
    }
   ],
   "source": [
    "import sys, os\n",
    "sys.path.append('/Users/ebubeajulu/anaconda3/envs/rmg_py3/')\n",
    "\n",
    "!conda list rmg_py3\n",
    "!which python"
   ]
  },
  {
   "cell_type": "code",
   "execution_count": 2,
   "metadata": {},
   "outputs": [],
   "source": [
    "import rmgpy\n",
    "import unittest\n",
    "\n",
    "\n",
    "\n",
    "import numpy as np\n",
    "\n",
    "from rmgpy.rmgobject import RMGObject, expand_to_dict, recursive_make_object\n"
   ]
  },
  {
   "cell_type": "code",
   "execution_count": 3,
   "metadata": {},
   "outputs": [
    {
     "name": "stdout",
     "output_type": "stream",
     "text": [
      "Directory 'chemkin' created successfully\n"
     ]
    }
   ],
   "source": [
    "parent_dir = \"/Users/ebubeajulu/Code/GTL/nc10/no_lowT/\"\n",
    "\n",
    "directory = \"chemkin\"\n",
    "\n",
    "path = os.path.join(parent_dir, directory)\n",
    "\n",
    "try:\n",
    "    os.makedirs(path, exist_ok=True)\n",
    "    print(\"Directory '%s' created successfully\" %directory) \n",
    "except OSError as error:\n",
    "    print(\"Directory '%s' can not be created\")\n",
    "\n"
   ]
  },
  {
   "cell_type": "code",
   "execution_count": 4,
   "metadata": {},
   "outputs": [],
   "source": [
    "#Open chemkin file and species dictionary \n",
    "\n",
    "chemkinFile = open('chemkin/chem.inp','w'), open('chemkin/species_dictionary.txt', 'w')\n"
   ]
  },
  {
   "cell_type": "code",
   "execution_count": 5,
   "metadata": {},
   "outputs": [
    {
     "ename": "ModuleNotFoundError",
     "evalue": "No module named 'quantities'",
     "output_type": "error",
     "traceback": [
      "\u001b[0;31m---------------------------------------------------------------------------\u001b[0m",
      "\u001b[0;31mModuleNotFoundError\u001b[0m                       Traceback (most recent call last)",
      "\u001b[0;32m<ipython-input-5-2b2e23f8ac3f>\u001b[0m in \u001b[0;36m<module>\u001b[0;34m\u001b[0m\n\u001b[1;32m      1\u001b[0m \u001b[0;32mimport\u001b[0m \u001b[0mrmgpy\u001b[0m\u001b[0;34m\u001b[0m\u001b[0;34m\u001b[0m\u001b[0m\n\u001b[0;32m----> 2\u001b[0;31m \u001b[0;32mfrom\u001b[0m \u001b[0mrmgpy\u001b[0m\u001b[0;34m.\u001b[0m\u001b[0mchemkin\u001b[0m \u001b[0;32mimport\u001b[0m \u001b[0mload_chemkin_file\u001b[0m\u001b[0;34m\u001b[0m\u001b[0;34m\u001b[0m\u001b[0m\n\u001b[0m\u001b[1;32m      3\u001b[0m \u001b[0mrmgpy\u001b[0m\u001b[0;34m.\u001b[0m\u001b[0mchemkin\u001b[0m\u001b[0;34m.\u001b[0m\u001b[0mload_chemkin_file\u001b[0m\u001b[0;34m(\u001b[0m\u001b[0;34m'chemkin/chem.inp'\u001b[0m\u001b[0;34m,\u001b[0m\u001b[0;34m'chemkin/species_dictionary.txt'\u001b[0m\u001b[0;34m)\u001b[0m\u001b[0;34m\u001b[0m\u001b[0;34m\u001b[0m\u001b[0m\n",
      "\u001b[0;32m~/Code/RMG-Py/rmgpy/quantity.pxd\u001b[0m in \u001b[0;36minit rmgpy.chemkin\u001b[0;34m()\u001b[0m\n",
      "\u001b[0;32m~/Code/RMG-Py/rmgpy/quantity.cpython-37m-darwin.so\u001b[0m in \u001b[0;36minit rmgpy.quantity\u001b[0;34m()\u001b[0m\n",
      "\u001b[0;31mModuleNotFoundError\u001b[0m: No module named 'quantities'"
     ]
    }
   ],
   "source": [
    "import rmgpy \n",
    "from rmgpy.chemkin import load_chemkin_file\n",
    "rmgpy.chemkin.load_chemkin_file('chemkin/chem.inp','chemkin/species_dictionary.txt')\n"
   ]
  },
  {
   "cell_type": "code",
   "execution_count": 6,
   "metadata": {},
   "outputs": [],
   "source": [
    "def check_collision_limit_violation(self, t_min, t_max, p_min, p_max):\n",
    "        \"\"\"\n",
    "        Warn if a core reaction violates the collision limit rate in either the forward or reverse direction\n",
    "        at the relevant extreme T/P conditions. Assuming a monotonic behaviour of the kinetics.\n",
    "        Returns a list with the reaction object and the direction in which the violation was detected.\n",
    "        \"\"\"\n",
    "        conditions = [[t_min, p_min]]\n",
    "        if t_min != t_max:\n",
    "            conditions.append([t_max, p_min])\n",
    "        if self.kinetics.is_pressure_dependent() and p_max != p_min:\n",
    "            conditions.append([t_min, p_max])\n",
    "            if t_min != t_max:\n",
    "                conditions.append([t_max, p_max])\n",
    "        logging.debug(\"Checking whether reaction {0} violates the collision rate limit...\".format(self))\n",
    "        violator_list = []\n",
    "        kf_list = []\n",
    "        kr_list = []\n",
    "        collision_limit_f = []\n",
    "        collision_limit_r = []\n",
    "        for condition in conditions:\n",
    "            if len(self.reactants) >= 2:\n",
    "                try:\n",
    "                    collision_limit_f.append(self.calculate_coll_limit(temp=condition[0], reverse=False))\n",
    "                except ValueError:\n",
    "                    continue\n",
    "                else:\n",
    "                    kf_list.append(self.get_rate_coefficient(condition[0], condition[1]))\n",
    "            if len(self.products) >= 2:\n",
    "                try:\n",
    "                    collision_limit_r.append(self.calculate_coll_limit(temp=condition[0], reverse=True))\n",
    "                except ValueError:\n",
    "                    continue\n",
    "                else:\n",
    "                    kr_list.append(self.generate_reverse_rate_coefficient().get_rate_coefficient(condition[0], condition[1]))\n",
    "        if len(self.reactants) >= 2:\n",
    "            for i, k in enumerate(kf_list):\n",
    "                if k > collision_limit_f[i]:\n",
    "                    ratio = k / collision_limit_f[i]\n",
    "                    condition = '{0} K, {1:.1f} bar'.format(conditions[i][0], conditions[i][1] / 1e5)\n",
    "                    violator_list.append([self, 'forward', ratio, condition])\n",
    "        if len(self.products) >= 2:\n",
    "            for i, k in enumerate(kr_list):\n",
    "                if k > collision_limit_r[i]:\n",
    "                    ratio = k / collision_limit_r[i]\n",
    "                    condition = '{0} K, {1:.1f} bar'.format(conditions[i][0], conditions[i][1] / 1e5)\n",
    "                    violator_list.append([self, 'reverse', ratio, condition])\n",
    "        return violator_list"
   ]
  },
  {
   "cell_type": "code",
   "execution_count": null,
   "metadata": {},
   "outputs": [],
   "source": []
  }
 ],
 "metadata": {
  "kernelspec": {
   "display_name": "Python 3",
   "language": "python",
   "name": "python3"
  },
  "language_info": {
   "codemirror_mode": {
    "name": "ipython",
    "version": 3
   },
   "file_extension": ".py",
   "mimetype": "text/x-python",
   "name": "python",
   "nbconvert_exporter": "python",
   "pygments_lexer": "ipython3",
   "version": "3.7.4"
  }
 },
 "nbformat": 4,
 "nbformat_minor": 2
}
